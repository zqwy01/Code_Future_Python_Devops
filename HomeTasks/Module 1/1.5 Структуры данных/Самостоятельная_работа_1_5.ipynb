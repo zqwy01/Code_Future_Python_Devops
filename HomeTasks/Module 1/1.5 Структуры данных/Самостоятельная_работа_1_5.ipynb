{
  "cells": [
    {
      "cell_type": "markdown",
      "metadata": {
        "id": "qgS1ByRCXBny"
      },
      "source": [
        "## Задания"
      ]
    },
    {
      "cell_type": "markdown",
      "metadata": {
        "id": "zhiFo6M3XJna"
      },
      "source": [
        "Допишите код, что бы вывести последний элемент списка."
      ]
    },
    {
      "cell_type": "code",
      "execution_count": 3,
      "metadata": {
        "id": "dCCGIDBkXDY7"
      },
      "outputs": [
        {
          "name": "stdout",
          "output_type": "stream",
          "text": [
            "1221\n"
          ]
        }
      ],
      "source": [
        "sample = [\"abc\", \"xyz\", \"aba\", 1221]\n",
        "\n",
        "print(sample[-1])\n",
        "\n",
        "# требуемый вывод:\n",
        "# 1221"
      ]
    },
    {
      "cell_type": "markdown",
      "metadata": {
        "id": "YOf46cY9XVJC"
      },
      "source": [
        "Допишите код, что бы вывести расширенный список."
      ]
    },
    {
      "cell_type": "code",
      "execution_count": 20,
      "metadata": {
        "id": "lwAOZmVZXYI0"
      },
      "outputs": [
        {
          "name": "stdout",
          "output_type": "stream",
          "text": [
            "['Red', 'Green', 'White', 'Black', 'Pink', 'Yellow']\n"
          ]
        }
      ],
      "source": [
        "sample = [\"Green\", \"White\", \"Black\"]\n",
        "\n",
        "sample.extend([\"Pink\", \"Yellow\"])\n",
        "sample.insert(0, 'Red')\n",
        "\n",
        "print(sample)\n",
        "# требуемый вывод:\n",
        "# [\"Red\", \"Green\", \"White\", \"Black\", \"Pink\", \"Yellow\"]"
      ]
    },
    {
      "cell_type": "markdown",
      "metadata": {
        "id": "y0zrXkT9XgAN"
      },
      "source": [
        "Исправьте ошибки в коде, что бы посчитать сумму элементов в списке."
      ]
    },
    {
      "cell_type": "code",
      "execution_count": 29,
      "metadata": {
        "id": "DPhJZRn2XiIS"
      },
      "outputs": [
        {
          "name": "stdout",
          "output_type": "stream",
          "text": [
            "94\n"
          ]
        }
      ],
      "source": [
        "sample = [\"11\", \"33\", \"50\"]\n",
        "\n",
        "print(sum(list(map(int, sample))))\n",
        "\n",
        "\n",
        "# требуемый вывод:\n",
        "# 94"
      ]
    },
    {
      "cell_type": "markdown",
      "metadata": {
        "id": "o-4nst-ycjtF"
      },
      "source": [
        "Выведите значение количества монет из словаря person."
      ]
    },
    {
      "cell_type": "code",
      "execution_count": 31,
      "metadata": {
        "id": "Op5jVXvCcFIQ"
      },
      "outputs": [
        {
          "name": "stdout",
          "output_type": "stream",
          "text": [
            "50\n"
          ]
        }
      ],
      "source": [
        "person = {\"name\": \"Балин Омавель\", \"money\":50, \"city\": \"Балмора\"}\n",
        "\n",
        "print(person[\"money\"])\n",
        "\n",
        "# требуемый вывод:\n",
        "# 50"
      ]
    }
  ],
  "metadata": {
    "colab": {
      "provenance": []
    },
    "kernelspec": {
      "display_name": "Python 3",
      "name": "python3"
    },
    "language_info": {
      "codemirror_mode": {
        "name": "ipython",
        "version": 3
      },
      "file_extension": ".py",
      "mimetype": "text/x-python",
      "name": "python",
      "nbconvert_exporter": "python",
      "pygments_lexer": "ipython3",
      "version": "3.11.6"
    }
  },
  "nbformat": 4,
  "nbformat_minor": 0
}
