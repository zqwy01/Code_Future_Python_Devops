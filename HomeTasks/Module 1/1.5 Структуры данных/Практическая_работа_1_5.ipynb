{
  "cells": [
    {
      "cell_type": "markdown",
      "metadata": {
        "id": "JHsZz5E2d_EI"
      },
      "source": [
        "# Массив как структурированный тип данных"
      ]
    },
    {
      "cell_type": "markdown",
      "metadata": {
        "id": "YonZPpd3P8kY"
      },
      "source": [
        "В современном мире ежесекундно происходит обработка огромного числа данных. Если необходимо обрабатывать данные одного типа — числа, символы, строки и др., то для их хранения можно воспользоваться типом данных, который называется массив.\n",
        "\n",
        "Массив — упорядоченная последовательность данных, состоящая из конечного числа элементов, имеющих один и тот же тип, и обозначаемая одним именем.\n",
        "\n",
        "Массив является структурированным (составным) типом данных. Это означает, что величина, описанная как массив, состоит из конечного числа других величин. Так, например, можно создать массивы из 10 целых или 100 вещественных чисел. Тип элементов массива называют базовым типом. Все элементы массива упорядочены по индексам (номерам элементов), определяющим местоположение элемента в массиве."
      ]
    },
    {
      "cell_type": "markdown",
      "metadata": {
        "id": "Ir8cEvllQIFG"
      },
      "source": [
        "Массиву присваивается имя, посредством которого можно ссылаться на него как на единое целое. Элементы, образующие массив, упорядочены так, что каждому элементу соответствует номер (индекс), определяющий его место в общей последовательности. Индексы могут быть выражением, значение которого принадлежит любому простому  типу, кроме вещественного. Индексы должны быть неотрицательными. Доступ к каждому отдельному элементу осуществляется обращением к имени массива с указанием индекса нужного элемента, индекс элемента записывается после имени в квадратных скобках.\n",
        "\n",
        "Если обращение к элементам массива осуществляется при помощи только одного индекса, то такие массивы называют одномерными или линейными. Для хранения массива в памяти компьютера выделяется непрерывный участок, в котором элементы располагаются последовательно друг за другом."
      ]
    },
    {
      "cell_type": "markdown",
      "metadata": {
        "id": "emFHDsrxQ9BQ"
      },
      "source": [
        "Массив может иметь несколько разный вид в разных библиотеках Python. В стандартной он реализован в виде списка.\n",
        "\n",
        " Списки — распространенная структура данных в Python. Они используются для самых разных целей.\n",
        "\n",
        "\n",
        "**.append()**\tметод для добавления элементов в список\n",
        "\n",
        "**.insert()**\tдля добавления элементов в конкретное место в списке\n",
        "\n",
        "**.index()**\tдля получения индекса элемента\n",
        "\n",
        "**.clear()**\tдля очистки списка\n",
        "\n",
        "**.remove()**\tдля удаления элемента списка\n",
        "\n",
        "**.reverse()**\tчтобы развернуть список в обратном порядке\n",
        "\n",
        "**.count()**\tдля подсчета количества элементов в списке\n",
        "\n",
        "**sum()**\tдля сложения элементов списка\n",
        "\n",
        "**min()**\tпоказывает элемент с самым низким значением в списке\n",
        "\n",
        "**max()**\tэлемент с самым высоким значением в списке\n"
      ]
    },
    {
      "cell_type": "code",
      "execution_count": 2,
      "metadata": {},
      "outputs": [
        {
          "name": "stdout",
          "output_type": "stream",
          "text": [
            "helli\n"
          ]
        }
      ],
      "source": [
        "print('helli')"
      ]
    },
    {
      "cell_type": "markdown",
      "metadata": {
        "id": "jG2HF9IpTStA"
      },
      "source": [
        "Пример списка"
      ]
    },
    {
      "cell_type": "code",
      "execution_count": 3,
      "metadata": {
        "colab": {
          "base_uri": "https://localhost:8080/"
        },
        "id": "P4jb-uOabX7n",
        "outputId": "8bad1b02-28a8-4804-d4ab-62c00df05829"
      },
      "outputs": [
        {
          "name": "stdout",
          "output_type": "stream",
          "text": [
            "['Python', 'Дота', 23, 51, False, 'False', '22']\n"
          ]
        }
      ],
      "source": [
        "p_datatypes = [\"Python\", \"Дота\", 23, 51, False, \"False\", \"22\"]\n",
        "print(p_datatypes)"
      ]
    },
    {
      "cell_type": "markdown",
      "metadata": {
        "id": "2gamTyMNTIXi"
      },
      "source": [
        "Видно, что внутри находятся значения разных типов. Это строка, целое число, булево значение и снова строка.\n",
        "\n",
        "Последние два элемента списка — это строки, хотя они могут напоминать булев тип и целое число. Однако использование кавычек прямо указывает на то, что это строки в Python.\n",
        "\n",
        "Наконец, если посмотреть на индексы элементов, то можно увидеть, что нулевой элемент — это «Python», а шестой — «22». Оба являются строками. Хотя элементов 7, последним индексом является 6.\n",
        "\n",
        "Доступ к элементам: доступ к элементам списка можно получить с помощью их индекса, указанного в квадратных скобках.\n",
        "\n",
        "Например, для получения первого элемента («Python») нужно написать следующим образом: `p_datatypes[0]`. Для получения элемента 23: `p_datatypes[2]`.\n",
        "\n",
        "Посмотрим на другие примеры. Последний элемент следующего списка — булево значение False. Получим доступ к нему внутри функции print."
      ]
    },
    {
      "cell_type": "code",
      "execution_count": 4,
      "metadata": {
        "colab": {
          "base_uri": "https://localhost:8080/"
        },
        "id": "bMqWgAcGTeaB",
        "outputId": "222c9c97-d43a-4d3e-cebe-0dadadc7bb88"
      },
      "outputs": [
        {
          "name": "stdout",
          "output_type": "stream",
          "text": [
            "False\n"
          ]
        }
      ],
      "source": [
        "p_datatypes = [\"Python\", \"Дота\", 23, False]\n",
        "print(p_datatypes[3])"
      ]
    },
    {
      "cell_type": "code",
      "execution_count": null,
      "metadata": {
        "id": "cib5xD-KTymZ"
      },
      "outputs": [],
      "source": []
    },
    {
      "cell_type": "code",
      "execution_count": 5,
      "metadata": {
        "colab": {
          "base_uri": "https://localhost:8080/"
        },
        "id": "x4dLcGPPTpby",
        "outputId": "99d94d9d-02f4-48c7-b472-e63b8b03b303"
      },
      "outputs": [
        {
          "name": "stdout",
          "output_type": "stream",
          "text": [
            "Дота\n"
          ]
        }
      ],
      "source": [
        "p_datatypes = [\"Python\", \"Дота\", 23, False]\n",
        "print(p_datatypes[1])"
      ]
    },
    {
      "cell_type": "markdown",
      "metadata": {
        "id": "vqkrQp0iTu9B"
      },
      "source": [
        "**Обратное индексирование**\n",
        "\n",
        "Обратное индексирование. Элементы списка также можно вызывать, начиная с конца — это называется обратным индексированием. В отличие от обычного индексирования, обратное начинается не с 0, а с -1.\n",
        "Для получения последнего элемента списка p_datatypes: `p_datatypes[-1]`.\n",
        "Аналогично `p_datatypes[-2]` вернет второй элемент с конца и так далее.\n",
        "\n",
        "\n",
        "Этот подход имеет свои преимущества в определенных ситуациях. Куда практичнее и эффективнее использовать обратное индексирование, ведь благодаря этому можно не считать количество элементов в списке. Еще одно преимущество становится заметным при изменяемой длине списка. В этом случае снова не придется считать элементы с самого начала, чтобы добраться до финального.\n"
      ]
    },
    {
      "cell_type": "code",
      "execution_count": 6,
      "metadata": {
        "colab": {
          "base_uri": "https://localhost:8080/"
        },
        "id": "YWK04ZshT6Pg",
        "outputId": "1e226043-4a1c-41ca-dd49-69f726f307ee"
      },
      "outputs": [
        {
          "name": "stdout",
          "output_type": "stream",
          "text": [
            "Дота\n"
          ]
        }
      ],
      "source": [
        "p_datatypes = [\"Python\", \"Дота\", 23, False]\n",
        "print(p_datatypes[-3])"
      ]
    },
    {
      "cell_type": "markdown",
      "metadata": {
        "id": "XG-rhLoeUNQB"
      },
      "source": [
        "**append()** — это, наверное, самый используемый метод списков. Он используется для добавления элементов к списку. Теперь посмотрим на пример, где метод .append() используется для добавления нового элемента в конец списка.\n"
      ]
    },
    {
      "cell_type": "code",
      "execution_count": 7,
      "metadata": {
        "colab": {
          "base_uri": "https://localhost:8080/"
        },
        "id": "d6bio1c0UIjg",
        "outputId": "7d042cbd-e3be-485b-f904-d9bf509794ad"
      },
      "outputs": [
        {
          "name": "stdout",
          "output_type": "stream",
          "text": [
            "['Python', 42, 'ДОТА']\n"
          ]
        }
      ],
      "source": [
        "p_datatypes = [\"Python\", 42]\n",
        "p_datatypes.append(\"ДОТА\")\n",
        "print(p_datatypes)"
      ]
    },
    {
      "cell_type": "markdown",
      "metadata": {
        "id": "-NagJUjsUhRR"
      },
      "source": [
        "**.insert()** — еще один полезный метод для списков. Он используется для вставки элемента в список по индексу.\n",
        "\n",
        "Посмотрим на примере — .insert() принимает два аргумента: индекс, куда нужно вставить новый элемент, и сам элемент."
      ]
    },
    {
      "cell_type": "code",
      "execution_count": 8,
      "metadata": {
        "colab": {
          "base_uri": "https://localhost:8080/"
        },
        "id": "9BTSgsoJUgH6",
        "outputId": "9ce99169-8714-444b-930a-138a26d9ced6"
      },
      "outputs": [
        {
          "name": "stdout",
          "output_type": "stream",
          "text": [
            "['Python', 'ДОТА', 42]\n"
          ]
        }
      ],
      "source": [
        "p_datatypes = [\"Python\", 42]\n",
        "p_datatypes.insert(1, \"ДОТА\")\n",
        "print(p_datatypes)"
      ]
    },
    {
      "cell_type": "markdown",
      "metadata": {
        "id": "ycFwgFfVUv9C"
      },
      "source": [
        "**.index()** помогает определить индекс элемента. Дальше идет пример получения индекса конкретного элемента."
      ]
    },
    {
      "cell_type": "code",
      "execution_count": 9,
      "metadata": {
        "colab": {
          "base_uri": "https://localhost:8080/"
        },
        "id": "WCRxKaMPUvIR",
        "outputId": "f20126b5-4325-44df-d637-0285610d91d9"
      },
      "outputs": [
        {
          "name": "stdout",
          "output_type": "stream",
          "text": [
            "3\n"
          ]
        }
      ],
      "source": [
        "my_lst = [1, 33, 5, 55, 1001]\n",
        "a = my_lst.index(55)\n",
        "print(a)"
      ]
    },
    {
      "cell_type": "markdown",
      "metadata": {
        "id": "f94rvhRhVBqh"
      },
      "source": [
        "Метод **.clear()** удаляет все элементы списка."
      ]
    },
    {
      "cell_type": "code",
      "execution_count": 10,
      "metadata": {
        "colab": {
          "base_uri": "https://localhost:8080/"
        },
        "id": "Fj5d7dAlVV1-",
        "outputId": "487864bf-58c3-4247-cf38-29ecf3925f4d"
      },
      "outputs": [
        {
          "name": "stdout",
          "output_type": "stream",
          "text": [
            "[]\n"
          ]
        }
      ],
      "source": [
        "my_lst = [1, 33, 5, 55, 1001]\n",
        "my_lst.clear()\n",
        "print(my_lst)"
      ]
    },
    {
      "cell_type": "markdown",
      "metadata": {
        "id": "HCe3KoVUVdpx"
      },
      "source": [
        "Метод **.remove()** удаляет конкретный элемент списка."
      ]
    },
    {
      "cell_type": "code",
      "execution_count": 11,
      "metadata": {
        "colab": {
          "base_uri": "https://localhost:8080/"
        },
        "id": "D4oe6i_FVChC",
        "outputId": "410dff69-43f2-48e9-a05a-a010b1cd642f"
      },
      "outputs": [
        {
          "name": "stdout",
          "output_type": "stream",
          "text": [
            "[1, 33, 5, 55]\n"
          ]
        }
      ],
      "source": [
        "my_lst = [1, 33, 5, 55, 1001]\n",
        "my_lst.remove(1001)\n",
        "print(my_lst)"
      ]
    },
    {
      "cell_type": "markdown",
      "metadata": {
        "id": "jhBgA-jVVhNp"
      },
      "source": [
        "Метод **.reverse()** разворачивает порядок элементов в списке."
      ]
    },
    {
      "cell_type": "code",
      "execution_count": 12,
      "metadata": {
        "colab": {
          "base_uri": "https://localhost:8080/"
        },
        "id": "3WD7jS-CVlKx",
        "outputId": "735bceec-8d73-4b90-e5dd-f6d5711e8a80"
      },
      "outputs": [
        {
          "name": "stdout",
          "output_type": "stream",
          "text": [
            "[1001, 55, 5, 33, 1]\n"
          ]
        }
      ],
      "source": [
        "my_lst = [1, 33, 5, 55, 1001]\n",
        "my_lst.reverse()\n",
        "print(my_lst)"
      ]
    },
    {
      "cell_type": "markdown",
      "metadata": {
        "id": "YqxcMEevVuCB"
      },
      "source": [
        "Метод **.count()** используется, чтобы подсчитать, как часто конкретный элемент встречается в списке.\n",
        "\n",
        "В следующем примере мы считаем, как часто в списке встречается число 5. Результат — 1, что значит, что число 5 встретилось всего один раз.\n",
        "\n",
        "В этом же случае в списке нет 8, поэтому и вывод будет 0."
      ]
    },
    {
      "cell_type": "code",
      "execution_count": 13,
      "metadata": {
        "colab": {
          "base_uri": "https://localhost:8080/"
        },
        "id": "nyMljh1TV41T",
        "outputId": "0d96ea18-ef22-4d80-d5eb-e8858dfa8831"
      },
      "outputs": [
        {
          "name": "stdout",
          "output_type": "stream",
          "text": [
            "1\n",
            "0\n"
          ]
        }
      ],
      "source": [
        "my_lst = [1, 33, 5, 55, 1001]\n",
        "\n",
        "print(my_lst.count(5))\n",
        "print(my_lst.count(8))"
      ]
    },
    {
      "cell_type": "markdown",
      "metadata": {
        "id": "KDc1MHmCWlyv"
      },
      "source": [
        "Функция **sum()** вернет общую сумму всех чисел в списке."
      ]
    },
    {
      "cell_type": "code",
      "execution_count": 14,
      "metadata": {
        "colab": {
          "base_uri": "https://localhost:8080/"
        },
        "id": "fsgfGw8OWmvJ",
        "outputId": "a414b228-fc77-4b6e-8510-dbaf7ef61dc7"
      },
      "outputs": [
        {
          "data": {
            "text/plain": [
              "1095"
            ]
          },
          "execution_count": 14,
          "metadata": {},
          "output_type": "execute_result"
        }
      ],
      "source": [
        "my_lst = [1, 33, 5, 55, 1001]\n",
        "\n",
        "sum(my_lst)"
      ]
    },
    {
      "cell_type": "markdown",
      "metadata": {
        "id": "GyHCHNDrXpJy"
      },
      "source": [
        "# Словари"
      ]
    },
    {
      "cell_type": "markdown",
      "metadata": {
        "id": "pmqQcefUXqqC"
      },
      "source": [
        "- Структура. Словарь состоит из пар ключ-значение, которые разделяются запятыми. Внутри каждой пары значение отделяется от ключа двоеточием. Понять синтаксис проще всего на примере.\n",
        "\n",
        "\n",
        "- Составная структура. Словарь — полезная составная структура данных, которая может хранить разные типы данных. По аналогии со списком ее можно называть последовательностью данных.\n",
        "\n",
        "\n",
        "- Нет порядка. В отличие от списков и кортежей у словарей нет определенного порядка. Можно представить, что пары из ключа и значения перемешаны в мешке. И в нем не существует первого, второго или последнего элементов — они просто случайно существуют. Такая структура нацелена на увеличение производительности и предполагает доступ к значению по ключу."
      ]
    },
    {
      "cell_type": "markdown",
      "metadata": {
        "id": "R18Lk0LOYXPr"
      },
      "source": [
        "Словари — распространенная структура данных в Python. Они используются в самых разных ситуациях. Вот некоторые из методов и функций словарей:\n",
        "\n",
        "**.keys()** — используется для вывода ключей словаря.\n",
        "\n",
        "**.items()** — используется для создания кортежей с ключами и значениями.\n",
        "\n",
        "**.get()** — метод для получения значения по ключу.\n",
        "\n",
        "**.clear()** — очистить словарь.\n",
        "\n",
        "**.copy()** — скопировать весь словарь.\n",
        "\n",
        "**len()** — получить длину словаря.\n",
        "\n",
        "**type()** — узнать тип.\n",
        "\n",
        "**min()** — получить ключ с минимальным значением.\n",
        "\n",
        "**max()** — получить ключ с максимальным значением."
      ]
    },
    {
      "cell_type": "markdown",
      "metadata": {
        "id": "mlPPcVR-Ygbz"
      },
      "source": [
        "Пример словаря, где в качестве ключей используются строки, а в качестве значений — целые числа."
      ]
    },
    {
      "cell_type": "code",
      "execution_count": 15,
      "metadata": {
        "colab": {
          "base_uri": "https://localhost:8080/"
        },
        "id": "N16z1A9IYfdF",
        "outputId": "1058c9ab-b422-450f-ca71-7f9180598383"
      },
      "outputs": [
        {
          "name": "stdout",
          "output_type": "stream",
          "text": [
            "{'Андрей': 12, 'Виктор': 14, 'Максим': 16}\n"
          ]
        }
      ],
      "source": [
        "p_ages = {\"Андрей\": 12, \"Виктор\": 14, \"Максим\": 16}\n",
        "print(p_ages)"
      ]
    },
    {
      "cell_type": "markdown",
      "metadata": {
        "id": "5n5NvXLSY8jL"
      },
      "source": [
        "Здесь ключами уже являются целые числа, а значениями — строки."
      ]
    },
    {
      "cell_type": "code",
      "execution_count": 16,
      "metadata": {
        "colab": {
          "base_uri": "https://localhost:8080/"
        },
        "id": "d_bE0gKCZA6L",
        "outputId": "a3d93ba8-0fc9-431b-f086-8e3849ee801a"
      },
      "outputs": [
        {
          "name": "stdout",
          "output_type": "stream",
          "text": [
            "{1: 'Андрей', 2: 'Виктор', 3: 'Максим'}\n"
          ]
        }
      ],
      "source": [
        "p_plyr = {1: \"Андрей\", 2: \"Виктор\", 3: \"Максим\"}\n",
        "print(p_plyr)"
      ]
    },
    {
      "cell_type": "markdown",
      "metadata": {
        "id": "jqMgtOLhZiUG"
      },
      "source": [
        "Доступ к значениям словаря можно получить по его ключам."
      ]
    },
    {
      "cell_type": "code",
      "execution_count": 17,
      "metadata": {
        "colab": {
          "base_uri": "https://localhost:8080/"
        },
        "id": "Z3ao5Z9wZmNr",
        "outputId": "c8d53e7a-7a53-433d-d8f9-2063c4096d83"
      },
      "outputs": [
        {
          "data": {
            "text/plain": [
              "14"
            ]
          },
          "execution_count": 17,
          "metadata": {},
          "output_type": "execute_result"
        }
      ],
      "source": [
        "p_ages = {\"Андрей\": 12, \"Виктор\": 14, \"Максим\": 16}\n",
        "p_ages[\"Виктор\"]"
      ]
    },
    {
      "cell_type": "markdown",
      "metadata": {
        "id": "sYaAnSVfZ3Xz"
      },
      "source": [
        "Начиная с версии Python 3.9, в языке появились новые операторы, которые облегчают процесс слияния словарей.\n",
        "\n",
        "**Merge (|)**: этот оператор позволяет объединять два словаря с помощью одного символа |.\n",
        "\n",
        "**Update (|=)**: с помощью такого оператора можно обновить первый словарь значением второго (с типом dict)\n",
        "\n",
        "Вот основные отличия этих двух операторов:\n",
        "\n",
        "«|» создает новый словарь, объединяя два, а «|=» обновляет первый словарь.\n",
        "\n",
        "Оператор merge (|) упрощает процесс объединения словарей и работы с их значениями.\n",
        "\n",
        "Оператор update (|=) используется для обновления словарей.\n"
      ]
    },
    {
      "cell_type": "code",
      "execution_count": 18,
      "metadata": {
        "colab": {
          "base_uri": "https://localhost:8080/"
        },
        "id": "dDkUBjKUaBm9",
        "outputId": "7af24847-c936-4dd8-e0b3-b4532b00f6ff"
      },
      "outputs": [
        {
          "name": "stdout",
          "output_type": "stream",
          "text": [
            "{'x': 1, 'y': 2, 'a': 11, 'b': 22}\n"
          ]
        }
      ],
      "source": [
        "dict1 = {\"x\": 1, \"y\":2}\n",
        "dict2 = {\"a\":11, \"b\":22}\n",
        "dict3 =  dict1 | dict2\n",
        "print(dict3)"
      ]
    },
    {
      "cell_type": "code",
      "execution_count": 19,
      "metadata": {
        "colab": {
          "base_uri": "https://localhost:8080/"
        },
        "id": "9-h9KvuRaPvM",
        "outputId": "2c7357d0-04fc-4714-95d7-09cad7b34347"
      },
      "outputs": [
        {
          "name": "stdout",
          "output_type": "stream",
          "text": [
            "{'a': 11, 'b': 22, 'x': 1, 'y': 2}\n"
          ]
        }
      ],
      "source": [
        "dict1 = {\"x\": 1, \"y\":2}\n",
        "dict2 = {\"a\":11, \"b\":22}\n",
        "dict2 |=  dict1\n",
        "print(dict2)"
      ]
    },
    {
      "cell_type": "markdown",
      "metadata": {
        "id": "FtmyGxw5aO49"
      },
      "source": [
        "**.keys()** — это удобный метод, который возвращает все ключи в словаре. Дальше посмотрим на пример с использованием метода keys."
      ]
    },
    {
      "cell_type": "code",
      "execution_count": 20,
      "metadata": {
        "colab": {
          "base_uri": "https://localhost:8080/"
        },
        "id": "nu8K3UkaaoXc",
        "outputId": "bff17b99-289a-4be7-a4da-369949bca353"
      },
      "outputs": [
        {
          "name": "stdout",
          "output_type": "stream",
          "text": [
            "dict_keys(['Андрей', 'Виктор', 'Максим'])\n"
          ]
        }
      ],
      "source": [
        "print(p_ages.keys())"
      ]
    },
    {
      "cell_type": "markdown",
      "metadata": {
        "id": "_4dDU3muavze"
      },
      "source": [
        "**.items()** возвращает список кортежей, каждый из которых является парой из ключа и значения. Полезность этой функции станет понятна на более поздних этапах работы в качестве программиста, а пока достаточно просто запомнить эту функцию."
      ]
    },
    {
      "cell_type": "code",
      "execution_count": 21,
      "metadata": {
        "colab": {
          "base_uri": "https://localhost:8080/"
        },
        "id": "kX8qVDqravYM",
        "outputId": "08d9a0d9-e129-460f-dde0-a5cc736c5ed8"
      },
      "outputs": [
        {
          "data": {
            "text/plain": [
              "dict_items([('Андрей', 12), ('Виктор', 14), ('Максим', 16)])"
            ]
          },
          "execution_count": 21,
          "metadata": {},
          "output_type": "execute_result"
        }
      ],
      "source": [
        "p_ages.items()"
      ]
    },
    {
      "cell_type": "markdown",
      "metadata": {
        "id": "-u_hPxuZa3mM"
      },
      "source": [
        "**.get()** — полезный метод для получения значений из словаря по ключу."
      ]
    },
    {
      "cell_type": "code",
      "execution_count": 22,
      "metadata": {
        "colab": {
          "base_uri": "https://localhost:8080/"
        },
        "id": "I0j8nX6ia73X",
        "outputId": "dd0670e4-474a-4a13-8e13-5c7b534aa355"
      },
      "outputs": [
        {
          "data": {
            "text/plain": [
              "12"
            ]
          },
          "execution_count": 22,
          "metadata": {},
          "output_type": "execute_result"
        }
      ],
      "source": [
        "p_ages.get(\"Андрей\")"
      ]
    },
    {
      "cell_type": "markdown",
      "metadata": {
        "id": "V4VR36BobL8U"
      },
      "source": [
        "Метод **.copy()** возвращает копию словаря"
      ]
    },
    {
      "cell_type": "code",
      "execution_count": 23,
      "metadata": {
        "colab": {
          "base_uri": "https://localhost:8080/"
        },
        "id": "j-4g5k_cbPB0",
        "outputId": "e877e2ff-b131-4e5e-b1e5-84f1b6f545d7"
      },
      "outputs": [
        {
          "data": {
            "text/plain": [
              "{'Андрей': 12, 'Виктор': 14, 'Максим': 16}"
            ]
          },
          "execution_count": 23,
          "metadata": {},
          "output_type": "execute_result"
        }
      ],
      "source": [
        "p_ages.copy()"
      ]
    },
    {
      "cell_type": "markdown",
      "metadata": {
        "id": "PeVVV1X1bSsl"
      },
      "source": [
        "Метод **len()** возвращает количество элементов словаря."
      ]
    },
    {
      "cell_type": "code",
      "execution_count": 24,
      "metadata": {
        "colab": {
          "base_uri": "https://localhost:8080/"
        },
        "id": "sItOCBFtbWut",
        "outputId": "fc5231e5-fb37-4bdf-8075-3fc4e27cbdf8"
      },
      "outputs": [
        {
          "data": {
            "text/plain": [
              "3"
            ]
          },
          "execution_count": 24,
          "metadata": {},
          "output_type": "execute_result"
        }
      ],
      "source": [
        "len(p_ages)"
      ]
    }
  ],
  "metadata": {
    "colab": {
      "provenance": []
    },
    "kernelspec": {
      "display_name": "Python 3",
      "name": "python3"
    },
    "language_info": {
      "codemirror_mode": {
        "name": "ipython",
        "version": 3
      },
      "file_extension": ".py",
      "mimetype": "text/x-python",
      "name": "python",
      "nbconvert_exporter": "python",
      "pygments_lexer": "ipython3",
      "version": "3.11.6"
    }
  },
  "nbformat": 4,
  "nbformat_minor": 0
}
