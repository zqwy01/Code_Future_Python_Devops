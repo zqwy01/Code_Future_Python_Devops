{
 "cells": [
  {
   "cell_type": "markdown",
   "id": "f30d9753",
   "metadata": {},
   "source": [
    "<div class=\"alert alert-block alert-success\">\n",
    "<b>\n",
    "\n",
    "## Тема 8. Работа с файлами и каталогами\n",
    "    \n",
    "</b>\n",
    "</div>"
   ]
  },
  {
   "cell_type": "markdown",
   "id": "8aee01c7",
   "metadata": {},
   "source": [
    "### Функции ввода-вывода"
   ]
  },
  {
   "cell_type": "markdown",
   "id": "c1732baf",
   "metadata": {},
   "source": [
    "#### Функция вывода print()"
   ]
  },
  {
   "cell_type": "markdown",
   "id": "ce21eb70",
   "metadata": {},
   "source": [
    "Функция print() может принимать произвольное число позиционных аргументов и имеет три именованных аргумента: sep, end\n",
    "и file. \n",
    "\n",
    "Все именованные аргументы имеют значение по умолчанию. В качестве значения по умолчанию для параметра sep используется пробел – если функции передано два или более позиционных аргументов, при выводе они отделяются друг от друга\n",
    "значением sep, но если функция получит единственный позиционный аргумент, этот параметр в выводе не участвует. \n",
    "\n",
    "В качестве значения по умолчанию для параметра end используется символ \\n, именно по этой причине функция print() завершает вывод своих аргументов переводом строки. \n",
    "\n",
    "В качестве значения поумолчанию для параметра file используется sys.stdout, поток стандартного вывода, который обычно представляет консоль.\n",
    "\n",
    "Имеется возможность переопределять значение любого именованного аргумента, если значения по умолчанию чем-то не устраивают. Например, в аргументе file можно передать объект файла, открытый на запись или на дополнение в конец, а в аргументах sep\n",
    "и end можно передавать любые строки, включая пустые.\n",
    "\n",
    "Когда необходимо вывести несколько элементов в одной и той же строке, обычно применяется прием, когда функция print() вызывается с аргументом end, в качестве значения которого используется требуемый разделитель, а в самом конце вызывается\n",
    "функция print() без аргументов, только для того, чтобы вывести символ перевода строки."
   ]
  },
  {
   "cell_type": "markdown",
   "id": "4e9eee5f",
   "metadata": {},
   "source": [
    "#### Функция ввода данных input()"
   ]
  },
  {
   "cell_type": "markdown",
   "id": "efd8a9e0",
   "metadata": {},
   "source": [
    "Функция input() приостанавливает выполнение программы и ожидает, пока пользователь введет некоторый текст. Получив ввод, Python сохраняет его в переменной, чтобы было удобнее работать с ним.\n",
    "Например, следующий программный код предлагает пользователю ввести текст, а затем выводит сообщение для пользователя:"
   ]
  },
  {
   "cell_type": "code",
   "execution_count": 1,
   "id": "0937b030",
   "metadata": {},
   "outputs": [
    {
     "name": "stdout",
     "output_type": "stream",
     "text": [
      "Ваше имя:  ZQWY\n"
     ]
    }
   ],
   "source": [
    "message = input(\"Введите ваше имя: \")\n",
    "print('Ваше имя: ', message)"
   ]
  },
  {
   "cell_type": "markdown",
   "id": "3d880419",
   "metadata": {},
   "source": [
    "Функция input() получает один аргумент: текст подсказки (или инструкции), который выводится на экран, чтобы пользователь понимал, что от него требуется. В данном примере при выполнении первой строки пользователь видит подсказку с предложением ввести имя. Программа ожидает, пока пользователь введет ответ, и продолжает работу после нажатия Enter. Ответ сохраняется в переменной message, после чего вызов print(message) выводит введенные данные."
   ]
  },
  {
   "cell_type": "markdown",
   "id": "0a931964",
   "metadata": {},
   "source": [
    "Рассмотрим пример — программу, которая спрашивает у пользователя, название дня недели, которое затем выводится на экран с большой буквы и добавляется в таком виде в список. Чтобы прервать цикл while, программа выполняет команду break, как только пользователь введет значение 'quit'.\n",
    "Цикл, который начинается с while True, будет выполняться бесконечно — если только в нем не будет выполнена команда break. Цикл в программе продолжает запрашивать у пользователя названия дней недели, пока пользователь не введет строку 'quit'. При вводе строки 'quit' выполняется команда break, по которой Python выходит из цикла и выводит содержимое получившегося при вводе списка."
   ]
  },
  {
   "cell_type": "code",
   "execution_count": 2,
   "id": "1270d972",
   "metadata": {},
   "outputs": [
    {
     "name": "stdout",
     "output_type": "stream",
     "text": [
      "Введено название дня недели: Zqwy-Town!\n",
      "Введено название дня недели: Lol!\n",
      "Введено название дня недели: Xdd!\n",
      "Введено название дня недели: Lve!\n",
      "Введено название дня недели: Le!\n",
      "Введено название дня недели: E!\n",
      "Введено название дня недели: W!\n",
      "Введено название дня недели: E!\n",
      "Введено название дня недели: W!\n",
      "Введено название дня недели: E!\n",
      "Введено название дня недели: W!\n",
      "Введено название дня недели: Eqe!\n",
      "Введено название дня недели: Q!\n",
      "Введено название дня недели: R!\n",
      "Введено название дня недели: Qr!\n",
      "Введено название дня недели: Clear!\n"
     ]
    }
   ],
   "source": [
    "prompt = \"\\nВведите название дней недели :\"\n",
    "prompt += \"\\n(Для выхода введите 'quit'.) \"\n",
    "sp = []\n",
    "while True:\n",
    "    city = input(prompt)\n",
    "    if city == 'quit':\n",
    "        break\n",
    "    else:\n",
    "        print(\"Введено название дня недели: \" + city.title() + \"!\")\n",
    "        sp.append(city)\n",
    "print(sp)"
   ]
  },
  {
   "cell_type": "markdown",
   "id": "951b64e4",
   "metadata": {},
   "source": [
    "### Файлы"
   ]
  },
  {
   "cell_type": "markdown",
   "id": "5e8d468f",
   "metadata": {},
   "source": [
    "Операции чтения и записи файлов часто встречаются в программировании. Python в значительной мере упрощает выполнение этих операций. Можно читать как текстовые, так и двоичные файлы, чтение может осуществляться по байтам, строкам и даже по всему содержимому файла. Аналогичные возможности доступны и для записи файлов."
   ]
  },
  {
   "cell_type": "markdown",
   "id": "5791fdf6",
   "metadata": {},
   "source": [
    "### Открытие файлов"
   ]
  },
  {
   "cell_type": "markdown",
   "id": "ec3a8401",
   "metadata": {},
   "source": [
    "Функция Python `open()` возвращает объект файла. Эта функция может получать несколько необязательных параметров:\n",
    "```Python\n",
    "open(filename, mode='r', buffering=-1, encoding=None,\n",
    "errors=None, newline=None, closefd=True, opener=None)\n",
    "```\n"
   ]
  },
  {
   "cell_type": "markdown",
   "id": "63dc3582",
   "metadata": {},
   "source": [
    "В системе Windows могут возникнуть проблемы из-за символа \\ , используемого в качестве разделителя путей. Строки Python также используют \\ как экранирующий символ. Если у вас имеется каталог с именем test и вы используете запись \"C:\\test\", Python интерпретирует \\t как символ табуляции.\n",
    "Проблема решается использованием необработанных строк для представления путей Windows. Поставьте символ r перед строкой:\n",
    "r\"C:\\test\""
   ]
  },
  {
   "cell_type": "markdown",
   "id": "b3c380b3",
   "metadata": {},
   "source": [
    "Обычно интерес представляют только первые два или три параметра. Первый параметр — имя файла — является обязательным. Второй параметр определяет, какая операция выполняется с файлом (чтение или запись) и является файл текстовым или двоичным.\n",
    "\n",
    "Режимы работы с файлами:"
   ]
  },
  {
   "cell_type": "markdown",
   "id": "1f3d4741",
   "metadata": {},
   "source": [
    "|Режим|Описание|\n",
    "|:----|:---|\n",
    "|'r'|Чтение текстового файла (используется по умолчанию)|\n",
    "|'w'|Запись текстового файла (перезапись, если файл существует)|\n",
    "|'x'|Запись, но только если файла еще не существует (исключение FileExistsError, если файл существует)|\n",
    "|'a'|Добавление данных в конец файла, если он существует|\n",
    "|'rb'|Чтение двоичного файла|\n",
    "|'wb'|Запись двоичного файла (перезапись)|\n",
    "|'w+b'|Открытие двоичного файла для чтения и записи|\n",
    "|'xb'|Запись двоичного файла (исключение FileExistsError, если файл существует)|\n",
    "|'ab'|Присоединение к двоичному файлу (запись в конец)|\n",
    "|'t'|Означает, что файл текстовый|\n",
    "|'b'|Означает, что файл бинарный|\n"
   ]
  },
  {
   "cell_type": "markdown",
   "id": "4c831a9f",
   "metadata": {},
   "source": [
    "Чтобы получить подробную информацию о параметрах функции open, вызовите для нее help()."
   ]
  },
  {
   "cell_type": "code",
   "execution_count": 3,
   "id": "847ab7fb",
   "metadata": {},
   "outputs": [
    {
     "name": "stdout",
     "output_type": "stream",
     "text": [
      "Help on function open in module io:\n",
      "\n",
      "open(file, mode='r', buffering=-1, encoding=None, errors=None, newline=None, closefd=True, opener=None)\n",
      "    Open file and return a stream.  Raise OSError upon failure.\n",
      "    \n",
      "    file is either a text or byte string giving the name (and the path\n",
      "    if the file isn't in the current working directory) of the file to\n",
      "    be opened or an integer file descriptor of the file to be\n",
      "    wrapped. (If a file descriptor is given, it is closed when the\n",
      "    returned I/O object is closed, unless closefd is set to False.)\n",
      "    \n",
      "    mode is an optional string that specifies the mode in which the file\n",
      "    is opened. It defaults to 'r' which means open for reading in text\n",
      "    mode.  Other common values are 'w' for writing (truncating the file if\n",
      "    it already exists), 'x' for creating and writing to a new file, and\n",
      "    'a' for appending (which on some Unix systems, means that all writes\n",
      "    append to the end of the file regardless of the current seek position).\n",
      "    In text mode, if encoding is not specified the encoding used is platform\n",
      "    dependent: locale.getencoding() is called to get the current locale encoding.\n",
      "    (For reading and writing raw bytes use binary mode and leave encoding\n",
      "    unspecified.) The available modes are:\n",
      "    \n",
      "    ========= ===============================================================\n",
      "    Character Meaning\n",
      "    --------- ---------------------------------------------------------------\n",
      "    'r'       open for reading (default)\n",
      "    'w'       open for writing, truncating the file first\n",
      "    'x'       create a new file and open it for writing\n",
      "    'a'       open for writing, appending to the end of the file if it exists\n",
      "    'b'       binary mode\n",
      "    't'       text mode (default)\n",
      "    '+'       open a disk file for updating (reading and writing)\n",
      "    ========= ===============================================================\n",
      "    \n",
      "    The default mode is 'rt' (open for reading text). For binary random\n",
      "    access, the mode 'w+b' opens and truncates the file to 0 bytes, while\n",
      "    'r+b' opens the file without truncation. The 'x' mode implies 'w' and\n",
      "    raises an `FileExistsError` if the file already exists.\n",
      "    \n",
      "    Python distinguishes between files opened in binary and text modes,\n",
      "    even when the underlying operating system doesn't. Files opened in\n",
      "    binary mode (appending 'b' to the mode argument) return contents as\n",
      "    bytes objects without any decoding. In text mode (the default, or when\n",
      "    't' is appended to the mode argument), the contents of the file are\n",
      "    returned as strings, the bytes having been first decoded using a\n",
      "    platform-dependent encoding or using the specified encoding if given.\n",
      "    \n",
      "    buffering is an optional integer used to set the buffering policy.\n",
      "    Pass 0 to switch buffering off (only allowed in binary mode), 1 to select\n",
      "    line buffering (only usable in text mode), and an integer > 1 to indicate\n",
      "    the size of a fixed-size chunk buffer.  When no buffering argument is\n",
      "    given, the default buffering policy works as follows:\n",
      "    \n",
      "    * Binary files are buffered in fixed-size chunks; the size of the buffer\n",
      "      is chosen using a heuristic trying to determine the underlying device's\n",
      "      \"block size\" and falling back on `io.DEFAULT_BUFFER_SIZE`.\n",
      "      On many systems, the buffer will typically be 4096 or 8192 bytes long.\n",
      "    \n",
      "    * \"Interactive\" text files (files for which isatty() returns True)\n",
      "      use line buffering.  Other text files use the policy described above\n",
      "      for binary files.\n",
      "    \n",
      "    encoding is the name of the encoding used to decode or encode the\n",
      "    file. This should only be used in text mode. The default encoding is\n",
      "    platform dependent, but any encoding supported by Python can be\n",
      "    passed.  See the codecs module for the list of supported encodings.\n",
      "    \n",
      "    errors is an optional string that specifies how encoding errors are to\n",
      "    be handled---this argument should not be used in binary mode. Pass\n",
      "    'strict' to raise a ValueError exception if there is an encoding error\n",
      "    (the default of None has the same effect), or pass 'ignore' to ignore\n",
      "    errors. (Note that ignoring encoding errors can lead to data loss.)\n",
      "    See the documentation for codecs.register or run 'help(codecs.Codec)'\n",
      "    for a list of the permitted encoding error strings.\n",
      "    \n",
      "    newline controls how universal newlines works (it only applies to text\n",
      "    mode). It can be None, '', '\\n', '\\r', and '\\r\\n'.  It works as\n",
      "    follows:\n",
      "    \n",
      "    * On input, if newline is None, universal newlines mode is\n",
      "      enabled. Lines in the input can end in '\\n', '\\r', or '\\r\\n', and\n",
      "      these are translated into '\\n' before being returned to the\n",
      "      caller. If it is '', universal newline mode is enabled, but line\n",
      "      endings are returned to the caller untranslated. If it has any of\n",
      "      the other legal values, input lines are only terminated by the given\n",
      "      string, and the line ending is returned to the caller untranslated.\n",
      "    \n",
      "    * On output, if newline is None, any '\\n' characters written are\n",
      "      translated to the system default line separator, os.linesep. If\n",
      "      newline is '' or '\\n', no translation takes place. If newline is any\n",
      "      of the other legal values, any '\\n' characters written are translated\n",
      "      to the given string.\n",
      "    \n",
      "    If closefd is False, the underlying file descriptor will be kept open\n",
      "    when the file is closed. This does not work when a file name is given\n",
      "    and must be True in that case.\n",
      "    \n",
      "    A custom opener can be used by passing a callable as *opener*. The\n",
      "    underlying file descriptor for the file object is then obtained by\n",
      "    calling *opener* with (*file*, *flags*). *opener* must return an open\n",
      "    file descriptor (passing os.open as *opener* results in functionality\n",
      "    similar to passing None).\n",
      "    \n",
      "    open() returns a file object whose type depends on the mode, and\n",
      "    through which the standard file operations such as reading and writing\n",
      "    are performed. When open() is used to open a file in a text mode ('w',\n",
      "    'r', 'wt', 'rt', etc.), it returns a TextIOWrapper. When used to open\n",
      "    a file in a binary mode, the returned class varies: in read binary\n",
      "    mode, it returns a BufferedReader; in write binary and append binary\n",
      "    modes, it returns a BufferedWriter, and in read/write mode, it returns\n",
      "    a BufferedRandom.\n",
      "    \n",
      "    It is also possible to use a string or bytearray as a file for both\n",
      "    reading and writing. For strings StringIO can be used like a file\n",
      "    opened in a text mode, and for bytes a BytesIO can be used like a file\n",
      "    opened in a binary mode.\n",
      "\n"
     ]
    }
   ],
   "source": [
    "help(open)"
   ]
  },
  {
   "cell_type": "markdown",
   "id": "a85c916d",
   "metadata": {},
   "source": [
    "Если вы работаете с текстовыми файлами, обычно в параметре mode передается 'r' для чтения файла или 'w' для записи. В следующем примере файл myfile.txt открывается для записи. Python создаст этот файл или заменит его, если он уже существует. В результате будет создан пустой текстовый файл."
   ]
  },
  {
   "cell_type": "code",
   "execution_count": 4,
   "id": "0f8e33d3",
   "metadata": {},
   "outputs": [],
   "source": [
    "file_out = open('foutprint.txt', 'wt')"
   ]
  },
  {
   "cell_type": "markdown",
   "id": "01762787",
   "metadata": {},
   "source": [
    "#### Запись в текстовый файл с помощью функции print()"
   ]
  },
  {
   "cell_type": "markdown",
   "id": "a75d11a2",
   "metadata": {},
   "source": [
    "В созданный файл 'foutprint.txt' открытый для записи, запишем строку, а затем закроем его."
   ]
  },
  {
   "cell_type": "code",
   "execution_count": 5,
   "id": "a8ac3495",
   "metadata": {},
   "outputs": [],
   "source": [
    "print('First string', file = file_out)"
   ]
  },
  {
   "cell_type": "markdown",
   "id": "1409eb31",
   "metadata": {},
   "source": [
    "Закрываем текстовый файл с помощью метода `.close()`."
   ]
  },
  {
   "cell_type": "code",
   "execution_count": 6,
   "id": "8c1cf683",
   "metadata": {},
   "outputs": [],
   "source": [
    "file_out.close()"
   ]
  },
  {
   "cell_type": "markdown",
   "id": "34a4da49",
   "metadata": {},
   "source": [
    "В вызове функции `print()` мы использовали аргумент file. Без него функция `print()` будет записывать данные в стандартный поток вывода, которым является консоль."
   ]
  },
  {
   "cell_type": "markdown",
   "id": "c5eba4e0",
   "metadata": {},
   "source": [
    "#### Запись в текстовый файл с помощью метода write()"
   ]
  },
  {
   "cell_type": "markdown",
   "id": "986c9aa5",
   "metadata": {},
   "source": [
    "Для того, чтобы записать строку в файл помимо функции print(), можно использовать и функцию write(). Функция write() возвращает число записанных байтов. Она не добавляет никаких пробелов или символов новой строки, в отличие от функции print()."
   ]
  },
  {
   "cell_type": "code",
   "execution_count": 7,
   "id": "afa59570",
   "metadata": {},
   "outputs": [],
   "source": [
    "string = '''First string,\n",
    "Two string,\n",
    "Three string.'''\n",
    "file_out = open('foutwrite.txt', 'wt')\n",
    "file_out.write(string)\n",
    "file_out.close()"
   ]
  },
  {
   "cell_type": "markdown",
   "id": "9769787f",
   "metadata": {},
   "source": [
    "Сравнение функции print() и метода write()"
   ]
  },
  {
   "cell_type": "markdown",
   "id": "02431fe0",
   "metadata": {},
   "source": [
    "По умолчанию функция print() добавляет пробел после каждого аргумента и символ новой строки в конце. В предыдущем примере она добавила символ новой строки в файл foutwrite.txt. \n",
    "\n",
    "Для того чтобы функция print() работала как функция write(), ей необходимо передать два следующих аргумента:\n",
    "- sep (разделитель, по умолчанию это пробел ' ');\n",
    "- end (символ конца файла, по умолчанию это символ новой строки '\\n')."
   ]
  },
  {
   "cell_type": "code",
   "execution_count": 8,
   "id": "15f0eb87",
   "metadata": {},
   "outputs": [],
   "source": [
    "string = '''First string,\n",
    "Two string,\n",
    "Three string.'''\n",
    "file_out = open('foutwriteasprint.txt', 'wt')\n",
    "#Вместо значений по умолчанию мы используем пустые строки:\n",
    "print(string, file=file_out, sep='', end='')\n",
    "file_out.close()"
   ]
  },
  {
   "cell_type": "markdown",
   "id": "f5b28e13",
   "metadata": {},
   "source": [
    "Записывать в файл можно отдельные фрагменты текста определенного размера (используя срезы) до тех пор, пока не запишется весь текст:"
   ]
  },
  {
   "cell_type": "code",
   "execution_count": 9,
   "id": "f5a54c8b",
   "metadata": {},
   "outputs": [],
   "source": [
    "string = '''First string,\n",
    "Two string,\n",
    "Three string.'''\n",
    "fout = open('relativity.txt', 'wt')\n",
    "size = len(string)\n",
    "offset = 0\n",
    "chunk = 10\n",
    "while True:\n",
    "    if offset > size:\n",
    "        break\n",
    "    fout.write(string[offset:offset + chunk])\n",
    "    offset += chunk\n",
    "fout.close()"
   ]
  },
  {
   "cell_type": "markdown",
   "id": "b88608ed",
   "metadata": {},
   "source": [
    "### Считывание данных из текстового файла"
   ]
  },
  {
   "cell_type": "markdown",
   "id": "2f61e47b",
   "metadata": {},
   "source": [
    "Python предоставляет разные способы чтения данных из файлов. Открыв файл в текстовом режиме (используется по умолчанию), вы сможете читать из него строки. Если же файл открыт в двоичном режиме ('rb' для чтения, 'wb' для записи), то вы будете читать байтовые строки. Для чтения отдельной строки из существующего текстового файла используется метод .readline. Если режим не задан, Python по умолчанию использует режим чтения текстового файла (режим r).\n"
   ]
  },
  {
   "cell_type": "markdown",
   "id": "33174679",
   "metadata": {},
   "source": [
    "##### Функция ```read()```"
   ]
  },
  {
   "cell_type": "markdown",
   "id": "3a6b7ce4",
   "metadata": {},
   "source": [
    "Функция read() без аргументов, считывает весь файл сразу, в этом случае максимальный размер считываемого файла ограничивается объемом оперативной памяти компьютера."
   ]
  },
  {
   "cell_type": "code",
   "execution_count": 10,
   "id": "f0865162",
   "metadata": {},
   "outputs": [
    {
     "data": {
      "text/plain": [
       "39"
      ]
     },
     "execution_count": 10,
     "metadata": {},
     "output_type": "execute_result"
    }
   ],
   "source": [
    "myfile = open('relativity.txt', 'rt' )\n",
    "text = myfile.read()\n",
    "myfile.close()\n",
    "len(text)"
   ]
  },
  {
   "cell_type": "markdown",
   "id": "5b796a53",
   "metadata": {},
   "source": [
    "Можно указать максимальное количество символов, которое функция read() вернет за один вызов. Будем считывать по 10 символов за раз и присоединять каждый фрагмент к строке string, чтобы восстановить оригинал. После того как будет считан весь файл, дальнейшие вызовы функции read() будут возвращать пустую строку ' ', которая рассматривается как False при проверке if not fragment. Это позволит выйти из цикла while True."
   ]
  },
  {
   "cell_type": "code",
   "execution_count": 11,
   "id": "3aa856c6",
   "metadata": {},
   "outputs": [
    {
     "data": {
      "text/plain": [
       "39"
      ]
     },
     "execution_count": 11,
     "metadata": {},
     "output_type": "execute_result"
    }
   ],
   "source": [
    "string = ''\n",
    "myfile = open('relativity.txt', 'rt' )\n",
    "chunk = 10\n",
    "while True:\n",
    "    fragment = myfile.read(chunk)\n",
    "    if not fragment:\n",
    "        break\n",
    "    string += fragment\n",
    "myfile.close()\n",
    "len(string)"
   ]
  },
  {
   "cell_type": "markdown",
   "id": "945c65fb",
   "metadata": {},
   "source": [
    "##### Функция ```readline()```"
   ]
  },
  {
   "cell_type": "markdown",
   "id": "0974e105",
   "metadata": {},
   "source": [
    "Для считывания файла построчно используется функция readline() "
   ]
  },
  {
   "cell_type": "code",
   "execution_count": 12,
   "id": "ed6e098d",
   "metadata": {},
   "outputs": [
    {
     "name": "stdout",
     "output_type": "stream",
     "text": [
      "39\n",
      "First string,\n",
      "Two string,\n",
      "Three string.\n"
     ]
    }
   ],
   "source": [
    "string = ''\n",
    "file = open('relativity.txt', 'rt' )\n",
    "while True:\n",
    "    line = file.readline()\n",
    "    if not line:\n",
    "        break\n",
    "    string += line\n",
    "\n",
    "file.close()\n",
    "print(len(string))\n",
    "print(string)"
   ]
  },
  {
   "cell_type": "markdown",
   "id": "d9fdd2c2",
   "metadata": {},
   "source": [
    "Для текстового файла даже пустая строка имеет длину, равную 1 (символ новой строки), такая строка будет считаться True. Когда весь файл будет считан, функция readline() (как и функция read()) возвратит пустую строку, которая будет считаться False."
   ]
  },
  {
   "cell_type": "markdown",
   "id": "bc4ad343",
   "metadata": {},
   "source": [
    "##### Функция ```readlines()```"
   ]
  },
  {
   "cell_type": "markdown",
   "id": "391f90ee",
   "metadata": {},
   "source": [
    "Функция readlines() считывает по одной строке за раз и возвращает список этих строк.\n",
    "Поскольку функция readlines() возвращает список, Python придется прочитать весь файл для создания списка и тем самым может быть израсходована вся свободная память. \n"
   ]
  },
  {
   "cell_type": "code",
   "execution_count": 13,
   "id": "21bef8aa",
   "metadata": {},
   "outputs": [
    {
     "ename": "FileNotFoundError",
     "evalue": "[Errno 2] No such file or directory: 'relativity'",
     "output_type": "error",
     "traceback": [
      "\u001b[1;31m---------------------------------------------------------------------------\u001b[0m",
      "\u001b[1;31mFileNotFoundError\u001b[0m                         Traceback (most recent call last)",
      "\u001b[1;32mc:\\Users\\admin\\Desktop\\Мой дневник\\Code_of_future\\Code_Future_Python_Devops\\HomeTasks\\Module 1\\1.5 Структуры данных\\Дополнительное задание по Теме 5 (по желанию).ipynb Cell 49\u001b[0m line \u001b[0;36m1\n\u001b[1;32m----> <a href='vscode-notebook-cell:/c%3A/Users/admin/Desktop/%D0%9C%D0%BE%D0%B9%20%D0%B4%D0%BD%D0%B5%D0%B2%D0%BD%D0%B8%D0%BA/Code_of_future/Code_Future_Python_Devops/HomeTasks/Module%201/1.5%20%D0%A1%D1%82%D1%80%D1%83%D0%BA%D1%82%D1%83%D1%80%D1%8B%20%D0%B4%D0%B0%D0%BD%D0%BD%D1%8B%D1%85/%D0%94%D0%BE%D0%BF%D0%BE%D0%BB%D0%BD%D0%B8%D1%82%D0%B5%D0%BB%D1%8C%D0%BD%D0%BE%D0%B5%20%D0%B7%D0%B0%D0%B4%D0%B0%D0%BD%D0%B8%D0%B5%20%D0%BF%D0%BE%20%D0%A2%D0%B5%D0%BC%D0%B5%205%20%28%D0%BF%D0%BE%20%D0%B6%D0%B5%D0%BB%D0%B0%D0%BD%D0%B8%D1%8E%29.ipynb#X66sZmlsZQ%3D%3D?line=0'>1</a>\u001b[0m fileout \u001b[39m=\u001b[39m \u001b[39mopen\u001b[39;49m(\u001b[39m'\u001b[39;49m\u001b[39mrelativity\u001b[39;49m\u001b[39m'\u001b[39;49m, \u001b[39m'\u001b[39;49m\u001b[39mrt\u001b[39;49m\u001b[39m'\u001b[39;49m )\n\u001b[0;32m      <a href='vscode-notebook-cell:/c%3A/Users/admin/Desktop/%D0%9C%D0%BE%D0%B9%20%D0%B4%D0%BD%D0%B5%D0%B2%D0%BD%D0%B8%D0%BA/Code_of_future/Code_Future_Python_Devops/HomeTasks/Module%201/1.5%20%D0%A1%D1%82%D1%80%D1%83%D0%BA%D1%82%D1%83%D1%80%D1%8B%20%D0%B4%D0%B0%D0%BD%D0%BD%D1%8B%D1%85/%D0%94%D0%BE%D0%BF%D0%BE%D0%BB%D0%BD%D0%B8%D1%82%D0%B5%D0%BB%D1%8C%D0%BD%D0%BE%D0%B5%20%D0%B7%D0%B0%D0%B4%D0%B0%D0%BD%D0%B8%D0%B5%20%D0%BF%D0%BE%20%D0%A2%D0%B5%D0%BC%D0%B5%205%20%28%D0%BF%D0%BE%20%D0%B6%D0%B5%D0%BB%D0%B0%D0%BD%D0%B8%D1%8E%29.ipynb#X66sZmlsZQ%3D%3D?line=1'>2</a>\u001b[0m lines \u001b[39m=\u001b[39m fileout\u001b[39m.\u001b[39mreadlines()\n\u001b[0;32m      <a href='vscode-notebook-cell:/c%3A/Users/admin/Desktop/%D0%9C%D0%BE%D0%B9%20%D0%B4%D0%BD%D0%B5%D0%B2%D0%BD%D0%B8%D0%BA/Code_of_future/Code_Future_Python_Devops/HomeTasks/Module%201/1.5%20%D0%A1%D1%82%D1%80%D1%83%D0%BA%D1%82%D1%83%D1%80%D1%8B%20%D0%B4%D0%B0%D0%BD%D0%BD%D1%8B%D1%85/%D0%94%D0%BE%D0%BF%D0%BE%D0%BB%D0%BD%D0%B8%D1%82%D0%B5%D0%BB%D1%8C%D0%BD%D0%BE%D0%B5%20%D0%B7%D0%B0%D0%B4%D0%B0%D0%BD%D0%B8%D0%B5%20%D0%BF%D0%BE%20%D0%A2%D0%B5%D0%BC%D0%B5%205%20%28%D0%BF%D0%BE%20%D0%B6%D0%B5%D0%BB%D0%B0%D0%BD%D0%B8%D1%8E%29.ipynb#X66sZmlsZQ%3D%3D?line=2'>3</a>\u001b[0m fileout\u001b[39m.\u001b[39mclose()\n",
      "File \u001b[1;32m~\\AppData\\Roaming\\Python\\Python311\\site-packages\\IPython\\core\\interactiveshell.py:286\u001b[0m, in \u001b[0;36m_modified_open\u001b[1;34m(file, *args, **kwargs)\u001b[0m\n\u001b[0;32m    279\u001b[0m \u001b[39mif\u001b[39;00m file \u001b[39min\u001b[39;00m {\u001b[39m0\u001b[39m, \u001b[39m1\u001b[39m, \u001b[39m2\u001b[39m}:\n\u001b[0;32m    280\u001b[0m     \u001b[39mraise\u001b[39;00m \u001b[39mValueError\u001b[39;00m(\n\u001b[0;32m    281\u001b[0m         \u001b[39mf\u001b[39m\u001b[39m\"\u001b[39m\u001b[39mIPython won\u001b[39m\u001b[39m'\u001b[39m\u001b[39mt let you open fd=\u001b[39m\u001b[39m{\u001b[39;00mfile\u001b[39m}\u001b[39;00m\u001b[39m by default \u001b[39m\u001b[39m\"\u001b[39m\n\u001b[0;32m    282\u001b[0m         \u001b[39m\"\u001b[39m\u001b[39mas it is likely to crash IPython. If you know what you are doing, \u001b[39m\u001b[39m\"\u001b[39m\n\u001b[0;32m    283\u001b[0m         \u001b[39m\"\u001b[39m\u001b[39myou can use builtins\u001b[39m\u001b[39m'\u001b[39m\u001b[39m open.\u001b[39m\u001b[39m\"\u001b[39m\n\u001b[0;32m    284\u001b[0m     )\n\u001b[1;32m--> 286\u001b[0m \u001b[39mreturn\u001b[39;00m io_open(file, \u001b[39m*\u001b[39;49margs, \u001b[39m*\u001b[39;49m\u001b[39m*\u001b[39;49mkwargs)\n",
      "\u001b[1;31mFileNotFoundError\u001b[0m: [Errno 2] No such file or directory: 'relativity'"
     ]
    }
   ],
   "source": [
    "fileout = open('relativity', 'rt' )\n",
    "lines = fileout.readlines()\n",
    "fileout.close()\n",
    "print(len(lines), 'lines read')\n",
    "print((lines))\n",
    "for line in lines:\n",
    "    print(line, end='')"
   ]
  },
  {
   "cell_type": "markdown",
   "id": "319963fe",
   "metadata": {},
   "source": [
    "##### Cчитывание текстоврго файла прямым перебором по файлу"
   ]
  },
  {
   "cell_type": "markdown",
   "id": "7a165af1",
   "metadata": {},
   "source": [
    "Самый простой способ считать текстовый файл — использовать итератор. Он будет возвращать по одной строке за раз.\n",
    "При прямом переборе по файлу Python не выполняет работу заранее и читает строки текста только по мере надобности:\n",
    "Метод .readlines следует применять только в том случае, если вы уверены, что файл поместится в памяти, а вам потребуется обращаться к строкам неоднократно. В противном случае прямой перебор по файлу (с использованием итераторов) является предпочтительным."
   ]
  },
  {
   "cell_type": "code",
   "execution_count": 14,
   "id": "9b3e0087",
   "metadata": {},
   "outputs": [
    {
     "name": "stdout",
     "output_type": "stream",
     "text": [
      "39\n",
      "First string,\n",
      "Two string,\n",
      "Three string.\n"
     ]
    }
   ],
   "source": [
    "text = ''\n",
    "fileout = open('relativity.txt', 'rt' )\n",
    "for line in fileout:\n",
    "    text += line\n",
    "    \n",
    "fileout.close()\n",
    "print(len(text))\n",
    "print(text)"
   ]
  },
  {
   "cell_type": "markdown",
   "id": "a81bb2a8",
   "metadata": {},
   "source": [
    "#### Закрытие файлов"
   ]
  },
  {
   "cell_type": "markdown",
   "id": "ea0d09c3",
   "metadata": {},
   "source": [
    "Метод close() записывает файловые буферы на носитель информации. Правила Python требуют всегда закрывать файлы после завершения работы с ними (как для чтения, так и для записи)."
   ]
  },
  {
   "cell_type": "markdown",
   "id": "97e74c9b",
   "metadata": {},
   "source": [
    "Если вы забудете закрыть файл, его закроет Python после того, как будет удалена последняя ссылка на этот файл. Таким образом, если вы откроете файл и не закроете его явно, он будет закрыт автоматически по завершении функции. Но вы можете открыть файл внутри длинной функции или даже основного раздела программы. Файл должен быть закрыт, чтобы все оставшиеся операции записи были завершены."
   ]
  },
  {
   "cell_type": "markdown",
   "id": "9224cd5c",
   "metadata": {},
   "source": [
    "##### Закрытие файлов автоматически с помощью ключевого слова with"
   ]
  },
  {
   "cell_type": "markdown",
   "id": "9e7322af",
   "metadata": {},
   "source": [
    "Для очистки таких объектов, как открытые файлы, можно использовать конструкцию \n",
    "```Python\n",
    "with выражение as переменная:\n",
    "```\n",
    "После того как блок кода, расположенный под менеджером контекста, завершится (или нормально, или путем генерации исключения), файл закроется автоматически."
   ]
  },
  {
   "cell_type": "code",
   "execution_count": 15,
   "id": "b87b2b5a",
   "metadata": {},
   "outputs": [],
   "source": [
    "with open('filewith.txt', 'w') as fileout:\n",
    "    fileout.write('My file\\n')"
   ]
  },
  {
   "cell_type": "markdown",
   "id": "3803c3b9",
   "metadata": {},
   "source": [
    "Этот фрагмент кода эквивалентен следующему:"
   ]
  },
  {
   "cell_type": "code",
   "execution_count": 16,
   "id": "b2056fde",
   "metadata": {},
   "outputs": [],
   "source": [
    "fileout = open('filewith.txt', 'w')\n",
    "fileout.write('My file\\n')\n",
    "fileout.close()"
   ]
  },
  {
   "cell_type": "markdown",
   "id": "1fd480d0",
   "metadata": {},
   "source": [
    "### Формат файла CSV"
   ]
  },
  {
   "cell_type": "markdown",
   "id": "179dc20b",
   "metadata": {},
   "source": [
    "Один из самых популярных форматов данных является CSV. \n",
    "\n",
    "CSV (Comma-Separated Values — значения, разделённые запятыми) — текстовый формат, предназначенный для представления табличных данных. Строка таблицы представляется в виде строки текста, которая содержит одно или несколько полей, разделенных запятыми. Разделители так же могут называться делимитер (delimiter).\n",
    "\n",
    "Проблемы файлов CSV:\n",
    "\n",
    "1) Если исходные табличные данные содержат запятые или переводы строк. Возможным решением проблемы запятых и переносов строк является заключение данных в кавычки, однако исходные данные могут содержать кавычки. \n",
    "2) Термином «CSV» могут обозначаться похожие форматы, в которых разделителем является символ табуляции (TSV) или точка с запятой. Многие приложения, которые работают с форматом CSV, позволяют выбирать символ разделителя и символ кавычек. "
   ]
  },
  {
   "cell_type": "markdown",
   "id": "4fc92f94",
   "metadata": {},
   "source": [
    "Для работы с CSV в Python есть несколько библиотек и модулей. С помощью их вы сможете обрабатывать эти данные конвертируя их в словари и списки, создавать файлы и читать их. Основной модуль называется CSV "
   ]
  },
  {
   "cell_type": "markdown",
   "id": "3a54ff6d",
   "metadata": {},
   "source": [
    "#### Работа с CSV файлами средствами Python"
   ]
  },
  {
   "cell_type": "markdown",
   "id": "1bdca0a6",
   "metadata": {},
   "source": [
    "##### Cоздание данных в формате CSV"
   ]
  },
  {
   "cell_type": "code",
   "execution_count": 17,
   "id": "de9f677a",
   "metadata": {},
   "outputs": [
    {
     "name": "stdout",
     "output_type": "stream",
     "text": [
      "Имя,Пол,Возраст\n",
      "Михаил,мужcкой,20\n",
      "Анна,женский,21\n",
      "\n"
     ]
    }
   ],
   "source": [
    "data = [\n",
    "   ['Имя', 'Пол', 'Возраст'],\n",
    "   ['Михаил', 'мужcкой', '20'],\n",
    "   ['Анна', 'женский', '21']\n",
    "]\n",
    "\n",
    "csv = ''\n",
    "for row in data:\n",
    "   csv += ','.join(row) + '\\n'\n",
    "print(csv)\n",
    "\n",
    "filein = open('fileprint.csv', 'wt')\n",
    "print(csv, file = filein)\n",
    "filein.close()"
   ]
  },
  {
   "cell_type": "markdown",
   "id": "b84a9a0f",
   "metadata": {},
   "source": [
    "#### Чтение CSV файлов c помощью  стандартного (предустановленного) модуля CSV"
   ]
  },
  {
   "cell_type": "markdown",
   "id": "b6dd3243",
   "metadata": {},
   "source": [
    "В стандартном модуле CSV определен метод .reader для считывания файлов представленных в формате CSV. \n",
    "\n",
    "`csv.reader(csvfile, dialect='excel', **fmtparams)` — метод reader() модуля csv возвращает объект чтения, который будет перебирать строки в данном файле csvfile. \n",
    "\n",
    "Параметры:\n",
    "\n",
    "   - csvfile – файловый объект,\n",
    "   - dialect – строка с встроенным диалектом ('excel', 'excel-tab', 'unix' и др.).\n",
    "   \n",
    "   \n",
    "   \n",
    "   - fmtparams – параметры диалекта и форматирования. В качестве ключевых аргументов используйте имена атрибутов объекта Dialect:\n",
    "     - delimiter=',' – символ, используемый для разделения полей.\n",
    "     - quotechar='' – символ, используемый для кавычек в полях, содержащих специальные символы, такие как разделитель.\n",
    "     - escapechar='\\\\' – символ, используемый для экранирования разделителя.\n",
    "     - quoting=csv.QUOTE_MINIMAL – определяет, когда должны генерироваться кавычки для полей.\n",
    "     - strict=False – если True, то выдает исключение при неправильной разметке CSV.\n",
    "\n",
    "\n",
    "Если csvfile является файловым объектом, то его нужно открыть с параметром `newline = ''`. Если параметр `newline = ''` не указан, символы новой строки встроеные в поля в кавычках не будут интерпретироваться правильно.\n",
    "\n",
    "Каждая строка, считанная из файла csv, возвращается в виде списка строк. "
   ]
  },
  {
   "cell_type": "code",
   "execution_count": 18,
   "id": "959e8958",
   "metadata": {},
   "outputs": [
    {
     "name": "stdout",
     "output_type": "stream",
     "text": [
      "['Имя', 'Пол', 'Возраст']\n",
      "['Михаил', 'мужcкой', '20']\n",
      "['Анна', 'женский', '21']\n",
      "[]\n"
     ]
    }
   ],
   "source": [
    "import csv\n",
    "with open('fileprint.csv', 'r', newline = '') as f:\n",
    "    data = csv.reader(f)\n",
    "    for row in data:\n",
    "        print(row)"
   ]
  },
  {
   "cell_type": "markdown",
   "id": "79376011",
   "metadata": {},
   "source": [
    "Указание разделителя\n",
    "\n",
    "По умолчанию считается, что в качестве разделителя (делиметра) используется запятая. В ниже следующем примере, в качестве разделителя, стоит `';'`, а файл содержит кириллицу. В случае Windows по умолчанию используется кодировка `cp1251` и если бедет указана кодировка `UTF-8`, то может появится ошибка."
   ]
  },
  {
   "cell_type": "code",
   "execution_count": 6,
   "id": "903d8abf",
   "metadata": {},
   "outputs": [
    {
     "ename": "FileNotFoundError",
     "evalue": "[Errno 2] No such file or directory: 'fout.csv'",
     "output_type": "error",
     "traceback": [
      "\u001b[1;31m---------------------------------------------------------------------------\u001b[0m",
      "\u001b[1;31mFileNotFoundError\u001b[0m                         Traceback (most recent call last)",
      "\u001b[1;32mc:\\Users\\admin\\Desktop\\Мой дневник\\Code_of_future\\Code_Future_Python_Devops\\HomeTasks\\Module 1\\1.5 Структуры данных\\Дополнительное задание по Теме 5 (по желанию).ipynb Cell 71\u001b[0m line \u001b[0;36m3\n\u001b[0;32m      <a href='vscode-notebook-cell:/c%3A/Users/admin/Desktop/%D0%9C%D0%BE%D0%B9%20%D0%B4%D0%BD%D0%B5%D0%B2%D0%BD%D0%B8%D0%BA/Code_of_future/Code_Future_Python_Devops/HomeTasks/Module%201/1.5%20%D0%A1%D1%82%D1%80%D1%83%D0%BA%D1%82%D1%83%D1%80%D1%8B%20%D0%B4%D0%B0%D0%BD%D0%BD%D1%8B%D1%85/%D0%94%D0%BE%D0%BF%D0%BE%D0%BB%D0%BD%D0%B8%D1%82%D0%B5%D0%BB%D1%8C%D0%BD%D0%BE%D0%B5%20%D0%B7%D0%B0%D0%B4%D0%B0%D0%BD%D0%B8%D0%B5%20%D0%BF%D0%BE%20%D0%A2%D0%B5%D0%BC%D0%B5%205%20%28%D0%BF%D0%BE%20%D0%B6%D0%B5%D0%BB%D0%B0%D0%BD%D0%B8%D1%8E%29.ipynb#Y130sZmlsZQ%3D%3D?line=0'>1</a>\u001b[0m \u001b[39mimport\u001b[39;00m \u001b[39mcsv\u001b[39;00m\n\u001b[1;32m----> <a href='vscode-notebook-cell:/c%3A/Users/admin/Desktop/%D0%9C%D0%BE%D0%B9%20%D0%B4%D0%BD%D0%B5%D0%B2%D0%BD%D0%B8%D0%BA/Code_of_future/Code_Future_Python_Devops/HomeTasks/Module%201/1.5%20%D0%A1%D1%82%D1%80%D1%83%D0%BA%D1%82%D1%83%D1%80%D1%8B%20%D0%B4%D0%B0%D0%BD%D0%BD%D1%8B%D1%85/%D0%94%D0%BE%D0%BF%D0%BE%D0%BB%D0%BD%D0%B8%D1%82%D0%B5%D0%BB%D1%8C%D0%BD%D0%BE%D0%B5%20%D0%B7%D0%B0%D0%B4%D0%B0%D0%BD%D0%B8%D0%B5%20%D0%BF%D0%BE%20%D0%A2%D0%B5%D0%BC%D0%B5%205%20%28%D0%BF%D0%BE%20%D0%B6%D0%B5%D0%BB%D0%B0%D0%BD%D0%B8%D1%8E%29.ipynb#Y130sZmlsZQ%3D%3D?line=2'>3</a>\u001b[0m \u001b[39mwith\u001b[39;00m \u001b[39mopen\u001b[39;49m(\u001b[39m'\u001b[39;49m\u001b[39mfout.csv\u001b[39;49m\u001b[39m'\u001b[39;49m, \u001b[39m'\u001b[39;49m\u001b[39mr\u001b[39;49m\u001b[39m'\u001b[39;49m, encoding\u001b[39m=\u001b[39;49m\u001b[39m'\u001b[39;49m\u001b[39mcp1251\u001b[39;49m\u001b[39m'\u001b[39;49m) \u001b[39mas\u001b[39;00m f:\n\u001b[0;32m      <a href='vscode-notebook-cell:/c%3A/Users/admin/Desktop/%D0%9C%D0%BE%D0%B9%20%D0%B4%D0%BD%D0%B5%D0%B2%D0%BD%D0%B8%D0%BA/Code_of_future/Code_Future_Python_Devops/HomeTasks/Module%201/1.5%20%D0%A1%D1%82%D1%80%D1%83%D0%BA%D1%82%D1%83%D1%80%D1%8B%20%D0%B4%D0%B0%D0%BD%D0%BD%D1%8B%D1%85/%D0%94%D0%BE%D0%BF%D0%BE%D0%BB%D0%BD%D0%B8%D1%82%D0%B5%D0%BB%D1%8C%D0%BD%D0%BE%D0%B5%20%D0%B7%D0%B0%D0%B4%D0%B0%D0%BD%D0%B8%D0%B5%20%D0%BF%D0%BE%20%D0%A2%D0%B5%D0%BC%D0%B5%205%20%28%D0%BF%D0%BE%20%D0%B6%D0%B5%D0%BB%D0%B0%D0%BD%D0%B8%D1%8E%29.ipynb#Y130sZmlsZQ%3D%3D?line=3'>4</a>\u001b[0m     data \u001b[39m=\u001b[39m csv\u001b[39m.\u001b[39mreader(f, delimiter\u001b[39m=\u001b[39m\u001b[39m'\u001b[39m\u001b[39m;\u001b[39m\u001b[39m'\u001b[39m)\n\u001b[0;32m      <a href='vscode-notebook-cell:/c%3A/Users/admin/Desktop/%D0%9C%D0%BE%D0%B9%20%D0%B4%D0%BD%D0%B5%D0%B2%D0%BD%D0%B8%D0%BA/Code_of_future/Code_Future_Python_Devops/HomeTasks/Module%201/1.5%20%D0%A1%D1%82%D1%80%D1%83%D0%BA%D1%82%D1%83%D1%80%D1%8B%20%D0%B4%D0%B0%D0%BD%D0%BD%D1%8B%D1%85/%D0%94%D0%BE%D0%BF%D0%BE%D0%BB%D0%BD%D0%B8%D1%82%D0%B5%D0%BB%D1%8C%D0%BD%D0%BE%D0%B5%20%D0%B7%D0%B0%D0%B4%D0%B0%D0%BD%D0%B8%D0%B5%20%D0%BF%D0%BE%20%D0%A2%D0%B5%D0%BC%D0%B5%205%20%28%D0%BF%D0%BE%20%D0%B6%D0%B5%D0%BB%D0%B0%D0%BD%D0%B8%D1%8E%29.ipynb#Y130sZmlsZQ%3D%3D?line=4'>5</a>\u001b[0m     \u001b[39mfor\u001b[39;00m row \u001b[39min\u001b[39;00m data:\n",
      "File \u001b[1;32m~\\AppData\\Roaming\\Python\\Python311\\site-packages\\IPython\\core\\interactiveshell.py:286\u001b[0m, in \u001b[0;36m_modified_open\u001b[1;34m(file, *args, **kwargs)\u001b[0m\n\u001b[0;32m    279\u001b[0m \u001b[39mif\u001b[39;00m file \u001b[39min\u001b[39;00m {\u001b[39m0\u001b[39m, \u001b[39m1\u001b[39m, \u001b[39m2\u001b[39m}:\n\u001b[0;32m    280\u001b[0m     \u001b[39mraise\u001b[39;00m \u001b[39mValueError\u001b[39;00m(\n\u001b[0;32m    281\u001b[0m         \u001b[39mf\u001b[39m\u001b[39m\"\u001b[39m\u001b[39mIPython won\u001b[39m\u001b[39m'\u001b[39m\u001b[39mt let you open fd=\u001b[39m\u001b[39m{\u001b[39;00mfile\u001b[39m}\u001b[39;00m\u001b[39m by default \u001b[39m\u001b[39m\"\u001b[39m\n\u001b[0;32m    282\u001b[0m         \u001b[39m\"\u001b[39m\u001b[39mas it is likely to crash IPython. If you know what you are doing, \u001b[39m\u001b[39m\"\u001b[39m\n\u001b[0;32m    283\u001b[0m         \u001b[39m\"\u001b[39m\u001b[39myou can use builtins\u001b[39m\u001b[39m'\u001b[39m\u001b[39m open.\u001b[39m\u001b[39m\"\u001b[39m\n\u001b[0;32m    284\u001b[0m     )\n\u001b[1;32m--> 286\u001b[0m \u001b[39mreturn\u001b[39;00m io_open(file, \u001b[39m*\u001b[39;49margs, \u001b[39m*\u001b[39;49m\u001b[39m*\u001b[39;49mkwargs)\n",
      "\u001b[1;31mFileNotFoundError\u001b[0m: [Errno 2] No such file or directory: 'fout.csv'"
     ]
    }
   ],
   "source": [
    "import csv\n",
    "\n",
    "with open('fout.csv', 'r', encoding='cp1251') as f:\n",
    "    data = csv.reader(f, delimiter=';')\n",
    "    for row in data:\n",
    "        print(row)"
   ]
  },
  {
   "cell_type": "markdown",
   "id": "9bb0b1fd",
   "metadata": {},
   "source": [
    "#### Запись CSV файлов c помощью модуля CSV"
   ]
  },
  {
   "cell_type": "markdown",
   "id": "d5b34375",
   "metadata": {},
   "source": [
    "`writer = csv.writer(csvfile, dialect='excel', **fmtparams)` – функция writer() модуля csv возвращает объект записи, отвечающий за преобразование пользовательских данных в строки с разделителями для данного файлового объекта. Если csvfile является файловым объектом, его следует открыть с помощью параметра `newline = ''` встроенной функции open().\n",
    "\n",
    "Функция writer() создаст объект, подходящий для записи. Чтобы перебрать данные по строкам, используется функция writerows().\n",
    "\n",
    "Параметры метода csv.writer() аналогичны параметрам метода csv.reader():"
   ]
  },
  {
   "cell_type": "code",
   "execution_count": 20,
   "id": "0d4d004a",
   "metadata": {},
   "outputs": [],
   "source": [
    "import csv\n",
    "\n",
    "lines = [\n",
    "   ['Имя', 'Пол', 'Возраст'],\n",
    "   ['Михаил', 'мужcкой', '20'],\n",
    "   ['Анна', 'женский', '21']\n",
    "]\n",
    "\n",
    "with open('filewrite.csv', 'w', newline='', encoding='cp1251') as f:\n",
    "    writer = csv.writer(f)\n",
    "    for line in lines:\n",
    "        writer.writerow(line)\n",
    "    "
   ]
  },
  {
   "cell_type": "code",
   "execution_count": 3,
   "id": "063e3db5",
   "metadata": {},
   "outputs": [
    {
     "name": "stdout",
     "output_type": "stream",
     "text": [
      "['Имя', 'Пол', 'Возраст']\n",
      "['Михаил', 'мужcкой', '20']\n",
      "['Анна', 'женский', '21']\n"
     ]
    }
   ],
   "source": [
    "import csv\n",
    "with open('filewrite.csv', 'r', newline = '') as f:\n",
    "    data = csv.reader(f)\n",
    "    for row in data:\n",
    "        print(row)"
   ]
  },
  {
   "cell_type": "markdown",
   "id": "32b6bb09",
   "metadata": {},
   "source": [
    "<div class=\"alert alert-block alert-info\">\n",
    "<b>\n",
    "Более подробную информацию по возможностям модуля CSV вы можете получить пройдя по ссылке:\n",
    "https://docs.python.org/3/library/csv.html\n",
    "</b>\n",
    "</div>"
   ]
  },
  {
   "cell_type": "markdown",
   "id": "f4e04e36",
   "metadata": {},
   "source": [
    "#### Чтение CSV файлов c помощью модуля Pandas"
   ]
  },
  {
   "cell_type": "markdown",
   "id": "3c8d728b",
   "metadata": {},
   "source": [
    "В библиотеке для анализа данных pandas так же есть возможность прочитать CSV файл. Эта библиотека в отличии от стандартной (предустановленной библиотеки Python)  устанавливается отдельно, она входит в дистрибутив Anaconda, включающий набор популярных свободных библиотек, объединённых проблематиками науки о данных и машинного обучения."
   ]
  },
  {
   "cell_type": "code",
   "execution_count": 7,
   "id": "82479912",
   "metadata": {},
   "outputs": [
    {
     "ename": "FileNotFoundError",
     "evalue": "[Errno 2] No such file or directory: 'fileout.csv'",
     "output_type": "error",
     "traceback": [
      "\u001b[1;31m---------------------------------------------------------------------------\u001b[0m",
      "\u001b[1;31mFileNotFoundError\u001b[0m                         Traceback (most recent call last)",
      "\u001b[1;32mc:\\Users\\admin\\Desktop\\Мой дневник\\Code_of_future\\Code_Future_Python_Devops\\HomeTasks\\Module 1\\1.5 Структуры данных\\Дополнительное задание по Теме 5 (по желанию).ipynb Cell 79\u001b[0m line \u001b[0;36m2\n\u001b[0;32m      <a href='vscode-notebook-cell:/c%3A/Users/admin/Desktop/%D0%9C%D0%BE%D0%B9%20%D0%B4%D0%BD%D0%B5%D0%B2%D0%BD%D0%B8%D0%BA/Code_of_future/Code_Future_Python_Devops/HomeTasks/Module%201/1.5%20%D0%A1%D1%82%D1%80%D1%83%D0%BA%D1%82%D1%83%D1%80%D1%8B%20%D0%B4%D0%B0%D0%BD%D0%BD%D1%8B%D1%85/%D0%94%D0%BE%D0%BF%D0%BE%D0%BB%D0%BD%D0%B8%D1%82%D0%B5%D0%BB%D1%8C%D0%BD%D0%BE%D0%B5%20%D0%B7%D0%B0%D0%B4%D0%B0%D0%BD%D0%B8%D0%B5%20%D0%BF%D0%BE%20%D0%A2%D0%B5%D0%BC%D0%B5%205%20%28%D0%BF%D0%BE%20%D0%B6%D0%B5%D0%BB%D0%B0%D0%BD%D0%B8%D1%8E%29.ipynb#Y141sZmlsZQ%3D%3D?line=0'>1</a>\u001b[0m \u001b[39mimport\u001b[39;00m \u001b[39mpandas\u001b[39;00m \u001b[39mas\u001b[39;00m \u001b[39mpd\u001b[39;00m\n\u001b[1;32m----> <a href='vscode-notebook-cell:/c%3A/Users/admin/Desktop/%D0%9C%D0%BE%D0%B9%20%D0%B4%D0%BD%D0%B5%D0%B2%D0%BD%D0%B8%D0%BA/Code_of_future/Code_Future_Python_Devops/HomeTasks/Module%201/1.5%20%D0%A1%D1%82%D1%80%D1%83%D0%BA%D1%82%D1%83%D1%80%D1%8B%20%D0%B4%D0%B0%D0%BD%D0%BD%D1%8B%D1%85/%D0%94%D0%BE%D0%BF%D0%BE%D0%BB%D0%BD%D0%B8%D1%82%D0%B5%D0%BB%D1%8C%D0%BD%D0%BE%D0%B5%20%D0%B7%D0%B0%D0%B4%D0%B0%D0%BD%D0%B8%D0%B5%20%D0%BF%D0%BE%20%D0%A2%D0%B5%D0%BC%D0%B5%205%20%28%D0%BF%D0%BE%20%D0%B6%D0%B5%D0%BB%D0%B0%D0%BD%D0%B8%D1%8E%29.ipynb#Y141sZmlsZQ%3D%3D?line=1'>2</a>\u001b[0m df \u001b[39m=\u001b[39m pd\u001b[39m.\u001b[39;49mread_csv(\u001b[39m'\u001b[39;49m\u001b[39mfileout.csv\u001b[39;49m\u001b[39m'\u001b[39;49m, encoding\u001b[39m=\u001b[39;49m\u001b[39m'\u001b[39;49m\u001b[39mcp1251\u001b[39;49m\u001b[39m'\u001b[39;49m)\n\u001b[0;32m      <a href='vscode-notebook-cell:/c%3A/Users/admin/Desktop/%D0%9C%D0%BE%D0%B9%20%D0%B4%D0%BD%D0%B5%D0%B2%D0%BD%D0%B8%D0%BA/Code_of_future/Code_Future_Python_Devops/HomeTasks/Module%201/1.5%20%D0%A1%D1%82%D1%80%D1%83%D0%BA%D1%82%D1%83%D1%80%D1%8B%20%D0%B4%D0%B0%D0%BD%D0%BD%D1%8B%D1%85/%D0%94%D0%BE%D0%BF%D0%BE%D0%BB%D0%BD%D0%B8%D1%82%D0%B5%D0%BB%D1%8C%D0%BD%D0%BE%D0%B5%20%D0%B7%D0%B0%D0%B4%D0%B0%D0%BD%D0%B8%D0%B5%20%D0%BF%D0%BE%20%D0%A2%D0%B5%D0%BC%D0%B5%205%20%28%D0%BF%D0%BE%20%D0%B6%D0%B5%D0%BB%D0%B0%D0%BD%D0%B8%D1%8E%29.ipynb#Y141sZmlsZQ%3D%3D?line=2'>3</a>\u001b[0m df\n",
      "File \u001b[1;32mc:\\Users\\admin\\AppData\\Local\\Programs\\Python\\Python311\\Lib\\site-packages\\pandas\\io\\parsers\\readers.py:948\u001b[0m, in \u001b[0;36mread_csv\u001b[1;34m(filepath_or_buffer, sep, delimiter, header, names, index_col, usecols, dtype, engine, converters, true_values, false_values, skipinitialspace, skiprows, skipfooter, nrows, na_values, keep_default_na, na_filter, verbose, skip_blank_lines, parse_dates, infer_datetime_format, keep_date_col, date_parser, date_format, dayfirst, cache_dates, iterator, chunksize, compression, thousands, decimal, lineterminator, quotechar, quoting, doublequote, escapechar, comment, encoding, encoding_errors, dialect, on_bad_lines, delim_whitespace, low_memory, memory_map, float_precision, storage_options, dtype_backend)\u001b[0m\n\u001b[0;32m    935\u001b[0m kwds_defaults \u001b[39m=\u001b[39m _refine_defaults_read(\n\u001b[0;32m    936\u001b[0m     dialect,\n\u001b[0;32m    937\u001b[0m     delimiter,\n\u001b[1;32m   (...)\u001b[0m\n\u001b[0;32m    944\u001b[0m     dtype_backend\u001b[39m=\u001b[39mdtype_backend,\n\u001b[0;32m    945\u001b[0m )\n\u001b[0;32m    946\u001b[0m kwds\u001b[39m.\u001b[39mupdate(kwds_defaults)\n\u001b[1;32m--> 948\u001b[0m \u001b[39mreturn\u001b[39;00m _read(filepath_or_buffer, kwds)\n",
      "File \u001b[1;32mc:\\Users\\admin\\AppData\\Local\\Programs\\Python\\Python311\\Lib\\site-packages\\pandas\\io\\parsers\\readers.py:611\u001b[0m, in \u001b[0;36m_read\u001b[1;34m(filepath_or_buffer, kwds)\u001b[0m\n\u001b[0;32m    608\u001b[0m _validate_names(kwds\u001b[39m.\u001b[39mget(\u001b[39m\"\u001b[39m\u001b[39mnames\u001b[39m\u001b[39m\"\u001b[39m, \u001b[39mNone\u001b[39;00m))\n\u001b[0;32m    610\u001b[0m \u001b[39m# Create the parser.\u001b[39;00m\n\u001b[1;32m--> 611\u001b[0m parser \u001b[39m=\u001b[39m TextFileReader(filepath_or_buffer, \u001b[39m*\u001b[39;49m\u001b[39m*\u001b[39;49mkwds)\n\u001b[0;32m    613\u001b[0m \u001b[39mif\u001b[39;00m chunksize \u001b[39mor\u001b[39;00m iterator:\n\u001b[0;32m    614\u001b[0m     \u001b[39mreturn\u001b[39;00m parser\n",
      "File \u001b[1;32mc:\\Users\\admin\\AppData\\Local\\Programs\\Python\\Python311\\Lib\\site-packages\\pandas\\io\\parsers\\readers.py:1448\u001b[0m, in \u001b[0;36mTextFileReader.__init__\u001b[1;34m(self, f, engine, **kwds)\u001b[0m\n\u001b[0;32m   1445\u001b[0m     \u001b[39mself\u001b[39m\u001b[39m.\u001b[39moptions[\u001b[39m\"\u001b[39m\u001b[39mhas_index_names\u001b[39m\u001b[39m\"\u001b[39m] \u001b[39m=\u001b[39m kwds[\u001b[39m\"\u001b[39m\u001b[39mhas_index_names\u001b[39m\u001b[39m\"\u001b[39m]\n\u001b[0;32m   1447\u001b[0m \u001b[39mself\u001b[39m\u001b[39m.\u001b[39mhandles: IOHandles \u001b[39m|\u001b[39m \u001b[39mNone\u001b[39;00m \u001b[39m=\u001b[39m \u001b[39mNone\u001b[39;00m\n\u001b[1;32m-> 1448\u001b[0m \u001b[39mself\u001b[39m\u001b[39m.\u001b[39m_engine \u001b[39m=\u001b[39m \u001b[39mself\u001b[39;49m\u001b[39m.\u001b[39;49m_make_engine(f, \u001b[39mself\u001b[39;49m\u001b[39m.\u001b[39;49mengine)\n",
      "File \u001b[1;32mc:\\Users\\admin\\AppData\\Local\\Programs\\Python\\Python311\\Lib\\site-packages\\pandas\\io\\parsers\\readers.py:1705\u001b[0m, in \u001b[0;36mTextFileReader._make_engine\u001b[1;34m(self, f, engine)\u001b[0m\n\u001b[0;32m   1703\u001b[0m     \u001b[39mif\u001b[39;00m \u001b[39m\"\u001b[39m\u001b[39mb\u001b[39m\u001b[39m\"\u001b[39m \u001b[39mnot\u001b[39;00m \u001b[39min\u001b[39;00m mode:\n\u001b[0;32m   1704\u001b[0m         mode \u001b[39m+\u001b[39m\u001b[39m=\u001b[39m \u001b[39m\"\u001b[39m\u001b[39mb\u001b[39m\u001b[39m\"\u001b[39m\n\u001b[1;32m-> 1705\u001b[0m \u001b[39mself\u001b[39m\u001b[39m.\u001b[39mhandles \u001b[39m=\u001b[39m get_handle(\n\u001b[0;32m   1706\u001b[0m     f,\n\u001b[0;32m   1707\u001b[0m     mode,\n\u001b[0;32m   1708\u001b[0m     encoding\u001b[39m=\u001b[39;49m\u001b[39mself\u001b[39;49m\u001b[39m.\u001b[39;49moptions\u001b[39m.\u001b[39;49mget(\u001b[39m\"\u001b[39;49m\u001b[39mencoding\u001b[39;49m\u001b[39m\"\u001b[39;49m, \u001b[39mNone\u001b[39;49;00m),\n\u001b[0;32m   1709\u001b[0m     compression\u001b[39m=\u001b[39;49m\u001b[39mself\u001b[39;49m\u001b[39m.\u001b[39;49moptions\u001b[39m.\u001b[39;49mget(\u001b[39m\"\u001b[39;49m\u001b[39mcompression\u001b[39;49m\u001b[39m\"\u001b[39;49m, \u001b[39mNone\u001b[39;49;00m),\n\u001b[0;32m   1710\u001b[0m     memory_map\u001b[39m=\u001b[39;49m\u001b[39mself\u001b[39;49m\u001b[39m.\u001b[39;49moptions\u001b[39m.\u001b[39;49mget(\u001b[39m\"\u001b[39;49m\u001b[39mmemory_map\u001b[39;49m\u001b[39m\"\u001b[39;49m, \u001b[39mFalse\u001b[39;49;00m),\n\u001b[0;32m   1711\u001b[0m     is_text\u001b[39m=\u001b[39;49mis_text,\n\u001b[0;32m   1712\u001b[0m     errors\u001b[39m=\u001b[39;49m\u001b[39mself\u001b[39;49m\u001b[39m.\u001b[39;49moptions\u001b[39m.\u001b[39;49mget(\u001b[39m\"\u001b[39;49m\u001b[39mencoding_errors\u001b[39;49m\u001b[39m\"\u001b[39;49m, \u001b[39m\"\u001b[39;49m\u001b[39mstrict\u001b[39;49m\u001b[39m\"\u001b[39;49m),\n\u001b[0;32m   1713\u001b[0m     storage_options\u001b[39m=\u001b[39;49m\u001b[39mself\u001b[39;49m\u001b[39m.\u001b[39;49moptions\u001b[39m.\u001b[39;49mget(\u001b[39m\"\u001b[39;49m\u001b[39mstorage_options\u001b[39;49m\u001b[39m\"\u001b[39;49m, \u001b[39mNone\u001b[39;49;00m),\n\u001b[0;32m   1714\u001b[0m )\n\u001b[0;32m   1715\u001b[0m \u001b[39massert\u001b[39;00m \u001b[39mself\u001b[39m\u001b[39m.\u001b[39mhandles \u001b[39mis\u001b[39;00m \u001b[39mnot\u001b[39;00m \u001b[39mNone\u001b[39;00m\n\u001b[0;32m   1716\u001b[0m f \u001b[39m=\u001b[39m \u001b[39mself\u001b[39m\u001b[39m.\u001b[39mhandles\u001b[39m.\u001b[39mhandle\n",
      "File \u001b[1;32mc:\\Users\\admin\\AppData\\Local\\Programs\\Python\\Python311\\Lib\\site-packages\\pandas\\io\\common.py:863\u001b[0m, in \u001b[0;36mget_handle\u001b[1;34m(path_or_buf, mode, encoding, compression, memory_map, is_text, errors, storage_options)\u001b[0m\n\u001b[0;32m    858\u001b[0m \u001b[39melif\u001b[39;00m \u001b[39misinstance\u001b[39m(handle, \u001b[39mstr\u001b[39m):\n\u001b[0;32m    859\u001b[0m     \u001b[39m# Check whether the filename is to be opened in binary mode.\u001b[39;00m\n\u001b[0;32m    860\u001b[0m     \u001b[39m# Binary mode does not support 'encoding' and 'newline'.\u001b[39;00m\n\u001b[0;32m    861\u001b[0m     \u001b[39mif\u001b[39;00m ioargs\u001b[39m.\u001b[39mencoding \u001b[39mand\u001b[39;00m \u001b[39m\"\u001b[39m\u001b[39mb\u001b[39m\u001b[39m\"\u001b[39m \u001b[39mnot\u001b[39;00m \u001b[39min\u001b[39;00m ioargs\u001b[39m.\u001b[39mmode:\n\u001b[0;32m    862\u001b[0m         \u001b[39m# Encoding\u001b[39;00m\n\u001b[1;32m--> 863\u001b[0m         handle \u001b[39m=\u001b[39m \u001b[39mopen\u001b[39;49m(\n\u001b[0;32m    864\u001b[0m             handle,\n\u001b[0;32m    865\u001b[0m             ioargs\u001b[39m.\u001b[39;49mmode,\n\u001b[0;32m    866\u001b[0m             encoding\u001b[39m=\u001b[39;49mioargs\u001b[39m.\u001b[39;49mencoding,\n\u001b[0;32m    867\u001b[0m             errors\u001b[39m=\u001b[39;49merrors,\n\u001b[0;32m    868\u001b[0m             newline\u001b[39m=\u001b[39;49m\u001b[39m\"\u001b[39;49m\u001b[39m\"\u001b[39;49m,\n\u001b[0;32m    869\u001b[0m         )\n\u001b[0;32m    870\u001b[0m     \u001b[39melse\u001b[39;00m:\n\u001b[0;32m    871\u001b[0m         \u001b[39m# Binary mode\u001b[39;00m\n\u001b[0;32m    872\u001b[0m         handle \u001b[39m=\u001b[39m \u001b[39mopen\u001b[39m(handle, ioargs\u001b[39m.\u001b[39mmode)\n",
      "\u001b[1;31mFileNotFoundError\u001b[0m: [Errno 2] No such file or directory: 'fileout.csv'"
     ]
    }
   ],
   "source": [
    "import pandas as pd\n",
    "df = pd.read_csv('fileout.csv', encoding='cp1251')\n",
    "df"
   ]
  },
  {
   "cell_type": "markdown",
   "id": "069ab322",
   "metadata": {},
   "source": [
    "#### Запись CSV файлов c помощью модуля Pandas"
   ]
  },
  {
   "cell_type": "markdown",
   "id": "527b0aa2",
   "metadata": {},
   "source": [
    "Чтобы сохранить данные с помощью библиотеки pandas в файл мы сначала должны представить их в виде датафрейма – 'DataFrame'."
   ]
  },
  {
   "cell_type": "code",
   "execution_count": 1,
   "id": "c03b3698",
   "metadata": {},
   "outputs": [
    {
     "name": "stdout",
     "output_type": "stream",
     "text": [
      "           name  age sex\n",
      "0   Petrov S.I.   12   m\n",
      "1  Ivanova P.S.   36   f\n",
      "              0   1  2\n",
      "0   Petrov S.I.  12  m\n",
      "1  Ivanova P.S.  36  f\n",
      "           name  age sex\n",
      "0   Petrov S.I.   12   m\n",
      "1  Ivanova P.S.   36   f\n",
      "\n",
      "              0   1  2\n",
      "0   Petrov S.I.  12  m\n",
      "1  Ivanova P.S.  36  f\n"
     ]
    }
   ],
   "source": [
    "import pandas as pd\n",
    "# словарь\n",
    "lines1 = [\n",
    "    {'name': 'Petrov S.I.', 'age': 12, 'sex': 'm'},\n",
    "    {'name': 'Ivanova P.S.', 'age': 36, 'sex': 'f'},\n",
    "]\n",
    "# список\n",
    "lines2 = [\n",
    "    ['Petrov S.I.', 12, 'm'],\n",
    "    ['Ivanova P.S.', 36, 'f'],\n",
    "]\n",
    "\n",
    "lines_df1 = pd.DataFrame(lines1)\n",
    "lines_df2 = pd.DataFrame(lines2)\n",
    "\n",
    "print(lines_df1)\n",
    "print(lines_df2)\n",
    "\n",
    "lines_df1.to_csv('example1.csv', index=False)\n",
    "lines_df2.to_csv('example2.csv', index=False)\n",
    "\n",
    "print(pd.read_csv('example1.csv'))\n",
    "print('')\n",
    "print(pd.read_csv('example2.csv'))\n"
   ]
  },
  {
   "cell_type": "markdown",
   "id": "bbba6c13",
   "metadata": {},
   "source": [
    "<div class=\"alert alert-block alert-info\">\n",
    "<b>\n",
    "Более подробную информацию по работе с форматом CSV в Pandas вы можете получить пройдя по ссылке:\n",
    "https://pandas.pydata.org/pandas-docs/stable/reference/api/pandas.read_csv.html\n",
    "</b>\n",
    "</div>"
   ]
  },
  {
   "cell_type": "markdown",
   "id": "06b1312e",
   "metadata": {},
   "source": [
    "© Ростелеком, Бочаров Михаил Иванович"
   ]
  }
 ],
 "metadata": {
  "kernelspec": {
   "display_name": "Python 3 (ipykernel)",
   "language": "python",
   "name": "python3"
  },
  "language_info": {
   "codemirror_mode": {
    "name": "ipython",
    "version": 3
   },
   "file_extension": ".py",
   "mimetype": "text/x-python",
   "name": "python",
   "nbconvert_exporter": "python",
   "pygments_lexer": "ipython3",
   "version": "3.11.6"
  }
 },
 "nbformat": 4,
 "nbformat_minor": 5
}
