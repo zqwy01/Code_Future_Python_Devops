{
  "cells": [
    {
      "cell_type": "markdown",
      "metadata": {
        "id": "MvZLgFKrjcFv"
      },
      "source": [
        "## Задание:\n",
        "\n"
      ]
    },
    {
      "cell_type": "markdown",
      "metadata": {
        "id": "62ya0ixNreYi"
      },
      "source": [
        "В гейм дизайне используются [кривые сложности](https://gdcuffs.com/difficulty-curve/) для создания более интересной игры и часто для получения интересной игроку последовательности используют числа Фибоначчи. \n",
        "\n",
        "Наше задание состоит в том чтобы написать функцию с циклом , которая возвращает количество убитых монстров первого уровня необходимое игроку для получения заданного уровня. \n",
        "\n",
        "Так как первые два числа равны 1, то при выводе необходимо будет добавить к числу Фибоначчи 1. \n",
        "И получим последовательность 1, 2, 3, 4, 6, 9, 13, 21, 34, 55. \n",
        "\n",
        "Для этого введём переменную которую будем использовать как поправку прибавляя к результату и при уровне героя больше 1 и меньше 7 она будет равняться 1, а в других случаях - 0.\n",
        "\n",
        "Пример вывода:\n",
        "\n",
        "Уровень игрока: 2\n",
        "\n",
        "Убитых монстров 1-го уровня: 2"
      ]
    },
    {
      "cell_type": "markdown",
      "metadata": {
        "id": "0F64xQJEsnsz"
      },
      "source": [
        "![image.png](data:image/png;base64,iVBORw0KGgoAAAANSUhEUgAAAZAAAAEsCAIAAABi1XKVAAAgAElEQVR4nO2deXwTVdeAbylQClSCgCyyBGRfAyKbaAdBeIVPCRTZpDT1fUGUVlJkFYVRVllTQdkUUkDZIQUE2WwKIoihTYFuQNu0hW60NGmhezvfHyPjOFmbZSYzOc/PPzo3s9yOzcOdO+ec60UQBAIAAOADdbjuAAAAgK2AsAAA4A0gLAAAeAMICwAA3gDCAgCAN4CwAADgDSAsAAB4AwgLAADeAMICAIA3gLAAAOANICwAAHgDCAsAAN4AwgIAgDeAsAAA4A0gLAAAeAMICwAA3gDCAgCAN4CwAADgDSAsAAB4AwgLAADeAMICAIA3gLAAAOANICwAAPgD4d6o1WqxWMz1TQIA4F+IxWKVSsW+ELwI915ItWPHjjqdjuteAADARCQSFRYWsnxRdxeWl5cX110AAMA07NujLsvXsxs3FyvgtsTFxWEYptfrJRKJUqns168f1z3iPRwOI3gjLACwA7qt1Gp1kyZNuO4R4BDwlhAQLBERERKJBGwlJEBYgDCJiIiQyWQIIalUCrYSDCAsQIBQtpLJZCdPngRbCQYQFiA0goODKVvt3buX6+4AzgSEBQiK4OBgpVKJEMJxHGwlPOAtISAcKFsplcqgoCCuuwM4HxAWIAQMBgOGYVqtFoGtBA08EgK8h7KVSCRSqVRgKwEDIyyA39BtpVarIZBd2MAIC+AxcXFxYrEYbOU5gLAAvsJIuwFbeQLwSAjwEkgS9ExghAXwD0gS9FhghAXwDHqSoFKpBFuxTHh4HkI7EUIIqdm/Om8K+Ll5PwF2oCcJQiA7y0REFOB4lk5X8byhmCAwlvsAIyyAN1CB7GArljEYqmUynUql/3ezH/s9gTksgB9AkiBXxMWVSiQJRrZCCO1ivzPwSAjwAEgS5IrISL1UmmLUrEZoE0LZ7H8rYYQFuDUGg2HEiBFgK04ID89j2Eok8lYqxQgtQCibky7BCAtwX+hpNwqFAmzFJuHheXJ5Jr1FIvFVqTp36FCfw28lTLoDbgokCXKIsa1ksmZ793K/pDE8EgLuSFxcnEQiAVtxQkREgXvaCoGwADeETLvR6XRisRhsxTLh4Xky2b/WWpfLX3ITWyGYwwLcDUgS5JCIiAJjW23Z0o6xG4ffShhhAW5EREQE2IorjG0lkzUzthW3gLAAd4FMu9Hr9RiGga1YxuTYyn2eBClAWIBbQE8SjIqKAluxSWSk3v3HViQgLIB7wsLCIKWZK9LTK4xt5YZjKxIQFsAxwcHBCoUCISSXy8FWLGMwVEulD/T6aqrFnW2FIHAU4BZIEuQQg6Eaw5K12lKqBcfbrFjRmsMuWQXCGgBuMBgMUqlUrVYjsBUXGNvK9rEVh99KEBbAAZAkyCEGQ7VSWaBQ5NJK8SGJxDc2tqeNZ4BcQsCDgCRBTiA9pVLp1epixkcSia9a3Y2TXtUWEBbAKnFxcVKpVKfTga1YIDr6qVZb8vy/UpP7kLZq0sSb5b7ZBwgLYA8q7UYsFqtUKrCVE4mLK9Xrq8nRk1ZbotOVmzMUHZmsmULRji+2QiAsgDUgSdARoqOf6nTl5KwT9YNeX2WLlYwRi+vL5S1lsmY8UhUJCAtgg4iICLlcDrayEVse5exAJPKWyZphmB+G+fFOVSQgLMDlUGk3GIapVCqwlUkiIgrU6mLnGgohhGF+EomvRNIQw/w6dKjvxDNzAggLcC2wkqBlIiIKlMoC4zd3tUUk8pZIGiKEMMwPIURKSgCGYgDC8gguXbo0atQo8ueHDx+2bduWneuGhYWRaTdgK2OMCyRYgNKQSFSXchPZwtOHOzsh3Bu+9NOdiYiIEIlEW7duJQhCq9UOGzbs+vXrLFyXHFghhORyOQuX4xEqVaFYfBshjbn/JJJ4mSwNx7PU6mKdrpzr/jLh8FsJIywBQhAEFYuMEOrdu3fbtm1DQ0NramoiIyPlcvmQIUNc3QdIEjRJenqFXJ5palFSRM6FY5ifv39j9jvGG9h3ZK3gSz/dirFjx65bt47ecvfu3d69eyOE1q9f7+qr6/V6qVRK/l9TKpWuvhyPUChyRaJY4/GUUpnPdddqB4ffShhhCY2PP/747NmzZ8+erV+/flhYGNlIEETr1q2LiooWLVpUr149uVzuoqtTaTcIxlY0jDONSWSyZjjeRnhT464D6mEJijVr1rRr1+7IkSN9+vSZP3/+li1byPZDhw59+OGHR48efeWVV6iJcKdDTxLUarVgK5Lo6Kdi8R2GrTDMT6frs3evGGxVO9gf1NUKvvTT3YiJienbty9CaPPmzfT2P//8s3v37gihLVu2UI2xsbGOX1Gr1UokEoQQaSvHTygMcDyL8QAoEsWqVIVc98shOPxWursIQFh2Y9VZmzZtIgjiyZMno0ePvnfvniPXIkdVYCsGMlkaw1YyWZpeX8V1vxwFhGUWEJYjWHDWK6+8ghAaO3asRCKZP3++I1ehbCWRSPR6vWNdFgh6fRXDViJRLO8m180BwjILCMtBLDhrwIABCKHg4GBHzq9SqcBWDPT6KgxLZsRVabUlXPfLaYCwzALCsoMrV67QN805iyCI+Ph4Ry5ERlqBrRhIJPEMWwngMZAOCMssIKzacuXKlVatWoWHh9MbLTjLbihbyWQyZ51TADDGVlLpA4HZigBhWQCEVSsSExOHDx9O3jGTzqpfv/7ixYs/+eSTPXv2OHIhHMfBVsYw5q1ksjSue+QSQFhmAWHVis8++ywhIeHGjRtdu3Y1dtadO3d69Ojh7e29dOlSR65CJQmCregwIhik0gdc98hVgLDMAsKyEZ1OR9+8fv26SWcFBgbiOO7IhShbQdoNHZWqkDFvxXWPXAgIyywgLFtQq9V9+vSJioqiNxo7KzY2NjQ01O6rQJKgObTaEnqSoPBm2RmAsMwCwrJKUlJSly5dEELt27c3dla3bt0QQkuWLHnnnXfOnz9v91XI6sZgK2P0+iq6rUSiWDcsCONcQFhmAWFZZdmyZVFRUTt27DDprMjISLJOw+7du+2+BGUrCGQ3hvFakO9pN7YAwjILCMsChYWF9DTAnTt3Gjvr6NGjR48eXb58ud1XgSRBC8jlGXRb4XgW1z1iAxCWWUBY5li1atWwYcMQQm+88UZKSgrZaOysUaNGORLSCUmCFlAq8z3ktSADDr+VUF6Gl6xbt87Hx+fcuXNDhw69evWqSqUi22fPnr1z586MjIzx48eHhIS8/fbb7du3t3uVGvpKgjqdDtY9pRMXV0qvyC4W11cqxRz2x1Ng35G1gi/9dBFlZWXGjcXFxcOHDyd/vnnzJll0gc7PP//cv3//evXqzZw5s7i42L5LQ5KgBfT6Kkb+jZBSBa3C4bfS3UXgycLatWuXWCxetmwZo12tVvfo0cPkIQkJCdTPeXl5dl8akgQtw4hoVyhyue4Rq3D4rYRHQjflr7/+SkhI0Ol0Z8+eZXxUVVWVmJgYGRlpfNTBgwdjYmLIn1u0aGHfpekrCcbGxsK6pwwiI/VKZQG1iWF+8+a9xGF/PAoQltvx7NmzCRMmDBo0qH79+kuXLl25ciVjh169er3wwgtr1qzJyclhfNSoUaOKigpHrh4eHg7rnlrAYKimT12JRN4q1Ssc9sfTAGG5HStXrvT19R01atSbb765Zs2acePGIYT2799PvgFECLVq1SooKOjmzZuzZs3KysqiH3vr1i2yMp99BAcHk+tTgK3MIZPp9PpqalOl6uxZ65hyDvtPobWCL/10IjNnznzy5Am95dKlSx07dvTz89u/fz/Z8vjx4xEjRiCE+vbtu3v37vv372u12jlz5jiyZCmVJKhQKBz6BYQLI45BLs/gukfcwOG30t1F4IHCwjDs2LFj1Obdu3f/85//fPLJJy+++KKPj8/BgwfJ9qysrA8++ID+b49MJquoqLDjinq9HlKaraLTldNTcMTi28JOGLQACMssHiIsg8GwbNkyMkv5/fffb9iw4c2bNwmCiIqKwnE8Pz+fIIgzZ840b96c7iyCIC5evPj1119/+eWXp06dsu/SkCRoI1LpA/rwSq22M15EAICwzOIhwiKrIHTr1o0giCtXrjRu3FgsFv/8888zZsygj7ZMOssR6EmCarXaKecUJPAwSAeEZRZPENaxY8e++eab/fv3X7t2jWz59ttvEUItWrTYu3cvY2eGs86ePWv3dXU6HSQJ2gKjHoMnPwyScPithLeE3JOamtq8efMZM2aQuYEIoQEDBnz88cePHz9euXJlbGwsfedx48YplcomTZr873//Gz169K+//mrfRePi4iQSCZkqqFarIe3GAnJ5Jv3NoFLZEd4Mcgb7jqwVfOmnI2zevLlp06ZJSUnk5o0bN4KCgi5evLh9+3aEUO/evTUaDeOQo0ePNm3adN26dfZdkb6SIKNUKcBArS72zAxnC3D4rXR3EXiCsFJSUkQiUb9+/fLy8v7888+JEyeqVCryoy1btph01qeffrp48WL7LqdWqyFJ0HboOYMiUayHPwySgLDM4gnCIghi7dq1CKEBAwb897///e233+gfmXTWuXPn7LsQJAnWCoUilz68EszSzQ4CwjKLIIW1e/fu4ODg+/fv0xsXLVqEEOrbty8japR47qxXXnnljz/+WLhwod1rC9JXEgRbWYUx145hyVz3yF0AYZlFkMIi1zSlR6VfuXLl448//vTTTxFCo0ePzspiFq4k3xv6+fl99tln9l1UoVBQtrK/654EI/DKowrIWAaEZRZBCmvNmjWvvvrqyZMnqZbdu3eTkZ8LFy4knZWdnc046p133lmzZo19V4SVBGsLY67dQ2of2wgIyyyCFBYd49kok846ePDg3Llz7bsEJAnagVh8GwKvTEJNLICwTCAMYdXU1IwdO5ZKXab47bffRCLRhx9+yGinnEXWCz1w4IB914UkQftgzLV7chYOHbVaTWVxgbBMIwxhzZo1CyHk7e1Nd9aff/45evTo9u3bI4Rmz57NOIR0Vu/evT/44IOQkBA7LgpJgvbBmGuXydK47hH3qNVqDMOQEez3xN1FIABhLVy48IsvvtiwYUPLli3pzjp+/HhSUlJBQcHkyZNNOmvevHkIoa+//tqOi0KSoN3QV+7yhFVRLaPVaumqwjBMq9WCsMwiAGFRUaCnTp1q1aoVY5xFEERJSYlJZ8nl8qVLl9pxRUgStBuYa6fQ6XTUfAKpKupfPhCWWQQgLDqnTp3q1KmTjc6yb44cVhK0G0hyJmGoSiKRMAbpICyzCExYhw8fDg4ONp7PImjOmjRpUlBQ0IYNG+w4PyQJOgJj5S4PnGvX6/U4jpN/QgghsVhscvYThGUWIQnryy+/nDhx4vnz5xUKhclnw8rKygkTJiCE7FtZHpIEHQHDkj254pWNqiIBYZlFMMI6fPjwmDFjqE1z81mhoaFffPGFHeeHJEG7MV4VVSKJ57pTrKJQKChViUQiHMct/wmBsMwiGGHNmjVr27Zt9BZjZ1VVVc2fP9+Ok0OSoN1otSX0GFHSVp4zdaVUKsVise2qIgFhmUUwwurTp09YWBijkXLW6tWrp02bFhkZaceZ6bZyRk89CBzPoquKnGj3kDgGlUpFqQohJJfLbf+nDoRlFsEI69133+3QoUNGBnNm5NSpU+QvuGvXLjtOC0mC9qFU5jMGVp4ztmJEgcpkstq+nwFhmUUwwtqwYQNCKDAwkNH+559/Ll261L54K8pWOI47o4/CR6crl8szjFVFRrQL3lYMVUmlUvteJYOwzCIYYRUUFPTu3RshNGvWLIPBQLXPmTPn999/t+OEkCRoI3p9lVpdjONZjJl1eji7SlXIdTddi06nI1dmIqFHgdoBh99KL/rl3RAvLy/yBzfvpy1cvXo1KCgoLS1NIpEEBAS0bt36jz/+KC4uPnLkSK3OYzAYqAwJpVIZFBTkmv6yR3T0U52uXKerUKuL6e2MTQYSia9IVBfD/Ex+qtOVq9XFOl2F5UvL5S/heBsBLyqRnp6O4zg10YlhGI7j/v7+jpyTw28lCItV7t+/v2nTphMnTjx+/PjFF18MCAhYt27diy++aPsZKFuJRCKlUjl+/HjX9dZ1GAzVKpWeFIplK7kIkchbJmsml7fs0KE++1dnB4PBgOM4VbhRLBYrFAqn/MGAsMwiMGGRFBcXP3z4sHnz5i1atKjVgXRb8XFtLoOhWq0uVioL1Opi+sJZbIJhfjJZM6lUJOBRlcFgUCgUCoVCr9cjhMRiMY7jThyJC19YBoOBnHMh19Sz/UB+CevChQtKpVKn073wwgsjR46cO3duw4YNnXXyuLg4DMP0ej0fbRUd/VSpzFcqCzi5ukTii2F+5H8C9hQyUhUZWkWW/XAiAhcWfc6FTKS03Vk8EhaO43l5ea+99lpKSsrWrVuLioqGDh26e/fuXr16OX5yylYSiUSpVPLFVgZDtUKRp1TmW55LEovri8U+GOZH/kC1+/s3tnBmrbZUr6/SakvN7SOR+EokDQX80McgIiICx3GdTocQEolEcrlcLpfXanxgI1x+K109q08vI0dSq9wR1vrpIGfOnJk3bx61mZycTGYFDh8+nKwa6gj0lGa+BLLrdOUyWZrJt3LUuzmZLE2lKoTFHRzHvoB1u+HwW+naS9LLyFF3s1ZfPL4IKyAg4PTp0/SW8vLy999/HyG0cuVKR87MuyRBtbqYsd6McTQ5jmeBp5wCo2yxHVGgdiBMYdFtRVUprO1ggS/C6tWr186dOxmNjx496tChw4ABA+w+LWUrqVTq/rbS6cotqEokipXLMwQf8cQajges240AhcWwFfH8lyRq+YDDF2H17dt3yJAhxu3h4eFt2rQpLS2145w8ShLU66volYWNU15qu2ZyTAyMv8xismwxmx0QmrCMbUXQhEXUxll8EdaCBQsQQgsXLmS037x5s2vXrnackEdJgkplPr1QJyPfxY4yeHPnZnTvfreoqJrcrBJ4wkwtsFC2mE0EJSyTtiL+LSzCZme5rbDKysquXbt25cqVvLw8giDu3btHrn+zZMkS+m5HjhyxI0+QL0mCOl05o+4d9fSH41l2lz3YuDEHIc2qVdkEQWzalDtpUopTe81LrJYtZhPhCMucrQgjYRG2Ocs9hbVly5bBgwe3atUKIdSiRYvPP/+8pqYmMjKSDAQdNWrUyZMnMzMzz5w5M3369KdPn9bq5HxJEjSuzUKpysEs4upqYujQJIQ0b799LzhYl5tb6aw+85Fa1QJlB+EIi3y0Nrn8gcnfkHIWhmGm++d+wsJxfM2aNcXFxfn5+d99912bNm0QQpMnT66pqbl58+b06dMRQj4+Pp06dQoNDc3Pr8XcDV9WEtTpyk0mEjuuKhKN5tn776cgpJk506PXBHRDVZEIR1hisdjcYi3mfkPSWSKRyHT/3ExY8fHxI0aMoLfExMQMHjwYIfT555+TLQUFBUlJSUVFRbU6M31wSq0M5oaYnLHCsGQnhilMmpRy+PCT8eMfIKSJjHT3d6MuorZli9lEOMKydCW7fkN3E9bGjRsDAgIYjbdv337llVeaNGliXJ/PRiw8SrsPen2VcdSCs2qzXLlSLJdnjhp1b/XqbLIlKqqYVKHjJ+cXLEeB2gEIy8pR7iOs5cuXd+vWrbKSOauyb98+hNDRo0ftOCcvVhI0rn1O2sQpBYUVitzQ0AyttuQ//7mPkGbt2r+dFRKSgZBm69Y8xy/BCxwpW8wmICwrR3Fya3bv3p2enk7+HBMTQz7i/fDDDwih1atXG+/fu3dvxhI4tkB/8+C2tlKpChmPgSJRbG1Dq8xx7drTIUOSyJ+//z4PIc3cuX8PVFNTy1u3jmvYMCYrq8Ip13JbOIwCtQMQlpWj2L81KpWqYcOGGIbl5OSQcXqnTp0iCCIrK6tt27YIob179zIOefvttzUaTa2uwoskQaUy3zi3xuqMVVFR9cGDT5KTy6yePywsc+LEfwIXYmP/deYNG3IQ0sjlmeTm5s25eXmCemnorLLFbALCsnIUJ7cGx3GEEIZhb7311smTJ6n2Xbt2kV1at24d1RgdHT1nzpxanV+pVLq/rYzj16XSB1ZfBZ4+rff3T7ZxBmrixJSBAxPNfVpZSQwZkoSQZurUVH//5EWLHtb6d3BXnFu2mE1AWFaO4moOi3TWkCFDGP/obd261c/Pj/zo888/X7p06YwZM548eWL7mekla93WVsblFhSKXFsO/PTTjIsXi+TyzN27H9PbHz+uXLz44ZAhSX37JqxYkUWGsAcFpSGkiYpiBsRrtSWHDj0hCOLChaJXXrnTpctdMpRUALhJwLrdgLCsHMXJrYmJiRk5cuSyZcsQQsOHD2c4686dOytWrAgICJg2bdqPP/5YqzPzIkmQYSvb3wbeuPF05Mh7xu3JyWXTpqVeuFCUkFD6yScZ5KCJIIjvvstDSDNlSipj/xMnCqnp9poax34Zt0Gv18vlcuqvWiwWu3MIizlAWFaO4uTW/PXXX+Qf0+LFi8l/Bp0yuUD9vfLLVraHWV26VISQ5tatZ4z2qVNTDx/+ZxA6aVIKQpp163L0+qreveMR0mza9K/hW3CwjjGfxWvcNgrUDkBYVo7i6pGQwthZSUlJv/32W23PQz0IyOVyZ/fRaThiK4IgkpPLGjSImTz57xHThQtFBEHk51e1ahVH1WDQaJ7NnJm2YMHDR48qCII4caKQvNb8+ZkazbO4uJKFCx+GhtoZ1OZuMFQlEokUCgXXnXIIEJaVozgXFvHcWcOGDbt161ZKSsrYsWOjo6NrdQZeJAk6aCuS//u/B3Xr3tqzJ/+TTzImTkwpK6tJTi6rV+/Wvn0Fjx9XLlnyMCgo7fff/5VieexYYb9+CeRF/fxiw8Iynfc7cYn7R4HaAQjLylHuICziubMQQo0bN549e7btB+r1eurVtTvbihHBYEv4gkkOHnyCkKZTpzsq1d9fTr2+qlGj2NGj702enLp3778CuL79Nu/IkScEQVRXE5cvF505o09Pd0IwKucIUlUkICwrR7mJsAiCWL16dc+ePenl261CT7txZ1tptSX06FCRKNa+TObvv88LCkqbPDkVIc3+/QVUO9mya9djxv5LljxkjLb4Didli9kEhGXlKPcRVm3hRZIgQRB6fRXDVnaMrZYufeTvn7x2bXZ6enliYmnTptp+/RKKi/+uw0dOxterd+vixX/SwlNSykePNvFKkafwK2DdbkBYVo7iqbC0Wi35UODmtiIIglGHr7b5zM+eVX//fd6CBQ8R0lDT7V9/nYWQ5uuvs6jdNm3KRUgjEmlXrsw+c0avUOR263b32DEhVHnnvGwxm4CwrBzFR2FRaTdisdjN/3YVilxGWSvbj83NrZw7NyMsLPPDD3WpqeXTp/8zRVVcXN2vX0LTptr4+H9K2u/fXzB0aFLjxrEikXbSpJTLl2tXhMcN4XsUqB2AsKwcxTth8SJJkESnK2dk3th+7MGDT0aM+HtoZjIMnZzF/9//mI9FWVkVhYW8L9XuVmWL2QSEZeUofgmLF0mCFPTaoWLx7VpNtKeklBPPo6gmTDBdef3ddx8gpLlypZggCOP8G54ipChQOwBhWTmKR8LiRZIgBeNh0OoKN9XVxKZNudOmpU6blnrw4D9h68HBOsY7QYpr154ipPHxiXnnnfuLF/M+ddnDVUUCwrJyFF+ExYskQQrGm0GrU1dpaeUzZqTt31+gUunJJ8EVK/4+5PbtkhdeiO3fP+HZs2rGUamp5UOHJi1a9PDxY96XhXHnssVsAsKychQvhMWLJEE69KB2Wx4G338/haqwnplZQQamUy0rVmSZnMkKC8u0Y2lCd0PAUaB2AMKycpT7C4sXSYJ0GHPtVuMYUlPLmzfXPnz4d+XP9PTysLDM4GAdleRsMFT37h1fv35MYmIpQRBJSdZL9/ECvpQtZhMQlpWj3FxYvEgSZEAfXtlSZu/335/6+MRERxcTBLFxY860aanG8VN79uQjpHn99aQpU1K/+OKRS/rNIh4SBWoHICwrR7mtsPiSJMiAMbwyXkjiwoWir7/OwvGsX34xkC0JCaUIaebNy3z//ZQNG3LoO69bl0Pm1iQklL74ojYsLDMjg98l2PlYtphNQFhWjnJPYfElSdAY+vBKJmMuVorjWW++mUwWJiYj17OzKwmCeO21RIQ0584ZGPvPm5d5504pQRAzZzJrMPAO/pYtZhMQlpWj3FBYfEkSNEavrzI3vNq+/fGdO6VBQWkFBVUEQWi1JWPH3kdI89Zb9wiC2LnzMUKaoUOT6AOorKwKk/VFeYcHBqzbDQjLylHuJiweJQkaQ4+9ouLa09PLQ0MzyPVpcnL+iT/IyakcNCgRPV8ccPbsdIQ0Q4YkHT1amJhYevjwk6FDk8jK6/xFGGWL2QSEZeUotxIWj5IEjdHpyumxV2TAQWlpTUhIxoIFD728bvXoEc9YR0ul0iOk6dEjntxctuxR06ZahDRNmsSOGJFMlrLiKRAFah8gLCtHuY+weJQkaBL68EokimV8unJlNkKapUuZL/hGjrzXrJmWyv7Lyam8erXYvtp+boLwyhazCQjLylFuIiyVSsVrWxEEQV9u3jjPuaqKePXVxAYNYjSafy0h8eWXj3x9Y5484X26MglEgToIh9/KOgiwjYiICKlUSs61q9XqJk2acN2jWhMd/VSnq6A2pVIRYwdvb7RoUcuyspotW/Lo7c2a1R08uFHTpt5s9NKVREREdOzYkYyoIlWl0+lWrFjBx/+bHgprarTvcuz30yT8ShI0h1T6wMLzIAVZy5jKuSEIYtasdJOJzTxC8GWL2YTDbyUIyzrk+s98txUjWFQuN7uI1vXrT194IbZXr/gNG3JOn9Z/8knG5s02LfjsnkDAutMBYVk5ikNhUbE5vLYV8e/hlcnodjrz5mUipJk2LXXr1jz+rmbqUWWL2QSEZeUoroTFxyRBk2i1JXRbGUe3M8jKqguzYdAAAB2fSURBVOjY8U6HDneobGd+AVGgLgWEZeUo9m+NXq+nUjT4bivCaI0Jy8Mrkq1b8xDS8G5BU48tW8wmHiEssVgsEolqexQnt4ZKuxGGrVSqwloNryhIzX3/fV5YWOb27cz1BN0NiAJlDY8Qln2wf2v4myRoEkZoe62WR923rwAhzZgx95XKfOt7cweoimVAWGZh+dZotVoh2YowmmtXKGx933f7dolU+mD9+hzru3IKlC1mHxCWWdi8NVTajWBsxVhjwpZCfRT5+VW5uW5dhR0C1rkChGUW1m4N35MEjWFMXYlEsbbMtfMCKFvMLSAss7BzawSQJMhAqy2hT10hpHHzeSgbgShQdwCEZRYWbg2VdiNgW9n+ZtBtgbLF7gMIyyyuvjXCSBKkY2yrWq0+74ZA2WJ3A4RlFpfeGmEkCdJRKvMZtpJI4mu1+rxbAQHr7gkIyyyuuzWCSRIk0eur5PIMuqp4bSsoW+zOgLDM4qJbI5gkQRKFIpdemY+at+KjrSAK1P0RuLD27Nlj97FOvzUCSxJUq4uNVYWQBsezuO5arYGyxXxB4MJ67733zp07Z9+xzr01QkoSVKuLGSnNVLyV1XXn3RCnR4Fu2bIlMDDQWd0D6HAoLC/65V3Ee++9hxBq3rz51KlTR48eXatjvby8yB8c76fBYCArIolEIrVa3a9fPwdPyD4GQ7VaXaxS6dXqYnqxYwqZrJlC0a5JEz7VMo6IiCBLFSOERCKRXC6Xy+WO1Cw+fvz4/v37b926debMGT7+X3Z/nPitrC11WbjG06dPz5w58/Dhw5MnTx47dqxly5Zz585t1aoVC5emSE9Pl0qlnNsqLq5UpyvXaksRQlptiV5fTbbr9VUiUV0M8zN3oE5XrtWWkAeaRC5/Ccfb8EtV0dHRcrlcq9WSmzKZDMfxDh06OHjal19+WaFQrFixolmzZg73EXAv2BhhJSUlde/endo8cuTIyZMn27RpM2XKlEGDBlk+1ikuj4uLwzBMr9dzYqv09ApyTKTVlpgcFjmIROKrULT392/s9DO7jujoaBzH1Wo1uem4qqqqqpYsWeLn57dixQqyZeXKlWPGjLH6BwbYAYcjLDaEZYxKpVqzZs1ff/01YcKEGTNmTJw40dyejt8aylYSiUSlUjn+D7iNREbqVSq95WGRI4hE3jJZM5mseb9+vq44v4uIi4uTy+WUqjAMUygUDv4TsnPnzr1791ZUVPz00089evQgG3/++ecGDRpY+NMC7Ebgj4Tbtm0LCQlBCF2/fv3w4cOHDh3Kzc2tV6/enDlzJk2adPv27cDAwMDAwNpOb9lCdHQ0y2tzkZ5SqfTU455zkUh8pdKmGObHryEVQig9PR3HcSq1AMMwHMf9/f3tPmFJSckff/xRXV2dlJTUpk2bkydPTp8+fePGjSNHjkQItWjRIjEx0TldB9wGNkZYUqkUw7ALFy6cO3cOITR06NDJkydPnjy5TZs25A6FhYXLly/v2rVraGgos38OuDwiIoKMt2LBVgZDNY5nqVR6yw99IpG3RNKQnKuSSHxFon/+wdDpyi0cSx4okfjya5aKhKEqiUSiUCgcURVC6MKFC3fu3ImMjLx06VL9+vURQhs2bFi8eHGDBg3Wr18fEhJSXl7+0UcfURcFnAiHIyw2XkyOGzcOIdSwYcPAwMAzZ86Y3OfkyZPDhw/PzGRWELe7n/QkQZemNKtUhYwieSZDDWSyNJWqUDAFXmzEFVGgOTk5Mpnsq6++2r59u1QqXbFiBfXRL7/80qtXL4TQnDlznj179sknnzh4LcAkbNqDeWkWrvHuu+8uXLgwMTHR3A45OTmNGjVCCCUnMyvM2XdrFAoFZSt7emwbSmW+RBJvwVMYlqxQ5HqapEhcF7AeGBh4/vx5anPnzp30T9PS0iZNmoQQGjduXEhIiFOuCDAQuLDGjx9fU1Nj8iOqfebMmUuXLjXewY5b4+okQb2+SqHIZeQYM6ojKJX5fEyLcRauK1tsMBjatWuXmppqebcvvvjCy8urTZs2FRW8XKbMzRG4sKZMmRIXF2fcHhMTI5fLLR9b21tD2coVWR1kgrE5VYGnCNeXLa6pqencufO4ceN+/PHH1atXT5s2bdCgQYMHD16+fDljzwMHDrRq1SotjfeFwNwQgQtr4sSJt2/fNm5PSUl5++23LR9r+63R6/WuS2nW6cpxPMvc/JTHPvfRcUXZYo1GExIS0rt3748++igvL49sDA8Pp0/CNmrUqHnz5gihTZs2MQ7fsmXLjRs3HOwDYAyHwnJhWENhYaGXl5eXl5e3tzdCKD8/n/5paWnp8ePH7927V1xc7OdnNsLbRqi0G4SQUqkMCgpy8IS0M1crFHkKRa5xmIJE4iuXtwwK8vRwaqdHgZJs27YtNTV17Nix3t7e4eHhhYWFhw8fRgh9+umnAwYMuHPnjp+fX8+ePXv27Ont7R0WFvbLL7/Mnz+ffgaCINLS0gYPHuxgTwA3wnUuDAgIML5cgwYNGjRoQG0OGDDA8kls6Sd9JUHnFngzrodHzabzMcHY6biubLFaraZPmQcGBiKE9u/fb27/qKiocePGMRp379599uxZp/QHoMOCPczhwhFWq1atpk+fXq9evYSEhM6dO5eVlTF2ePHFF8k/REdwUZJgdPRTmSzNODAKw/xwvA3vgjadTnp6ulwuV6lU5KbjUaAMIiMjt23bNmLECDJUfcSIEQcOHFi9evXUqVPr1q1bUlIye/bstWvXtmvXjtz/7Nmz9GG1SqXy8fG5d+8eVZwDEAgsSFEqlVqIabCM5X66YiVBk6U7yeqdanWxUy7Ba1xUtriysjI1NbW6uprcXLt2LUJo27ZtBEFcuHDho48++vLLLxFCmzdvJnf47rvvunTpMnfu3NWrV8+cOXPLli3UqR4+fEj2bcqUKY53DDCGTXswL83CNTZu3BgfH2/fsRZuDX0lQWc9iahUhcbPgCJRrDDWyHIQF5Utrqqqmj9//ptvvtmmTZsuXbp89913ZDv5Zjk2NnbMmDEEQTx+/LhLly4tWrR4+PAhucObb74ZHh5+8uTJ/Hzm/53ly5eHhISYfDcNOI7AhWWBadOmWd7B3K1Rq9XOXUnQ3MCKj6U7nY5LyxYHBgYeP36cIIi4uLghQ4YghHbt2kV92qNHj19++YX8+dtvv0UIzZkz5+jRo6tWrbpy5UpZWZmzugHYDofCcv4c1r179w4fPly3bl365LpJsrOzc3Nz7biE05ME4+JKZbI0RlkFDPNTKNrxqxaC0zEYDAqFQqFQ6PV69Dy0at68ec46/08//VRYWEhOVPXt23fjxo1vvPHGtm3bxo8f/9JLL23fvj0xMbFr167kzm3btp02bdqOHTtSUlK+//77zp07O6sbAG9wugJv3rxp+9WHDRtm+WzG/XR6kqDxq0AytMrxM/MdV0eBEgQxe/bsWbNmkT/HxcXJZLKQkBAq2nP16tUIoW+++YYgiMePH0+dOpUgCJMxfQCbuM4eVnH+CMvPz69///6zZ89++eWXLe9ZXFwcERFRq5OHh4eT0ygymWzv3r329/I5YWGZCkUevUUi8VWpOnfoUN/xk/MXp5ctNkdxcXFycnJmZuYPP/yQlpYmk8neeust6tPRo0evWrVq8eLFarU6NTV11apVCKE+ffo4vRsAb3C6AlNTU0NDQ23ceebMmZZ3oPfT6UmCxlUW5PIMp5yZv6jVanoogEwmc+mK8F999RVCaNq0aYwc5rKyMnI8dezYsYCAAJlMFh0d7bpuALXCdfawfmlXnPTChQs27nnz5k3LO9C/OeQPTkkS1OurGLaCV4GMKFBXq4rk+vXrCKH27dtnZf3r5cbt27c//PBDV18dsA+hCctGHj9+/M4771jehzEedMrLKb2+ilEWRiy+rdWWOH5mnqLVaumqIpOcnHLmrKys3bt3r1ixYseOHeb0R07hjx8/Pjs7m2x59uwZo4YM4FZwKCw2SiQHBgYWFxfX1NSQlSFJKioqMjMzqTfltuCUJEGDoRrDkukvBCUSX7W6Gx8reTqO08sW01EoFHFxcQMHDszLy1u3bl2TJk1WrVo1a9Ysxm4bN27Mzc09dOiQRqP54IMPvLy8zp8/P2nSJFeUzAZ4DwtSHDZsGEKo/r+pV69ekyZNXn/9dcvHUv10VpIg40lQIon3zIIwjIB1MkDEieePiIigB9lFRkaSNRqPHTtmcv9vv/121KhRPXv2lMlkdi+7C7ADm/ZgXpqFa0yZMuX8+fO5/yY7OzskJCQ2NtZK/5x6axglYjzTVi6NAqV49dVXDxw4QG/Zvn07QmjQoEFOvxbAMgIX1n//+9+qKhNeuH37dkBAgOVjnXhrlMp8D7cVO6oiCOLevXsIoT179jDax44dixAyV9cf4AscCquOMx4rrfDDDz+QJbEY9OnT58mTJ0+fPmWhD3FxpXJ5JrUpEnmrVJ09at4qPDxcLBaTwZ9kFKhWq3VW4bDc3NyMjAxqs7KyEiF09epVxm5kcY67d+865aKAJ8K+IykOHDjQokWLnJwcC/s4q5+M14IeVXfBpQHrJ0+eDAwMxDCsWbNmPXr0CA8PJwiisrKyY8eOvr6+jKj0nJwchNCqVaucdXWAEzi0BxuXxDDsVSPI5ZgwDLPSP2fcGsbUleek3biibDGdXbt2ffTRR0+ePCEIIjo6umfPngihRYsWEQSxePFihNCMGTPo+5eVlbVv3/706dNO7APAPgIXlr+/v5eXV6dOnbrS6NWrV3Bw8J07d6z0z+Fbo9dX0VMFMYy5kpggcW4U6NWrV0tLSxmNqampYrGYvoBNTExM27ZtEULHjh3Lycnp378/QgjHcWqH06dPv/fee3Z3A3ATBC6sDz744OrVq/Yd6/itoQ+vRKJYwU+0O71s8Y4dO7y9vdeuXUtuUuGdO3bsePnllysrK+k779q1CyFEViv+66+/3njjDYTQ5MmTDxw4sGHDhqCgIKqaFcBfBC4sqkokHctTVxQO3hq9vkosvu0hxa10Op1UKqXumLNqgZaUlJD5xvHx8Vu3bh08eDCZ1rd8+XKEkHFM/ODBg319fcn/v9XV1fv27ZPL5YsXLz548KDjnQHcAYELiyCIffv2LVmyhJ5jOHv27JUrV1o90MFbQw9lEPDwykVliymOHj2KEHrttdeCg4OppL9t27YhhL788kvGzmQ+s9WHfYC/CFxYGzZsIH89Mv+eYtWqVXv37rV8rIO3hj68EmQlBheVLaYTGxsrk8k6duyIEKLHoN+9e9fb27t58+YJCQn0/Q8ePNiyZUtyJh4QJAIX1tixY3fv3h0aGkrVuiUxGAyvvvqq5WMduTWMSFGBDa9YiwI9d+7czp07f/31V4TQ6NGj6R99+umnCKEJEyZQi0cQBLF+/fr333/fFT0B3AQhC6uoqIgqKWlMz549Hz16ZOFwR24NfXglkwlnyXKGqkQikVNK7lhl9uzZCCF64ari4uJ3330XITRlyhQy5OrixYsBAQHp6eks9AfgCiELiyCICRMmmGw/d+6cn5+f5WcHu2+NWl1MH14JZil5FsoWmyMxMbFZs2bdu3enr1JTWVn59ddf9+/fv127dv379583bx48DAoegQvrs88+k8lkGo2GaiktLd23b59YLDZerZeB3bcGw5IFNrziUFUUZJHiZcuWGX9UVFTEcmcArhC4sPLy8l577TWEUI8ePd58883hw4eT5d59fX0vX75spX923RqttkRIwyuWyxZb4NmzZ2Q4KFldb8eOHba86gUEhsCFRRBEQUHBggULWrRoQf6ePj4+kydPvnbtmtUD7bs1MlmaMIZXnJQttsz+/fvJ/4Ndu3adNm2acQQ8IHg4FJYX/fKuprKy8sGDBzU1NW3btrVxCRYvLy/yB9v7mZ5eIRbfoTa12p58XFswLi5OLper1WpyE8MwhULRr18/bntFsm7duvPnz48aNWrJkiUm63AAwsaOb6XTYN+RdIzDDhnY0U/6As58zBx0dRQoADgIh/ZwSU33e/fuabXayZMnk5t37twxuVtBQQG5aIoTMRiqlcoCahPH2zj3/C6FUWFdIpEoFApnVVgHACHgCguSKa8LFiwgN6mlxo3x9/e3fKra9pMeLCoW82aJYNaiQAHAcVxqD8u4ZITVsWPHP/74o2XLltRm27Zte/fuzdittLSUXFvYWRgM1fSyorwYXhkMBoVCoVAo9Ho9QogsCuqsQqAAIDBcIqxu3brJ5fIFCxaQm/Xq1du5c2eHDh2M96SvS+44OJ6l11eTP4vF9YOCmjnx5K4gPDycDKdCLl4RHgAEgtPHbLGxsQihTp06US3r1683F1VoNdrQ9n7qdOX02Cs3ryTjDlGgAGAfrrOHVZy/CEVhYeHQoUM3b95MtSQmJsbHx5vcmVz6ySnQHwbF4vpy+UvOOrNziYyM7NixIxlRhRCSy+U6nW7FihUwsAIAqzhfWBKJZODAgQMHDqRaGjZs2LhxY5M7R0dHO+Wi0dFPVSo9tYnjbdxwRZzo6OgRI0aQJUDR8yjQLVu2gKoAwEacP4fVtGnTQYMGBQQEFBUVtWnTxsfHp6CgYP78+dQcPEV6enqdOs4xpkKRS/2MYX7uNnsVHR2N4zgVBSqVShUKhclJPQAALOGiR81ff/01ICCgdevWdevWrVOnjre3dx0jEEK2L1VvYR/G7JVbLeHlorLFAMAhrraHBVzylvDZs2cjR44cM2ZMeXl5VlbWgQMHhg4d2qNHD8ZuhYWFixYtcvxyOJ5F/Yxhfv7+ph8/WYYRBYphGI7jEAUKAI7gfGHl5eW9/fbbjRs3vnbtmo+PT8eOHfPy8kQiEVmhgc7LL79Mhpg6Qnp6hbuFthsMBhzHFQoFuSkWixUKxfjx47ntFQAIAOdPut++fTshIYEe3d64cWNzk+5z58518HJuNbwyGAxfffUVaSj0PGA9LS0NbAUATsH5wvLx8Zk7d+4PP/xAtZARRiZ3nj59uiPXcp/MQUpVZEQVWbY4LS0NYtYBwIk4/5HwjTfeOHHiRHh4uEQiadasWf369Rs0aJCamurl5VVZWUnfs7i4uKqqypFrKRR51M8cDq8iIiJwHCeDFSBgHQBciCtm8rOzs8eOHWvL1R1MfqavQc/Jy0EIWAc8EJfawzIueUvYqlWrX3755fz583/++WdhYaHBYGjSpElNTQ1jNweTnyMiCqjMQYnEl+XhVXR0tFwu12q15KZMJsNxHEKrAMC1sCDFWbNm3b171+RHUqnU8rHm+qnXV9GHV0plvsnDXYEbli0GADZh0x4MXDLCYtCtW7d69eqZ/Gjnzp32nVOhyGO/MIM7ly0GAE/A+W8Jjfnss8/M1fDDcdyOExoM1fRcHJmsuZ09s5n09PTg4GCJRELaigxYj4qKAlsBAJu4ZIR16dKlW7duBQUFtWrVCiF0/PhxMkGHsVtubm5aWpod56cPr0Qib5cWZoCyxQDgRrjiOZNcRC8kJITc7N69u7mrYxhm+VTG/WSt7hWULQYAk7jUHpZxyQgLwzCDwUCuuEl+1QcNGkRfCpTk2bNnv//+e21PzkLdKyhbDABuCgtSHD9+fEFBgcmPxowZY/lYRj/V6mL68MoVLwcVCgU1qoLQKgAwhk17MGBjIdXY2FhqtMUgPj6+V69eFo5lLNnYseMdna6CbJFIfGNjezqxnxCwDgC2wOFCqmy8JTRnq8rKygMHDth+nq++yqZshRBSKNo72rPnQNliAOAFzp/Dio+PV6lUzZpZD4xKTU29f/++jaeNiyulF2aQy19ySmg7oxYoBKwDgDvj/EfCW7du0Qu6W2b48OFXr161sMPzwWdjsfgPanglEnnrdH0crNoOZYsBwD44fCR0/gjLx8enS5cuQUFB7du3J38xjUbz4MGDqVOnMvY8d+6c8atDM+D0h0GlUuyIrdLT0+VyuUqlIjehFigA8AanT+MnJiaGhobSW959990nT54Y75mcnLx48WLLZ0MIITSN/mZQJkuzu286nU4mk1G/O1RYBwA7cJ09rOL8SfdGjRq1bduW2iwvLycIomnTpsZ7du3aNTU1NT8/3+L5/g+hz6gNicRXoWhnR68MBkNYWBgZ/IkQEovFKpUqKioKBlYAwCOcL6x27drRl5bw8fHJyckxuWdGRkZ2dnZRUZG5U0VG6hH6J9lQJPJWKjvW9mEQyhYDgGBgI6xh8ODBc+fOZZS+evDgwcKFC+vUqdOpUydzB9JfCyKEFIp2/fr52n5dKFsMAAKDjcDRxMREDMNKS0vfeOONdu3aeXt7Z2VlRUVFGQyGn376yUJZ96ZNtVSSs1z+0pYttXgYhChQAHARHL4lZGna7NatW/T1RBFCAwcOPHTokOWjVKpChKIQikJoPtv3BQAAa7BjDzpsjLAotFptYmJiTU1Nhw4dhg8fbsshTZs2JTOQAQBwN9i0xz+XdGeo5UgBAHArcBxnXwisjrAAAAAcgY23hAAAAE4BhAUAAG8AYQEAwBtAWAAA8AYQFgAAvEEIwjIYDKdPn+a6F2wQHBw8YcIEg8HAdUcAgBuEIKy5c+e+9957ixcv5rojLketVqtUKnJRIq77AgAcwDNhFRUVGVd3ePbsGSedYR+VSiUSibRaLTgL8Ex4FjgaFhZ26NChS5cu0dfaefjwYVRU1PTp0729HSqazAvi4uIwDNPr9RKJRK1WQzo34FHwbIRVp06dnJycunX/Vdm5bdu2gYGBnmArhFC/fv3UajWMswDPhGfC8vHxQQhVV1cz2mtqahibGRkZ5M9paWnXrl3LyvqntFZKSsq1a9eys7ONz19TU3P9+vWrV69aq4PKJeAswGPhzSPh/v37t27dWlFRERcX5+/vT2ZCRkZGzp49+9GjR/Hx8aGhoatWrfr99983bNiQkZFBEMTSpUtv3bp148aNlJSUqqqqnTt3Dhgw4Ntvv71x40ZqaqqXl9f69es/+OAD6hIHDx7ctWvX66+/7u3tHRkZOXHixOXLl3P4K1sGng0BT4T9fGv7KC0tLSsrk8vlCKE7d+4UFRVRK8h/8803CKENGzaQm0+ePBk0aBBCaMmSJcePHycI4vLlywih9u3bf/755ydOnCAI4ty5cwihfv36Uec/derUSy+99Ouvv5KbP/30E0Jo7969rP6StUSr1YpEIoSQRCKh7gYACBjeCIvk448/JoVFbyQX7AoPD6da5syZgxC6fv061TJlyhSEkEajoVqkUmmjRo3S0v5eg2fQoEFjx46lPi0sLGzUqBG9xT0BZwEeBc/msGyELOHaqFEjqoX8uX79+lRL48aNa2pqysvLEUJ37969efPmwIED7z3n0aNHrVu3vnfvntVrBQcHe3EH6SmEkFarZdR0BQDh4fyFVPlIWloaQigxMXH9+vVUo401Uam1ozlHq9Vy3QUAcC0grH9o3bp1eHh4bY8iZccVBoMBwzDywdB91AkALkKYj4S1pUOHDgih1NRUrjtSOxi26tevH9c9AgDXwkthVVRUOPeEffv27d+//+XLl5OTk+ntYWFhVDyXuwG2AjwQngnLz88PIXTx4sXS0tKCggKykfRXYWEhY2fjrMOysjLqZ4IgysvLKfctWLCgtLT0888/T0lJIVt+/PHHoqKi9u3bu+D3cBSwFeCZeOM4bn0vt8HX1/fixYsnTpy4cOHCuXPn/P39Q0JCrly5Ul1dnZ+fHx0dPWDAgLCwsMuXL9etWzc2NvbBgwfNmzdfvnz5lStXvLy8EhISMjMzKyoqNm3adP369ZqamuTk5Ozs7GHDhvXp06d9+/ZHjhzZtWvX6dOn9+zZ4+XltWPHDq5/YxOArQCPhTeR7hR5eXk6ne6FF17o3r07QqiyshI9Xx+tTp06devWffToUYsWLerUqVNRUVFSUtK8eXOqpby8vKqqqkmTJrm5uSKRyNvbmxxzNW7cmDx5VVVVTExMSUlJ586d27Zty91vaRawFeDJ8E9YngzYCvBweDaH5eFIpVKwFeDJgLD4hE6nA1sBngw8EgIAwBtghAUAAG8AYQEAwBtAWAAA8AYQFgAAvAGEBQAAbwBhAQDAG0BYAADwBhAWAAC8AYQFAABvAGEBAMAbQFgAAPAGEBYAALzh/wHolG9I6O5J1wAAAABJRU5ErkJggg==)"
      ]
    },
    {
      "cell_type": "code",
      "execution_count": 33,
      "metadata": {
        "colab": {
          "base_uri": "https://localhost:8080/"
        },
        "id": "m5D8JxCPovi1",
        "outputId": "878b6d5c-9472-40d2-a675-755ecf2527d4"
      },
      "outputs": [
        {
          "name": "stdout",
          "output_type": "stream",
          "text": [
            "Уровень игрока: 45 \n",
            "Убитых монстров 1-го уровня: 1836311903\n"
          ]
        }
      ],
      "source": [
        "#Очень медленный вариант решение задачи\n",
        "\n",
        "lvl_hero = int(input())\n",
        "\n",
        "def fib(n):\n",
        "    if n <= 2:\n",
        "        return 1\n",
        "    else:\n",
        "        return fib(n-1) + fib(n-2)\n",
        "\n",
        "print('Уровень игрока:', lvl_hero, \"\\nУбитых монстров 1-го уровня:\", fib(lvl_hero+1))\n"
      ]
    },
    {
      "cell_type": "code",
      "execution_count": 36,
      "metadata": {},
      "outputs": [
        {
          "name": "stdout",
          "output_type": "stream",
          "text": [
            "Уровень игрока: 500 \n",
            "Убитых монстров 1-го уровня: 225591516161940121919323945317755919750165306733355143970858461525064153963081278412888159063487104942080\n"
          ]
        }
      ],
      "source": [
        "#Быстрый вариант решение задачи\n",
        "\n",
        "from __future__ import division\n",
        "import math\n",
        "\n",
        "lvl_hero = int(input())\n",
        "\n",
        "def fib(n):\n",
        "    SQRT5 = math.sqrt(5)\n",
        "    PHI = (SQRT5 + 1) / 2\n",
        "    return int(PHI ** n / SQRT5 + 0.5)\n",
        "\n",
        "print('Уровень игрока:', lvl_hero, \"\\nУбитых монстров 1-го уровня:\", fib(lvl_hero+1))"
      ]
    }
  ],
  "metadata": {
    "colab": {
      "provenance": []
    },
    "kernelspec": {
      "display_name": "Python 3",
      "name": "python3"
    },
    "language_info": {
      "codemirror_mode": {
        "name": "ipython",
        "version": 3
      },
      "file_extension": ".py",
      "mimetype": "text/x-python",
      "name": "python",
      "nbconvert_exporter": "python",
      "pygments_lexer": "ipython3",
      "version": "3.11.6"
    }
  },
  "nbformat": 4,
  "nbformat_minor": 0
}
