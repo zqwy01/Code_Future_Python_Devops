{
 "cells": [
  {
   "cell_type": "markdown",
   "id": "f30d9753",
   "metadata": {},
   "source": [
    "<div class=\"alert alert-block alert-success\">\n",
    "<b>\n",
    "\n",
    "## Тема 9. Объектно-ориентированное программирование\n",
    "\n",
    "</b>\n",
    "</div>"
   ]
  },
  {
   "cell_type": "markdown",
   "id": "b0db9cd0",
   "metadata": {},
   "source": [
    "Объектно-ориентированное программирование (ООП) – методология программирования, основанная на представлении программы в виде совокупности объектов, каждый из которых является экземпляром определённого класса, а классы образуют иерархию наследования.\n",
    "В основе ООП лежит простая и элегантная идея, в соответствии с которой главное в программе – это данные. Именно они определяют, какие методы будут использоваться для их обработки. Т. е. данные первичны, код для обработки этих данных – вторичен."
   ]
  },
  {
   "cell_type": "markdown",
   "id": "93c2e254",
   "metadata": {},
   "source": [
    "### Основные принципы объектно-ориентированного программирования\n",
    "Концепция объектно-ориентированного программирования базируется на трёх основных принципах:"
   ]
  },
  {
   "cell_type": "markdown",
   "id": "24867b04",
   "metadata": {},
   "source": [
    "Инкапсуляция —  это свойство системы, позволяющее объединить данные и методы, работающие с ними в классе, и скрыть детали реализации от пользователя. Инкапсуляция неразрывно связана с понятием интерфейса класса. По сути, всё то, что не входит в интерфейс, инкапсулируется в классе.\n",
    "\n",
    "Наследование —  процесс создания новых классов, используя основу уже ранее разработанных классов. Класс-наследник обладает свойствами, которые он берет от класса-родителя. Затем преобразует и дополняет их собственными характеристиками.\n",
    "\n",
    "Полиморфизм в объектно-ориентированном программировании —  это возможность обработки разных типов данных, т. е. принадлежащих к разным классам, с помощью «одной и той же» функции, или метода."
   ]
  },
  {
   "cell_type": "markdown",
   "id": "61a6ebf7",
   "metadata": {},
   "source": [
    "В языке Python класс — это тип, описывающий набор свойств, которые характеризуют объект. Каждый класс имеет структуру данных, которая может содержать как функции, так и переменные, характеризующие объект."
   ]
  },
  {
   "cell_type": "markdown",
   "id": "fdaeb6e1",
   "metadata": {},
   "source": [
    "Объявление класса начинается с ключевого слова `class`, после которого следует имя класса (при выборе имени класса каждое слово начинается с букв в верхнем регистре и слова в имени класса записываются слитно без каких-либо разделителей), затем в круглых скобках указывается базовый класс, после чего ставится символ двоеточия\n",
    "\n",
    "Далее с отступом следуют инструкции, определяющие строку документации класса, объявление атрибутов (attributes) — переменных объявленных внутри структуры класса, которые хранят данные в объектах классов в Python и определение методов (methods) — функций-членов класса. Таким образом, синтаксис блока класса выглядит следующим образом:"
   ]
  },
  {
   "cell_type": "markdown",
   "id": "2c8f9fff",
   "metadata": {},
   "source": [
    "```Python\n",
    "Class ClassName(object):\n",
    "    ''' строка_документации_класса '''\n",
    "    объявление_атрибутов_класса\n",
    "    определение_методов_класса\n",
    "```"
   ]
  },
  {
   "cell_type": "markdown",
   "id": "230e0945",
   "metadata": {},
   "source": [
    "Пример класса содержащего пустой список атрибутов и методов."
   ]
  },
  {
   "cell_type": "code",
   "execution_count": 1,
   "id": "f2dcaa36",
   "metadata": {},
   "outputs": [],
   "source": [
    "class Phone(object):\n",
    "    ''' Пустой класс '''\n",
    "    pass"
   ]
  },
  {
   "cell_type": "markdown",
   "id": "4b13ca0e",
   "metadata": {},
   "source": [
    "Встроенные типы int, float, str и bool являются классами. Хотя из-за регистра символов (нижнего) они похожи на функции, на самом деле это классы. В этом легко убедиться вызовом help(str):"
   ]
  },
  {
   "cell_type": "code",
   "execution_count": 2,
   "id": "3b499831",
   "metadata": {},
   "outputs": [
    {
     "name": "stdout",
     "output_type": "stream",
     "text": [
      "Help on class str in module builtins:\n",
      "\n",
      "class str(object)\n",
      " |  str(object='') -> str\n",
      " |  str(bytes_or_buffer[, encoding[, errors]]) -> str\n",
      " |  \n",
      " |  Create a new string object from the given object. If encoding or\n",
      " |  errors is specified, then the object must expose a data buffer\n",
      " |  that will be decoded using the given encoding and error handler.\n",
      " |  Otherwise, returns the result of object.__str__() (if defined)\n",
      " |  or repr(object).\n",
      " |  encoding defaults to sys.getdefaultencoding().\n",
      " |  errors defaults to 'strict'.\n",
      " |  \n",
      " |  Methods defined here:\n",
      " |  \n",
      " |  __add__(self, value, /)\n",
      " |      Return self+value.\n",
      " |  \n",
      " |  __contains__(self, key, /)\n",
      " |      Return key in self.\n",
      " |  \n",
      " |  __eq__(self, value, /)\n",
      " |      Return self==value.\n",
      " |  \n",
      " |  __format__(self, format_spec, /)\n",
      " |      Return a formatted version of the string as described by format_spec.\n",
      " |  \n",
      " |  __ge__(self, value, /)\n",
      " |      Return self>=value.\n",
      " |  \n",
      " |  __getattribute__(self, name, /)\n",
      " |      Return getattr(self, name).\n",
      " |  \n",
      " |  __getitem__(self, key, /)\n",
      " |      Return self[key].\n",
      " |  \n",
      " |  __getnewargs__(...)\n",
      " |  \n",
      " |  __gt__(self, value, /)\n",
      " |      Return self>value.\n",
      " |  \n",
      " |  __hash__(self, /)\n",
      " |      Return hash(self).\n",
      " |  \n",
      " |  __iter__(self, /)\n",
      " |      Implement iter(self).\n",
      " |  \n",
      " |  __le__(self, value, /)\n",
      " |      Return self<=value.\n",
      " |  \n",
      " |  __len__(self, /)\n",
      " |      Return len(self).\n",
      " |  \n",
      " |  __lt__(self, value, /)\n",
      " |      Return self<value.\n",
      " |  \n",
      " |  __mod__(self, value, /)\n",
      " |      Return self%value.\n",
      " |  \n",
      " |  __mul__(self, value, /)\n",
      " |      Return self*value.\n",
      " |  \n",
      " |  __ne__(self, value, /)\n",
      " |      Return self!=value.\n",
      " |  \n",
      " |  __repr__(self, /)\n",
      " |      Return repr(self).\n",
      " |  \n",
      " |  __rmod__(self, value, /)\n",
      " |      Return value%self.\n",
      " |  \n",
      " |  __rmul__(self, value, /)\n",
      " |      Return value*self.\n",
      " |  \n",
      " |  __sizeof__(self, /)\n",
      " |      Return the size of the string in memory, in bytes.\n",
      " |  \n",
      " |  __str__(self, /)\n",
      " |      Return str(self).\n",
      " |  \n",
      " |  capitalize(self, /)\n",
      " |      Return a capitalized version of the string.\n",
      " |      \n",
      " |      More specifically, make the first character have upper case and the rest lower\n",
      " |      case.\n",
      " |  \n",
      " |  casefold(self, /)\n",
      " |      Return a version of the string suitable for caseless comparisons.\n",
      " |  \n",
      " |  center(self, width, fillchar=' ', /)\n",
      " |      Return a centered string of length width.\n",
      " |      \n",
      " |      Padding is done using the specified fill character (default is a space).\n",
      " |  \n",
      " |  count(...)\n",
      " |      S.count(sub[, start[, end]]) -> int\n",
      " |      \n",
      " |      Return the number of non-overlapping occurrences of substring sub in\n",
      " |      string S[start:end].  Optional arguments start and end are\n",
      " |      interpreted as in slice notation.\n",
      " |  \n",
      " |  encode(self, /, encoding='utf-8', errors='strict')\n",
      " |      Encode the string using the codec registered for encoding.\n",
      " |      \n",
      " |      encoding\n",
      " |        The encoding in which to encode the string.\n",
      " |      errors\n",
      " |        The error handling scheme to use for encoding errors.\n",
      " |        The default is 'strict' meaning that encoding errors raise a\n",
      " |        UnicodeEncodeError.  Other possible values are 'ignore', 'replace' and\n",
      " |        'xmlcharrefreplace' as well as any other name registered with\n",
      " |        codecs.register_error that can handle UnicodeEncodeErrors.\n",
      " |  \n",
      " |  endswith(...)\n",
      " |      S.endswith(suffix[, start[, end]]) -> bool\n",
      " |      \n",
      " |      Return True if S ends with the specified suffix, False otherwise.\n",
      " |      With optional start, test S beginning at that position.\n",
      " |      With optional end, stop comparing S at that position.\n",
      " |      suffix can also be a tuple of strings to try.\n",
      " |  \n",
      " |  expandtabs(self, /, tabsize=8)\n",
      " |      Return a copy where all tab characters are expanded using spaces.\n",
      " |      \n",
      " |      If tabsize is not given, a tab size of 8 characters is assumed.\n",
      " |  \n",
      " |  find(...)\n",
      " |      S.find(sub[, start[, end]]) -> int\n",
      " |      \n",
      " |      Return the lowest index in S where substring sub is found,\n",
      " |      such that sub is contained within S[start:end].  Optional\n",
      " |      arguments start and end are interpreted as in slice notation.\n",
      " |      \n",
      " |      Return -1 on failure.\n",
      " |  \n",
      " |  format(...)\n",
      " |      S.format(*args, **kwargs) -> str\n",
      " |      \n",
      " |      Return a formatted version of S, using substitutions from args and kwargs.\n",
      " |      The substitutions are identified by braces ('{' and '}').\n",
      " |  \n",
      " |  format_map(...)\n",
      " |      S.format_map(mapping) -> str\n",
      " |      \n",
      " |      Return a formatted version of S, using substitutions from mapping.\n",
      " |      The substitutions are identified by braces ('{' and '}').\n",
      " |  \n",
      " |  index(...)\n",
      " |      S.index(sub[, start[, end]]) -> int\n",
      " |      \n",
      " |      Return the lowest index in S where substring sub is found,\n",
      " |      such that sub is contained within S[start:end].  Optional\n",
      " |      arguments start and end are interpreted as in slice notation.\n",
      " |      \n",
      " |      Raises ValueError when the substring is not found.\n",
      " |  \n",
      " |  isalnum(self, /)\n",
      " |      Return True if the string is an alpha-numeric string, False otherwise.\n",
      " |      \n",
      " |      A string is alpha-numeric if all characters in the string are alpha-numeric and\n",
      " |      there is at least one character in the string.\n",
      " |  \n",
      " |  isalpha(self, /)\n",
      " |      Return True if the string is an alphabetic string, False otherwise.\n",
      " |      \n",
      " |      A string is alphabetic if all characters in the string are alphabetic and there\n",
      " |      is at least one character in the string.\n",
      " |  \n",
      " |  isascii(self, /)\n",
      " |      Return True if all characters in the string are ASCII, False otherwise.\n",
      " |      \n",
      " |      ASCII characters have code points in the range U+0000-U+007F.\n",
      " |      Empty string is ASCII too.\n",
      " |  \n",
      " |  isdecimal(self, /)\n",
      " |      Return True if the string is a decimal string, False otherwise.\n",
      " |      \n",
      " |      A string is a decimal string if all characters in the string are decimal and\n",
      " |      there is at least one character in the string.\n",
      " |  \n",
      " |  isdigit(self, /)\n",
      " |      Return True if the string is a digit string, False otherwise.\n",
      " |      \n",
      " |      A string is a digit string if all characters in the string are digits and there\n",
      " |      is at least one character in the string.\n",
      " |  \n",
      " |  isidentifier(self, /)\n",
      " |      Return True if the string is a valid Python identifier, False otherwise.\n",
      " |      \n",
      " |      Call keyword.iskeyword(s) to test whether string s is a reserved identifier,\n",
      " |      such as \"def\" or \"class\".\n",
      " |  \n",
      " |  islower(self, /)\n",
      " |      Return True if the string is a lowercase string, False otherwise.\n",
      " |      \n",
      " |      A string is lowercase if all cased characters in the string are lowercase and\n",
      " |      there is at least one cased character in the string.\n",
      " |  \n",
      " |  isnumeric(self, /)\n",
      " |      Return True if the string is a numeric string, False otherwise.\n",
      " |      \n",
      " |      A string is numeric if all characters in the string are numeric and there is at\n",
      " |      least one character in the string.\n",
      " |  \n",
      " |  isprintable(self, /)\n",
      " |      Return True if the string is printable, False otherwise.\n",
      " |      \n",
      " |      A string is printable if all of its characters are considered printable in\n",
      " |      repr() or if it is empty.\n",
      " |  \n",
      " |  isspace(self, /)\n",
      " |      Return True if the string is a whitespace string, False otherwise.\n",
      " |      \n",
      " |      A string is whitespace if all characters in the string are whitespace and there\n",
      " |      is at least one character in the string.\n",
      " |  \n",
      " |  istitle(self, /)\n",
      " |      Return True if the string is a title-cased string, False otherwise.\n",
      " |      \n",
      " |      In a title-cased string, upper- and title-case characters may only\n",
      " |      follow uncased characters and lowercase characters only cased ones.\n",
      " |  \n",
      " |  isupper(self, /)\n",
      " |      Return True if the string is an uppercase string, False otherwise.\n",
      " |      \n",
      " |      A string is uppercase if all cased characters in the string are uppercase and\n",
      " |      there is at least one cased character in the string.\n",
      " |  \n",
      " |  join(self, iterable, /)\n",
      " |      Concatenate any number of strings.\n",
      " |      \n",
      " |      The string whose method is called is inserted in between each given string.\n",
      " |      The result is returned as a new string.\n",
      " |      \n",
      " |      Example: '.'.join(['ab', 'pq', 'rs']) -> 'ab.pq.rs'\n",
      " |  \n",
      " |  ljust(self, width, fillchar=' ', /)\n",
      " |      Return a left-justified string of length width.\n",
      " |      \n",
      " |      Padding is done using the specified fill character (default is a space).\n",
      " |  \n",
      " |  lower(self, /)\n",
      " |      Return a copy of the string converted to lowercase.\n",
      " |  \n",
      " |  lstrip(self, chars=None, /)\n",
      " |      Return a copy of the string with leading whitespace removed.\n",
      " |      \n",
      " |      If chars is given and not None, remove characters in chars instead.\n",
      " |  \n",
      " |  partition(self, sep, /)\n",
      " |      Partition the string into three parts using the given separator.\n",
      " |      \n",
      " |      This will search for the separator in the string.  If the separator is found,\n",
      " |      returns a 3-tuple containing the part before the separator, the separator\n",
      " |      itself, and the part after it.\n",
      " |      \n",
      " |      If the separator is not found, returns a 3-tuple containing the original string\n",
      " |      and two empty strings.\n",
      " |  \n",
      " |  removeprefix(self, prefix, /)\n",
      " |      Return a str with the given prefix string removed if present.\n",
      " |      \n",
      " |      If the string starts with the prefix string, return string[len(prefix):].\n",
      " |      Otherwise, return a copy of the original string.\n",
      " |  \n",
      " |  removesuffix(self, suffix, /)\n",
      " |      Return a str with the given suffix string removed if present.\n",
      " |      \n",
      " |      If the string ends with the suffix string and that suffix is not empty,\n",
      " |      return string[:-len(suffix)]. Otherwise, return a copy of the original\n",
      " |      string.\n",
      " |  \n",
      " |  replace(self, old, new, count=-1, /)\n",
      " |      Return a copy with all occurrences of substring old replaced by new.\n",
      " |      \n",
      " |        count\n",
      " |          Maximum number of occurrences to replace.\n",
      " |          -1 (the default value) means replace all occurrences.\n",
      " |      \n",
      " |      If the optional argument count is given, only the first count occurrences are\n",
      " |      replaced.\n",
      " |  \n",
      " |  rfind(...)\n",
      " |      S.rfind(sub[, start[, end]]) -> int\n",
      " |      \n",
      " |      Return the highest index in S where substring sub is found,\n",
      " |      such that sub is contained within S[start:end].  Optional\n",
      " |      arguments start and end are interpreted as in slice notation.\n",
      " |      \n",
      " |      Return -1 on failure.\n",
      " |  \n",
      " |  rindex(...)\n",
      " |      S.rindex(sub[, start[, end]]) -> int\n",
      " |      \n",
      " |      Return the highest index in S where substring sub is found,\n",
      " |      such that sub is contained within S[start:end].  Optional\n",
      " |      arguments start and end are interpreted as in slice notation.\n",
      " |      \n",
      " |      Raises ValueError when the substring is not found.\n",
      " |  \n",
      " |  rjust(self, width, fillchar=' ', /)\n",
      " |      Return a right-justified string of length width.\n",
      " |      \n",
      " |      Padding is done using the specified fill character (default is a space).\n",
      " |  \n",
      " |  rpartition(self, sep, /)\n",
      " |      Partition the string into three parts using the given separator.\n",
      " |      \n",
      " |      This will search for the separator in the string, starting at the end. If\n",
      " |      the separator is found, returns a 3-tuple containing the part before the\n",
      " |      separator, the separator itself, and the part after it.\n",
      " |      \n",
      " |      If the separator is not found, returns a 3-tuple containing two empty strings\n",
      " |      and the original string.\n",
      " |  \n",
      " |  rsplit(self, /, sep=None, maxsplit=-1)\n",
      " |      Return a list of the substrings in the string, using sep as the separator string.\n",
      " |      \n",
      " |        sep\n",
      " |          The separator used to split the string.\n",
      " |      \n",
      " |          When set to None (the default value), will split on any whitespace\n",
      " |          character (including \\\\n \\\\r \\\\t \\\\f and spaces) and will discard\n",
      " |          empty strings from the result.\n",
      " |        maxsplit\n",
      " |          Maximum number of splits (starting from the left).\n",
      " |          -1 (the default value) means no limit.\n",
      " |      \n",
      " |      Splitting starts at the end of the string and works to the front.\n",
      " |  \n",
      " |  rstrip(self, chars=None, /)\n",
      " |      Return a copy of the string with trailing whitespace removed.\n",
      " |      \n",
      " |      If chars is given and not None, remove characters in chars instead.\n",
      " |  \n",
      " |  split(self, /, sep=None, maxsplit=-1)\n",
      " |      Return a list of the substrings in the string, using sep as the separator string.\n",
      " |      \n",
      " |        sep\n",
      " |          The separator used to split the string.\n",
      " |      \n",
      " |          When set to None (the default value), will split on any whitespace\n",
      " |          character (including \\\\n \\\\r \\\\t \\\\f and spaces) and will discard\n",
      " |          empty strings from the result.\n",
      " |        maxsplit\n",
      " |          Maximum number of splits (starting from the left).\n",
      " |          -1 (the default value) means no limit.\n",
      " |      \n",
      " |      Note, str.split() is mainly useful for data that has been intentionally\n",
      " |      delimited.  With natural text that includes punctuation, consider using\n",
      " |      the regular expression module.\n",
      " |  \n",
      " |  splitlines(self, /, keepends=False)\n",
      " |      Return a list of the lines in the string, breaking at line boundaries.\n",
      " |      \n",
      " |      Line breaks are not included in the resulting list unless keepends is given and\n",
      " |      true.\n",
      " |  \n",
      " |  startswith(...)\n",
      " |      S.startswith(prefix[, start[, end]]) -> bool\n",
      " |      \n",
      " |      Return True if S starts with the specified prefix, False otherwise.\n",
      " |      With optional start, test S beginning at that position.\n",
      " |      With optional end, stop comparing S at that position.\n",
      " |      prefix can also be a tuple of strings to try.\n",
      " |  \n",
      " |  strip(self, chars=None, /)\n",
      " |      Return a copy of the string with leading and trailing whitespace removed.\n",
      " |      \n",
      " |      If chars is given and not None, remove characters in chars instead.\n",
      " |  \n",
      " |  swapcase(self, /)\n",
      " |      Convert uppercase characters to lowercase and lowercase characters to uppercase.\n",
      " |  \n",
      " |  title(self, /)\n",
      " |      Return a version of the string where each word is titlecased.\n",
      " |      \n",
      " |      More specifically, words start with uppercased characters and all remaining\n",
      " |      cased characters have lower case.\n",
      " |  \n",
      " |  translate(self, table, /)\n",
      " |      Replace each character in the string using the given translation table.\n",
      " |      \n",
      " |        table\n",
      " |          Translation table, which must be a mapping of Unicode ordinals to\n",
      " |          Unicode ordinals, strings, or None.\n",
      " |      \n",
      " |      The table must implement lookup/indexing via __getitem__, for instance a\n",
      " |      dictionary or list.  If this operation raises LookupError, the character is\n",
      " |      left untouched.  Characters mapped to None are deleted.\n",
      " |  \n",
      " |  upper(self, /)\n",
      " |      Return a copy of the string converted to uppercase.\n",
      " |  \n",
      " |  zfill(self, width, /)\n",
      " |      Pad a numeric string with zeros on the left, to fill a field of the given width.\n",
      " |      \n",
      " |      The string is never truncated.\n",
      " |  \n",
      " |  ----------------------------------------------------------------------\n",
      " |  Static methods defined here:\n",
      " |  \n",
      " |  __new__(*args, **kwargs) from builtins.type\n",
      " |      Create and return a new object.  See help(type) for accurate signature.\n",
      " |  \n",
      " |  maketrans(...)\n",
      " |      Return a translation table usable for str.translate().\n",
      " |      \n",
      " |      If there is only one argument, it must be a dictionary mapping Unicode\n",
      " |      ordinals (integers) or characters to Unicode ordinals, strings or None.\n",
      " |      Character keys will be then converted to ordinals.\n",
      " |      If there are two arguments, they must be strings of equal length, and\n",
      " |      in the resulting dictionary, each character in x will be mapped to the\n",
      " |      character at the same position in y. If there is a third argument, it\n",
      " |      must be a string, whose characters will be mapped to None in the result.\n",
      "\n"
     ]
    }
   ],
   "source": [
    "help(str)"
   ]
  },
  {
   "cell_type": "markdown",
   "id": "e8feb8f5",
   "metadata": {},
   "source": [
    "Здесь проявляется небольшая непоследовательность языка Python: классы, определяемые пользователем, обычно подчиняются правилам PEP8, которые рекомендуют «верблюжий» регистр в именах классов."
   ]
  },
  {
   "cell_type": "markdown",
   "id": "19fbbe9a",
   "metadata": {},
   "source": [
    "Список атрибутов и методов класса можно получить с помощью команды dir(). В классе Phone есть только встроенные атрибуты, которые он унаследовал от базового класса object."
   ]
  },
  {
   "cell_type": "code",
   "execution_count": 3,
   "id": "7d5ae282",
   "metadata": {},
   "outputs": [
    {
     "data": {
      "text/plain": [
       "['__class__',\n",
       " '__delattr__',\n",
       " '__dict__',\n",
       " '__dir__',\n",
       " '__doc__',\n",
       " '__eq__',\n",
       " '__format__',\n",
       " '__ge__',\n",
       " '__getattribute__',\n",
       " '__gt__',\n",
       " '__hash__',\n",
       " '__init__',\n",
       " '__init_subclass__',\n",
       " '__le__',\n",
       " '__lt__',\n",
       " '__module__',\n",
       " '__ne__',\n",
       " '__new__',\n",
       " '__reduce__',\n",
       " '__reduce_ex__',\n",
       " '__repr__',\n",
       " '__setattr__',\n",
       " '__sizeof__',\n",
       " '__str__',\n",
       " '__subclasshook__',\n",
       " '__weakref__']"
      ]
     },
     "execution_count": 3,
     "metadata": {},
     "output_type": "execute_result"
    }
   ],
   "source": [
    "dir(Phone)"
   ]
  },
  {
   "cell_type": "markdown",
   "id": "65d9b482",
   "metadata": {},
   "source": [
    "#### Встроенные методы и атрибуты\n",
    "Все классы в Python имеют один общий родительский класс – `object`. Это значит, что когда создается новый класс, то он неявно наследуете его от класса object, и потому созданный класс наследует его атрибуты, которые и называются служебными. Именно их мы и называем встроенными(служебными). Вот некоторые из них(заметьте, что в списке есть как поля, так и методы):"
   ]
  },
  {
   "cell_type": "markdown",
   "id": "ba19f1bb",
   "metadata": {},
   "source": [
    "|Функции и атрибуты|Назначение|Тип|\n",
    "|:----|:---|:---|\n",
    "|`__new__(cls[, ...])`|Конструктор. Создает экземпляр(объект) класса. Сам класс передается в качестве аргумента.|Функция|\n",
    "|`__init__(self[, ...])`|Инициализатор. Принимает свежесозданный объект класса из конструктора.|Функция|\n",
    "|`__del__(self)`|Деструктор. Вызывается при удалении объекта сборщиком мусора|Функция|\n",
    "|`__str__(self)`|Возвращает строковое представление объекта.|Функция|\n",
    "|`__hash__(self)`|Возвращает хэш-сумму объекта.|Функция|\n",
    "|`__setattr__(self, attr, val)`|Создает новый атрибут для объекта класса с именем attr и значением val|Функция|\n",
    "|`__doc__`|Документация класса.|Строка (тип str)|\n",
    "|`__dict__`|Словарь, в котором хранится пространство имен класса|Словарь (тип dict)|"
   ]
  },
  {
   "cell_type": "markdown",
   "id": "e694c6be",
   "metadata": {},
   "source": [
    "В теории ООП конструктор класса – это специальный блок инструкций, который вызывается при создании объекта. В Python разделяют конструктор класса и метод для инициализации экземпляра класса. Конструктор класса это метод `__new__(cls, *args, **kwargs)` который вызывается при создании объекта в Python. Функция super() возвращает ссылку на базовый класс object и через нее мы вызываем метод `__new__` с одним первым аргументом. Для инициализации экземпляра класса используется метод `__init__(self)`.\n",
    "\n",
    "Также обратите внимание, что `__new__()` – это метод класса, поэтому его первый параметр cls - ссылка на текущий класс. В свою очередь, метод `__init__()` – это метод экземпляра класса и является так называемым инициализатором класса, поэтому его первый параметр self – ссылка на объект (экземпляр класса). Именно этот метод первый принимает созданный конструктором объект. \n",
    "\n",
    "Модель данных Python определяет много специально именованных методов, которые могут быть переопределены в пользовательских классах и тем самым могут расширять их синтаксис. Характерной особенностью этих методов является обрамляющее их название двойное подчеркивание — таково соглашение по наименованию для данных методов. Из-за этого они иногда называются dunder (сокращение от double underline — «двойное подчеркивание»). Эти методы, определенные отдельно или в комбинации, представляют собой так называемые языковые протоколы. Если объект реализует конкретные протоколы языка, то становится совместимым с конкретными частями синтаксиса Python.\n",
    "\n",
    "Метод `__new__()` редко переопределяется, чаще используется реализация от базового класса object, метод `__init__()`  же наоборот, часто переопределяется внутри класса, это позволяет задавать атрибуты будущего объекта при его создании."
   ]
  },
  {
   "cell_type": "markdown",
   "id": "ac4856e3",
   "metadata": {},
   "source": [
    "Метод __del__() используется как деструктор в Python. Метод __del__() будет неявно вызываться, когда все ссылки на объект будут удалены, то есть когда объект подходит для сборщика мусора. Этот метод автоматически вызывается в Python, когда экземпляр собираются уничтожить. Его также называют финализатором или деструктором."
   ]
  },
  {
   "cell_type": "code",
   "execution_count": 4,
   "id": "f94b27b9",
   "metadata": {},
   "outputs": [],
   "source": [
    "class CustomUserClass:\n",
    "    def __new__(cls, *args, **kwargs):\n",
    "        instance = super().__new__(cls)\n",
    "        pass\n",
    "        return instance\n",
    "    def __init__(self, arg):\n",
    "        pass\n",
    "    def __del__(self):\n",
    "        pass        "
   ]
  },
  {
   "cell_type": "markdown",
   "id": "10e8042b",
   "metadata": {},
   "source": [
    "<div class=\"alert alert-block alert-info\">\n",
    "<b>\n",
    "Полный список всех методов с двойным подчеркиванием можно найти в официальной документации модели данных Python: docs.python.org/3/reference/datamodel.html\n",
    "</b>\n",
    "</div>\n",
    "\n"
   ]
  },
  {
   "cell_type": "markdown",
   "id": "742b920d",
   "metadata": {},
   "source": [
    "#### Атрибуты и методы члены класса"
   ]
  },
  {
   "cell_type": "markdown",
   "id": "976c941f",
   "metadata": {},
   "source": [
    "Членами класса могут быть функции, называемые методами, а также переменные (объявленные внутри структуры класса), называемые атрибутами.\n",
    "К членам класса можно обращаться в программе с помощью точечной записи, поставив соответствующий суффикс после имени класса, применив следующий синтаксис: \n",
    "\n",
    "`имя-класса.имя-метода()` \n",
    "\n",
    "или \n",
    "\n",
    "`имя-класса.имя-атрибута`."
   ]
  },
  {
   "cell_type": "markdown",
   "id": "43c9fcc6",
   "metadata": {},
   "source": [
    "У каждого объекта класса есть свой набор атрибутов, которые могут быть доступны для чтения и записи."
   ]
  },
  {
   "cell_type": "markdown",
   "id": "45fa6d88",
   "metadata": {},
   "source": [
    "Добавим к классу `Phone` атрибуты `color`, `standard`' и два метода `call_in` и `call_out`."
   ]
  },
  {
   "cell_type": "code",
   "execution_count": 5,
   "id": "53b09082",
   "metadata": {},
   "outputs": [],
   "source": [
    "class Phone(object):\n",
    "    ''' Класс телефон содержит два атрибута и три метода '''\n",
    "    color = 'Green'\n",
    "    standard = '5G'\n",
    "    def call_in(self):\n",
    "        pass\n",
    "    def call_out(self):\n",
    "        pass    "
   ]
  },
  {
   "cell_type": "markdown",
   "id": "980a5267",
   "metadata": {},
   "source": [
    "Обратим внимание, что к стандартным атрибутам и методам добавились два описанных в классе `Phone` атрибута: color, standard и два метода: call_in(self), call_out(self)."
   ]
  },
  {
   "cell_type": "code",
   "execution_count": 6,
   "id": "7195e984",
   "metadata": {},
   "outputs": [
    {
     "data": {
      "text/plain": [
       "['__class__',\n",
       " '__delattr__',\n",
       " '__dict__',\n",
       " '__dir__',\n",
       " '__doc__',\n",
       " '__eq__',\n",
       " '__format__',\n",
       " '__ge__',\n",
       " '__getattribute__',\n",
       " '__gt__',\n",
       " '__hash__',\n",
       " '__init__',\n",
       " '__init_subclass__',\n",
       " '__le__',\n",
       " '__lt__',\n",
       " '__module__',\n",
       " '__ne__',\n",
       " '__new__',\n",
       " '__reduce__',\n",
       " '__reduce_ex__',\n",
       " '__repr__',\n",
       " '__setattr__',\n",
       " '__sizeof__',\n",
       " '__str__',\n",
       " '__subclasshook__',\n",
       " '__weakref__',\n",
       " 'call_in',\n",
       " 'call_out',\n",
       " 'color',\n",
       " 'standard']"
      ]
     },
     "execution_count": 6,
     "metadata": {},
     "output_type": "execute_result"
    }
   ],
   "source": [
    "dir(Phone)"
   ]
  },
  {
   "cell_type": "markdown",
   "id": "999b88ff",
   "metadata": {},
   "source": [
    "### Объект класса"
   ]
  },
  {
   "cell_type": "markdown",
   "id": "6fcaa4ce",
   "metadata": {},
   "source": [
    "Объект представляет экземпляр класса на основе которого он создан."
   ]
  },
  {
   "cell_type": "markdown",
   "id": "5f3ff8ae",
   "metadata": {},
   "source": [
    "Для того чтобы создать объект класса необходимо воспользоваться следующим синтаксисом:\n",
    "\n",
    "имя_объекта = имя_класса()"
   ]
  },
  {
   "cell_type": "code",
   "execution_count": 7,
   "id": "bb1c2b44",
   "metadata": {},
   "outputs": [],
   "source": [
    "MyPhone = Phone() # создаем объект samsung"
   ]
  },
  {
   "cell_type": "code",
   "execution_count": 8,
   "id": "8726de0e",
   "metadata": {},
   "outputs": [
    {
     "data": {
      "text/plain": [
       "'Green'"
      ]
     },
     "execution_count": 8,
     "metadata": {},
     "output_type": "execute_result"
    }
   ],
   "source": [
    "MyPhone.color # Вывод значения атрибута color по имени объекта"
   ]
  },
  {
   "cell_type": "code",
   "execution_count": 9,
   "id": "1f57d568",
   "metadata": {},
   "outputs": [
    {
     "data": {
      "text/plain": [
       "type"
      ]
     },
     "execution_count": 9,
     "metadata": {},
     "output_type": "execute_result"
    }
   ],
   "source": [
    "type(Phone)"
   ]
  },
  {
   "cell_type": "code",
   "execution_count": 10,
   "id": "ef77c597",
   "metadata": {},
   "outputs": [
    {
     "data": {
      "text/plain": [
       "__main__.Phone"
      ]
     },
     "execution_count": 10,
     "metadata": {},
     "output_type": "execute_result"
    }
   ],
   "source": [
    "type(MyPhone)"
   ]
  },
  {
   "cell_type": "markdown",
   "id": "f0e49b7f",
   "metadata": {},
   "source": [
    "#### Статические и динамические атрибуты класса"
   ]
  },
  {
   "cell_type": "markdown",
   "id": "aef20e96",
   "metadata": {},
   "source": [
    "Атрибут класса может быть статическим или динамическим (уровня объекта класса). \n",
    "\n",
    "Для работы со статическими атрибутами, не нужно создавать экземпляр класса, к ним можно обращаться по имени класса, а для работы с динамическими атрибутами необходимо обязательно создавать экземпляр класса. \n",
    "\n",
    "Динамические элементы класса создаются в стандартном методе инициализации `__init__` и появляются у объектов в момент их создания и инициализации."
   ]
  },
  {
   "cell_type": "code",
   "execution_count": 16,
   "id": "482c0d04",
   "metadata": {},
   "outputs": [],
   "source": [
    "class Phone(object):\n",
    "    # Статические атрибуты (переменные класса)\n",
    "    color = 'Green'\n",
    "    standard  = '5G'\n",
    "\n",
    "    # Встроенный метод инициализации значений класса\n",
    "    def __init__(self, my_phone_number, emergency_phone_number): \n",
    "        # Динамические атрибуты (переменные объекта)\n",
    "        self.my_number = my_phone_number\n",
    "        self.emergency_number = emergency_phone_number\n",
    "    \n",
    "    def call_in(self):\n",
    "        # Способы обращения к переменным класса из метода экземпляра класса\n",
    "        print(type(self).color)\n",
    "        print(Phone.color)\n",
    "    def call_in_out(cls):\n",
    "        # Способы обращения к переменным класса из метода класса\n",
    "        print(cls.color)\n",
    "    def call_out(self):\n",
    "        # Способы обращения к переменным экземпляра класса из метода экземпляра класса\n",
    "        print(self.my_number)       \n",
    "        print(self.emergency_number)\n",
    "        pass    "
   ]
  },
  {
   "cell_type": "code",
   "execution_count": 17,
   "id": "2bd4cd06",
   "metadata": {},
   "outputs": [
    {
     "name": "stdout",
     "output_type": "stream",
     "text": [
      "Green\n",
      "Green\n"
     ]
    }
   ],
   "source": [
    "MyPhone = Phone('+79000000001','112')\n",
    "MyPhone.call_in()"
   ]
  },
  {
   "cell_type": "code",
   "execution_count": 18,
   "id": "bbeddfca",
   "metadata": {},
   "outputs": [
    {
     "name": "stdout",
     "output_type": "stream",
     "text": [
      "Green\n"
     ]
    }
   ],
   "source": [
    "MyPhone.call_in_out()"
   ]
  },
  {
   "cell_type": "code",
   "execution_count": 19,
   "id": "656af76d",
   "metadata": {},
   "outputs": [
    {
     "name": "stdout",
     "output_type": "stream",
     "text": [
      "+79000000001\n",
      "112\n"
     ]
    }
   ],
   "source": [
    "MyPhone.call_out()"
   ]
  },
  {
   "cell_type": "markdown",
   "id": "7aae70d0",
   "metadata": {},
   "source": [
    "Элемент self – это ссылка на текущий экземпляр класса. Как правило, эта ссылка передается в качестве первого параметра метода Python. Cлово self не является служебным словом языка Python. В Python первый параметр метода принято называть `self`, он передает ссылку на текущий объект для которого этот метод и был вызван (вообще говоря, так как self это не служебное слово языка Python его можно было назвать любым именем). \n",
    "\n",
    "В других языках программирования (например, C++ или Java) аналогом ссылки на текущий объект используемой внутри описания класса для обращения к атрибутам и методам конкретного объекта является служебное слово `this`."
   ]
  },
  {
   "cell_type": "markdown",
   "id": "4366429a",
   "metadata": {},
   "source": [
    "Обратим внимание, что в списке атрибутов и методов класса Phone есть только статические атрибуты и нет динамических. Динамические атрибуты появятся у конкретных объектов при их создании и инициализации."
   ]
  },
  {
   "cell_type": "code",
   "execution_count": 20,
   "id": "53314819",
   "metadata": {},
   "outputs": [
    {
     "data": {
      "text/plain": [
       "['__class__',\n",
       " '__delattr__',\n",
       " '__dict__',\n",
       " '__dir__',\n",
       " '__doc__',\n",
       " '__eq__',\n",
       " '__format__',\n",
       " '__ge__',\n",
       " '__getattribute__',\n",
       " '__gt__',\n",
       " '__hash__',\n",
       " '__init__',\n",
       " '__init_subclass__',\n",
       " '__le__',\n",
       " '__lt__',\n",
       " '__module__',\n",
       " '__ne__',\n",
       " '__new__',\n",
       " '__reduce__',\n",
       " '__reduce_ex__',\n",
       " '__repr__',\n",
       " '__setattr__',\n",
       " '__sizeof__',\n",
       " '__str__',\n",
       " '__subclasshook__',\n",
       " '__weakref__',\n",
       " 'call_in',\n",
       " 'call_in_out',\n",
       " 'call_out',\n",
       " 'color',\n",
       " 'standard']"
      ]
     },
     "execution_count": 20,
     "metadata": {},
     "output_type": "execute_result"
    }
   ],
   "source": [
    "dir(Phone)"
   ]
  },
  {
   "cell_type": "markdown",
   "id": "bb056ead",
   "metadata": {},
   "source": [
    "Для добавления динамических атрибутов к объектам после их создания в ходе работы с ними необходимо воспользоваться следующим синтаксисом:\n",
    "```Python\n",
    "имя_объекта.имя_нового_атрибута = значение_атрибута\n",
    "```"
   ]
  },
  {
   "cell_type": "markdown",
   "id": "7eaaf0e4",
   "metadata": {},
   "source": [
    "Создадим два объекта класса Phone"
   ]
  },
  {
   "cell_type": "code",
   "execution_count": 21,
   "id": "fb46671c",
   "metadata": {},
   "outputs": [],
   "source": [
    "one_phone = Phone('+79000000001','112')"
   ]
  },
  {
   "cell_type": "code",
   "execution_count": 22,
   "id": "f9942d52",
   "metadata": {},
   "outputs": [],
   "source": [
    "two_phone = Phone('+79000000002','911')"
   ]
  },
  {
   "cell_type": "markdown",
   "id": "0561547b",
   "metadata": {},
   "source": [
    "Обратим внимание, что в списке атрибутов и методов объекта OnePhone есть как статические так и динамические атрибуты."
   ]
  },
  {
   "cell_type": "code",
   "execution_count": 23,
   "id": "2ca5fa86",
   "metadata": {},
   "outputs": [
    {
     "data": {
      "text/plain": [
       "['__class__',\n",
       " '__delattr__',\n",
       " '__dict__',\n",
       " '__dir__',\n",
       " '__doc__',\n",
       " '__eq__',\n",
       " '__format__',\n",
       " '__ge__',\n",
       " '__getattribute__',\n",
       " '__gt__',\n",
       " '__hash__',\n",
       " '__init__',\n",
       " '__init_subclass__',\n",
       " '__le__',\n",
       " '__lt__',\n",
       " '__module__',\n",
       " '__ne__',\n",
       " '__new__',\n",
       " '__reduce__',\n",
       " '__reduce_ex__',\n",
       " '__repr__',\n",
       " '__setattr__',\n",
       " '__sizeof__',\n",
       " '__str__',\n",
       " '__subclasshook__',\n",
       " '__weakref__',\n",
       " 'call_in',\n",
       " 'call_in_out',\n",
       " 'call_out',\n",
       " 'color',\n",
       " 'emergency_number',\n",
       " 'my_number',\n",
       " 'standard']"
      ]
     },
     "execution_count": 23,
     "metadata": {},
     "output_type": "execute_result"
    }
   ],
   "source": [
    "dir(one_phone)"
   ]
  },
  {
   "cell_type": "markdown",
   "id": "9432aa15",
   "metadata": {},
   "source": [
    "Добавим к объекту TwoPhone атрибут alarm_clock\n"
   ]
  },
  {
   "cell_type": "code",
   "execution_count": 24,
   "id": "27c50c22",
   "metadata": {},
   "outputs": [],
   "source": [
    "two_phone.alarm_clock = '07-06-2023'"
   ]
  },
  {
   "cell_type": "markdown",
   "id": "323ec815",
   "metadata": {},
   "source": [
    "Обратим внимание, что к списку методов и атрибутов доступных объекту объекту TwoPhone добавился динамический атрибут alarm_clock, который отсутствует в объекте OnePhone несмотря на то что это объекты одного и того же класса."
   ]
  },
  {
   "cell_type": "code",
   "execution_count": 25,
   "id": "3579dce4",
   "metadata": {},
   "outputs": [
    {
     "data": {
      "text/plain": [
       "['__class__',\n",
       " '__delattr__',\n",
       " '__dict__',\n",
       " '__dir__',\n",
       " '__doc__',\n",
       " '__eq__',\n",
       " '__format__',\n",
       " '__ge__',\n",
       " '__getattribute__',\n",
       " '__gt__',\n",
       " '__hash__',\n",
       " '__init__',\n",
       " '__init_subclass__',\n",
       " '__le__',\n",
       " '__lt__',\n",
       " '__module__',\n",
       " '__ne__',\n",
       " '__new__',\n",
       " '__reduce__',\n",
       " '__reduce_ex__',\n",
       " '__repr__',\n",
       " '__setattr__',\n",
       " '__sizeof__',\n",
       " '__str__',\n",
       " '__subclasshook__',\n",
       " '__weakref__',\n",
       " 'alarm_clock',\n",
       " 'call_in',\n",
       " 'call_in_out',\n",
       " 'call_out',\n",
       " 'color',\n",
       " 'emergency_number',\n",
       " 'my_number',\n",
       " 'standard']"
      ]
     },
     "execution_count": 25,
     "metadata": {},
     "output_type": "execute_result"
    }
   ],
   "source": [
    "dir(two_phone)"
   ]
  },
  {
   "cell_type": "code",
   "execution_count": 26,
   "id": "b894980e",
   "metadata": {},
   "outputs": [
    {
     "data": {
      "text/plain": [
       "['__class__',\n",
       " '__delattr__',\n",
       " '__dict__',\n",
       " '__dir__',\n",
       " '__doc__',\n",
       " '__eq__',\n",
       " '__format__',\n",
       " '__ge__',\n",
       " '__getattribute__',\n",
       " '__gt__',\n",
       " '__hash__',\n",
       " '__init__',\n",
       " '__init_subclass__',\n",
       " '__le__',\n",
       " '__lt__',\n",
       " '__module__',\n",
       " '__ne__',\n",
       " '__new__',\n",
       " '__reduce__',\n",
       " '__reduce_ex__',\n",
       " '__repr__',\n",
       " '__setattr__',\n",
       " '__sizeof__',\n",
       " '__str__',\n",
       " '__subclasshook__',\n",
       " '__weakref__',\n",
       " 'call_in',\n",
       " 'call_in_out',\n",
       " 'call_out',\n",
       " 'color',\n",
       " 'emergency_number',\n",
       " 'my_number',\n",
       " 'standard']"
      ]
     },
     "execution_count": 26,
     "metadata": {},
     "output_type": "execute_result"
    }
   ],
   "source": [
    "dir(one_phone)"
   ]
  },
  {
   "cell_type": "markdown",
   "id": "9018fd32",
   "metadata": {},
   "source": [
    "Для того чтобы удалить добавленный в ходе работы с объектом динамический атрибут класса необходимо использовать ключевое слово del:\n",
    "```Python    \n",
    "del имя_объекта.имя_атрибута\n",
    "```"
   ]
  },
  {
   "cell_type": "code",
   "execution_count": 27,
   "id": "d4fd5ea3",
   "metadata": {},
   "outputs": [],
   "source": [
    "del two_phone.alarm_clock"
   ]
  },
  {
   "cell_type": "code",
   "execution_count": 28,
   "id": "7573b037",
   "metadata": {},
   "outputs": [
    {
     "data": {
      "text/plain": [
       "['__class__',\n",
       " '__delattr__',\n",
       " '__dict__',\n",
       " '__dir__',\n",
       " '__doc__',\n",
       " '__eq__',\n",
       " '__format__',\n",
       " '__ge__',\n",
       " '__getattribute__',\n",
       " '__gt__',\n",
       " '__hash__',\n",
       " '__init__',\n",
       " '__init_subclass__',\n",
       " '__le__',\n",
       " '__lt__',\n",
       " '__module__',\n",
       " '__ne__',\n",
       " '__new__',\n",
       " '__reduce__',\n",
       " '__reduce_ex__',\n",
       " '__repr__',\n",
       " '__setattr__',\n",
       " '__sizeof__',\n",
       " '__str__',\n",
       " '__subclasshook__',\n",
       " '__weakref__',\n",
       " 'call_in',\n",
       " 'call_in_out',\n",
       " 'call_out',\n",
       " 'color',\n",
       " 'emergency_number',\n",
       " 'my_number',\n",
       " 'standard']"
      ]
     },
     "execution_count": 28,
     "metadata": {},
     "output_type": "execute_result"
    }
   ],
   "source": [
    "dir(two_phone)"
   ]
  },
  {
   "cell_type": "markdown",
   "id": "5cb2a2dd",
   "metadata": {},
   "source": [
    "Альтернативным способом добавления, изменения либо удаления динамического атрибута объекта (экземпляра класса) является использование встроенных функций Python:\n",
    "\n",
    "- hasattr( имя-экземпляра , 'имя-атрибута' ) — возвращает True, если значение атрибута существует в экземпляре, в противном случае возвращает False;\n",
    "- getattr( имя-экземпляра , 'имя-атрибута' ) — возвращает значение атрибута экземпляра класса;\n",
    "- setattr( имя-экземпляра , 'имя-атрибута' , значение ) — модифицирует существующее значение атрибута либо создает новый атрибут для экземпляра;\n",
    "- delattr( имя-экземпляра , 'имя-атрибута' ) — удаляет атрибут из экземпляра."
   ]
  },
  {
   "cell_type": "markdown",
   "id": "2d8c41af",
   "metadata": {},
   "source": [
    "Примеры использования встроенных функций для работы с атрибутами объекта"
   ]
  },
  {
   "cell_type": "code",
   "execution_count": 29,
   "id": "63140e7f",
   "metadata": {},
   "outputs": [
    {
     "data": {
      "text/plain": [
       "False"
      ]
     },
     "execution_count": 29,
     "metadata": {},
     "output_type": "execute_result"
    }
   ],
   "source": [
    "hasattr(two_phone , 'alarm_clock')"
   ]
  },
  {
   "cell_type": "code",
   "execution_count": 30,
   "id": "d35cb2ab",
   "metadata": {},
   "outputs": [],
   "source": [
    "setattr(two_phone, 'alarm_clock', '07-06-2023')"
   ]
  },
  {
   "cell_type": "code",
   "execution_count": 31,
   "id": "ce56d4dc",
   "metadata": {},
   "outputs": [
    {
     "data": {
      "text/plain": [
       "True"
      ]
     },
     "execution_count": 31,
     "metadata": {},
     "output_type": "execute_result"
    }
   ],
   "source": [
    "hasattr(two_phone , 'alarm_clock')"
   ]
  },
  {
   "cell_type": "code",
   "execution_count": 32,
   "id": "08fdff06",
   "metadata": {},
   "outputs": [
    {
     "data": {
      "text/plain": [
       "'07-06-2023'"
      ]
     },
     "execution_count": 32,
     "metadata": {},
     "output_type": "execute_result"
    }
   ],
   "source": [
    "getattr( two_phone , 'alarm_clock' ) "
   ]
  },
  {
   "cell_type": "code",
   "execution_count": 33,
   "id": "4a082611",
   "metadata": {},
   "outputs": [],
   "source": [
    "delattr( two_phone , 'alarm_clock'  ) "
   ]
  },
  {
   "cell_type": "code",
   "execution_count": 34,
   "id": "02b2e95e",
   "metadata": {},
   "outputs": [
    {
     "data": {
      "text/plain": [
       "False"
      ]
     },
     "execution_count": 34,
     "metadata": {},
     "output_type": "execute_result"
    }
   ],
   "source": [
    "hasattr(two_phone , 'alarm_clock')"
   ]
  },
  {
   "cell_type": "markdown",
   "id": "bd34f7fb",
   "metadata": {},
   "source": [
    "### Методы класса"
   ]
  },
  {
   "cell_type": "markdown",
   "id": "f1eaa257",
   "metadata": {},
   "source": [
    "Метод – это функция, находящаяся внутри класса и выполняющая определенную работу.\n",
    "\n",
    "Согласно модели данных языка Python, он содержит три вида методов:\n",
    "\n",
    "- статические методы; \n",
    "\n",
    "- методы класса;\n",
    "\n",
    "- методы экземпляра класса. \n",
    "\n",
    "Статический метод создается с декоратором `@staticmethod`. \n",
    "\n",
    "Метод класса создается с декоратором `@classmethod`, первым аргументом в него передается `cls`. \n",
    "\n",
    "Метод экземпляра класса создается без специального декоратора, ему первым аргументом передается `self`.\n",
    "\n",
    "Статический метод и метод класса можно вызвать, не создавая экземпляр класса, для вызова метода экземпляра класса нужен объект."
   ]
  },
  {
   "cell_type": "markdown",
   "id": "a1764d0a",
   "metadata": {},
   "source": [
    "Добавим к нашему классу методы: статический метод – example_static_method, метод класса – example_class_method, методы экземпляра класса – example_method. "
   ]
  },
  {
   "cell_type": "code",
   "execution_count": 35,
   "id": "84cdee38",
   "metadata": {},
   "outputs": [],
   "source": [
    "class Phone(object):\n",
    "    # Статические атрибуты (переменные класса)\n",
    "    color = 'Green'\n",
    "    standard  = '5G'\n",
    "    count = 0\n",
    "    # Встроенный метод экземпляра класса (инициализации значений) __init__\n",
    "    def __init__(self, my_phone_number, emergency_phone_number):\n",
    "        # Динамические атрибуты (переменные объекта)\n",
    "        self.my_number = my_phone_number\n",
    "        self.emergency_number = emergency_phone_number\n",
    "        type(self).count += 1\n",
    "        \n",
    "    def __del__(self):\n",
    "        Phone.count -= 1\n",
    "\n",
    "    @staticmethod\n",
    "    def example_static_method():      # Статический метод \n",
    "        print(\"static method\")\n",
    "\n",
    "    @classmethod\n",
    "    def example_class_method(cls):    # Метод класса    \n",
    "        print(\"class method\", f\"(count = {cls.count})\")\n",
    "\n",
    "    def example_method(self):         # Метод экземпляра класса\n",
    "        print(\"method\")\n",
    "        \n",
    "    def call_in(self):                # Метод экземпляра класса\n",
    "        pass\n",
    "\n",
    "    def call_out(self):               # Метод экземпляра класса\n",
    "        pass            \n",
    "        "
   ]
  },
  {
   "cell_type": "code",
   "execution_count": 36,
   "id": "ee65e68e",
   "metadata": {
    "scrolled": true
   },
   "outputs": [
    {
     "name": "stdout",
     "output_type": "stream",
     "text": [
      "static method\n"
     ]
    }
   ],
   "source": [
    "Phone.example_static_method()"
   ]
  },
  {
   "cell_type": "code",
   "execution_count": 37,
   "id": "fda27281",
   "metadata": {},
   "outputs": [
    {
     "name": "stdout",
     "output_type": "stream",
     "text": [
      "class method (count = 0)\n"
     ]
    }
   ],
   "source": [
    "Phone.example_class_method()"
   ]
  },
  {
   "cell_type": "code",
   "execution_count": 38,
   "id": "87fcfa98",
   "metadata": {},
   "outputs": [
    {
     "name": "stdout",
     "output_type": "stream",
     "text": [
      "method\n"
     ]
    }
   ],
   "source": [
    "one_phone = Phone('+79060749420', '112')\n",
    "one_phone.example_method()"
   ]
  },
  {
   "cell_type": "code",
   "execution_count": 39,
   "id": "464ae389",
   "metadata": {},
   "outputs": [
    {
     "data": {
      "text/plain": [
       "1"
      ]
     },
     "execution_count": 39,
     "metadata": {},
     "output_type": "execute_result"
    }
   ],
   "source": [
    "Phone.count"
   ]
  },
  {
   "cell_type": "code",
   "execution_count": 40,
   "id": "38b3af20",
   "metadata": {},
   "outputs": [
    {
     "name": "stdout",
     "output_type": "stream",
     "text": [
      "class method (count = 2)\n"
     ]
    },
    {
     "data": {
      "text/plain": [
       "2"
      ]
     },
     "execution_count": 40,
     "metadata": {},
     "output_type": "execute_result"
    }
   ],
   "source": [
    "two_phone = Phone('+79040600007', '911')\n",
    "Phone.example_class_method()\n",
    "Phone.count"
   ]
  },
  {
   "cell_type": "code",
   "execution_count": 41,
   "id": "cf9520b3",
   "metadata": {},
   "outputs": [],
   "source": [
    "del two_phone"
   ]
  },
  {
   "cell_type": "code",
   "execution_count": 42,
   "id": "2a35ed7f",
   "metadata": {},
   "outputs": [
    {
     "data": {
      "text/plain": [
       "1"
      ]
     },
     "execution_count": 42,
     "metadata": {},
     "output_type": "execute_result"
    }
   ],
   "source": [
    "Phone.count"
   ]
  },
  {
   "cell_type": "markdown",
   "id": "ac4f33ee",
   "metadata": {},
   "source": [
    "####  Уровни доступа к атрибутам класса в Python\n",
    "\n",
    "В классических языках программирования (таких как C++ и Java) доступ к ресурсам класса реализуется с помощью служебных слов public, private и protected:\n",
    "\n",
    "- Public – публичные атрибуты и методы - открыты для работы с ними вне класса, как правило, объявляются публичными сразу по-умолчанию.\n",
    "\n",
    "- Private – приватные атрибуты и методы класса недоступны извне, с ними можно работать только внутри класса.\n",
    "\n",
    "- Protected – защищенные атрибуты и методы класса доступ к которым возможен только внутри этого класса и внутри унаследованных от него классов (классов-потомков).\n",
    "\n",
    "С точки зрения разграничения доступа к атрибутам класса Python является особенным языком - в нем отсутствует механизм, который мог бы запретить доступ к переменной или методу внутри класса. Вместо этого создатели Python предложили соглашение, в соответствии с которым:\n",
    "\n",
    "- Если переменная/метод начинается с одного нижнего подчеркивания (_protected_example), то она/он считается защищенным (protected).\n",
    "- Если переменная/метод начинается с двух нижних подчеркиваний (__private_example), то она/он считается приватным (private).\n",
    "- Если переменная/метод не начинаются со знака подчеркивания (public__example), то они относятся к публичным (public)."
   ]
  },
  {
   "cell_type": "markdown",
   "id": "bc1365b1",
   "metadata": {},
   "source": [
    "#### Свойства\n",
    "\n",
    "В Python есть средство, позволяющее получить атрибут, значение которого вычисляется динамически, то есть во время обращения к атрибуту. Такие атрибут называется свойством.\n",
    "\n",
    "Свойством называется такой метод класса, работа с которым подобна работе с атрибутом. Для объявления метода свойством необходимо использовать декоратор `@property`.\n",
    "\n",
    "\n",
    "Важным преимуществом работы через свойства является то, что можно осуществлять проверку входных значений, перед тем как присвоить их атрибутам."
   ]
  },
  {
   "cell_type": "markdown",
   "id": "580b1a19",
   "metadata": {},
   "source": [
    "Рассмотрим пример, для работы с полным именем, как с простым атрибутом, без использования синтаксиса вызова функции."
   ]
  },
  {
   "cell_type": "code",
   "execution_count": 43,
   "id": "18e32f35",
   "metadata": {},
   "outputs": [],
   "source": [
    "class Person:\n",
    "    def __init__(self, name, surname):\n",
    "        self.name = name\n",
    "        self.surname = surname\n",
    "    @property\n",
    "    def full_name(self):\n",
    "        return self.name + ' ' + self.surname"
   ]
  },
  {
   "cell_type": "markdown",
   "id": "e79a2af8",
   "metadata": {},
   "source": [
    "Как вы можете видеть, свойство объявляется как метод без параметров (кроме self, естественно), декорированный с помощью property. Такой метод, возвращающий динамически вычисляемое значение, называется геттером (getter) или получателем значения."
   ]
  },
  {
   "cell_type": "code",
   "execution_count": 44,
   "id": "3ae775c1",
   "metadata": {},
   "outputs": [
    {
     "data": {
      "text/plain": [
       "'Alice Dilon'"
      ]
     },
     "execution_count": 44,
     "metadata": {},
     "output_type": "execute_result"
    }
   ],
   "source": [
    "name_surname = Person('Alice', 'Dilon')\n",
    "name_surname.full_name  "
   ]
  },
  {
   "cell_type": "markdown",
   "id": "ae0e0e29",
   "metadata": {},
   "source": [
    "full_name выглядит как атрибут, но вычисляется динамически. И если мы поменяем name, то full_name также изменится:"
   ]
  },
  {
   "cell_type": "code",
   "execution_count": 45,
   "id": "ae85bdf2",
   "metadata": {},
   "outputs": [
    {
     "data": {
      "text/plain": [
       "'Bob Dilon'"
      ]
     },
     "execution_count": 45,
     "metadata": {},
     "output_type": "execute_result"
    }
   ],
   "source": [
    "name_surname.name = 'Bob'\n",
    "name_surname.full_name "
   ]
  },
  {
   "cell_type": "markdown",
   "id": "85a19b6a",
   "metadata": {},
   "source": [
    "Чтобы иметь возможность присвоить значение свойству, нужно использовать сеттер (setter). Сеттер — это тоже метод, который принимает новое значение для атрибута. Сеттеры часто используют для того, чтобы проверить корректность нового значения или произвести его преобразования перед фактическим сохранением в другие атрибуты.\n",
    "\n",
    "Чтобы метод стал сеттером, его тоже нужно соответствующим образом декорировать. Если уже есть геттер, то задать сеттер можно следующим образом:"
   ]
  },
  {
   "cell_type": "code",
   "execution_count": 46,
   "id": "43d1b690",
   "metadata": {},
   "outputs": [],
   "source": [
    "class Person:\n",
    "    def __init__(self, name, surname):\n",
    "        self.name = name\n",
    "        self.surname = surname\n",
    "\n",
    "    @property\n",
    "    def full_name(self):\n",
    "        return self.name + ' ' + self.surname\n",
    "\n",
    "    # сеттер для метода (геттера) full_name\n",
    "    @full_name.setter\n",
    "    def full_name(self, new):\n",
    "        self.name, self.surname = new.split(' ')"
   ]
  },
  {
   "cell_type": "code",
   "execution_count": 47,
   "id": "9e234e12",
   "metadata": {},
   "outputs": [
    {
     "name": "stdout",
     "output_type": "stream",
     "text": [
      "Alice Dilon\n",
      "Alice\n",
      "Kim\n"
     ]
    }
   ],
   "source": [
    "name_surname = Person('Alice', 'Dilon')\n",
    "print(name_surname.full_name)\n",
    "name_surname.full_name = 'Alice Kim'\n",
    "print(name_surname.name)\n",
    "print(name_surname.surname)"
   ]
  },
  {
   "cell_type": "markdown",
   "id": "4a40b6c2",
   "metadata": {},
   "source": [
    "#### Использование функции property() в качестве геттеров и сеттеров"
   ]
  },
  {
   "cell_type": "markdown",
   "id": "107661b5",
   "metadata": {},
   "source": [
    "В Python property() является встроенной функцией для создания и возврата свойства объекта. В Python функция property() принимает четыре аргумента (свойства): fget, fset, fdel, doc. Функция fget используется для получения значения атрибута. Функция fset используется для установки значения атрибута. Функция fdel используется для удаления значения атрибута. Атрибуту присваивается строка документации doc.\n",
    "\n",
    "Рассмотрим пример, демонстрирующий, как мы можем использовать функцию property() для достижения поведения геттеров и сеттеров."
   ]
  },
  {
   "cell_type": "code",
   "execution_count": 48,
   "id": "c03d7aba",
   "metadata": {},
   "outputs": [],
   "source": [
    "class Person2:\n",
    "    def __init__(self, name, surname):\n",
    "        self._name = name\n",
    "        self._surname = surname\n",
    "    def get_full_name(self):  \n",
    "        print(\"getter method\")  \n",
    "        return self._name + ' ' + self._surname  \n",
    "        # using the set function  \n",
    "    def set_full_name(self, new):  \n",
    "         print(\"setter method\")  \n",
    "         self._name, self._surname = new.split(' ') \n",
    "    def del_full_name(self):  \n",
    "        del self._name\n",
    "        del self._surname\n",
    "    full_name = property(get_full_name, set_full_name, del_full_name)"
   ]
  },
  {
   "cell_type": "code",
   "execution_count": 49,
   "id": "fec7d3fc",
   "metadata": {},
   "outputs": [
    {
     "name": "stdout",
     "output_type": "stream",
     "text": [
      "getter method\n",
      "Alice Dilon\n",
      "setter method\n",
      "Alice\n",
      "Kim\n"
     ]
    }
   ],
   "source": [
    "name_surname2 = Person2('Alice', 'Dilon')\n",
    "print(name_surname2.full_name)\n",
    "name_surname2.full_name = 'Alice Kim'\n",
    "print(name_surname2._name)\n",
    "print(name_surname2._surname)"
   ]
  },
  {
   "cell_type": "markdown",
   "id": "b55923bc",
   "metadata": {},
   "source": [
    "### Наследование в Python"
   ]
  },
  {
   "cell_type": "markdown",
   "id": "1eaecb91",
   "metadata": {},
   "source": [
    "Механизм наследования позволяет создать новый класс на основе уже существующего. При этом новый класс включает в себя как свойства и методы родительского класса, так и  собственные новые атрибуты и методы. Эти новые атрибуты и методы отличают созданный наследуемый класс от его родителя.\n",
    "\n",
    "При создании класса в Python с помощью механизма наследования, используют следующий синтаксис:"
   ]
  },
  {
   "cell_type": "markdown",
   "id": "3d936173",
   "metadata": {},
   "source": [
    "```Python\n",
    "class <имя_нового_класса>(<имя_родителя>):\n",
    "    pass\n",
    "```"
   ]
  },
  {
   "cell_type": "markdown",
   "id": "10858de9",
   "metadata": {},
   "source": [
    "В организации наследования участвуют как минимум два класса: класс родитель и класс потомок. При этом язык Python поддерживает множественное наследование, в этом случае у класса потомка может быть несколько родителей. По умолчанию все классы в Python являются наследниками от класса object."
   ]
  },
  {
   "cell_type": "markdown",
   "id": "5d5d8518",
   "metadata": {},
   "source": [
    "Пример наследования:"
   ]
  },
  {
   "cell_type": "code",
   "execution_count": 50,
   "id": "b16a4424",
   "metadata": {},
   "outputs": [],
   "source": [
    "# Родительский класс Figure\n",
    "class Figure:\n",
    "    def __init__(self, color):\n",
    "        self.__color = color\n",
    "    @property\n",
    "    def color(self):\n",
    "        return self.__color\n",
    "    @color.setter\n",
    "    def color(self, color):\n",
    "        self.__color = color"
   ]
  },
  {
   "cell_type": "code",
   "execution_count": 51,
   "id": "1ff9d9ba",
   "metadata": {},
   "outputs": [],
   "source": [
    "class Rectangle(Figure): \n",
    "    def __init__(self, width, height, color):\n",
    "        super().__init__(color)\n",
    "        self.__width = width\n",
    "        self.__height = height\n",
    "    @property\n",
    "    def width(self):\n",
    "        return self.__width\n",
    "    @width.setter\n",
    "    def width(self, w):\n",
    "            self.__width = w\n",
    "    @property\n",
    "    def height(self):\n",
    "        return self.__height\n",
    "    @height.setter\n",
    "    def height(self, h):\n",
    "            self.__height = h\n",
    "    def area(self):\n",
    "        return self.__width * self.__height\n",
    "    def perimeter(self):\n",
    "        return (self.__width + self.__height) * 2   "
   ]
  },
  {
   "cell_type": "markdown",
   "id": "73a6b6a5",
   "metadata": {},
   "source": [
    "Родительским классом является класс Figure, который при инициализации принимает цвет фигуры и предоставляет его через свойства. Rectangle – класс наследник от родительского класса Figure. В методе инициализаторе `__init__(self, width, height, color)` класса наследника вызывается инициализатор его родительского класса `__init__(color)` с помощью метода super(), который используется для обращения к родительскому классу.\n",
    "Объект класса Rectangle помимо свойств width и height описанных в его классе будет содержать и свойство color, наследуемое из родительского класса Figure."
   ]
  },
  {
   "cell_type": "code",
   "execution_count": 53,
   "id": "40a3e856",
   "metadata": {},
   "outputs": [
    {
     "name": "stdout",
     "output_type": "stream",
     "text": [
      "3\n",
      "5\n",
      "yellow\n",
      "purple\n"
     ]
    }
   ],
   "source": [
    "rect = Rectangle(3, 5, \"yellow\")\n",
    "print(rect.width)\n",
    "print(rect.height)\n",
    "print(rect.color)\n",
    "rect.color = \"purple\"\n",
    "print(rect.color)"
   ]
  },
  {
   "cell_type": "markdown",
   "id": "e0db6c34",
   "metadata": {},
   "source": [
    "#### Полиморфизм в Python"
   ]
  },
  {
   "cell_type": "markdown",
   "id": "11155279",
   "metadata": {},
   "source": [
    "Полиморфизм подразумевает возможность использовать один и тот же интерфейс для различных базовых элементов (таких как типы данных или классы).  При этом функции могут использовать объекты разных классов.\n",
    "\n",
    "Полиморфизм - это способность выполнять действие над объектом независимо от его типа.\n",
    "\n",
    "В Python это значит, что конкретный объект, принадлежащий определенному классу, может быть использован таким же образом, как если бы он был другим объектом, принадлежащим другому классу.\n",
    "\n",
    "Полиморфизм делает код гибким, такой код легко расширять и поддерживать."
   ]
  },
  {
   "cell_type": "code",
   "execution_count": 57,
   "id": "ffe2cdc1",
   "metadata": {},
   "outputs": [
    {
     "name": "stdout",
     "output_type": "stream",
     "text": [
      "0\n",
      "81\n",
      "9.0\n"
     ]
    }
   ],
   "source": [
    "class Shape:\n",
    "    \"\"\"\n",
    "    Это родительский класс, который предназначен для наследования другими классами\n",
    "    \"\"\"\n",
    "\n",
    "    def calculate_area(self):\n",
    "        \"\"\"\n",
    "        Этот метод предназначен для переопределения в подклассах.\n",
    "        \"\"\"\n",
    "        return 0\n",
    "\n",
    "class Square(Shape):\n",
    "    \"\"\"\n",
    "    Это подкласс класса Shape и представляет собой квадрат\n",
    "    \"\"\"\n",
    "    side_length = 9\n",
    "\n",
    "    def calculate_area(self):\n",
    "        \"\"\"\n",
    "        Этот метод переопределяет Shape.calculate_area(). Когда объект типа\n",
    "        Square есть свой метод calculate_area(), это метод и будет вызван,\n",
    "        а не метод родительского класса с тем же именем.\n",
    "        \"\"\"\n",
    "        return self.side_length ** 2\n",
    "\n",
    "class Triangle(Shape):\n",
    "    \"\"\"\n",
    "    Это подкласс класса Shape, представляющий собой треугольник\n",
    "    \"\"\"\n",
    "    base_length = 6\n",
    "    height = 3\n",
    "\n",
    "    def calculate_area(self):\n",
    "        \"\"\"\n",
    "        Это также подкласс класса Shape, и он представляет собой треугольник\n",
    "        \"\"\"\n",
    "        return 0.5 * self.base_length * self.height\n",
    "\n",
    "def get_area(input_obj):\n",
    "    \"\"\"\n",
    "    Эта функция принимает входной объект и вызовет функцию этого объекта\n",
    "    метод calculate_area(). Обратите внимание, что тип объекта не указан. Это\n",
    "    может быть квадрат, треугольник или другой объект другой формы.\n",
    "    \"\"\"\n",
    "\n",
    "    print(input_obj.calculate_area())\n",
    "\n",
    "# Создаем по одному объекту каждого класса\n",
    "shape_obj = Shape()\n",
    "square_obj = Square()\n",
    "triangle_obj = Triangle()\n",
    "\n",
    "# Теперь вызываем одну и ту же функцию get_area() от объектов разных классов.\n",
    "get_area(shape_obj)\n",
    "get_area(square_obj)\n",
    "get_area(triangle_obj)"
   ]
  },
  {
   "cell_type": "markdown",
   "id": "3ac040e7",
   "metadata": {},
   "source": [
    "© Ростелеком, Бочаров Михаил Иванович"
   ]
  },
  {
   "cell_type": "code",
   "execution_count": null,
   "id": "60eb58eb",
   "metadata": {},
   "outputs": [],
   "source": []
  }
 ],
 "metadata": {
  "kernelspec": {
   "display_name": "Python 3 (ipykernel)",
   "language": "python",
   "name": "python3"
  },
  "language_info": {
   "codemirror_mode": {
    "name": "ipython",
    "version": 3
   },
   "file_extension": ".py",
   "mimetype": "text/x-python",
   "name": "python",
   "nbconvert_exporter": "python",
   "pygments_lexer": "ipython3",
   "version": "3.11.6"
  }
 },
 "nbformat": 4,
 "nbformat_minor": 5
}
