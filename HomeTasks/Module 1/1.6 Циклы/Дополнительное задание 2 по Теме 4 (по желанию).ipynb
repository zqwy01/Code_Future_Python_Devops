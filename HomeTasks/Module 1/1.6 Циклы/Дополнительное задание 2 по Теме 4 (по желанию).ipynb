{
 "cells": [
  {
   "cell_type": "markdown",
   "id": "fbf512d0",
   "metadata": {},
   "source": [
    "<div class=\"alert alert-block alert-success\">\n",
    "<b>\n",
    "\n",
    "## Тема 7. Модули и пакеты\n",
    " \n",
    "    \n",
    "</b>\n",
    "</div>"
   ]
  },
  {
   "cell_type": "markdown",
   "id": "a9ba039c",
   "metadata": {},
   "source": [
    "#### Основные понятия"
   ]
  },
  {
   "cell_type": "markdown",
   "id": "8745cd02",
   "metadata": {},
   "source": [
    "Каждая программа имеет некую точку входа. Это место с которого начинает выполняться скрипт. Для того чтобы указать точку входа(может быть указана только в модулях) используется специальная переменная __name__, в которой содержится наименование текущего модуля или пакета. Если текущий модуль находится на верхнем уровне исполнения (когда мы  явно его передали скрипт на исполнение Python), то он называется `__main__` независимо от названия файла."
   ]
  },
  {
   "cell_type": "code",
   "execution_count": 1,
   "id": "74ee893d",
   "metadata": {},
   "outputs": [
    {
     "name": "stdout",
     "output_type": "stream",
     "text": [
      "Это главный модуль!\n"
     ]
    }
   ],
   "source": [
    "# Указание входной точки\n",
    "## Если имя текущего модуля __name__ равно \"__main__\" исполнить код\n",
    "if __name__ == \"__main__\":\n",
    "  print('Это главный модуль!')\n",
    "  # Вызов других функций, например main()"
   ]
  },
  {
   "cell_type": "markdown",
   "id": "2ff7ad95",
   "metadata": {},
   "source": [
    "#### Модуль"
   ]
  },
  {
   "attachments": {},
   "cell_type": "markdown",
   "id": "f5a08803",
   "metadata": {},
   "source": [
    "Модуль (англ. Module) - специальное средство языка программирования, позволяющее объединить вместе данные и функции и использовать их как одну функционально-законченную единицу (например, математический модуль, содержащий константы, тригонометрические и другие функции. В языке программирования Python модулями являются все файлы с расширением *.py (* обозначает, что на этом месте может стоять любой символ или любое их количество). Исключением является служебный файл `__init__.py`.\n",
    "\n",
    "Модуль - это отдельный файл с кодом на Python, содержащий функции и данные.\n",
    "\n",
    "Модуль: \n",
    "\n",
    "- имеет расширение *.py;\n",
    "- имеет имя модуля соответствующее имени файла. Например: если имя файла будет \"math.py\", то имя модуля будет \"math\";\n",
    "- может быть импортирован (загружен при помощи директивы import ...);\n",
    "- может быть многократно использован как в одном скрипте (при удалении модуля командой `del <имя модуля>` и последующей его повторной загрузке) так и в различных скриптах.\n",
    "\n",
    "Модули часто содержат исходный код Python, но они также могут содержать откомпилированные объектные файлы на языках C и C++. Откомпилированные модули и исходные модули Python используются одинаково.\n",
    "\n",
    "Помимо группировки взаимосвязанных объектов Python, модули способствуют предотвращению конфликтов имен. \n",
    "Так в одной программе может присутствовать модуль с именем onemodule, который определяет функцию reverse. В этой же программе может использоваться модуль twomodule, который также определяет функцию с именем reverse, работа которой отличается от от функции с таким же названием reverse в модуле onemodule. На языке без модулей невозможно использовать две разные функции с именем reverse. В Python это делается достаточно просто с указанием соответствующего имени модуля при вызове функции onemodule.reverse и twomodule.reverse. \n",
    "\n",
    "Использование имен модулей помогает отделить две функции reverse друг от друга, потому что Python использует пространства имен. Пространство имен фактически представляет собой словарь идентификаторов, доступных в блоке, функции, классе, модуле и т. д. Каждый модуль имеет собственное пространство имен, предотвращающее конфликты имен.\n",
    "Кроме того, модули упрощают работу с Python. Многие стандартные функции Python не встроены в основное ядро языка, а предоставляются конкретными модулями, загружаемыми по мере необходимости."
   ]
  },
  {
   "cell_type": "markdown",
   "id": "7c9d027b",
   "metadata": {},
   "source": [
    "Итак, модуль - это отдельный файл с кодом на Python, который:\n",
    "\n",
    "    Имеет расширение *.py (имя файла без расширения является именем модуля).\n",
    "    Может быть импортирован.\n",
    "    Может быть многократно использован.\n",
    "    Позволяет организовать код на Python в виде взаимосвязанных логически структурированных частей кода."
   ]
  },
  {
   "cell_type": "markdown",
   "id": "d07ad0a1",
   "metadata": {},
   "source": [
    "#### Пакет"
   ]
  },
  {
   "cell_type": "markdown",
   "id": "f6eca5c2",
   "metadata": {},
   "source": [
    "Помимо возможности импортирования имен модулей в Python присутствует еще и возможность импортирования имен директорий. Такой подход позволяет более эффективно организовывать файлы в крупных системах, а также во многих случаях упрощает настройку пути поиска модулей и уменьшает вероятность конфликта имен при наличии нескольких файлов программ с одинаковыми именами.\n",
    "\n",
    "Пакеты (англ. Package) являются еще более крупной единицей чем модули и представляют собой набор взаимосвязанных модулей, предназначенных для решения задач определенного класса некоторой предметной области (например, пакет для решения систем уравнений, который может включать математический модуль, модуль со специальными типами данных и т.д.). В языке программирования Python пакетами являются все директории (вне зависимости от наличия в них модулей), содержащие файл `__init__.py`, который исполняется при импорте пакета и несет его название (`__name__`). Пакеты в Python - это способ структуризации модулей. Пакет представляет собой папку, в которой могут содержатся модули и другие пакеты и обязательный файл `__init.py__`, отвечающий за инициализацию пакета.\n",
    "\n",
    "Так, например,  одержимого каталога стандартного пакет xml имеет следующую структуру (где каждый вложенный пакет или модуль отвечает за свою часть реализации работы с XML-форматом, однако рассматривается как единое целое в виде пакета):\n"
   ]
  },
  {
   "cell_type": "raw",
   "id": "87e91823",
   "metadata": {},
   "source": [
    "C:\\USERS\\LOCAL\\PYTHON\\PYTHON39\\LIB\\xml\n",
    "│   `__init__.py`               Файл инициализации пакета xml\n",
    "│\n",
    "├───dom                       Вложенный пакет xml.dom\n",
    "│       domreg.py\n",
    "│       expatbuilder.py\n",
    "│       minicompat.py\n",
    "│       minidom.py\n",
    "│       NodeFilter.py\n",
    "│       pulldom.py\n",
    "│       xmlbuilder.py\n",
    "│       `__init__.py`\n",
    "│\n",
    "├───etree                     Вложенный пакет xml.etree\n",
    "│       cElementTree.py\n",
    "│       ElementInclude.py\n",
    "│       ElementPath.py\n",
    "│       ElementTree.py\n",
    "│       `__init__.py`\n",
    "│\n",
    "├───parsers                   Вложенный пакет xml.parsers\n",
    "│       expat.py\n",
    "│       `_init__.py`\n",
    "│\n",
    "└───sax                       Вложенный пакет xml.sax\n",
    "        expatreader.py\n",
    "        handler.py\n",
    "        saxutils.py\n",
    "        xmlreader.py\n",
    "        `_exceptions.py`\n",
    "        `__init__.py`"
   ]
  },
  {
   "cell_type": "markdown",
   "id": "5261e60a",
   "metadata": {},
   "source": [
    "Пример содержимого каталога стандартного пакета json, который, состоит из 4 модулей и файла `__init__.py`:"
   ]
  },
  {
   "cell_type": "raw",
   "id": "5e9faa6c",
   "metadata": {},
   "source": [
    "json/\n",
    "├── __init__.py\n",
    "├── decoder.py\n",
    "├── encoder.py\n",
    "├── scanner.py\n",
    "└── tool.py"
   ]
  },
  {
   "cell_type": "markdown",
   "id": "04a92c66",
   "metadata": {},
   "source": [
    "Итак, пакет - это каталог с модулями, другими пакетами и файлом `__init__.py`. При этом:\n",
    "\n",
    "- Именем пакета является название каталога в котором расположены файлы и каталоги пакета.\n",
    "- С версии Python 3.3 любая папка (даже без `__init__.py`) считается пакетом.\n",
    "- Пакет может быть импортирован (так же как и модуль).\n",
    "- Пакет может быть многократно использован (так же как и модуль)."
   ]
  },
  {
   "cell_type": "markdown",
   "id": "ba2fb8b7",
   "metadata": {},
   "source": [
    "### Сокрытие данных в модулях"
   ]
  },
  {
   "cell_type": "markdown",
   "id": "ba222971",
   "metadata": {},
   "source": [
    " Как и в случае доступа к элементам класса, ограничение доступа к элементам модулей в Python регулируется в основном на уровне соглашений, а не синтаксических конструкций. В основном это касается случаев, когда нужно уменьшить вероятность неуникальных значений пространства имен или случайного изменения значений переменных при импорте инструкциями `from package import *` (импорт всех доступных модулей пакета) и `from module import *` (импорт всех доступных имен модуля). Для этих случаев предусмотрено несколько основных соглашений для сокрытия данных:\n",
    "\n",
    "- Имена переменных, которые начинаются с одного символа нижнего подчеркивания, импортироваться инструкцией `from module import *` не будут.\n",
    "- Если на верхнем уровне модуля указать переменную `__all__`, присвоив ей список строк с именами переменных, то инструкция `from module import *` будет копировать только эти имена.\n",
    "- Если на верхнем уровне файла инициализации `__init__.py` пакета указать переменную `__all__`, присвоив ей список строк с именами модулей, то инструкция `from package import *` импортирует указанные в ней модули."
   ]
  },
  {
   "cell_type": "markdown",
   "id": "754b26d8",
   "metadata": {},
   "source": [
    "Файл `__init__.py` может быть пустым, может содержать описание пакета и код на языке Python реализующий работу  его функций.\n",
    " \n",
    "Файл `__init__.py` может содержать переменную `__all__` в которой указывается список публичных объектов данного модуля (пакеты, модули, функции, методы, атрибуты). Например, в модуле module1.py, может быть описано много объектов, и не требуется давать доступ ко всем из них со стороны. В `__all__` в module1.py списком определяются названия объектов, которые можно импортировать (`__all__` = `[\"fanction1\", \"MyClass1\", \"module1\"]`). Т.е., например, командой from module1 import * импортированы будут только те объекты, которые указаны в `__all__`.\n",
    "\n",
    "Так `__init__.py`  стандартного пакета  `xml` в `__all__`, хранится список модулей, которые импортируются при загрузке."
   ]
  },
  {
   "cell_type": "code",
   "execution_count": 2,
   "id": "bf1daa93",
   "metadata": {},
   "outputs": [],
   "source": [
    "# Файл __init__.py пакета  xml\n",
    "\"\"\"Core XML support for Python.\n",
    "\n",
    "This package contains four sub-packages:\n",
    "\n",
    "dom -- The W3C Document Object Model.  This supports DOM Level 1 +\n",
    "       Namespaces.\n",
    "\n",
    "parsers -- Python wrappers for XML parsers (currently only supports Expat).\n",
    "\n",
    "sax -- The Simple API for XML, developed by XML-Dev, led by David\n",
    "       Megginson and ported to Python by Lars Marius Garshol.  This\n",
    "       supports the SAX 2 API.\n",
    "\n",
    "etree -- The ElementTree XML library.  This is a subset of the full\n",
    "       ElementTree XML release.\n",
    "\n",
    "\"\"\"\n",
    "\n",
    "__all__ = [\"dom\", \"parsers\", \"sax\", \"etree\"]\n"
   ]
  },
  {
   "cell_type": "markdown",
   "id": "fb27b161",
   "metadata": {},
   "source": [
    "Одна из основных целей использования как модулей, так и пакетов - реализация модели пространства имен, позволяющей логически группировать и в то же время изолировать различные идентификаторы. Например, при наличии глобальной переменной reverse как в модуле onemodule так и в модуле twomodule не произойдет конфликта, т.к. они находятся в разном пространстве имен: onemodule.reverse и twomodule.reverse соответственно.\n"
   ]
  },
  {
   "cell_type": "markdown",
   "id": "ce1889f7",
   "metadata": {},
   "source": [
    "#### Классификация модулей и пакетов\n",
    "\n",
    "Все модули и пакеты в Python можно разделить на 4 категории:\n",
    "\n",
    "##### 1.    Встроенные (англ. Built-in)\n",
    "\n",
    "- Модули, встроенные в язык и предоставляющие базовые возможности языка (написаны на языке Си).\n",
    "\n",
    "- К встроенным относятся как модули общего назначения (например, math или random), так и плаиформозависимые модули (например, модуль winreg, предназначенный для работы с реестром ОС Windows, устанавливается только на соответствующей ОС).\n",
    "\n",
    "- Список установленных встроенных модулей можно посмотреть следующим образом:"
   ]
  },
  {
   "cell_type": "code",
   "execution_count": 3,
   "id": "2e6180bf",
   "metadata": {},
   "outputs": [
    {
     "name": "stdout",
     "output_type": "stream",
     "text": [
      "('_abc', '_ast', '_bisect', '_blake2', '_codecs', '_codecs_cn', '_codecs_hk', '_codecs_iso2022', '_codecs_jp', '_codecs_kr', '_codecs_tw', '_collections', '_contextvars', '_csv', '_datetime', '_functools', '_heapq', '_imp', '_io', '_json', '_locale', '_lsprof', '_md5', '_multibytecodec', '_opcode', '_operator', '_pickle', '_random', '_sha1', '_sha256', '_sha3', '_sha512', '_signal', '_sre', '_stat', '_statistics', '_string', '_struct', '_symtable', '_thread', '_tokenize', '_tracemalloc', '_typing', '_warnings', '_weakref', '_winapi', '_xxsubinterpreters', 'array', 'atexit', 'audioop', 'binascii', 'builtins', 'cmath', 'errno', 'faulthandler', 'gc', 'itertools', 'marshal', 'math', 'mmap', 'msvcrt', 'nt', 'sys', 'time', 'winreg', 'xxsubtype', 'zlib')\n"
     ]
    }
   ],
   "source": [
    "import sys\n",
    "print(sys.builtin_module_names) "
   ]
  },
  {
   "cell_type": "markdown",
   "id": "7764bc7e",
   "metadata": {},
   "source": [
    "##### 2. Стандартная библиотека (англ. Standard Library)\n",
    "\n",
    "    Модули и пакеты, включенные в дистрибутив языка Python, предоставляющие расширенные возможности стандартного языка Python, например, xml, json или os."
   ]
  },
  {
   "cell_type": "code",
   "execution_count": 4,
   "id": "2212e88c",
   "metadata": {},
   "outputs": [
    {
     "data": {
      "text/plain": [
       "'C:\\\\Users\\\\miboc\\\\! Ростелеком (Jupiter)2\\\\Код будущего\\\\Тема 7'"
      ]
     },
     "execution_count": 4,
     "metadata": {},
     "output_type": "execute_result"
    }
   ],
   "source": [
    "import os\n",
    "cwd = os.getcwd()\n",
    "cwd"
   ]
  },
  {
   "cell_type": "code",
   "execution_count": 5,
   "id": "0c11e703",
   "metadata": {},
   "outputs": [
    {
     "name": "stdout",
     "output_type": "stream",
     "text": [
      "C:\\ProgramData\\anaconda3\\python.exe\n"
     ]
    }
   ],
   "source": [
    "import sys\n",
    " \n",
    "print(sys.executable)"
   ]
  },
  {
   "cell_type": "markdown",
   "id": "2e12acc1",
   "metadata": {},
   "source": [
    "#### Рассмотрим несколько примеров модулей и пакетов из Стандартной библиотеки Python:"
   ]
  },
  {
   "cell_type": "markdown",
   "id": "55094011",
   "metadata": {},
   "source": [
    "sys\t- Обеспечивает доступ к некоторым переменным и функциям, взаимодействующим с интерпретатором Python, например - доступ к аргументам командной строки, списку встроенных модулей Python, текущим исключениям, информации об операционной системе.\n",
    "\n",
    "\n",
    "os\t- Предоставляет множество функций для работы с операционной системой. Например, получение версии и другой информации о текущей ОС, работа с переменными окружения и файловой системой.\n",
    "\n",
    "\n",
    "os.path\t- Является вложенным в модуль os(по сути os является пакетом), и реализует некоторые полезные функции для работы с файлами - доступ к характеристикам файла и манипуляции с путями.\n",
    "\n",
    "\n",
    "time, datetime\tДанные модули предоставляют классы для обработки времени и даты разными способами.\n",
    "\n",
    "\n",
    "random\t- Предоставляет функции для генерации случайных чисел, букв, случайного выбора элементов последовательности.\n",
    "\n",
    "\n",
    "collections\tПредоставляет специализированные типы данных - счетчики, очереди, упорядоченные словари.\n",
    "\n",
    "\n",
    "json\t- Позволяет кодировать и декодировать данные в формате JSON.\n",
    "\n",
    "\n",
    "unittest -\tПредоставляет богатый набор инструментов для написания и запуска автоматизированных тестов.\n",
    "\n",
    "\n",
    "re\tМодуль re используется для работы с регулярными выражениями.\n",
    "\n",
    "\n",
    "hashlib\t-Предназначен для шифрования строк.\n",
    "\n",
    "\n",
    "bz2, gzip, tarfile, zipfile\t- Данные модули созданы для архивации и распаковки данных в разных форматах."
   ]
  },
  {
   "cell_type": "markdown",
   "id": "a6e1c7fa",
   "metadata": {},
   "source": [
    "##### 3. Сторонние (англ. 3rd Party)\n",
    "\n",
    "    Модули и пакеты, которые не входят в дистрибутив Python, и могут быть установлены из каталога пакетов Python (англ. PyPI - the Python Package Index, более 450000 пакетов на май 2023 года) с помощью утилиты pip:"
   ]
  },
  {
   "cell_type": "markdown",
   "id": "3f471dab",
   "metadata": {},
   "source": [
    "Так установим пакет Art использующийся для печати изображений декоративного искусства на терминале, а также для сохранения в файле."
   ]
  },
  {
   "cell_type": "code",
   "execution_count": 6,
   "id": "220fdd00",
   "metadata": {
    "scrolled": true
   },
   "outputs": [
    {
     "name": "stdout",
     "output_type": "stream",
     "text": [
      "Defaulting to user installation because normal site-packages is not writeable\n",
      "Requirement already satisfied: art in c:\\users\\miboc\\appdata\\roaming\\python\\python311\\site-packages (6.1)\n",
      "Note: you may need to restart the kernel to use updated packages.\n"
     ]
    }
   ],
   "source": [
    "pip install art"
   ]
  },
  {
   "cell_type": "code",
   "execution_count": 7,
   "id": "5e555cf2",
   "metadata": {},
   "outputs": [
    {
     "name": "stdout",
     "output_type": "stream",
     "text": [
      "\n",
      " .----------------.  .----------------.  .----------------.  .----------------.  .----------------.  .-----------------.\n",
      "| .--------------. || .--------------. || .--------------. || .--------------. || .--------------. || .--------------. |\n",
      "| |   ______     | || |  ____  ____  | || |  _________   | || |  ____  ____  | || |     ____     | || | ____  _____  | |\n",
      "| |  |_   __ \\   | || | |_  _||_  _| | || | |  _   _  |  | || | |_   ||   _| | || |   .'    `.   | || ||_   \\|_   _| | |\n",
      "| |    | |__) |  | || |   \\ \\  / /   | || | |_/ | | \\_|  | || |   | |__| |   | || |  /  .--.  \\  | || |  |   \\ | |   | |\n",
      "| |    |  ___/   | || |    \\ \\/ /    | || |     | |      | || |   |  __  |   | || |  | |    | |  | || |  | |\\ \\| |   | |\n",
      "| |   _| |_      | || |    _|  |_    | || |    _| |_     | || |  _| |  | |_  | || |  \\  `--'  /  | || | _| |_\\   |_  | |\n",
      "| |  |_____|     | || |   |______|   | || |   |_____|    | || | |____||____| | || |   `.____.'   | || ||_____|\\____| | |\n",
      "| |              | || |              | || |              | || |              | || |              | || |              | |\n",
      "| '--------------' || '--------------' || '--------------' || '--------------' || '--------------' || '--------------' |\n",
      " '----------------'  '----------------'  '----------------'  '----------------'  '----------------'  '----------------' \n",
      "\n"
     ]
    }
   ],
   "source": [
    "import art\n",
    "print(art.text2art(\"Python\", font='block'))"
   ]
  },
  {
   "cell_type": "markdown",
   "id": "4cbcdcf9",
   "metadata": {},
   "source": [
    "#### Приведем несколько примеров популярных пакетов из каталога PyPI."
   ]
  },
  {
   "cell_type": "markdown",
   "id": "3abcd6cf",
   "metadata": {},
   "source": [
    "Pandas\t - Пакет для анализа данных на Python.\n",
    "\n",
    "\n",
    "numpy\t - Пакет для вычислений с многомерными массивами.\n",
    "\n",
    "python-dateutil -Расширяет функционал по работе со временем и датой относительно модуля datetime из Стандартной библиотеки Python.\n",
    "\n",
    "scikit-learn - Библиотека машинного обучения\n",
    "\n",
    "\n",
    "Tensorflow  —  фреймворк для глубокого машинного обучения\n",
    "\n",
    "\n",
    "urllib3\t - HTTP клиент для Python\n",
    "\n",
    "\n",
    "requests - HTTP клиент для Python. Технически является более удобной оберткой над urllib3.\n",
    "\n",
    "\n",
    "docutils - Библиотека-процессор для документов написанных с помощью разметки ReST.\n",
    "\n",
    "\n",
    "pyyaml\t - YAML парсер (генератор)\n",
    "\n",
    "\n",
    "flask\t - Фреймворк для создания веб-приложений на Python\n",
    "\n",
    "\n",
    "pytest\t - Библиотека для создания и запуска автоматизированных unit тестов (альтернатива unittest)"
   ]
  },
  {
   "cell_type": "markdown",
   "id": "eb0780a9",
   "metadata": {},
   "source": [
    "    При установке пакета автоматически устанавливаются зависимые пакеты.\n",
    "\n",
    "##### 4. Пользовательские (собственные)\n",
    "\n",
    "Модули и пакеты, создаваемые разработчиком.\n",
    "    \n",
    "В собственной программе рекомендуется выполнять импорт именно в таком порядке: от встроенных до собственных модулей/пакетов.\n",
    "\n",
    "Для использования модуля или пакета в коде необходимо его предварительно подключить (импортировать).\n",
    "\n",
    "\n",
    "Импорт модуля или пакета выполняется единожды инструкцией import, располагаемой, как правило, в начале файла.\n",
    "\n",
    "Выполнить подключение модуля можно несколькими способами:"
   ]
  },
  {
   "cell_type": "markdown",
   "id": "82dba2e4",
   "metadata": {},
   "source": [
    "В собственной программе рекомендуется выполнять импорт именно в таком порядке: от встроенных до собственных модулей и пакетов.\n",
    "\n",
    "Для использования модуля или пакета в коде необходимо его предварительно подключить (импортировать).\n",
    "\n",
    "Импорт модуля или пакета выполняется единожды инструкцией import, располагаемой, как правило, в начале файла.\n",
    "\n",
    "Выполнить подключение модуля можно несколькими способами:"
   ]
  },
  {
   "cell_type": "markdown",
   "id": "621dd042",
   "metadata": {},
   "source": [
    "### Способ №1"
   ]
  },
  {
   "cell_type": "raw",
   "id": "48d04068",
   "metadata": {},
   "source": [
    "# Способ №1\n",
    "# В данном способе обратиться к члену модуля можно с указанием модуля,\n",
    "# например, module_1.object_1\n",
    "\n",
    "# Импортирует модуль 'module_1'\n",
    "import module_1\n",
    "\n",
    "# Импортирует модули 'module_1', 'module_2',..., 'module_n'\n",
    "import module_1, module_2, ..., module_n\n",
    "\n",
    "# Импортирует модуль 'module_1' под псевдонимом 'alias1'\n",
    "import module_1 as alias1"
   ]
  },
  {
   "cell_type": "markdown",
   "id": "c28c6634",
   "metadata": {},
   "source": [
    "### Способ №2"
   ]
  },
  {
   "cell_type": "raw",
   "id": "2f88e651",
   "metadata": {},
   "source": [
    "# Способ №2\n",
    "# В данном способе обратиться к элементу модуля можно без указания модуля,\n",
    "# например, object_1\n",
    "\n",
    "# Импортирует 'object' под псевдонимом 'alias' из модуля 'module_1'\n",
    "from module_1 import object_1 as alias\n",
    "\n",
    "# Импортирует объекты 'object_1', ..., 'object_n' из модуля 'module_1'\n",
    "from module_1 import object_1, object_2, ..., object_n\n",
    "\n",
    "# Импортирует все объекты из модуля 'module_1'\n",
    "from module_1 import *"
   ]
  },
  {
   "cell_type": "markdown",
   "id": "c2727ab0",
   "metadata": {},
   "source": [
    "Пакет подключается аналогичным образом. Кроме того, имеется возможность импорта отдельных модулей из пакета, если нет необходимости использовать весь пакет:"
   ]
  },
  {
   "cell_type": "raw",
   "id": "71ae70d5",
   "metadata": {},
   "source": [
    "# Импортирует пакет 'package_1'\n",
    "import package_1\n",
    "\n",
    "# Импортирует модуль 'module_1' из пакета 'package_1'\n",
    "import package_1.module_1"
   ]
  },
  {
   "cell_type": "markdown",
   "id": "e54ac053",
   "metadata": {},
   "source": [
    "#### Различные варианты подключения модуля и пакета "
   ]
  },
  {
   "cell_type": "code",
   "execution_count": 8,
   "id": "9387ac06",
   "metadata": {},
   "outputs": [
    {
     "name": "stdout",
     "output_type": "stream",
     "text": [
      "sin(30) = 0.50\n"
     ]
    }
   ],
   "source": [
    "import math\n",
    "\n",
    "# Использование любого элемента модуля math возможно через\n",
    "# предварительное указание его имени: math.<...>\n",
    "#\n",
    "# Это - рекомендуемый способ импортирования модуля\n",
    "\n",
    "print(\"sin(30) = {:.2f}\".format(math.sin(math.radians(30))))  # sin(30) = 0.5"
   ]
  },
  {
   "cell_type": "code",
   "execution_count": 9,
   "id": "f2879c09",
   "metadata": {},
   "outputs": [
    {
     "name": "stdout",
     "output_type": "stream",
     "text": [
      "sin(30) = 0.50\n"
     ]
    }
   ],
   "source": [
    "from math import sin\n",
    "import math\n",
    "\n",
    "# Доступ к функции sin() возможен без указания модуля, а\n",
    "# к функции radians() только с указанием\n",
    "#\n",
    "# Данный способ рекомендуется использовать:\n",
    "# - для повышения читаемости кода;\n",
    "# - если вероятность конфликта имен с другими участками кода мала.\n",
    "\n",
    "print(\"sin(30) = {:.2f}\".format(sin(math.radians(30))))  # sin(30) = 0.5"
   ]
  },
  {
   "cell_type": "code",
   "execution_count": 10,
   "id": "8c3dbfd9",
   "metadata": {},
   "outputs": [
    {
     "name": "stdout",
     "output_type": "stream",
     "text": [
      "sin(30) = 0.50\n"
     ]
    }
   ],
   "source": [
    "from math import *\n",
    "\n",
    "# Любую функцию из модуля math можно указывать без ссылки на модуль\n",
    "#\n",
    "# Данный способ, хотя и экономит место, НЕ рекомендуется в виду\n",
    "# высокой вероятности конфликта имен (импортированные таким образом\n",
    "# члены модуля могут совпасть по имени с другими объектами) и неоднозначности\n",
    "# поиска идентификатора (откуда импортирован sin?)\n",
    "\n",
    "print(\"sin(30) = {:.2f}\".format(sin(radians(30))))  # sin(30) = 0.5"
   ]
  },
  {
   "cell_type": "code",
   "execution_count": 11,
   "id": "001903ae",
   "metadata": {},
   "outputs": [
    {
     "name": "stdout",
     "output_type": "stream",
     "text": [
      "\\\n"
     ]
    }
   ],
   "source": [
    "import json  # импорт пакета целиком\n",
    "from json import encoder as en # импорт модуля encoder из пакета json под псевдонимом en\n",
    "from json import encoder as enс, decoder as dec # импорт двух модулей encoder и decoder из пакета json\n",
    "\n",
    "import os.path  # импорт модуля os.path из пакета os\n",
    "\n",
    "# Разделитель пути для текущей ОС\n",
    "print(os.path.sep)  # \"\\\""
   ]
  },
  {
   "cell_type": "markdown",
   "id": "8ed91e46",
   "metadata": {},
   "source": [
    "#### Пример загрузки вложенных пакетов"
   ]
  },
  {
   "cell_type": "raw",
   "id": "75fd9c24",
   "metadata": {},
   "source": [
    "# Будем считать, что в домашнем каталоге программы\n",
    "# мы создали пакет dir_1 с модулем file_1.py,  \n",
    "# в нем пакет dir_2 с модулем file_2.py и в нем\n",
    "# пакет dir_3 с модулем file_3.py. \n",
    "       \n",
    "# Инструкции модуля file_1.    \n",
    "# var_1 = 1\n",
    "\n",
    "# Инструкции модуля file_2.    \n",
    "# Импортируем имя var_1 из модуля file_1 в dir_1.\n",
    "# from ..file_1 import var_1         \n",
    "# Импортируем имя var_3 из модуля file_3 в dir_3.\n",
    "# from .dir_3.file_3 import var_3         \n",
    "# var_2 = 2\n",
    "        \n",
    "# Инструкции модуля file_3.    \n",
    "# Импортируем имя var_1 из модуля file_1 в dir_1.\n",
    "# from ...file_1 import var_1 \n",
    "# var_3 = 3"
   ]
  },
  {
   "cell_type": "code",
   "execution_count": 12,
   "id": "054abfb7",
   "metadata": {},
   "outputs": [
    {
     "name": "stdout",
     "output_type": "stream",
     "text": [
      "mod_1.var_1: 1\n",
      "\n",
      "mod_2.var_1: 1\n",
      "mod_2.var_2: 2\n",
      "mod_2.var_3: 3\n",
      "\n",
      "mod_3.var_1: 1\n",
      "mod_3.var_3: 3\n",
      "var_3: 3\n"
     ]
    }
   ],
   "source": [
    "# Импортируем модули.\n",
    "import dir_1.file_1 as mod_1       \n",
    "import dir_1.dir_2.file_2 as mod_2 \n",
    "import dir_1.dir_2.dir_3.file_3 as mod_3 \n",
    "\n",
    "# Абсолютный импорт одной переменной.\n",
    "from dir_1.dir_2.dir_3.file_3 import var_3         \n",
    "# Относительный импорт вне пакета запрещен!\n",
    "# from .dir_1.dir_2.dir_3.file_3 import var_3         \n",
    "        \n",
    "# Выводим переменные первого модуля. \n",
    "print('mod_1.var_1:', mod_1.var_1, end='\\n\\n')\n",
    "# Выводим переменные второго модуля. \n",
    "print('mod_2.var_1:', mod_2.var_1)\n",
    "print('mod_2.var_2:', mod_2.var_2)\n",
    "print('mod_2.var_3:', mod_2.var_3, end='\\n\\n')       \n",
    "\n",
    "# Выводим переменные третьего модуля. \n",
    "print('mod_3.var_1:', mod_3.var_1)\n",
    "print('mod_3.var_3:', mod_3.var_3)          \n",
    "print('var_3:', var_3)"
   ]
  },
  {
   "cell_type": "markdown",
   "id": "9b9ac5c1",
   "metadata": {},
   "source": [
    "#### Посмотреть содержимое модуля или пакета и справку по нему возможно с помощью функций dir() и help():"
   ]
  },
  {
   "cell_type": "code",
   "execution_count": 13,
   "id": "6d026b97",
   "metadata": {},
   "outputs": [
    {
     "data": {
      "text/plain": [
       "['__doc__',\n",
       " '__loader__',\n",
       " '__name__',\n",
       " '__package__',\n",
       " '__spec__',\n",
       " 'acos',\n",
       " 'acosh',\n",
       " 'asin',\n",
       " 'asinh',\n",
       " 'atan',\n",
       " 'atan2',\n",
       " 'atanh',\n",
       " 'cbrt',\n",
       " 'ceil',\n",
       " 'comb',\n",
       " 'copysign',\n",
       " 'cos',\n",
       " 'cosh',\n",
       " 'degrees',\n",
       " 'dist',\n",
       " 'e',\n",
       " 'erf',\n",
       " 'erfc',\n",
       " 'exp',\n",
       " 'exp2',\n",
       " 'expm1',\n",
       " 'fabs',\n",
       " 'factorial',\n",
       " 'floor',\n",
       " 'fmod',\n",
       " 'frexp',\n",
       " 'fsum',\n",
       " 'gamma',\n",
       " 'gcd',\n",
       " 'hypot',\n",
       " 'inf',\n",
       " 'isclose',\n",
       " 'isfinite',\n",
       " 'isinf',\n",
       " 'isnan',\n",
       " 'isqrt',\n",
       " 'lcm',\n",
       " 'ldexp',\n",
       " 'lgamma',\n",
       " 'log',\n",
       " 'log10',\n",
       " 'log1p',\n",
       " 'log2',\n",
       " 'modf',\n",
       " 'nan',\n",
       " 'nextafter',\n",
       " 'perm',\n",
       " 'pi',\n",
       " 'pow',\n",
       " 'prod',\n",
       " 'radians',\n",
       " 'remainder',\n",
       " 'sin',\n",
       " 'sinh',\n",
       " 'sqrt',\n",
       " 'tan',\n",
       " 'tanh',\n",
       " 'tau',\n",
       " 'trunc',\n",
       " 'ulp']"
      ]
     },
     "execution_count": 13,
     "metadata": {},
     "output_type": "execute_result"
    }
   ],
   "source": [
    "import math\n",
    "dir(math)"
   ]
  },
  {
   "cell_type": "code",
   "execution_count": 14,
   "id": "ce3fb5ac",
   "metadata": {},
   "outputs": [
    {
     "name": "stdout",
     "output_type": "stream",
     "text": [
      "Help on built-in module math:\n",
      "\n",
      "NAME\n",
      "    math\n",
      "\n",
      "DESCRIPTION\n",
      "    This module provides access to the mathematical functions\n",
      "    defined by the C standard.\n",
      "\n",
      "FUNCTIONS\n",
      "    acos(x, /)\n",
      "        Return the arc cosine (measured in radians) of x.\n",
      "        \n",
      "        The result is between 0 and pi.\n",
      "    \n",
      "    acosh(x, /)\n",
      "        Return the inverse hyperbolic cosine of x.\n",
      "    \n",
      "    asin(x, /)\n",
      "        Return the arc sine (measured in radians) of x.\n",
      "        \n",
      "        The result is between -pi/2 and pi/2.\n",
      "    \n",
      "    asinh(x, /)\n",
      "        Return the inverse hyperbolic sine of x.\n",
      "    \n",
      "    atan(x, /)\n",
      "        Return the arc tangent (measured in radians) of x.\n",
      "        \n",
      "        The result is between -pi/2 and pi/2.\n",
      "    \n",
      "    atan2(y, x, /)\n",
      "        Return the arc tangent (measured in radians) of y/x.\n",
      "        \n",
      "        Unlike atan(y/x), the signs of both x and y are considered.\n",
      "    \n",
      "    atanh(x, /)\n",
      "        Return the inverse hyperbolic tangent of x.\n",
      "    \n",
      "    cbrt(x, /)\n",
      "        Return the cube root of x.\n",
      "    \n",
      "    ceil(x, /)\n",
      "        Return the ceiling of x as an Integral.\n",
      "        \n",
      "        This is the smallest integer >= x.\n",
      "    \n",
      "    comb(n, k, /)\n",
      "        Number of ways to choose k items from n items without repetition and without order.\n",
      "        \n",
      "        Evaluates to n! / (k! * (n - k)!) when k <= n and evaluates\n",
      "        to zero when k > n.\n",
      "        \n",
      "        Also called the binomial coefficient because it is equivalent\n",
      "        to the coefficient of k-th term in polynomial expansion of the\n",
      "        expression (1 + x)**n.\n",
      "        \n",
      "        Raises TypeError if either of the arguments are not integers.\n",
      "        Raises ValueError if either of the arguments are negative.\n",
      "    \n",
      "    copysign(x, y, /)\n",
      "        Return a float with the magnitude (absolute value) of x but the sign of y.\n",
      "        \n",
      "        On platforms that support signed zeros, copysign(1.0, -0.0)\n",
      "        returns -1.0.\n",
      "    \n",
      "    cos(x, /)\n",
      "        Return the cosine of x (measured in radians).\n",
      "    \n",
      "    cosh(x, /)\n",
      "        Return the hyperbolic cosine of x.\n",
      "    \n",
      "    degrees(x, /)\n",
      "        Convert angle x from radians to degrees.\n",
      "    \n",
      "    dist(p, q, /)\n",
      "        Return the Euclidean distance between two points p and q.\n",
      "        \n",
      "        The points should be specified as sequences (or iterables) of\n",
      "        coordinates.  Both inputs must have the same dimension.\n",
      "        \n",
      "        Roughly equivalent to:\n",
      "            sqrt(sum((px - qx) ** 2.0 for px, qx in zip(p, q)))\n",
      "    \n",
      "    erf(x, /)\n",
      "        Error function at x.\n",
      "    \n",
      "    erfc(x, /)\n",
      "        Complementary error function at x.\n",
      "    \n",
      "    exp(x, /)\n",
      "        Return e raised to the power of x.\n",
      "    \n",
      "    exp2(x, /)\n",
      "        Return 2 raised to the power of x.\n",
      "    \n",
      "    expm1(x, /)\n",
      "        Return exp(x)-1.\n",
      "        \n",
      "        This function avoids the loss of precision involved in the direct evaluation of exp(x)-1 for small x.\n",
      "    \n",
      "    fabs(x, /)\n",
      "        Return the absolute value of the float x.\n",
      "    \n",
      "    factorial(n, /)\n",
      "        Find n!.\n",
      "        \n",
      "        Raise a ValueError if x is negative or non-integral.\n",
      "    \n",
      "    floor(x, /)\n",
      "        Return the floor of x as an Integral.\n",
      "        \n",
      "        This is the largest integer <= x.\n",
      "    \n",
      "    fmod(x, y, /)\n",
      "        Return fmod(x, y), according to platform C.\n",
      "        \n",
      "        x % y may differ.\n",
      "    \n",
      "    frexp(x, /)\n",
      "        Return the mantissa and exponent of x, as pair (m, e).\n",
      "        \n",
      "        m is a float and e is an int, such that x = m * 2.**e.\n",
      "        If x is 0, m and e are both 0.  Else 0.5 <= abs(m) < 1.0.\n",
      "    \n",
      "    fsum(seq, /)\n",
      "        Return an accurate floating point sum of values in the iterable seq.\n",
      "        \n",
      "        Assumes IEEE-754 floating point arithmetic.\n",
      "    \n",
      "    gamma(x, /)\n",
      "        Gamma function at x.\n",
      "    \n",
      "    gcd(*integers)\n",
      "        Greatest Common Divisor.\n",
      "    \n",
      "    hypot(...)\n",
      "        hypot(*coordinates) -> value\n",
      "        \n",
      "        Multidimensional Euclidean distance from the origin to a point.\n",
      "        \n",
      "        Roughly equivalent to:\n",
      "            sqrt(sum(x**2 for x in coordinates))\n",
      "        \n",
      "        For a two dimensional point (x, y), gives the hypotenuse\n",
      "        using the Pythagorean theorem:  sqrt(x*x + y*y).\n",
      "        \n",
      "        For example, the hypotenuse of a 3/4/5 right triangle is:\n",
      "        \n",
      "            >>> hypot(3.0, 4.0)\n",
      "            5.0\n",
      "    \n",
      "    isclose(a, b, *, rel_tol=1e-09, abs_tol=0.0)\n",
      "        Determine whether two floating point numbers are close in value.\n",
      "        \n",
      "          rel_tol\n",
      "            maximum difference for being considered \"close\", relative to the\n",
      "            magnitude of the input values\n",
      "          abs_tol\n",
      "            maximum difference for being considered \"close\", regardless of the\n",
      "            magnitude of the input values\n",
      "        \n",
      "        Return True if a is close in value to b, and False otherwise.\n",
      "        \n",
      "        For the values to be considered close, the difference between them\n",
      "        must be smaller than at least one of the tolerances.\n",
      "        \n",
      "        -inf, inf and NaN behave similarly to the IEEE 754 Standard.  That\n",
      "        is, NaN is not close to anything, even itself.  inf and -inf are\n",
      "        only close to themselves.\n",
      "    \n",
      "    isfinite(x, /)\n",
      "        Return True if x is neither an infinity nor a NaN, and False otherwise.\n",
      "    \n",
      "    isinf(x, /)\n",
      "        Return True if x is a positive or negative infinity, and False otherwise.\n",
      "    \n",
      "    isnan(x, /)\n",
      "        Return True if x is a NaN (not a number), and False otherwise.\n",
      "    \n",
      "    isqrt(n, /)\n",
      "        Return the integer part of the square root of the input.\n",
      "    \n",
      "    lcm(*integers)\n",
      "        Least Common Multiple.\n",
      "    \n",
      "    ldexp(x, i, /)\n",
      "        Return x * (2**i).\n",
      "        \n",
      "        This is essentially the inverse of frexp().\n",
      "    \n",
      "    lgamma(x, /)\n",
      "        Natural logarithm of absolute value of Gamma function at x.\n",
      "    \n",
      "    log(...)\n",
      "        log(x, [base=math.e])\n",
      "        Return the logarithm of x to the given base.\n",
      "        \n",
      "        If the base not specified, returns the natural logarithm (base e) of x.\n",
      "    \n",
      "    log10(x, /)\n",
      "        Return the base 10 logarithm of x.\n",
      "    \n",
      "    log1p(x, /)\n",
      "        Return the natural logarithm of 1+x (base e).\n",
      "        \n",
      "        The result is computed in a way which is accurate for x near zero.\n",
      "    \n",
      "    log2(x, /)\n",
      "        Return the base 2 logarithm of x.\n",
      "    \n",
      "    modf(x, /)\n",
      "        Return the fractional and integer parts of x.\n",
      "        \n",
      "        Both results carry the sign of x and are floats.\n",
      "    \n",
      "    nextafter(x, y, /)\n",
      "        Return the next floating-point value after x towards y.\n",
      "    \n",
      "    perm(n, k=None, /)\n",
      "        Number of ways to choose k items from n items without repetition and with order.\n",
      "        \n",
      "        Evaluates to n! / (n - k)! when k <= n and evaluates\n",
      "        to zero when k > n.\n",
      "        \n",
      "        If k is not specified or is None, then k defaults to n\n",
      "        and the function returns n!.\n",
      "        \n",
      "        Raises TypeError if either of the arguments are not integers.\n",
      "        Raises ValueError if either of the arguments are negative.\n",
      "    \n",
      "    pow(x, y, /)\n",
      "        Return x**y (x to the power of y).\n",
      "    \n",
      "    prod(iterable, /, *, start=1)\n",
      "        Calculate the product of all the elements in the input iterable.\n",
      "        \n",
      "        The default start value for the product is 1.\n",
      "        \n",
      "        When the iterable is empty, return the start value.  This function is\n",
      "        intended specifically for use with numeric values and may reject\n",
      "        non-numeric types.\n",
      "    \n",
      "    radians(x, /)\n",
      "        Convert angle x from degrees to radians.\n",
      "    \n",
      "    remainder(x, y, /)\n",
      "        Difference between x and the closest integer multiple of y.\n",
      "        \n",
      "        Return x - n*y where n*y is the closest integer multiple of y.\n",
      "        In the case where x is exactly halfway between two multiples of\n",
      "        y, the nearest even value of n is used. The result is always exact.\n",
      "    \n",
      "    sin(x, /)\n",
      "        Return the sine of x (measured in radians).\n",
      "    \n",
      "    sinh(x, /)\n",
      "        Return the hyperbolic sine of x.\n",
      "    \n",
      "    sqrt(x, /)\n",
      "        Return the square root of x.\n",
      "    \n",
      "    tan(x, /)\n",
      "        Return the tangent of x (measured in radians).\n",
      "    \n",
      "    tanh(x, /)\n",
      "        Return the hyperbolic tangent of x.\n",
      "    \n",
      "    trunc(x, /)\n",
      "        Truncates the Real x to the nearest Integral toward 0.\n",
      "        \n",
      "        Uses the __trunc__ magic method.\n",
      "    \n",
      "    ulp(x, /)\n",
      "        Return the value of the least significant bit of the float x.\n",
      "\n",
      "DATA\n",
      "    e = 2.718281828459045\n",
      "    inf = inf\n",
      "    nan = nan\n",
      "    pi = 3.141592653589793\n",
      "    tau = 6.283185307179586\n",
      "\n",
      "FILE\n",
      "    (built-in)\n",
      "\n",
      "\n"
     ]
    }
   ],
   "source": [
    "help(math)"
   ]
  },
  {
   "cell_type": "markdown",
   "id": "c0d3ac56",
   "metadata": {},
   "source": [
    " ### Путь поиска модулей"
   ]
  },
  {
   "cell_type": "markdown",
   "id": "48034eaf",
   "metadata": {},
   "source": [
    "Python выполняет поиск модулей и пакетов не хаотически, а в соответствии с установленным порядком: сперва проверяется наличие импортируемого имени во встроенном модуле, после чего поочередно проверяются каталоги, список которых содержится в переменной sys.path. Данный список включает:\n",
    "\n",
    "    домашний каталог программы, который в поиске участвует всегда, автоматически добавляясь в начало списка (если код запускается в интерактивном сеансе, в начало списка добавляется пустая строка);\n",
    "    содержимое переменной окружения PYTHONPATH, если она задана;\n",
    "    каталог стандартной библиотеки, который также всегда участвует в поиске;\n",
    "    список каталогов, настроенных во время установки Python;\n",
    "    содержимое любых файлов с расширением *.pht, если они используются.\n",
    "   \t\n",
    "    Поскольку домашний каталог программы расположен первым в списке sys.path, не следует называть собственные модули или пакеты аналогично поставляемым с дистрибутивом Python, т.к. интерпретатор обнаружит пользовательские модули первыми и даже не будет пытаться продолжать поиск в каталоге стандартной библиотеки (см. пример №8).\n",
    "    Если необходимость в импортировании модуля за пределами домашней папки и вне прописанных путей поиска все-таки возникает, разрешается использовать обычный текстовый файл с расширением *.pht, в котором нужно прописать добавляемые каталоги по одному в каждой строке, а сам файл поместить либо в каталог установки Python (у меня, например, это C:\\python), либо в подкаталог site-packages стандартной библиотеки (у меня, например, это C:\\python\\lib\\site-packages). В результате все перечисленные в файле и при этом существующие каталоги будут добавлены в путь поиска модулей в порядке очередности, что можно будет увидеть в списке переменной sys.path: в первом случае каталоги будут добавлены после каталога установки Python, но перед подкаталогом site-packages стандартной библиотеки (еще раз посмотрите пример №7), а во втором – после подкаталога site-packages.\n",
    "    При необходимости сценарии могут самостоятельно изменять список sys.path, тем самым задавая путь поиска для всех последующих операций импорта. Однако нужно помнить, что все изменения продолжат действовать лишь до завершения программы, в то время как переменная окружения PYTHONPATH и файлы *.pht обеспечивают возможность более долговременного хранения измененного пути.\n",
    "    Если модуль найти не удается, возбуждается исключение ModuleNotFoundError. При ошибке загрузки существующего модуля – ImportError.\n",
    "\n",
    "\n",
    "Точное содержимое переменной sys.path зависит от конкретной среды, поэтому для получения актуальной информации нужно импортировать модуль sys и вывести содержимое переменной на экран:"
   ]
  },
  {
   "cell_type": "code",
   "execution_count": 15,
   "id": "9e238f5f",
   "metadata": {},
   "outputs": [
    {
     "name": "stdout",
     "output_type": "stream",
     "text": [
      "('_abc', '_ast', '_bisect', '_blake2', '_codecs', '_codecs_cn', '_codecs_hk', '_codecs_iso2022', '_codecs_jp', '_codecs_kr', '_codecs_tw', '_collections', '_contextvars', '_csv', '_datetime', '_functools', '_heapq', '_imp', '_io', '_json', '_locale', '_lsprof', '_md5', '_multibytecodec', '_opcode', '_operator', '_pickle', '_random', '_sha1', '_sha256', '_sha3', '_sha512', '_signal', '_sre', '_stat', '_statistics', '_string', '_struct', '_symtable', '_thread', '_tokenize', '_tracemalloc', '_typing', '_warnings', '_weakref', '_winapi', '_xxsubinterpreters', 'array', 'atexit', 'audioop', 'binascii', 'builtins', 'cmath', 'errno', 'faulthandler', 'gc', 'itertools', 'marshal', 'math', 'mmap', 'msvcrt', 'nt', 'sys', 'time', 'winreg', 'xxsubtype', 'zlib')\n",
      "\n",
      "sys.path: ['C:\\\\Users\\\\miboc\\\\! Ростелеком (Jupiter)2\\\\Код будущего\\\\Тема 7', 'C:\\\\ProgramData\\\\anaconda3\\\\python311.zip', 'C:\\\\ProgramData\\\\anaconda3\\\\DLLs', 'C:\\\\ProgramData\\\\anaconda3\\\\Lib', 'C:\\\\ProgramData\\\\anaconda3', '', 'C:\\\\Users\\\\miboc\\\\AppData\\\\Roaming\\\\Python\\\\Python311\\\\site-packages', 'C:\\\\ProgramData\\\\anaconda3\\\\Lib\\\\site-packages', 'C:\\\\ProgramData\\\\anaconda3\\\\Lib\\\\site-packages\\\\win32', 'C:\\\\ProgramData\\\\anaconda3\\\\Lib\\\\site-packages\\\\win32\\\\lib', 'C:\\\\ProgramData\\\\anaconda3\\\\Lib\\\\site-packages\\\\Pythonwin']\n"
     ]
    }
   ],
   "source": [
    "# Импортируем модуль sys.\n",
    "import sys\n",
    "         \n",
    "# Выводим имена встроенных модулей\n",
    "print(sys.builtin_module_names, end='\\n\\n')\n",
    "# и остальные пути поиска интерпретатора.\n",
    "print('sys.path:', sys.path)\n"
   ]
  },
  {
   "cell_type": "markdown",
   "id": "dab9f016",
   "metadata": {},
   "source": [
    "#### Использование модуля"
   ]
  },
  {
   "cell_type": "markdown",
   "id": "1147fc9c",
   "metadata": {},
   "source": [
    "Любой модуль в Python может быть:\n",
    "\n",
    "- запущен автономно (как скрипт, например, в командной строке или через IDE);\n",
    "\n",
    "- импортирован (через import).\n",
    "\n",
    "При написании собственного модуля необходимо предполагать, будет он запускаться автономно или использоваться для импорта. При этом следует избегать обособленного кода, который выполнялся бы в обоих вариантах."
   ]
  },
  {
   "cell_type": "markdown",
   "id": "9b0649fe",
   "metadata": {},
   "source": [
    "Модуль fibonacci, включающий код, который будет выполнен и при запуске, и при импорте (файл fibonacci1.py)"
   ]
  },
  {
   "cell_type": "code",
   "execution_count": 16,
   "id": "da94dcef",
   "metadata": {},
   "outputs": [
    {
     "name": "stdout",
     "output_type": "stream",
     "text": [
      "[1, 1, 2, 3, 5, 8]\n"
     ]
    }
   ],
   "source": [
    "# файл fibonacci1.py\n",
    "\"\"\" Модуль для работы с числами Фибоначчи.\n",
    "\n",
    "- список чисел Фибоначчи, не превышающих 'n';\n",
    "- проверка на вхождение в ряд Фибоначчи;\n",
    "- ...\n",
    "\"\"\"\n",
    "\n",
    "def list_le_than(n):\n",
    "    \"\"\"Вернуть список чисел Фибоначчи, не превышающих 'n'.\"\"\"\n",
    "    assert isinstance(n, int) and n > 0\n",
    "\n",
    "    a, b = 1, 1\n",
    "    result = [a]\n",
    "    while b <= n:\n",
    "        result.append(b)\n",
    "        a, b = b, a + b\n",
    "    return result\n",
    "\n",
    "def is_in_row(n):\n",
    "    \"\"\"Вернуть True, если 'n' - число Фибоначчи.\"\"\"\n",
    "    return n in list_le_than(n)\n",
    "\n",
    "print(list_le_than(10))  # Этот код выполнится, как при запуске, так и при импорте"
   ]
  },
  {
   "cell_type": "markdown",
   "id": "eb9626ac",
   "metadata": {},
   "source": [
    "Использование модуля fibonacci1 (файл main.py) "
   ]
  },
  {
   "cell_type": "code",
   "execution_count": 17,
   "id": "cbe695b5",
   "metadata": {},
   "outputs": [
    {
     "name": "stdout",
     "output_type": "stream",
     "text": [
      "[1, 1, 2, 3, 5, 8]\n",
      "Числа до 20: [1, 1, 2, 3, 5, 8, 13]\n",
      "20 входит: False\n"
     ]
    }
   ],
   "source": [
    "import fibonacci1   # В ходе импорта модуля (первого запуска данной ячейки в текущем сеансе) \n",
    "                    # здесь будет \"неожиданный\" вывод на экран: [1, 1, 2, 3, 5, 8]\n",
    "\n",
    "num = 20\n",
    "print(\"Числа до {}: {}\".format(num, fibonacci1.list_le_than(num)))  # [1, 1, 2, 3, 5, 8, 13]\n",
    "print(\"{} входит: {}\".format(num, fibonacci1.is_in_row(num)))  # False"
   ]
  },
  {
   "cell_type": "markdown",
   "id": "575a2544",
   "metadata": {},
   "source": [
    "Чтобы выполнить различный код в зависимости от того, запущен модуль или импортирован, достаточно использовать специальный идентификатор `__name__`, который содержит:\n",
    "\n",
    "- имя модуля, если он был импортирован (например, \"fibonacci\" или \"math\");\n",
    "\n",
    "- специальное наименование `\"__main__\"`, если модуль был запущен автономно "
   ]
  },
  {
   "cell_type": "markdown",
   "id": "87640571",
   "metadata": {},
   "source": [
    "Модуль вычисления чисел Фибоначчи с проверкой `__name__` (файл fibonacci2.py)"
   ]
  },
  {
   "cell_type": "code",
   "execution_count": 18,
   "id": "a50270d7",
   "metadata": {
    "scrolled": true
   },
   "outputs": [
    {
     "name": "stdout",
     "output_type": "stream",
     "text": [
      "Данный код выполняется т.к. модуль был запущен автономно (как скрипт) и не будет выполнен при импорте.\n",
      "Тест функций:\n",
      "- list_le_than(10) = [1, 1, 2, 3, 5, 8]\n",
      "- is_in_row(10) = False\n"
     ]
    }
   ],
   "source": [
    "\"\"\" Модуль для работы с числами Фибоначчи.\n",
    "\n",
    "- список чисел Фибоначчи, не превышающих 'n';\n",
    "- проверка на вхождение в ряд Фибоначчи;\n",
    "- ...\n",
    "\"\"\"\n",
    "\n",
    "def list_le_than(n):\n",
    "    \"\"\"Вернуть список чисел Фибоначчи, не превышающих 'n'.\"\"\"\n",
    "    assert isinstance(n, int) and n > 0\n",
    "\n",
    "    a, b = 1, 1\n",
    "    result = [a]\n",
    "    while b <= n:\n",
    "        result.append(b)\n",
    "        a, b = b, a + b\n",
    "    return result\n",
    "\n",
    "def is_in_row(n):\n",
    "    \"\"\"Вернуть True, если 'n' - число Фибоначчи.\"\"\"\n",
    "    return n in list_le_than(n)\n",
    "\n",
    "if __name__ == \"__main__\":\n",
    "    print(\"Данный код выполняется т.к. модуль был запущен автономно (как скрипт) и не будет выполнен при импорте.\")\n",
    "    print(\"Тест функций:\")\n",
    "    print(\"- list_le_than(10) =\", list_le_than(10))\n",
    "    print(\"- is_in_row(10) =\", is_in_row(10))"
   ]
  },
  {
   "cell_type": "markdown",
   "id": "a1228395",
   "metadata": {},
   "source": [
    "Сравнение выполнения модуля при самостоятельном запуске и при импорте"
   ]
  },
  {
   "cell_type": "markdown",
   "id": "7eb35c87",
   "metadata": {},
   "source": [
    "Самостоятельный запуск модуля:    "
   ]
  },
  {
   "cell_type": "raw",
   "id": "b7ff509b",
   "metadata": {},
   "source": [
    "C:\\>python fibonacci2.py\n",
    "Данный код выполняется т.к. модуль был запущен автономно (как скрипт) и не будет выполнен при импорте.\n",
    "Тест функций:\n",
    "- list_le_than(10) = [1, 1, 2, 3, 5, 8]\n",
    "- is_in_row(10) = False\n"
   ]
  },
  {
   "cell_type": "markdown",
   "id": "df08322c",
   "metadata": {},
   "source": [
    "Импорт модуля:"
   ]
  },
  {
   "cell_type": "code",
   "execution_count": 19,
   "id": "fb0845b6",
   "metadata": {},
   "outputs": [
    {
     "data": {
      "text/plain": [
       "[1, 1, 2, 3, 5, 8, 13]"
      ]
     },
     "execution_count": 19,
     "metadata": {},
     "output_type": "execute_result"
    }
   ],
   "source": [
    "import fibonacci2\n",
    "fibonacci2.list_le_than(20)  # Нет вывода как выше [1, 1, 2, 3, 5, 8, 13]"
   ]
  },
  {
   "cell_type": "markdown",
   "id": "3e18951d",
   "metadata": {},
   "source": [
    "Как правило, проверка `__name__` используется в основном файле программы, а вспомогательные модули избавляются от кода вне функций и классов."
   ]
  },
  {
   "cell_type": "markdown",
   "id": "e176e24d",
   "metadata": {},
   "source": [
    "Модуль вычисления чисел Фибоначчи (файл fibonacci3.py) "
   ]
  },
  {
   "cell_type": "raw",
   "id": "b2545bef",
   "metadata": {},
   "source": [
    "\"\"\" Модуль для работы с числами Фибоначчи.\n",
    "\n",
    "- список чисел Фибоначчи, не превышающих 'n';\n",
    "- проверка на вхождение в ряд Фибоначчи;\n",
    "- ...\n",
    "\"\"\"\n",
    "\n",
    "\n",
    "def list_le_than(n):\n",
    "    \"\"\"Вернуть список чисел Фибоначчи, не превышающих 'n'.\"\"\"\n",
    "    assert isinstance(n, int) and n > 0\n",
    "\n",
    "    a, b = 1, 1\n",
    "    result = [a]\n",
    "    while b <= n:\n",
    "        result.append(b)\n",
    "        a, b = b, a + b\n",
    "    return result\n",
    "\n",
    "\n",
    "def is_in_row(n):\n",
    "    \"\"\"Вернуть True, если 'n' - число Фибоначчи.\"\"\"\n",
    "    return n in list_le_than(n)"
   ]
  },
  {
   "cell_type": "markdown",
   "id": "ed4c002a",
   "metadata": {},
   "source": [
    "Проверка режима запуска модуля main (файл main.py)"
   ]
  },
  {
   "cell_type": "markdown",
   "id": "a7a29298",
   "metadata": {},
   "source": [
    "Запускаем модуль main.py как главный модуль"
   ]
  },
  {
   "cell_type": "code",
   "execution_count": 20,
   "id": "cc3016ff",
   "metadata": {},
   "outputs": [
    {
     "name": "stdout",
     "output_type": "stream",
     "text": [
      "Числа до 20: [1, 1, 2, 3, 5, 8, 13]\n",
      "20 входит: False\n"
     ]
    }
   ],
   "source": [
    "import fibonacci3\n",
    "\n",
    "if __name__ == \"__main__\":\n",
    "    num = 20\n",
    "    print(\"Числа до {}: {}\".format(num, fibonacci3.list_le_than(num)))  # [1, 1, 2, 3, 5, 8, 13]\n",
    "    print(\"{} входит: {}\".format(num, fibonacci3.is_in_row(num)))  # False\n",
    "else:\n",
    "    # else добавлять не нужно, если никакие специальные действия\n",
    "    #      в случае неавтономного запуска не планируются\n",
    "    print(\"Данный модуль не предназначен для импорта.\")"
   ]
  },
  {
   "cell_type": "markdown",
   "id": "81873b43",
   "metadata": {},
   "source": [
    "Запускаем модуль main.py как подгружаемый модуль"
   ]
  },
  {
   "cell_type": "code",
   "execution_count": 21,
   "id": "bc591b20",
   "metadata": {},
   "outputs": [
    {
     "name": "stdout",
     "output_type": "stream",
     "text": [
      "Данный модуль не предназначен для импорта.\n"
     ]
    }
   ],
   "source": [
    "import main"
   ]
  },
  {
   "cell_type": "markdown",
   "id": "ab661680",
   "metadata": {},
   "source": [
    "© Ростелеком, Бочаров Михаил Иванович"
   ]
  }
 ],
 "metadata": {
  "kernelspec": {
   "display_name": "Python 3 (ipykernel)",
   "language": "python",
   "name": "python3"
  },
  "language_info": {
   "codemirror_mode": {
    "name": "ipython",
    "version": 3
   },
   "file_extension": ".py",
   "mimetype": "text/x-python",
   "name": "python",
   "nbconvert_exporter": "python",
   "pygments_lexer": "ipython3",
   "version": "3.11.3"
  }
 },
 "nbformat": 4,
 "nbformat_minor": 5
}
