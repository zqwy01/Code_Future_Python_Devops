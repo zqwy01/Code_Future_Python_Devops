{
 "cells": [
  {
   "cell_type": "markdown",
   "id": "2fffd690",
   "metadata": {},
   "source": [
    "<div class=\"alert alert-block alert-success\">\n",
    "<b>\n",
    "\n",
    "## Тема 6. Пользовательские функции\n",
    "    \n",
    "</b>\n",
    "</div>"
   ]
  },
  {
   "cell_type": "markdown",
   "id": "b28c538f",
   "metadata": {},
   "source": [
    "### Определение функции"
   ]
  },
  {
   "cell_type": "markdown",
   "id": "c1e982a8",
   "metadata": {},
   "source": [
    "Функция представляет собой фрагмент программного кода, выделенный в отдельный блок.\n",
    "\n",
    "Функцию можно рассматривать как «черный ящик», к которому оращаются по имени и которому передают входные данные (которые могут и отсутствовать). Затем «черный ящик» выполняет опредеренные в нем действия и возвращает результат (если функция завершается без вызова return, она неявно возвращает в качестве результата значение None).\n",
    "\n",
    "Особенностью функций является возможность повторного использования кода. После того как функция будет определена можно вызывать ее сколько угодно раз. \n",
    "Если в программе имеется код, который должен выполняться многократно, то вместо копирования и вставки можно один раз оформить его в виде функции, а затем вызывать эту функцию. Преимуществами такого подхода являются:\n",
    "- сокращение объем кода;\n",
    "- программа становится более понятной;\n",
    "- становится проще вносить изменения (и исправлять ошибки), поскольку это делается в одном месте.\n",
    "\n",
    "\n"
   ]
  },
  {
   "cell_type": "markdown",
   "id": "b982e317",
   "metadata": {},
   "source": [
    "### Правила выбора имен для функций\n",
    "\n",
    "Правила выбора имен функций имеют много общего с правилами выбора имен переменных (и они также находятся в документе PEP 8). \n",
    "\n",
    "В именах используется так называемый змеиный регистр, который проще читается. \n",
    "\n",
    "Имена функций:\n",
    "\n",
    "- должны записываться в нижнем регистре;\n",
    "\n",
    "- слова_должны_разделяться_подчеркиваниями;\n",
    "\n",
    "- не должны начинаться с цифр;\n",
    "\n",
    "- не должны переопределять встроенные имена;\n",
    "\n",
    "- не должны совпадать с ключевыми словами."
   ]
  },
  {
   "cell_type": "markdown",
   "id": "53a3dcc6",
   "metadata": {},
   "source": [
    "### Типы функций в языке Python"
   ]
  },
  {
   "cell_type": "markdown",
   "id": "ae3f0364",
   "metadata": {},
   "source": [
    "В языке Python можно создать четыре типа функций: глобальные функции, локальные функции, лямбда-функции и методы.\n",
    "\n",
    "- Глобальные объекты (включая функции) доступны из любой точки программного кода.\n",
    "- Локальные функции – это функции, которые объявляются внутри других функций. Эти функции видимы только внутри тех функций, где они были объявлены. Они используются, как правило, для создания вспомогательных функций, которые впоследствии нигде больше не используются.\n",
    "- Лямбда функции – это выражения, которые создаются непосредственно в месте их использования.\n",
    "- Методы – это те же функции, которые ассоциированы с определенным типом данных и могут использоваться только в связке с этим типом данных.\n"
   ]
  },
  {
   "cell_type": "markdown",
   "id": "c0a6e024",
   "metadata": {},
   "source": [
    "В Python есть два ключевых слова для создания функций: `def`(пользовательские функции) и `lambda`(анонимные функции).\n",
    "\n",
    "В начале рассмотрим пользовательские функции создаваемые с помощью ключевого слова `def`."
   ]
  },
  {
   "cell_type": "markdown",
   "id": "7f063684",
   "metadata": {},
   "source": [
    "### Структура пользовательской функции\n",
    "\n",
    "Базовый синтаксис определения функции в языке Python выглядит так:\n",
    "```Python\n",
    "def имя_функции(параметр1, параметр2, . . .):\n",
    "    тело функции\n",
    "```\n",
    "Функция состоит из заголовка и тела функции. Тело функции может начинаться с необязательной строки документации, просмотреть значение которой в программе можно выведя значение переменной `имя_функции.__doc__`. Заголовок оканчивается двоеточием и переходом на новую строку. Тело имеет отступ.\n",
    "Описание заголовка функции начинается с ключевого слова `def`, которое сообщает Python, что перед ним определение функции. За `def` следует имя функции. Оно может быть любым, также как и идентификатор, например, переменная. В программном коде желательно давать объектам осмысленные имена.\n",
    "После имени функции ставятся скобки. В скобках может ничего не указываться и тогда функция не принимает никаких параметров (еще их называют аргументами функции), либо в скобках могут через запятую указываться параметры, принимаемые функцией. Таким образом функция не принимающая параметров называется функцией без параметров, а функция принимающая параметры называется функцмей с параметрами.\n",
    "После круглывх скобок ставится двоеточие.\n",
    "После двоеточия следует тело функции, содержащее операторы, которые выполняются при вызове функции. \n",
    "\n",
    "Функции могут возвращать какие-либо данные из своих тел в основную ветку программы, в этом случае говорят, что функция возвращает значение. В Python, выход из функции и передача данных в то место, откуда она была вызвана, выполняется оператором `return`.\n",
    "\n",
    "Если интерпретатор Python, выполняя тело функции, встречает ключевое слово `return`, то он передает указанное после него значение из функции в основную ветку программы и завершает работу функции.\n",
    "\n",
    "Если после оператора `return` не указано значение, то return возвращает ключевое слово None, т.е. когда после return ничего не указывается, то по умолчанию считается, что там стоит `None`. Мы можем написать `return None`. Более того, если в функции не указан оператор return, функция все равно вернет `None`. В Python любая функция что-то возвращает.\n",
    "\n",
    "\n",
    "Все функции в Python имеют одно и только одно возвращаемое значение. В Python можно возвращать несколько значений, перечислив их через запятую после команды return, в этом случае они будут упакованы в кортеж и возвращены в виде одного кортежа. Так же вернуть несколько значений из функции можно, если упаковать несколько значений в одно значение-контейнер. В Python контейнеры могут быть следующих типов:\n",
    "- список (например, [1, 2, 3])\n",
    "- кортеж (например, (1, 2, 3))\n",
    "- словарь (например, {\"key_one\": 1, \"key_two\": 2, \"key_three\": 3})\n",
    "- объект класса.\n",
    "\n",
    "Таким образом, возвращается одно значение, а содержать в себе оно может несколько других. Если в теле функции отсутствует ключевое слово return, возвращаемое значение всегда будет `None`.\n",
    " \n",
    "\n",
    "Следует различать определение функции и ее вызов. Можно определить функцию, но ни разу ее не вызвать. Нельзя вызвать функцию, которая не была определена. Если определить функцию и ни разу ее не вызвать никогда не выполнится ее тело.\n",
    "\n",
    "Вызов функции осуществляется, посредством указания в коде программы имени функции со скобками. В скобках может ничего не указываться если функция без параметров или параметры в функции заданы по умолчанию, либо могут через запятую указываться передаваемые в функцию значения.\n",
    "\n",
    "Когда функция вызывается, поток выполнения программы переходит к ее определению и начинает исполнять ее тело. После того, как тело функции исполнено, поток выполнения возвращается в основной код в то место, где функция вызывалась. Далее исполняется следующее за вызовом выражение.\n"
   ]
  },
  {
   "cell_type": "code",
   "execution_count": null,
   "id": "c456e40c",
   "metadata": {},
   "outputs": [],
   "source": []
  },
  {
   "cell_type": "markdown",
   "id": "5f928279",
   "metadata": {},
   "source": [
    "### Примеры описания и вызова функций"
   ]
  },
  {
   "cell_type": "code",
   "execution_count": 1,
   "id": "85928489",
   "metadata": {},
   "outputs": [
    {
     "name": "stdout",
     "output_type": "stream",
     "text": [
      "Возвращает факториал заданного числа.\n",
      "       n - исходное число для вычисления факториала\n",
      "6\n",
      "720\n",
      "<class 'int'>\n"
     ]
    }
   ],
   "source": [
    "#Пример функции вычисляющей факториал числа:\n",
    "def fact(n):\n",
    "    \"\"\"Возвращает факториал заданного числа.\n",
    "       n - исходное число для вычисления факториала\"\"\"\n",
    "    r = 1\n",
    "    while n > 0:\n",
    "        r = r * n\n",
    "        n = n - 1\n",
    "    return r  \n",
    "\n",
    "#Вывод строки документации\n",
    "print(fact.__doc__)\n",
    "\n",
    "#Примеры вызова функции вычисляющей факториал числа:\n",
    "print(fact(3))\n",
    "print(fact(6))\n",
    "# Определяем тип возвращаемого параметра\n",
    "print(type(fact(3)))"
   ]
  },
  {
   "cell_type": "code",
   "execution_count": 2,
   "id": "e1630e41",
   "metadata": {},
   "outputs": [
    {
     "name": "stdout",
     "output_type": "stream",
     "text": [
      "(3, 6, 9)\n",
      "('X', 'Y', 'Z')\n",
      "<class 'tuple'>\n"
     ]
    }
   ],
   "source": [
    "#Пример функции от нескольких переменных возвращающей полученные значения в виде кортежа:\n",
    "def fan(a, b, c):\n",
    "    \"\"\"Возвращает полученные значения в виде кортежа.\"\"\"\n",
    "    return a, b, c  \n",
    "\n",
    "#Примеры вызова функции:\n",
    "print(fan(3, 6, 9))\n",
    "print(fan('X', 'Y', 'Z' ))\n",
    "# Определяем тип возвращаемого параметра\n",
    "print(type(fan(3, 6, 9)))"
   ]
  },
  {
   "cell_type": "code",
   "execution_count": 3,
   "id": "b510b004",
   "metadata": {},
   "outputs": [
    {
     "name": "stdout",
     "output_type": "stream",
     "text": [
      "Hello World\n",
      "<class 'str'>\n"
     ]
    }
   ],
   "source": [
    "#Пример функции без параметров:\n",
    "def fan():\n",
    "    \"\"\"Функция без параметров\"\"\"\n",
    "    c = 'Hello World'\n",
    "    return c\n",
    "#Пример вызова функции без параметров:\n",
    "print(fan())\n",
    "# Определяем тип возвращаемого параметра\n",
    "print(type(fan()))"
   ]
  },
  {
   "cell_type": "code",
   "execution_count": 4,
   "id": "d4afa439",
   "metadata": {},
   "outputs": [
    {
     "name": "stdout",
     "output_type": "stream",
     "text": [
      "None\n",
      "<class 'NoneType'>\n"
     ]
    }
   ],
   "source": [
    "#Пример функции возвращающей значение None :\n",
    "def fan():\n",
    "    \"\"\"Функция возвращающая значение None\"\"\"\n",
    "    c = 'Hello World'\n",
    "    return\n",
    "\n",
    "#Пример вызова функции\n",
    "print(fan())\n",
    "# Определяем тип возвращаемого параметра\n",
    "print(type(fan()))"
   ]
  },
  {
   "cell_type": "code",
   "execution_count": 5,
   "id": "54107404",
   "metadata": {},
   "outputs": [
    {
     "name": "stdout",
     "output_type": "stream",
     "text": [
      "None\n",
      "<class 'NoneType'>\n"
     ]
    }
   ],
   "source": [
    "#Пример функции возвращающей значение None без ключевого слова return:\n",
    "def fan():\n",
    "    \"\"\"Функция без параметров\"\"\"\n",
    "    c = 'Hello World'\n",
    "    \n",
    "#Пример вызова функции\n",
    "print(fan())\n",
    "# Определяем тип возвращаемого параметра\n",
    "print(type(fan()))"
   ]
  },
  {
   "cell_type": "markdown",
   "id": "3b7eaf70",
   "metadata": {},
   "source": [
    "### Параметры функций"
   ]
  },
  {
   "cell_type": "markdown",
   "id": "e51d4bae",
   "metadata": {},
   "source": [
    "В языке Python предусмотрено три способа определения параметров функций:\n",
    "- Позиционные параметры.\n",
    "- Именные параметры.\n",
    "- Переменное количество параметров."
   ]
  },
  {
   "cell_type": "markdown",
   "id": "b1cc681e",
   "metadata": {},
   "source": [
    "#### Позиционные параметры"
   ]
  },
  {
   "cell_type": "markdown",
   "id": "dbef1ec9",
   "metadata": {},
   "source": [
    "Проще всего передавать параметры функциям в Python в соответствии с позицией. В первой строке функции вы указываете имена переменных для всех параметров; при вызове функции параметры, указанные в коде вызова, сопоставляются с переменными параметров функции в соответствии с их порядком. Этот вариант требует, чтобы количество параметров в точке вызова точно соответствовало количеству параметров в определении функции, в противном случае выдается исключение TypeError.\n",
    "\n",
    "Следующая функция вычисляет результат возведения x в степень y:"
   ]
  },
  {
   "cell_type": "code",
   "execution_count": 6,
   "id": "500ba5c0",
   "metadata": {},
   "outputs": [
    {
     "data": {
      "text/plain": [
       "8"
      ]
     },
     "execution_count": 6,
     "metadata": {},
     "output_type": "execute_result"
    }
   ],
   "source": [
    "def power(x, y):\n",
    "    r = 1\n",
    "    while y > 0:\n",
    "        r = r * x\n",
    "        y = y - 1\n",
    "    return r\n",
    "power(2, 3)"
   ]
  },
  {
   "cell_type": "markdown",
   "id": "77da6e2c",
   "metadata": {},
   "source": [
    "Параметрам функций могут назначаться значения по умолчанию, они присваиваются в первой строке определения функции:\n",
    "\n",
    "def fun(арг1, арг2 = умолч2, арг3 = умолч3, . . .)\n",
    "\n",
    "Значения по умолчанию могут присваиваться любому количеству параметров. Параметры со значениями по умолчанию должны определяться последними в списке параметров, потому что Python, как и многие языки, сопоставляет аргументы с параметрами на основании их позиций. Количество передаваемых аргументов должно быть достаточным для того, чтобы последнему параметру в списке, не имеющему значения по умолчанию, соответствовал передаваемый аргумент. \n",
    "Следующая функция также вычисляет результат возведения x в степень y. Но если значение y не указано при вызове функции, по умолчанию используется значение 2, и функция просто возводит аргумент в квадрат:"
   ]
  },
  {
   "cell_type": "code",
   "execution_count": 7,
   "id": "879d6c48",
   "metadata": {},
   "outputs": [
    {
     "data": {
      "text/plain": [
       "9"
      ]
     },
     "execution_count": 7,
     "metadata": {},
     "output_type": "execute_result"
    }
   ],
   "source": [
    "def power(x, y = 2):\n",
    "    r = 1\n",
    "    while y > 0:\n",
    "        r = r * x\n",
    "        y = y - 1\n",
    "    return r\n",
    "power(3)"
   ]
  },
  {
   "cell_type": "code",
   "execution_count": 8,
   "id": "191deba7",
   "metadata": {},
   "outputs": [
    {
     "data": {
      "text/plain": [
       "9"
      ]
     },
     "execution_count": 8,
     "metadata": {},
     "output_type": "execute_result"
    }
   ],
   "source": [
    "power(3,2)"
   ]
  },
  {
   "cell_type": "code",
   "execution_count": 9,
   "id": "43846205",
   "metadata": {},
   "outputs": [
    {
     "data": {
      "text/plain": [
       "27"
      ]
     },
     "execution_count": 9,
     "metadata": {},
     "output_type": "execute_result"
    }
   ],
   "source": [
    "power(3,3)"
   ]
  },
  {
   "cell_type": "markdown",
   "id": "94b7162a",
   "metadata": {},
   "source": [
    "#### Именные параметры"
   ]
  },
  {
   "cell_type": "markdown",
   "id": "bb4ae82c",
   "metadata": {},
   "source": [
    "Аргументы также могут передаваться функциям по имени соответствующего параметра функции. В этом случае порядок параметров может быть произвольным, так как аргументы связываются с одноименными параметрами из определения."
   ]
  },
  {
   "cell_type": "code",
   "execution_count": 10,
   "id": "19acfa00",
   "metadata": {},
   "outputs": [
    {
     "data": {
      "text/plain": [
       "8"
      ]
     },
     "execution_count": 10,
     "metadata": {},
     "output_type": "execute_result"
    }
   ],
   "source": [
    "def power(x, y):\n",
    "    r = 1\n",
    "    while y > 0:\n",
    "        r = r * x\n",
    "        y = y - 1\n",
    "    return r\n",
    "power(y = 3, x = 2)"
   ]
  },
  {
   "cell_type": "code",
   "execution_count": 11,
   "id": "e10e988e",
   "metadata": {},
   "outputs": [
    {
     "name": "stdout",
     "output_type": "stream",
     "text": [
      "1\n",
      "4\n"
     ]
    }
   ],
   "source": [
    "def power(x = 1, y = 2):\n",
    "    r = 1\n",
    "    while y > 0:\n",
    "        r = r * x\n",
    "        y = y - 1\n",
    "    return r\n",
    "print(power(y = 3))\n",
    "print(power(x = 2))"
   ]
  },
  {
   "cell_type": "code",
   "execution_count": 12,
   "id": "a2571b3c",
   "metadata": {},
   "outputs": [
    {
     "name": "stdout",
     "output_type": "stream",
     "text": [
      "8\n"
     ]
    }
   ],
   "source": [
    "print(power(y = 3, x = 2))"
   ]
  },
  {
   "cell_type": "markdown",
   "id": "6547e4bb",
   "metadata": {},
   "source": [
    "#### Переменное количество параметров"
   ]
  },
  {
   "cell_type": "markdown",
   "id": "3f196351",
   "metadata": {},
   "source": [
    "Функции Python также могут определяться для получения переменного количества аргументов; это можно сделать двумя способами. Первый способ предназначен для относительно знакомого случая, при котором неизвестное количество аргументов в конце списка аргументов собирается в список. В другом способе произвольное количество аргументов, передаваемых по ключевым словам и не имеющих параметров с соответствующим именем в списке параметров функции, объединяется в словарь."
   ]
  },
  {
   "cell_type": "markdown",
   "id": "0c6e169e",
   "metadata": {},
   "source": [
    "##### Неопределенное количество позиционных аргументов"
   ]
  },
  {
   "cell_type": "markdown",
   "id": "4049e123",
   "metadata": {},
   "source": [
    "Если имени последнего параметра функции предшествует символ `*`, все аргументы без ключевых слов в вызове функции (то есть позиционные аргументы) объединяются и присваиваются указанному параметру в формате кортежа. Ниже продемонстрирован простой способ реализации функции для нахождения наибольшего значения в списке чисел."
   ]
  },
  {
   "cell_type": "code",
   "execution_count": 13,
   "id": "6779da77",
   "metadata": {},
   "outputs": [],
   "source": [
    "def maximum(*numbers):\n",
    "    print(type(numbers))\n",
    "    print(numbers)\n",
    "    if len(numbers) == 0:\n",
    "        return None\n",
    "    else:\n",
    "        maxnum = numbers[0]\n",
    "        for n in numbers[1:]:\n",
    "            if n > maxnum:\n",
    "                maxnum = n\n",
    "        return maxnum"
   ]
  },
  {
   "cell_type": "code",
   "execution_count": 14,
   "id": "d1b42986",
   "metadata": {},
   "outputs": [
    {
     "name": "stdout",
     "output_type": "stream",
     "text": [
      "<class 'tuple'>\n",
      "(3, 2, 9)\n",
      "9\n",
      "<class 'tuple'>\n",
      "(5, -7, 12, 3, 6)\n",
      "12\n"
     ]
    }
   ],
   "source": [
    "print(maximum(3, 2, 9))\n",
    "print(maximum(5, -7, 12, 3, 6))"
   ]
  },
  {
   "cell_type": "markdown",
   "id": "2656479a",
   "metadata": {},
   "source": [
    "#### Неопределенное количество аргументов, передаваемых по ключевым словам"
   ]
  },
  {
   "cell_type": "markdown",
   "id": "0c13d4ff",
   "metadata": {},
   "source": [
    "Также можно обработать произвольное количество аргументов, передаваемых по ключевым словам. Если последний параметр в списке снабжен префиксом `**`, все лишние аргументы, передаваемые по ключевым словам, объединяются в словарь.\n",
    "\n",
    "Ключом для каждого элемента словаря является ключевое слово (имя параметра) «избыточного» аргумента, а значением — сам аргумент. Аргумент, передаваемый по ключевому слову, считается избыточным, если ключевое слово, по которому он передавался, не соответствует ни одному из имен параметров в определении функции.\n",
    "\n",
    "Пример:"
   ]
  },
  {
   "cell_type": "code",
   "execution_count": 15,
   "id": "fe8dc12d",
   "metadata": {},
   "outputs": [],
   "source": [
    "def example_fun(x, y, **other):\n",
    "    print(type(other))\n",
    "    print(other)\n",
    "    print(f\"x: {x}, y: {y}, keys in 'other': {list(other.keys())}\")\n",
    "    s = 0\n",
    "    for i in other.keys():\n",
    "        s = s + other[i]\n",
    "    print(f\"Тotal of values in 'other'({other['p1']} + {other['p2']}) is {s}\")"
   ]
  },
  {
   "cell_type": "code",
   "execution_count": 16,
   "id": "70dae6e3",
   "metadata": {},
   "outputs": [
    {
     "name": "stdout",
     "output_type": "stream",
     "text": [
      "<class 'dict'>\n",
      "{'p1': 3, 'p2': 4}\n",
      "x: 2, y: 1, keys in 'other': ['p1', 'p2']\n",
      "Тotal of values in 'other'(3 + 4) is 7\n"
     ]
    }
   ],
   "source": [
    "example_fun(2, y = \"1\", p1 = 3, p2 = 4)"
   ]
  },
  {
   "cell_type": "markdown",
   "id": "8a2d4a4a",
   "metadata": {},
   "source": [
    "#### Совмещение способов передачи аргументов"
   ]
  },
  {
   "cell_type": "markdown",
   "id": "c0f9dc34",
   "metadata": {},
   "source": [
    "Все способы передачи аргументов функции в языке Python могут применяться одновременно. Общее правило смешанной передачи аргументов гласит, что сначала идут позиционные аргументы, за ними следует неопределенный позиционный аргумент (кортеж) с одним символом `*` вначале имени аргумента,  затем именованные аргументы, и наконец, неопределенный аргумент ключевых слов словаря с символами `**` вначале имени аргумента."
   ]
  },
  {
   "cell_type": "code",
   "execution_count": 17,
   "id": "6683acc3",
   "metadata": {},
   "outputs": [
    {
     "name": "stdout",
     "output_type": "stream",
     "text": [
      "Позиционные аргументы: x = 2, y = 3\n",
      "Неопределенный позиционный аргумент other_tuple: (1, 2, 3, 4, 5)\n",
      "Именованные аргументы: a = A, b = B\n",
      "Ключи неопределенного аргумента словаря 'other_dict': ['p1', 'p2', 'p3']\n",
      "Значения неопределенного аргумента словаря 'other_dict': [6, 7, 8]\n",
      "The total of values in 'other_tuple' = 15\n",
      "The total of values in 'other_dict' = 21\n"
     ]
    }
   ],
   "source": [
    "def example_fun3(x, y, *other_tuple, a, b,  **other_dict):\n",
    "    print(f\"Позиционные аргументы: x = {x}, y = {y}\")\n",
    "    print(f\"Неопределенный позиционный аргумент other_tuple: {other_tuple}\")\n",
    "    print(f\"Именованные аргументы: a = {a}, b = {b}\")\n",
    "    print(f\"Ключи неопределенного аргумента словаря 'other_dict': {list(other_dict.keys())}\")\n",
    "    print(f\"Значения неопределенного аргумента словаря 'other_dict': {list(other_dict.values())}\")    \n",
    "\n",
    "    other_tuple_total = 0\n",
    "    for i in other_tuple:\n",
    "        other_tuple_total = other_tuple_total + i\n",
    "    print(f\"The total of values in 'other_tuple' = {other_tuple_total}\")\n",
    "    \n",
    "    other_dict_total = 0\n",
    "    for i in other_dict.keys():\n",
    "        other_dict_total = other_dict_total + other_dict[i]\n",
    "    print(f\"The total of values in 'other_dict' = {other_dict_total}\")\n",
    "\n",
    "example_fun3(2, 3,  1,2,3,4,5, a  = \"A\", b = \"B\",p1 = 6, p2 = 7, p3 = 8)"
   ]
  },
  {
   "cell_type": "code",
   "execution_count": 18,
   "id": "e3517c7a",
   "metadata": {},
   "outputs": [
    {
     "name": "stdout",
     "output_type": "stream",
     "text": [
      "a: 1, b: 2, c: 3, d: 4, x: 5, y: 6, z: 7, v: 8, w: 9\n"
     ]
    }
   ],
   "source": [
    "def example_fun4(a, b, c, d, x, y, z, v, w):\n",
    "    print(f\"a: {a}, b: {b}, c: {c}, d: {d}, x: {x}, y: {y}, z: {z}, v: {v}, w: {w}\")\n",
    "example_fun4(1, 2, *(3, 4), x = 5, y = 6, **{'z':7, 'v':8, 'w':9})"
   ]
  },
  {
   "cell_type": "markdown",
   "id": "bc460cfa",
   "metadata": {},
   "source": [
    "### Пространства имен в Python\n",
    "\n",
    "В Python понятие объекта является ключевым. Фактически все, что программа Python создает или с чем работает, — это объект.\n",
    "\n",
    "Выражение присваивания создает символическое имя, которое вы можете использовать для ссылки на объект. Так выражение x = 'one' создает символическое имя x, которое ссылается на строковый объект 'one'.\n",
    "\n",
    "В более сложных программах вам предстоит создавать сотни или тысячи подобных имен, указывающих на конкретные объекты. Python отслеживает все эти имена и предотвращает их путаницу посредством использования пространства имен.\n",
    "\n",
    "Пространство имен — это совокупность определенных в настоящий момент символических имен и информации об объектах, на которые они ссылаются. Вы можете рассматривать такое пространство как словарь, в котором ключи являются именами объектов, а значения — самими объектами. Каждая пара ключ-значение соотносит из имени с соответствующим ему объектом."
   ]
  },
  {
   "cell_type": "markdown",
   "id": "150e4a4d",
   "metadata": {},
   "source": [
    "Как утверждает Тим Петерс в \"Дзен Python\", пространства имен — отличная штука, и что в Python их нужно чаще использовать. Существует 4 типа пространств имен:\n",
    "- Встроенное.\n",
    "- Глобальное.\n",
    "- Объемлющее.\n",
    "- Локальное.\n",
    "\n",
    "Они обладают разными жизненными циклами. По мере выполнения программы Python создает необходимые пространства имен и удаляет их, когда потребность в них пропадает. Как правило, в любой момент времени существует множество пространств имен."
   ]
  },
  {
   "cell_type": "markdown",
   "id": "aa7fd3b0",
   "metadata": {},
   "source": [
    "Функция `dir()` возвращает отсортированный список имен атрибутов для любого переданного в нее объекта. Если ни один объект не указан, dir() возвращает имена в текущей области видимости."
   ]
  },
  {
   "cell_type": "markdown",
   "id": "ba06cb3d",
   "metadata": {},
   "source": [
    "```Python\n",
    "global_var = 9\n",
    "dir()\n",
    "['In',\n",
    " 'Out',\n",
    " '_',\n",
    " '__',\n",
    " '___',\n",
    " '__builtin__',\n",
    " '__builtins__',\n",
    " '__doc__',\n",
    " '__loader__',\n",
    " '__name__',\n",
    " '__package__',\n",
    " '__spec__',\n",
    " '_dh',\n",
    " '_i',\n",
    " '_i1',\n",
    " '_ih',\n",
    " '_ii',\n",
    " '_iii',\n",
    " '_oh',\n",
    " 'exit',\n",
    " 'get_ipython',\n",
    " 'global_var',\n",
    " 'open',\n",
    " 'quit']\n",
    "```"
   ]
  },
  {
   "cell_type": "code",
   "execution_count": 19,
   "id": "1597a0a1",
   "metadata": {},
   "outputs": [
    {
     "data": {
      "text/plain": [
       "['__abs__',\n",
       " '__add__',\n",
       " '__and__',\n",
       " '__bool__',\n",
       " '__ceil__',\n",
       " '__class__',\n",
       " '__delattr__',\n",
       " '__dir__',\n",
       " '__divmod__',\n",
       " '__doc__',\n",
       " '__eq__',\n",
       " '__float__',\n",
       " '__floor__',\n",
       " '__floordiv__',\n",
       " '__format__',\n",
       " '__ge__',\n",
       " '__getattribute__',\n",
       " '__getnewargs__',\n",
       " '__gt__',\n",
       " '__hash__',\n",
       " '__index__',\n",
       " '__init__',\n",
       " '__init_subclass__',\n",
       " '__int__',\n",
       " '__invert__',\n",
       " '__le__',\n",
       " '__lshift__',\n",
       " '__lt__',\n",
       " '__mod__',\n",
       " '__mul__',\n",
       " '__ne__',\n",
       " '__neg__',\n",
       " '__new__',\n",
       " '__or__',\n",
       " '__pos__',\n",
       " '__pow__',\n",
       " '__radd__',\n",
       " '__rand__',\n",
       " '__rdivmod__',\n",
       " '__reduce__',\n",
       " '__reduce_ex__',\n",
       " '__repr__',\n",
       " '__rfloordiv__',\n",
       " '__rlshift__',\n",
       " '__rmod__',\n",
       " '__rmul__',\n",
       " '__ror__',\n",
       " '__round__',\n",
       " '__rpow__',\n",
       " '__rrshift__',\n",
       " '__rshift__',\n",
       " '__rsub__',\n",
       " '__rtruediv__',\n",
       " '__rxor__',\n",
       " '__setattr__',\n",
       " '__sizeof__',\n",
       " '__str__',\n",
       " '__sub__',\n",
       " '__subclasshook__',\n",
       " '__truediv__',\n",
       " '__trunc__',\n",
       " '__xor__',\n",
       " 'as_integer_ratio',\n",
       " 'bit_count',\n",
       " 'bit_length',\n",
       " 'conjugate',\n",
       " 'denominator',\n",
       " 'from_bytes',\n",
       " 'imag',\n",
       " 'numerator',\n",
       " 'real',\n",
       " 'to_bytes']"
      ]
     },
     "execution_count": 19,
     "metadata": {},
     "output_type": "execute_result"
    }
   ],
   "source": [
    "global_var = 9\n",
    "dir(global_var)"
   ]
  },
  {
   "cell_type": "markdown",
   "id": "78b98bb5",
   "metadata": {},
   "source": [
    "#### Встроенное пространство имен\n",
    "Встроенное пространство имен содержит имена всех встроенных объектов, которые всегда доступны при работе в Python. Можно перечислить объекты во встроенном пространстве с помощью следующей переменной: `__builtins__.__dict__`\n",
    "Перечень включает, например, исключения 'ZeroDivisionError' и 'FileNotFoundError', такие встроенные функции, как 'sum' и 'len', а также типы объектов — int и str и значения 'True', 'False'.\n",
    "\n",
    "При запуске интерпретатор Python создает встроенное пространство имен. Оно сохраняется до тех пор, пока интерпретатор не завершит работу."
   ]
  },
  {
   "cell_type": "code",
   "execution_count": 20,
   "id": "f8082d2b",
   "metadata": {},
   "outputs": [
    {
     "data": {
      "text/plain": [
       "{'__name__': 'builtins',\n",
       " '__doc__': \"Built-in functions, exceptions, and other objects.\\n\\nNoteworthy: None is the `nil' object; Ellipsis represents `...' in slices.\",\n",
       " '__package__': '',\n",
       " '__loader__': _frozen_importlib.BuiltinImporter,\n",
       " '__spec__': ModuleSpec(name='builtins', loader=<class '_frozen_importlib.BuiltinImporter'>, origin='built-in'),\n",
       " '__build_class__': <function __build_class__>,\n",
       " '__import__': <function __import__>,\n",
       " 'abs': <function abs(x, /)>,\n",
       " 'all': <function all(iterable, /)>,\n",
       " 'any': <function any(iterable, /)>,\n",
       " 'ascii': <function ascii(obj, /)>,\n",
       " 'bin': <function bin(number, /)>,\n",
       " 'breakpoint': <function breakpoint>,\n",
       " 'callable': <function callable(obj, /)>,\n",
       " 'chr': <function chr(i, /)>,\n",
       " 'compile': <function compile(source, filename, mode, flags=0, dont_inherit=False, optimize=-1, *, _feature_version=-1)>,\n",
       " 'delattr': <function delattr(obj, name, /)>,\n",
       " 'dir': <function dir>,\n",
       " 'divmod': <function divmod(x, y, /)>,\n",
       " 'eval': <function eval(source, globals=None, locals=None, /)>,\n",
       " 'exec': <function exec(source, globals=None, locals=None, /)>,\n",
       " 'format': <function format(value, format_spec='', /)>,\n",
       " 'getattr': <function getattr>,\n",
       " 'globals': <function globals()>,\n",
       " 'hasattr': <function hasattr(obj, name, /)>,\n",
       " 'hash': <function hash(obj, /)>,\n",
       " 'hex': <function hex(number, /)>,\n",
       " 'id': <function id(obj, /)>,\n",
       " 'input': <bound method Kernel.raw_input of <ipykernel.ipkernel.IPythonKernel object at 0x000001BDA3C0BA00>>,\n",
       " 'isinstance': <function isinstance(obj, class_or_tuple, /)>,\n",
       " 'issubclass': <function issubclass(cls, class_or_tuple, /)>,\n",
       " 'iter': <function iter>,\n",
       " 'aiter': <function aiter(async_iterable, /)>,\n",
       " 'len': <function len(obj, /)>,\n",
       " 'locals': <function locals()>,\n",
       " 'max': <function max>,\n",
       " 'min': <function min>,\n",
       " 'next': <function next>,\n",
       " 'anext': <function anext>,\n",
       " 'oct': <function oct(number, /)>,\n",
       " 'ord': <function ord(c, /)>,\n",
       " 'pow': <function pow(base, exp, mod=None)>,\n",
       " 'print': <function print>,\n",
       " 'repr': <function repr(obj, /)>,\n",
       " 'round': <function round(number, ndigits=None)>,\n",
       " 'setattr': <function setattr(obj, name, value, /)>,\n",
       " 'sorted': <function sorted(iterable, /, *, key=None, reverse=False)>,\n",
       " 'sum': <function sum(iterable, /, start=0)>,\n",
       " 'vars': <function vars>,\n",
       " 'None': None,\n",
       " 'Ellipsis': Ellipsis,\n",
       " 'NotImplemented': NotImplemented,\n",
       " 'False': False,\n",
       " 'True': True,\n",
       " 'bool': bool,\n",
       " 'memoryview': memoryview,\n",
       " 'bytearray': bytearray,\n",
       " 'bytes': bytes,\n",
       " 'classmethod': classmethod,\n",
       " 'complex': complex,\n",
       " 'dict': dict,\n",
       " 'enumerate': enumerate,\n",
       " 'filter': filter,\n",
       " 'float': float,\n",
       " 'frozenset': frozenset,\n",
       " 'property': property,\n",
       " 'int': int,\n",
       " 'list': list,\n",
       " 'map': map,\n",
       " 'object': object,\n",
       " 'range': range,\n",
       " 'reversed': reversed,\n",
       " 'set': set,\n",
       " 'slice': slice,\n",
       " 'staticmethod': staticmethod,\n",
       " 'str': str,\n",
       " 'super': super,\n",
       " 'tuple': tuple,\n",
       " 'type': type,\n",
       " 'zip': zip,\n",
       " '__debug__': True,\n",
       " 'BaseException': BaseException,\n",
       " 'Exception': Exception,\n",
       " 'TypeError': TypeError,\n",
       " 'StopAsyncIteration': StopAsyncIteration,\n",
       " 'StopIteration': StopIteration,\n",
       " 'GeneratorExit': GeneratorExit,\n",
       " 'SystemExit': SystemExit,\n",
       " 'KeyboardInterrupt': KeyboardInterrupt,\n",
       " 'ImportError': ImportError,\n",
       " 'ModuleNotFoundError': ModuleNotFoundError,\n",
       " 'OSError': OSError,\n",
       " 'EnvironmentError': OSError,\n",
       " 'IOError': OSError,\n",
       " 'WindowsError': OSError,\n",
       " 'EOFError': EOFError,\n",
       " 'RuntimeError': RuntimeError,\n",
       " 'RecursionError': RecursionError,\n",
       " 'NotImplementedError': NotImplementedError,\n",
       " 'NameError': NameError,\n",
       " 'UnboundLocalError': UnboundLocalError,\n",
       " 'AttributeError': AttributeError,\n",
       " 'SyntaxError': SyntaxError,\n",
       " 'IndentationError': IndentationError,\n",
       " 'TabError': TabError,\n",
       " 'LookupError': LookupError,\n",
       " 'IndexError': IndexError,\n",
       " 'KeyError': KeyError,\n",
       " 'ValueError': ValueError,\n",
       " 'UnicodeError': UnicodeError,\n",
       " 'UnicodeEncodeError': UnicodeEncodeError,\n",
       " 'UnicodeDecodeError': UnicodeDecodeError,\n",
       " 'UnicodeTranslateError': UnicodeTranslateError,\n",
       " 'AssertionError': AssertionError,\n",
       " 'ArithmeticError': ArithmeticError,\n",
       " 'FloatingPointError': FloatingPointError,\n",
       " 'OverflowError': OverflowError,\n",
       " 'ZeroDivisionError': ZeroDivisionError,\n",
       " 'SystemError': SystemError,\n",
       " 'ReferenceError': ReferenceError,\n",
       " 'MemoryError': MemoryError,\n",
       " 'BufferError': BufferError,\n",
       " 'Warning': Warning,\n",
       " 'UserWarning': UserWarning,\n",
       " 'EncodingWarning': EncodingWarning,\n",
       " 'DeprecationWarning': DeprecationWarning,\n",
       " 'PendingDeprecationWarning': PendingDeprecationWarning,\n",
       " 'SyntaxWarning': SyntaxWarning,\n",
       " 'RuntimeWarning': RuntimeWarning,\n",
       " 'FutureWarning': FutureWarning,\n",
       " 'ImportWarning': ImportWarning,\n",
       " 'UnicodeWarning': UnicodeWarning,\n",
       " 'BytesWarning': BytesWarning,\n",
       " 'ResourceWarning': ResourceWarning,\n",
       " 'ConnectionError': ConnectionError,\n",
       " 'BlockingIOError': BlockingIOError,\n",
       " 'BrokenPipeError': BrokenPipeError,\n",
       " 'ChildProcessError': ChildProcessError,\n",
       " 'ConnectionAbortedError': ConnectionAbortedError,\n",
       " 'ConnectionRefusedError': ConnectionRefusedError,\n",
       " 'ConnectionResetError': ConnectionResetError,\n",
       " 'FileExistsError': FileExistsError,\n",
       " 'FileNotFoundError': FileNotFoundError,\n",
       " 'IsADirectoryError': IsADirectoryError,\n",
       " 'NotADirectoryError': NotADirectoryError,\n",
       " 'InterruptedError': InterruptedError,\n",
       " 'PermissionError': PermissionError,\n",
       " 'ProcessLookupError': ProcessLookupError,\n",
       " 'TimeoutError': TimeoutError,\n",
       " 'open': <function io.open(file, mode='r', buffering=-1, encoding=None, errors=None, newline=None, closefd=True, opener=None)>,\n",
       " 'copyright': Copyright (c) 2001-2022 Python Software Foundation.\n",
       " All Rights Reserved.\n",
       " \n",
       " Copyright (c) 2000 BeOpen.com.\n",
       " All Rights Reserved.\n",
       " \n",
       " Copyright (c) 1995-2001 Corporation for National Research Initiatives.\n",
       " All Rights Reserved.\n",
       " \n",
       " Copyright (c) 1991-1995 Stichting Mathematisch Centrum, Amsterdam.\n",
       " All Rights Reserved.,\n",
       " 'credits':     Thanks to CWI, CNRI, BeOpen.com, Zope Corporation and a cast of thousands\n",
       "     for supporting Python development.  See www.python.org for more information.,\n",
       " 'license': See https://www.python.org/psf/license/,\n",
       " 'help': Type help() for interactive help, or help(object) for help about object.,\n",
       " 'execfile': <function _pydev_imps._pydev_execfile.execfile(file, glob=None, loc=None)>,\n",
       " 'runfile': <function _pydev_bundle.pydev_umd.runfile(filename, args=None, wdir=None, namespace=None)>,\n",
       " '__IPYTHON__': True,\n",
       " 'display': <function IPython.core.display_functions.display(*objs, include=None, exclude=None, metadata=None, transient=None, display_id=None, raw=False, clear=False, **kwargs)>,\n",
       " 'get_ipython': <bound method InteractiveShell.get_ipython of <ipykernel.zmqshell.ZMQInteractiveShell object at 0x000001BDA3C123B0>>}"
      ]
     },
     "execution_count": 20,
     "metadata": {},
     "output_type": "execute_result"
    }
   ],
   "source": [
    "__builtins__.__dict__"
   ]
  },
  {
   "cell_type": "markdown",
   "id": "0d29b8e0",
   "metadata": {},
   "source": [
    "#### Глобальное пространство имен\n",
    "Глобальное пространство имен содержит имена, определенные на уровне основной программы, и создаётся сразу при запуске тела этой программы. Сохраняется же оно до момента завершения работы интерпретатора.\n",
    "После того, как мы объявили переменную и функцию в глобальной области видимости, мы можем увидить их в глобальном пространстве имен, вызвав функцию globals(). Функция globals() используется для вывода содержимого глобальной области видимости. Она возвращает словарь с текущим глобальным содержимым области видимости."
   ]
  },
  {
   "cell_type": "markdown",
   "id": "301bb580",
   "metadata": {},
   "source": [
    "```Python\n",
    "print(globals())\n",
    "```\n",
    "```\n",
    "{'__name__': '__main__', '__doc__': 'Automatically created module for IPython interactive environment', '__package__': None, '__loader__': None, '__spec__': None, '__builtin__': <module 'builtins' (built-in)>, '__builtins__': <module 'builtins' (built-in)>, '_ih': ['', 'print(globals())'], '_oh': {}, '_dh': [WindowsPath('C:/Ростелеком (Jupiter)/Тема2.1')], 'In': ['', 'print(globals())'], 'Out': {}, 'get_ipython': <bound method InteractiveShell.get_ipython of <ipykernel.zmqshell.ZMQInteractiveShell object at 0x0000020C4BF123B0>>, 'exit': <IPython.core.autocall.ZMQExitAutocall object at 0x0000020C4BF11090>, 'quit': <IPython.core.autocall.ZMQExitAutocall object at 0x0000020C4BF11090>, 'open': <function open at 0x0000020C4A6D8820>, '_': '', '__': '', '___': '', '_i': '', '_ii': '', '_iii': '', '_i1': 'print(globals())'}\n",
    "```"
   ]
  },
  {
   "cell_type": "markdown",
   "id": "826d215e",
   "metadata": {},
   "source": [
    "Строго говоря, могут существовать и другие глобальные пространства имен. Интерпретатор также создает пространство данного типа для любого модуля, загружаемого программой при помощи выражения import."
   ]
  },
  {
   "cell_type": "markdown",
   "id": "18268fb6",
   "metadata": {},
   "source": [
    "\n",
    "#### Локальное и объемлющее пространства имен\n",
    "Интерпретатор создает новое пространство имен при каждом выполнении функции. Это пространство является локальным для функции и сохраняется до момента завершения ее действия.\n",
    "\n",
    "Функции существуют независимо друг от друга только на уровне основной программы. Вы также можете определять одну функцию внутри другой.\n"
   ]
  },
  {
   "cell_type": "code",
   "execution_count": 21,
   "id": "daab7370",
   "metadata": {},
   "outputs": [
    {
     "name": "stdout",
     "output_type": "stream",
     "text": [
      "Start fan()\n",
      "Start sub_fan()\n",
      "End sub_fan()\n",
      "End fan()\n"
     ]
    }
   ],
   "source": [
    "def fan():\n",
    "    print('Start fan()')\n",
    "    def sub_fan():\n",
    "        print('Start sub_fan()')\n",
    "        print('End sub_fan()')\n",
    "        return\n",
    "    sub_fan()\n",
    "    print('End fan()')\n",
    "    return\n",
    "fan()"
   ]
  },
  {
   "cell_type": "markdown",
   "id": "00d21777",
   "metadata": {},
   "source": [
    "В этом примере функция sub_fan() определена внутри тела fan(), поэтому функция fan() называется объемлющей, а sub_fan() вложенной или локальной. \n",
    "\n",
    "Когда основная программа вызывает функцию fan(), Python создает для нее новое пространство имен. Аналогичным образом, когда функция fan() вызывает вложенную в нее функцию sub_fan(), то вложенная функция sub_fan() получает свое собственное отдельное пространство. \n",
    "Пространство, созданное для sub_fan(), является локальным, а пространство, созданное для fan() — объемлющим.\n",
    "\n",
    "Все эти пространства существуют до тех пор, пока выполняются соответствующие им функции. По завершении же этих функций все ссылки на содержащиеся в них объекты сразу становятся недоступными."
   ]
  },
  {
   "cell_type": "markdown",
   "id": "4e3637e7",
   "metadata": {},
   "source": [
    "Функция `locals` используются для вывода содержимого локальной области видимости. Она возвращает словарь с текущим локальным содержимым области видимости:"
   ]
  },
  {
   "cell_type": "code",
   "execution_count": 22,
   "id": "6f18d620",
   "metadata": {},
   "outputs": [
    {
     "name": "stdout",
     "output_type": "stream",
     "text": [
      "{'x': 1, 'y': 2}\n"
     ]
    }
   ],
   "source": [
    "def foo():\n",
    "    x = 1\n",
    "    y = 2\n",
    "    print(locals())\n",
    "foo()"
   ]
  },
  {
   "cell_type": "markdown",
   "id": "1d3f813e",
   "metadata": {},
   "source": [
    "### Область видимости переменной\n",
    "Наличие нескольких отличных пространств имен означает, что в процессе выполнения программы на языке Python несколько разных экземпляров одного имени могут существовать одновременно. Пока каждый из них находится в собственном пространстве, все они обслуживаются по отдельности, и путаницы не происходит.\n",
    "\n",
    "Если некоторое имя x в коде, существует в нескольких пространствах, то у них различаются области видимости имен, представляющие из себя части программ, в которых данное имя обладает значением. Интерпретатор определяет эту область в среде выполнения, основываясь на том, где располагается определение имени и из какого места в коде на него ссылаются.\n",
    "\n",
    "Если программный код ссылается на имя x, то Python будет искать его в областях видимости в таком порядке:\n",
    "\n",
    "1) Локальная. Если вы ссылаетесь на объект x внутри функции, то интерпретатор сначала ищет его в самой внутренней области, локальной для этой функции.\n",
    "\n",
    "2) Объемлющая. Если объект x не находится в локальной области, но появляется в функции, располагающейся внутри другой функции, то интерпретатор ищет его в области видимости объемлющей функции.\n",
    "\n",
    "3) Глобальная. Если ни один из вышеуказанных вариантов не принес результатов, то интерпретатор продолжит поиск в глобальной области видимости.\n",
    "\n",
    "4) Встроенная. Если интерпретатор не может найти объект x где-либо еще, то он направляет поиски во встроенную область видимости.\n",
    "\n",
    "Эта последовательность составляет суть правила областей видимости LEGB, как его обычно называют в публикациях о Python (хотя, на самом деле, данный термин не встречается в его официальной документации). Интерпретатор начинает поиски имени изнутри, последовательно переходя от локальной области видимости к объемлющей, затем к глобальной и в завершении к встроенной.\n",
    "\n",
    "#### Правило поиска имен \"LEGB\"\n",
    "\n",
    "Пространство имен делится на следующие слои:\n",
    "- Local (L) - Локальное пространство имен функции def или в выражении lambda;\n",
    "- Enclosing (E) - Пространство имен объемлющей функции def или в выражении lambda (Если мы объявим функцию \"a\", в нее вложим объявление функции \"b\". Локальное пространство имен функции \"a\", будет пространством имен объемлющей функции для функции \"b\", примерно также, как глобальное пространство имен - это объемлющее пространство имен для функции \"a\");\n",
    "- Global (G) - Глобальное пространство имен;\n",
    "- Builtins (B)- пространство имен встроенных в Python функций.\n",
    "\n",
    "Встроенное пространство имен(Built-in namespace) охватывает глобальное пространство имен (Global namespace), а глобальное пространство имен охватывает пространство имен объемлющей функции(Enveloping namespace), пространство имен объемлющей функции охвыатывает локальное пространство имен (Local namespace).\n",
    "\n",
    "[ [ [ [ L ] E ] G ] B ]\n",
    "\n",
    "Правило поиска имен \"LEGB\" говорит о том, что когда внутри функции выполняется обращение к неизвестному имени, интерпретатор пытается отыскать его в своем локальном пространстве имен, затем в пространстве объемлющей функции, если таковая есть, после в глобальном пространстве имен и, в самом конце, будет искать необходимое имя в пространстве \"Builtins\", где располагаются встроенные в Python функции. Поиск завершается, как только будет найдено первое подходящее имя. Если требуемое имя не будет найдено, интерпретатор выведет сообщение об ошибке.\n"
   ]
  },
  {
   "cell_type": "code",
   "execution_count": 23,
   "id": "35b334c9",
   "metadata": {},
   "outputs": [
    {
     "name": "stdout",
     "output_type": "stream",
     "text": [
      "10\n"
     ]
    }
   ],
   "source": [
    "#Пространство \"Enclosing\" - объемлющей функции\n",
    "#Пример:\n",
    "a = 20 # Глобальная переменная\n",
    "def Gfunc():\n",
    "    a = 10 # Локальная переменная\n",
    "    def Ifunc(): # Вложенная функция в функцию Gfunc\n",
    "            print(a)\n",
    "    Ifunc() # В конце функции Gfunc, вызываем функцию Ifunc\n",
    "Gfunc()"
   ]
  },
  {
   "cell_type": "markdown",
   "id": "3e361739",
   "metadata": {},
   "source": [
    "Здесь мы создали глобальную переменную \"a\" со значением 20. Объявили функцию Gfunc, в рамках функции, объявили локальную переменную \"a\" со значением 10. Далее мы объявили функцию Ifunc, которая получилась вложенной в функцию Gfunc. В функции Ifunc, мы обратились к переменной \"a\", которую мы не объявляли в рамках этой функции. Когда функция Ifunc не нашла такую переменную в своей локальной области видимости, она стала искать ее в следующем(внешнем) пространстве имен. По нашему правилу \"LEGB\" - это пространство объемлющей (Enveloping) функции, в данном случае, функции Gfunc, где была объявлена переменная \"a\" со значением 10. Найдя эту переменную в объемлющем пространстве, Ifunc вывела нам значение этой переменной на экран. Если бы в объемлющем пространстве функции Gfunc, мы не объявили бы переменную \"a\", функция Ifunc, не найдя эту переменную в объемлющем пространстве, пошла бы искать ее в глобальной области видимости и наткнулась бы на глобальную переменную \"a\" со значением 20."
   ]
  },
  {
   "cell_type": "markdown",
   "id": "c68130ee",
   "metadata": {},
   "source": [
    "Ниже представлен ряд примеров с правилом LEGB. В каждом из них самая внутренняя вложенная функция g() пытается вывести в консоль значение переменной с именем x. Обратите внимание, как в каждом примере происходит вывод разного значения x в зависимости от области видимости.\n",
    "\n",
    "Пример 1. Одно определение\n",
    "\n",
    "В этом примере имя x определено только в одной области. Оно находится за пределами функций f() и g() и поэтому относится к глобальной области видимости.\n",
    "Выражение print(x) может ссылаться только на одно возможное имя x. Оно отображает объект x, определенный в глобальном пространстве имен, которым является строка 'global'.\n"
   ]
  },
  {
   "cell_type": "code",
   "execution_count": 24,
   "id": "d8f5f5d0",
   "metadata": {},
   "outputs": [
    {
     "name": "stdout",
     "output_type": "stream",
     "text": [
      "global\n"
     ]
    }
   ],
   "source": [
    "x = 'global'\n",
    "def f():\n",
    "    def g():\n",
    "        print(x)\n",
    "    g()\n",
    "\n",
    "f()\n"
   ]
  },
  {
   "cell_type": "markdown",
   "id": "f162f9ed",
   "metadata": {},
   "source": [
    "Пример 2. Двойное определение\n",
    "\n",
    "В следующем примере определение x появляется в двух местах: одно — вне f() и другое — внутри f(), но за пределами g().\n",
    "Как и в предыдущем примере g() ссылается на x. Но на этот раз предполагается выбор из двух определений:\n",
    "\n",
    "Перволе определение объекта x в глобальной области видимости.\n",
    "Второе определение объекта x в объемлющей области видимости.\n",
    "Согласно правилу LEGB интерпретатор находит значение в объемлющей области перед тем, как искать в глобальной. Поэтому выражение print(x) выводит 'enclosing' вместо 'global'.\n"
   ]
  },
  {
   "cell_type": "code",
   "execution_count": 25,
   "id": "8b6c0a26",
   "metadata": {},
   "outputs": [
    {
     "name": "stdout",
     "output_type": "stream",
     "text": [
      "enclosing\n"
     ]
    }
   ],
   "source": [
    "x = 'global'\n",
    "def f():\n",
    "    x = 'enclosing'\n",
    "    def g():\n",
    "        print(x)\n",
    "    g()\n",
    "f()"
   ]
  },
  {
   "cell_type": "markdown",
   "id": "e7f801ce",
   "metadata": {},
   "source": [
    "Пример 3. Тройное определение\n",
    "\n",
    "Теперь рассмотрим ситуацию, в которой x определен везде. \n",
    "Одно определение находится вне f(), другое — внутри f(), но за пределами g(), а третье — внутри g().\n",
    "Теперь выражение print(x) должно выбрать из трех возможных вариантов:\n",
    "\n",
    "Перволе определение объекта x в глобальной области видимости.\n",
    "Второе определение объекта x в объемлющей области видимости.\n",
    "Третье определение объекта x в локальной области g().\n",
    "В данном случае правило LEGB утверждает, что g() сначала видит свое собственное значение x, определенное в локальной области видимости. Поэтому выражение print() отображает 'local'.\n"
   ]
  },
  {
   "cell_type": "code",
   "execution_count": 26,
   "id": "42ef5c00",
   "metadata": {},
   "outputs": [
    {
     "name": "stdout",
     "output_type": "stream",
     "text": [
      "local\n"
     ]
    }
   ],
   "source": [
    "x = 'global'\n",
    "def f():\n",
    "    x = 'enclosing'\n",
    "    def g():\n",
    "        x = 'local'\n",
    "        print(x)\n",
    "    g()\n",
    "f()"
   ]
  },
  {
   "cell_type": "markdown",
   "id": "07070f37",
   "metadata": {},
   "source": [
    "#### Объявление `global`\n",
    "Для изменения значения в глобальной области видимости изнутри функции f() необходимо объявить объект как global.\n",
    "Выражение `global x` указывает на то, что пока выполняется f(), ссылки на имя x будут вести к x, находящемуся в глобальном пространстве имен. Это значит, что присваивание x = 9 не создает новую ссылку. Вместо этого оно присваивает новое значение x в глобальной области видимости.\n",
    "\n"
   ]
  },
  {
   "cell_type": "code",
   "execution_count": 27,
   "id": "f674a77f",
   "metadata": {},
   "outputs": [
    {
     "name": "stdout",
     "output_type": "stream",
     "text": [
      "9\n",
      "9\n"
     ]
    }
   ],
   "source": [
    "x = 6\n",
    "def f():\n",
    "    global x\n",
    "    x = 9\n",
    "    print(x)\n",
    "f()\n",
    "print(x)"
   ]
  },
  {
   "cell_type": "markdown",
   "id": "3f5ba731",
   "metadata": {},
   "source": [
    "Если же имя, определенное в объявлении global, не существует в глобальной области при запуске функции, то его создаст комбинация выражений global и присваивания.\n"
   ]
  },
  {
   "cell_type": "code",
   "execution_count": 28,
   "id": "fd62e876",
   "metadata": {},
   "outputs": [
    {
     "name": "stdout",
     "output_type": "stream",
     "text": [
      "3\n"
     ]
    }
   ],
   "source": [
    "def g():\n",
    "    global y\n",
    "    y = 3\n",
    "g()\n",
    "print(y)"
   ]
  },
  {
   "cell_type": "markdown",
   "id": "7ffd6d7d",
   "metadata": {},
   "source": [
    "#### Функция globals()\n",
    "Вместо использования выражения global, можно было бы осуществить то же самое, применив globals(). Встроенная функция globals() возвращает ссылку на текущий словарь глобального пространства имен. Ее можно использовать для обращения к объектам в этом пространстве. Особых причин обращаться к глобальной переменной посредством функции globals() нет, поскольку объявление global, вероятно, точнее отражает данное действие. Тем не менее этот вариант позволяет продемонстрировать принцип работы globals()."
   ]
  },
  {
   "cell_type": "code",
   "execution_count": 29,
   "id": "951fee53",
   "metadata": {},
   "outputs": [
    {
     "name": "stdout",
     "output_type": "stream",
     "text": [
      "9\n",
      "9\n"
     ]
    }
   ],
   "source": [
    "x = 6\n",
    "def f():\n",
    "    globals()['x'] = 9\n",
    "    print(x)\n",
    "f()\n",
    "print(x)"
   ]
  },
  {
   "cell_type": "markdown",
   "id": "275bb279",
   "metadata": {},
   "source": [
    "#### Объявление nonlocal\n",
    "Объявление nonlocal позволяет вложенной функции изменить объект в объемлющей области.\n",
    "Для модификации x в объемлющей области изнутри g() потребуется ключевое слово nonlocal. Имена, определенные после nonlocal, ссылаются на переменные в ближайшей объемлющей области."
   ]
  },
  {
   "cell_type": "code",
   "execution_count": 30,
   "id": "68f03c2d",
   "metadata": {},
   "outputs": [
    {
     "name": "stdout",
     "output_type": "stream",
     "text": [
      "6\n"
     ]
    }
   ],
   "source": [
    "def f():\n",
    "    x = 3\n",
    "    def g():\n",
    "        nonlocal x\n",
    "        x = 6\n",
    "    g()\n",
    "    print(x)\n",
    "f()\n"
   ]
  },
  {
   "cell_type": "markdown",
   "id": "97b92f86",
   "metadata": {},
   "source": [
    "#### Функция locals()\n",
    "\n",
    "Pyhton предоставляет встроенную функцию locals(). Она похожа на globals(), но отличается от нее тем, что обращается к объектам в локальном пространстве имен.\n",
    "\n",
    "Когда locals() вызывается внутри f(), она возвращает словарь, представляющий локальное пространство имен функции. \n",
    "Обратите внимание, что помимо локально определенной переменной 'c' это пространство включает параметры функции x и y, \n",
    "поскольку они также являются локальными для f().\n",
    "\n",
    "Если вы вызываете locals() за пределами функций в основой программе, то она ведет себя так же как и globals().\n",
    "\n",
    "Между globals() и locals() существует небольшое отличие:\n",
    "globals() возвращает актуальную ссылку на словарь, содержащий глобальное пространство имен. \n",
    "Это значит, что если вы вызываете globals(), сохраняете возвращаемое значение и после этого определяете дополнительные переменные, то эти новые переменные появятся в словаре, на который указывает сохраненное возвращаемое значение.\n",
    "\n",
    "В свою очередь, locals() возвращает словарь, являющийся текущей копией локального пространства имен, \n",
    "а не ссылкой на него. Дальнейшие дополнения к локальному пространству не повлияют на предыдущее возвращаемое значение locals() до момента ее повторного вызова. \n",
    "Кроме того, нельзя изменять объекты в текущем локальном пространстве имен, используя возвращаемое значение locals()."
   ]
  },
  {
   "cell_type": "code",
   "execution_count": 31,
   "id": "deeb243c",
   "metadata": {},
   "outputs": [
    {
     "name": "stdout",
     "output_type": "stream",
     "text": [
      "{'x': 10, 'y': 0.5, 'a': 'A', 'b': 'B'}\n",
      "10\n",
      "{'x': 10, 'y': 0.5, 'a': 'A', 'b': 'B', 'c': 10}\n",
      "10\n",
      "10\n",
      "{'x': 6, 'y': 0.5, 'a': 'A', 'b': 'B', 'c': 3}\n"
     ]
    }
   ],
   "source": [
    "def f(x, y):\n",
    "    a = 'A'\n",
    "    b = 'B'\n",
    "    print(locals())\n",
    "    c = locals()['x']\n",
    "    print(c)\n",
    "    locals()['c'] = 7 # Присваивания не происходит, объект c не изменяется\n",
    "    locals()['x'] = 9 # Присваивания не происходит, объект x не изменяется\n",
    "    print(locals()) \n",
    "    print(c)\n",
    "    print(x)\n",
    "    c = 3\n",
    "    x = 6\n",
    "    print(locals())  \n",
    "    \n",
    "f(10, 0.5)\n"
   ]
  },
  {
   "cell_type": "markdown",
   "id": "55b12d3f",
   "metadata": {},
   "source": [
    "Команда `del` может использоваться для удаления переменных в локальной или глобальной области видимости. Однако на практике лучше с самого начала избегать замещения встроенных имен."
   ]
  },
  {
   "cell_type": "markdown",
   "id": "3d2d5cea",
   "metadata": {},
   "source": [
    "### Функционально-стилевые особенности Python"
   ]
  },
  {
   "cell_type": "markdown",
   "id": "85efc380",
   "metadata": {},
   "source": [
    "### Функциональное программирование\n",
    "\n",
    "Функциональное программирование — декларативная парадигма программирования, в которой процесс вычисления трактуется как вычисление значений функций в математическом понимании последних (в отличие от функций как подпрограмм в процедурном программировании). \n",
    "\n",
    "Функциональное программирование противопоставляется парадигме императивного программирования.При императивном подходе к написанию кода (в отличие от функционального подхода, относящегося к декларативной парадигме) широко используется присваивание. Наличие операторов присваивания увеличивает сложность модели вычислений и делает императивные программы подверженными специфическим ошибкам, не встречающимся при функциональном подходе. \n",
    "\n",
    "В функциональном языке при вызове функции с одними и теми же аргументами мы всегда получим одинаковый результат: выходные данные зависят только от входных. Это позволяет средам выполнения программ на функциональных языках кешировать результаты функций и вызывать их в порядке, не определяемом алгоритмом и распараллеливать их без каких-либо дополнительных действий со стороны программиста (что обеспечивают функции без побочных эффектов — чистые функции).\n",
    "\n",
    "В Python функциональное программирование реализуется за счет использования сложных выражений и деклараций функций.\n",
    "\n",
    "#### Основные понятия парадигмы функционального программирования\n",
    "\n",
    "##### Побочные эффекты\n",
    "\n",
    "Функция имеет «побочный эффект», если изменяет состояние программы за пределами своей локальной среды. То есть, побочный эффект — это любые наблюдаемые изменения за пределами области видимости функции, которые возникают в результате вызова функции. Примером таких побочных эффектов может быть изменение значения глобальной переменной, изменение атрибута или объекта, доступного за пределами области видимости функции, или сохранение данных в каком-либо внешнем сервисе. Побочные эффекты находятся в центре концепции объектно-ориентированного программирования, где экземпляры класса — это объекты, используемые для инкапсуляции состояния приложения, а методы — это функции, привязанные к этим объектам и используемые для изменения их состояния.\n",
    "\n",
    "##### Ссылочная прозрачность\n",
    "\n",
    "Ссылочно-прозрачная функция или выражение могут быть заменены значениями, которые соответствуют входным данным, и при этом поведение программы не изменится.  Выражение называется ссылочно прозрачным, если его можно заменить соответствующим значением без изменения поведения программы. В результате вычисления ссылочно прозрачной функции получается одно и то же значение для одних и тех же аргументов. \n",
    "\n",
    "Важность ссылочной прозрачности заключается в том, что она позволяет программисту и компилятору рассуждать о поведении программы как о системе перезаписи. Это может помочь в проверке правильности, упрощении алгоритма, помощи в модификации кода без его нарушения или оптимизации кода с помощью мемоизации, удаления общих подвыражений, ленивых вычислений или распараллеливания. \n",
    "\n",
    "Таким образом, отсутствие побочных эффектов — необходимое условие для ссылочной прозрачности, но не каждая функция, не имеющая побочных эффектов, является ссылочно-прозрачной. Например, встроенная функция Python pow(х, у) ссылочно-прозрачна, поскольку не имеет побочных эффектов. С другой стороны, метод datetime.now() типа datetime не имеет наблюдаемых побочных эффектов, но при каждом вызове возвращает разные значения, таким образом, он является ссылочно-непрозрачным.\n",
    "\n",
    "\n",
    "\n",
    "##### Чистые функции \n",
    "\n",
    "Чистой является функция, не имеющая каких-либо побочных эффектов и всегда возвращающая одинаковое значение для одного и того же набора входных параметров.  Другими словами, это функция, которая является ссылочно-прозрачной. Любая математическая функция по определению чистая. В математике все функции являются ссылочно прозрачными согласно определению математической функции. Однако в программировании это не всегда так. \n",
    "\n",
    "В функциональном программировании рассматриваются только ссылочные прозрачные функции. Некоторые языки программирования обеспечивают средства для гарантирования ссылочной прозрачности. Некоторые языки функционального программирования обеспечивают ссылочную прозрачность для всех функций. \n",
    "\n",
    "##### Функции первого класса\n",
    "\n",
    "Язык содержит такие функции, если функции на этом языке можно рассматривать как любое другое значение или сущность. Функции первого класса могут быть переданы в качестве аргументов другим функциям, являться возвращаемыми значениями и присваиваться переменным. Иными словами, язык, в котором есть функции первого класса, — это язык, относящийся к функциям как к сущностям первого класса. Функции в Python являются функциями первого класса.\n",
    "\n",
    "Используя эти понятия, мы могли бы описать чисто функциональный язык как язык, содержащий чистые функции верхнего уровня, в которых отсутствуют неясные ссылки и побочные эффекты.\n"
   ]
  },
  {
   "cell_type": "markdown",
   "id": "024c9601",
   "metadata": {},
   "source": [
    "#### Python и функциональный стиль программирования\n",
    "\n",
    "Python, не является чисто функциональным языком программирования, и было бы очень трудно представить полезную программу на Python, в которой задействованы только чистые функции без каких-либо побочных эффектов. \n",
    "\n",
    "В Python есть немало функций, в течение долгих лет доступные только в чисто функциональных языках, поэтому на Python можно писать большие фрагменты кода в чисто функциональном стиле, несмотря на то, что язык Python в целом не является таковым."
   ]
  },
  {
   "cell_type": "markdown",
   "id": "ba507c25",
   "metadata": {},
   "source": [
    "#### Функции высшего порядка\n",
    "\n",
    "Все объекты в языке Python могут быть отнесены к объектам первого класса Это означает, что все объекты, имеющие идентификатор, имеют одинаковый статус. Это также означает, что все объекты, имеющие идентификатор, можно интерпретировать, как данные. \n",
    "\n",
    "Функции в Python - полноправные объекты. Теоретики языков программирования определяют «полноправный объект» как элемент программы, обладающий следующими свойствами:\n",
    "- может быть создан во время выполнения;\n",
    "- может быть присвоен переменной или полю структуры данных;\n",
    "- может быть передан функции в качестве аргумента;\n",
    "- может быть возвращен функцией в качестве результата."
   ]
  },
  {
   "cell_type": "markdown",
   "id": "96873f12",
   "metadata": {},
   "source": [
    "«Первоклассную» природу объектов можно наблюдать, если попробовать\n",
    "добавить в словарь несколько необычных элементов.\n",
    "Например:\n"
   ]
  },
  {
   "cell_type": "code",
   "execution_count": 32,
   "id": "8cbff74e",
   "metadata": {},
   "outputs": [],
   "source": [
    "items = {'number' : 42, 'text' : \"Hello World\" } # Словарь\n",
    "items[\"func\"] = abs # Добавляется функция abs()\n",
    "import math\n",
    "items[\"mod\"] = math # Добавляется модуль\n",
    "items[\"error\"] = ValueError # Добавляется тип исключения\n",
    "nums = [1,2,3,4]\n",
    "items[\"append\"] = nums.append # Добавляется метод другого объекта"
   ]
  },
  {
   "cell_type": "markdown",
   "id": "f4ea9387",
   "metadata": {},
   "source": [
    "В этом примере в словарь были добавлены функция, модуль, исключение\n",
    "и метод другого объекта. Можно обратиться к элементам словаря вместо оригинальных объектов, и такой код будет работать. \n",
    "Например:"
   ]
  },
  {
   "cell_type": "code",
   "execution_count": 33,
   "id": "864bb7c5",
   "metadata": {},
   "outputs": [
    {
     "data": {
      "text/plain": [
       "45"
      ]
     },
     "execution_count": 33,
     "metadata": {},
     "output_type": "execute_result"
    }
   ],
   "source": [
    "items[\"func\"](-45) # Вызовет функцию abs(-45)"
   ]
  },
  {
   "cell_type": "code",
   "execution_count": 34,
   "id": "32354c70",
   "metadata": {},
   "outputs": [
    {
     "data": {
      "text/plain": [
       "2.0"
      ]
     },
     "execution_count": 34,
     "metadata": {},
     "output_type": "execute_result"
    }
   ],
   "source": [
    "items[\"mod\"].sqrt(4) # Вызовет функцию math.sqrt(4)"
   ]
  },
  {
   "cell_type": "code",
   "execution_count": 35,
   "id": "652ee7fd",
   "metadata": {},
   "outputs": [
    {
     "name": "stdout",
     "output_type": "stream",
     "text": [
      "Couldn’t convert\n"
     ]
    }
   ],
   "source": [
    "try:\n",
    "    x = int(\"a lot\")\n",
    "except items[\"error\"] as e: # Идентична инструкции except ValueError as e\n",
    "    print(\"Couldn’t convert\")"
   ]
  },
  {
   "cell_type": "code",
   "execution_count": 36,
   "id": "56f0f509",
   "metadata": {},
   "outputs": [],
   "source": [
    "items[\"append\"](100) # Вызовет метод nums.append(100)"
   ]
  },
  {
   "cell_type": "code",
   "execution_count": 37,
   "id": "2292905f",
   "metadata": {},
   "outputs": [
    {
     "data": {
      "text/plain": [
       "[1, 2, 3, 4, 100]"
      ]
     },
     "execution_count": 37,
     "metadata": {},
     "output_type": "execute_result"
    }
   ],
   "source": [
    "nums"
   ]
  },
  {
   "cell_type": "markdown",
   "id": "dc9013a4",
   "metadata": {},
   "source": [
    "Такой факт, что все объекты в языке Python являются объектами первого класса, позволяет писать очень компактные и гибкие программы. Например, предположим, что имеется текстовая строка, такая как “GOOG,100,490.10”, и необходимо превратить ее в список полей, попутно выполнив необходимые преобразования типов. Ниже приводится компактный способ реализации такого преобразования: создается список типов (которые также являются объектами первого класса) и выполняется несколько простых операций по обработке списка:"
   ]
  },
  {
   "cell_type": "code",
   "execution_count": 38,
   "id": "942f9c62",
   "metadata": {},
   "outputs": [
    {
     "data": {
      "text/plain": [
       "[90, ' Python', 23.1]"
      ]
     },
     "execution_count": 38,
     "metadata": {},
     "output_type": "execute_result"
    }
   ],
   "source": [
    "line = \" 90, Python, 23.10\"\n",
    "field_types = [ int, str, float]\n",
    "raw_fields = line.split(',')\n",
    "fields = [ty(val) for ty,val in zip(field_types,raw_fields)]\n",
    "fields"
   ]
  },
  {
   "cell_type": "markdown",
   "id": "0bb640bd",
   "metadata": {},
   "source": [
    "### Анонимные функции\n",
    "\n",
    "Ключевое слово `lambda` служит для создания анонимной функции внутри выражения Python.\n",
    "Однако в силу простоты синтаксиса тело лямбда-функции может быть только чистым выражением. Иными словами, в теле lambda нельзя производить присваивание или выполнять другие предложения Python, например while, try и т. д. Особенно удобны анонимные функции в списке аргументов.\n",
    "\n",
    "Лямбда-функции — очень популярная концепция программирования, особенно в функциональном программировании. Лямбда-функции иногда называются анонимными функциями, лямбда-выражениями или функциональными литералами. Лямбда-функции — это анонимные функции, которые не привязываются к какому-либо идентификатору (переменной). Лямбда-функция в Python может быть определена только с помощью выражений. Синтаксис такой функции выглядит следующим образом:\n",
    "```Python\n",
    "lambda <аргументы>: <выражение>\n",
    "```\n",
    "Лямбда-выражения представляют собой анонимные маленькие функции, которые могут быстро определяться «на месте». Часто такие маленькие функции требуется передавать другим функциям, как в случае с ключевой функцией, используемой методом сортировки списка слов в обратном порядке букв. В таких случаях большие функции обычно не нужны.  Обратите внимание: лямбда-выражения не содержат команды return, потому что они автоматически возвращают значение выражения. "
   ]
  },
  {
   "cell_type": "code",
   "execution_count": 39,
   "id": "24c4ac77",
   "metadata": {},
   "outputs": [
    {
     "data": {
      "text/plain": [
       "['banana', 'apple', 'fig', 'raspberry', 'strawberry', 'cherry']"
      ]
     },
     "execution_count": 39,
     "metadata": {},
     "output_type": "execute_result"
    }
   ],
   "source": [
    "#Пример:\n",
    "#Сортировка списка слов в обратном порядке букв с помощью lambda функции\n",
    "fruits = ['strawberry', 'fig', 'apple', 'cherry' , 'raspberry', 'banana']\n",
    "sorted ( fruits , key = lambda word: word[::-1])"
   ]
  },
  {
   "cell_type": "code",
   "execution_count": 40,
   "id": "820b360c",
   "metadata": {},
   "outputs": [
    {
     "data": {
      "text/plain": [
       "'yrrebwarts'"
      ]
     },
     "execution_count": 40,
     "metadata": {},
     "output_type": "execute_result"
    }
   ],
   "source": [
    "word ='strawberry'\n",
    "r = word[::-1]\n",
    "r"
   ]
  },
  {
   "cell_type": "code",
   "execution_count": 41,
   "id": "f98b6519",
   "metadata": {},
   "outputs": [
    {
     "data": {
      "text/plain": [
       "'yrrebwarts'"
      ]
     },
     "execution_count": 41,
     "metadata": {},
     "output_type": "execute_result"
    }
   ],
   "source": [
    "key = lambda word: word[::-1]\n",
    "key('strawberry')"
   ]
  },
  {
   "cell_type": "code",
   "execution_count": 42,
   "id": "b4424f5d",
   "metadata": {},
   "outputs": [
    {
     "name": "stdout",
     "output_type": "stream",
     "text": [
      "77.0\n",
      "298.15\n"
     ]
    }
   ],
   "source": [
    "# Пример:\n",
    "# Выполним перевод значений градусов температуры из различных шкал: Цельсия, Фаренгейт и Кельвина\n",
    "# Этот пример определяет лямбда-выражения как значения в словаре.\n",
    "\n",
    "degree = {'Fahrenheit_to_Kelvin' : lambda deg_f: (deg_f + 459.67)* 5 / 9,\n",
    "          'Fahrenheit_to_Celsius': lambda deg_f: (deg_f - 32) * 5 / 9,\n",
    "          'Celsius_to_Kelvin'    : lambda deg_c:  deg_c + 273.15,\n",
    "          'Celsius_to_Fahrenheit': lambda deg_c:  deg_c * 9 / 5 + 32, \n",
    "          'Kelvin_to_Celsius'    : lambda deg_k:  deg_k - 273.15, \n",
    "          'Kelvin_to_Fahrenheit' : lambda deg_k:  deg_k * 9 / 5 - 459.67}\n",
    "\n",
    "print(degree['Celsius_to_Fahrenheit'](25))\n",
    "print(degree['Celsius_to_Kelvin'](25))\n"
   ]
  },
  {
   "cell_type": "markdown",
   "id": "825ba3d9",
   "metadata": {},
   "source": [
    "Cравним обычную пользовательскую функцию создаваемую с помощью ключевого слова def и анонимную функцию создаваемую с помощью ключевого слова lambda. \n",
    "Создадим две функции, которые будут возвращать площадь круга заданного радиуса:\n",
    "\n",
    "Пользовательская функция создаваемая с помощью ключевого слова def."
   ]
  },
  {
   "cell_type": "code",
   "execution_count": 43,
   "id": "5dbecf82",
   "metadata": {},
   "outputs": [
    {
     "data": {
      "text/plain": [
       "28.274333882308138"
      ]
     },
     "execution_count": 43,
     "metadata": {},
     "output_type": "execute_result"
    }
   ],
   "source": [
    "import math\n",
    "def circle_area(radius):\n",
    "    return math.pi * radius ** 2\n",
    "circle_area(3)"
   ]
  },
  {
   "cell_type": "markdown",
   "id": "aa8c8189",
   "metadata": {},
   "source": [
    "Анонимная функция создаваемая с помощью ключевого слова lambda."
   ]
  },
  {
   "cell_type": "code",
   "execution_count": 44,
   "id": "87fd0ef1",
   "metadata": {},
   "outputs": [
    {
     "data": {
      "text/plain": [
       "[28.274333882308138]"
      ]
     },
     "execution_count": 44,
     "metadata": {},
     "output_type": "execute_result"
    }
   ],
   "source": [
    "import math\n",
    "list(map(lambda radius: math.pi * radius ** 2, [3]))"
   ]
  },
  {
   "cell_type": "markdown",
   "id": "a793af76",
   "metadata": {},
   "source": [
    "Лямбда функции анонимны, но это не значит, что их нельзя присвоить идентификатору. Функции в Python — объекты первого класса, поэтому всякий раз, используя имя функции, на самом деле задействуется переменная, которая является ссылкой на объект функции. Как и любые другие функции, лямбда-функции — «граждане первого класса», поэтому их тоже можно связать с новой переменной. После назначения переменной они будут неотличимы от обычных функций, за исключением некоторых атрибутов метаданных. Следующие фрагменты демонстрируют это:"
   ]
  },
  {
   "cell_type": "code",
   "execution_count": 45,
   "id": "173fa636",
   "metadata": {},
   "outputs": [
    {
     "data": {
      "text/plain": [
       "254.46900494077323"
      ]
     },
     "execution_count": 45,
     "metadata": {},
     "output_type": "execute_result"
    }
   ],
   "source": [
    "import math\n",
    "def circle_area_def(radius):\n",
    "    return math.pi * radius ** 2\n",
    "circle_area(9)"
   ]
  },
  {
   "cell_type": "code",
   "execution_count": 46,
   "id": "681c9b63",
   "metadata": {},
   "outputs": [
    {
     "data": {
      "text/plain": [
       "<function __main__.circle_area_def(radius)>"
      ]
     },
     "execution_count": 46,
     "metadata": {},
     "output_type": "execute_result"
    }
   ],
   "source": [
    "circle_area_def"
   ]
  },
  {
   "cell_type": "code",
   "execution_count": 47,
   "id": "4c5f0280",
   "metadata": {},
   "outputs": [
    {
     "data": {
      "text/plain": [
       "function"
      ]
     },
     "execution_count": 47,
     "metadata": {},
     "output_type": "execute_result"
    }
   ],
   "source": [
    "type(circle_area_def)"
   ]
  },
  {
   "cell_type": "code",
   "execution_count": 48,
   "id": "1eaa000e",
   "metadata": {},
   "outputs": [
    {
     "data": {
      "text/plain": [
       "'circle_area_def'"
      ]
     },
     "execution_count": 48,
     "metadata": {},
     "output_type": "execute_result"
    }
   ],
   "source": [
    "circle_area_def.__name__"
   ]
  },
  {
   "cell_type": "code",
   "execution_count": 49,
   "id": "6ef45174",
   "metadata": {},
   "outputs": [],
   "source": [
    "circle_area_lambda = lambda radius: math.pi * radius ** 2"
   ]
  },
  {
   "cell_type": "code",
   "execution_count": 50,
   "id": "e4cf3b15",
   "metadata": {},
   "outputs": [
    {
     "data": {
      "text/plain": [
       "254.46900494077323"
      ]
     },
     "execution_count": 50,
     "metadata": {},
     "output_type": "execute_result"
    }
   ],
   "source": [
    "circle_area_lambda(9)"
   ]
  },
  {
   "cell_type": "code",
   "execution_count": 51,
   "id": "faada0e7",
   "metadata": {},
   "outputs": [
    {
     "data": {
      "text/plain": [
       "<function __main__.<lambda>(radius)>"
      ]
     },
     "execution_count": 51,
     "metadata": {},
     "output_type": "execute_result"
    }
   ],
   "source": [
    "circle_area_lambda"
   ]
  },
  {
   "cell_type": "code",
   "execution_count": 52,
   "id": "7c5b3b39",
   "metadata": {},
   "outputs": [
    {
     "data": {
      "text/plain": [
       "function"
      ]
     },
     "execution_count": 52,
     "metadata": {},
     "output_type": "execute_result"
    }
   ],
   "source": [
    "type(circle_area_lambda)"
   ]
  },
  {
   "cell_type": "code",
   "execution_count": 53,
   "id": "83144ae6",
   "metadata": {},
   "outputs": [
    {
     "data": {
      "text/plain": [
       "'<lambda>'"
      ]
     },
     "execution_count": 53,
     "metadata": {},
     "output_type": "execute_result"
    }
   ],
   "source": [
    "circle_area_lambda.__name__"
   ]
  },
  {
   "cell_type": "markdown",
   "id": "d62414ae",
   "metadata": {},
   "source": [
    "Помимо задания аргументов функций высшего порядка, анонимные функции редко используются в Python из-за синтаксических ограничений."
   ]
  },
  {
   "cell_type": "markdown",
   "id": "ae2962ba",
   "metadata": {},
   "source": [
    "### Функции map(), filter() и reduce()"
   ]
  },
  {
   "cell_type": "markdown",
   "id": "433e9adf",
   "metadata": {},
   "source": [
    "Функции `map()`, `filter()` и `reduce()` — три встроенные функции, которые наиболее часто используются в сочетании с лямбда-функциями. Они широко применяются в функциональном программировании на Python, так как позволяют выполнять преобразования данных любой сложности, избегая побочных эффектов.  В Python 3 функция reduce() была перенесена в модуль functools, и его нужно импортировать."
   ]
  },
  {
   "cell_type": "markdown",
   "id": "2e5d8c24",
   "metadata": {},
   "source": [
    "##### Функция map()"
   ]
  },
  {
   "cell_type": "markdown",
   "id": "da0e3703",
   "metadata": {},
   "source": [
    "Функция `map(func, iterable, ...)` применяет первый аргумент функции func к каждому элементу объекта iterable. Вы можете передать больше таких объектов функции map(). Если вы сделаете это, то функция map() будет получать элементы из всех итераторов одновременно. Функция func будет получать столько элементов, сколько итерируемых объектов доступно на каждом шаге. Если итерируемые объекты разных размеров, то функция map() остановится, пока не закончится кратчайший из них.\n",
    "\n",
    "Стоит помнить: функция map() не вычисляет весь результат сразу, но возвращает итератор так, что каждый полученный элемент можно вычислить, только когда это необходимо.\n",
    "\n",
    "Ниже приведен пример использования функции map() для вычисления квадратов первых десяти положительных целых чисел, включая 0:"
   ]
  },
  {
   "cell_type": "code",
   "execution_count": 54,
   "id": "68283562",
   "metadata": {},
   "outputs": [
    {
     "data": {
      "text/plain": [
       "<map at 0x1bda3bc7250>"
      ]
     },
     "execution_count": 54,
     "metadata": {},
     "output_type": "execute_result"
    }
   ],
   "source": [
    "map(lambda x: x**2, range(10)) # Функция map возвращает итератор"
   ]
  },
  {
   "cell_type": "code",
   "execution_count": 55,
   "id": "f829141f",
   "metadata": {},
   "outputs": [
    {
     "data": {
      "text/plain": [
       "[0, 1, 4, 9, 16, 25, 36, 49, 64, 81]"
      ]
     },
     "execution_count": 55,
     "metadata": {},
     "output_type": "execute_result"
    }
   ],
   "source": [
    "list(map(lambda x: x**2, range(10))) #на основе итератора map получаем список значений"
   ]
  },
  {
   "cell_type": "markdown",
   "id": "1ac44e1f",
   "metadata": {},
   "source": [
    "Пример использования функции map() для итераторов различных размеров:"
   ]
  },
  {
   "cell_type": "code",
   "execution_count": 56,
   "id": "9bc09f15",
   "metadata": {},
   "outputs": [
    {
     "name": "stdout",
     "output_type": "stream",
     "text": [
      "0 0 0 0\n",
      "1 1 1 1\n",
      "2 2 2 2\n"
     ]
    },
    {
     "data": {
      "text/plain": [
       "[None, None, None]"
      ]
     },
     "execution_count": 56,
     "metadata": {},
     "output_type": "execute_result"
    }
   ],
   "source": [
    "list(map(print, range(6), range(3), range(9), range(12)))"
   ]
  },
  {
   "cell_type": "markdown",
   "id": "343f2741",
   "metadata": {},
   "source": [
    "##### Функция `filter()`"
   ]
  },
  {
   "cell_type": "markdown",
   "id": "ce18db3d",
   "metadata": {},
   "source": [
    "Функция `filter(function, iterable)` работает аналогично функции map(), оценивая входные элементы «один за одним». В отличие от map() функция filter() не преобразует входные элементы в новые значения, но позволяет отфильтровать те входные значения, которые соответствуют предикату, определяемому аргументом function. \n",
    "Примеры использования функции filter():"
   ]
  },
  {
   "cell_type": "code",
   "execution_count": 57,
   "id": "379ffa2e",
   "metadata": {},
   "outputs": [
    {
     "name": "stdout",
     "output_type": "stream",
     "text": [
      "Even numbers in range from 0 to 9 are: [0, 2, 4, 6, 8]\n",
      "Odd numbers in range from 0 to 9 are: [1, 3, 5, 7, 9]\n"
     ]
    }
   ],
   "source": [
    "evens = filter(lambda number: number % 2 == 0, range(10))\n",
    "odds = filter(lambda number: number % 2 == 1, range(10))\n",
    "print(f\"Even numbers in range from 0 to 9 are: {list(evens)}\")\n",
    "print(f\"Odd numbers in range from 0 to 9 are: {list(odds)}\")"
   ]
  },
  {
   "cell_type": "code",
   "execution_count": 58,
   "id": "d10b08aa",
   "metadata": {},
   "outputs": [
    {
     "name": "stdout",
     "output_type": "stream",
     "text": [
      "Animals with letter 's' are: ['snake', 'squirrel']\n"
     ]
    }
   ],
   "source": [
    "animals = [\"giraffe\", \"snake\", \"lion\", \"squirrel\"]\n",
    "animals_with_s = filter(lambda animal: 's' in animal, animals)\n",
    "print(f\"Animals with letter 's' are: {list(animals_with_s)}\")"
   ]
  },
  {
   "cell_type": "markdown",
   "id": "9c839651",
   "metadata": {},
   "source": [
    "##### Функция reduce()"
   ]
  },
  {
   "cell_type": "markdown",
   "id": "316b0b21",
   "metadata": {},
   "source": [
    "Функция `reduce(function, iterable)` работает полностью противоположно функции map(). Вместо того чтобы брать элементы iterable и применять к каждому из них function, возвращая список результатов, она кумулятивно выполняет операции, указанные в function, ко всем элементам iterable. Рассмотрим пример вызова функции reduce() для вычисления суммы элементов в разных итерируемых объектах:"
   ]
  },
  {
   "cell_type": "code",
   "execution_count": 59,
   "id": "26a2afc6",
   "metadata": {},
   "outputs": [
    {
     "name": "stdout",
     "output_type": "stream",
     "text": [
      "4\n",
      "6\n",
      "4950\n"
     ]
    }
   ],
   "source": [
    "from functools import reduce\n",
    "print(reduce(lambda a, b: a + b, [2, 2]))\n",
    "print(reduce(lambda a, b: a + b, [2, 2, 2]))\n",
    "print(reduce(lambda a, b: a + b, range(100)))"
   ]
  },
  {
   "cell_type": "markdown",
   "id": "f1d5ccc2",
   "metadata": {},
   "source": [
    "Функции map() и filter() могут работать с бесконечными последовательностями. Понятно, что программа в данном случае будет работать вечно. Однако возвращаемые значения map() и filter() являются итераторами, поэтому, можно получить новые значения итераторов с помощью функции next(). \n",
    "\n",
    "В отличие от функций map() и filter() функции reduce() приходится вычислять все элементы ввода, чтобы вернуть значение, поскольку она не дает промежуточных результатов. То есть она не может быть использована на бесконечных последовательностях.\n",
    "\n",
    "Функция range(), требует конечного входного значения, но модуль itertools предоставляет полезную функцию count(), которая позволяет считать от определенного числа в любом направлении до бесконечности. Следующий пример показывает, как можно использовать функции  map() и filter(), чтобы декларативно сформировать бесконечную последовательность:"
   ]
  },
  {
   "cell_type": "code",
   "execution_count": 60,
   "id": "a6dca4d7",
   "metadata": {},
   "outputs": [
    {
     "name": "stdout",
     "output_type": "stream",
     "text": [
      "9\n",
      "81\n",
      "225\n",
      "441\n",
      "729\n",
      "1089\n"
     ]
    }
   ],
   "source": [
    "from itertools import count\n",
    "sequence = filter(\n",
    "    # Нам нужны только числа, кратные 3, но не кратные 2\n",
    "    lambda square: square % 3 == 0 and square % 2 == 1,\n",
    "    map( lambda number: number ** 2, count() ))# Все числа должны быть квадратами чисел# Считаем до бесконечности\n",
    "\n",
    "print(next(sequence))\n",
    "print(next(sequence))\n",
    "print(next(sequence))\n",
    "print(next(sequence))\n",
    "print(next(sequence))\n",
    "print(next(sequence))"
   ]
  },
  {
   "cell_type": "code",
   "execution_count": null,
   "id": "c5c1fe42",
   "metadata": {},
   "outputs": [],
   "source": []
  },
  {
   "cell_type": "markdown",
   "id": "9ccb11eb",
   "metadata": {},
   "source": [
    "### Функции zip() и enumerate()"
   ]
  },
  {
   "cell_type": "markdown",
   "id": "265e96c1",
   "metadata": {},
   "source": [
    "##### Функция zip()"
   ]
  },
  {
   "cell_type": "markdown",
   "id": "e088f5c7",
   "metadata": {},
   "source": [
    "Если необходимо объединить элементы нескольких списков (или любых других итерируемых типов) «один за одним», то можно использовать встроенную функцию zip(). Ниже приведен пример кода для равномерного прохода по двум итерируемым объектам одного размера:"
   ]
  },
  {
   "cell_type": "code",
   "execution_count": 61,
   "id": "22e08e10",
   "metadata": {},
   "outputs": [
    {
     "name": "stdout",
     "output_type": "stream",
     "text": [
      "(1, 4)\n",
      "(2, 5)\n",
      "(3, 6)\n"
     ]
    }
   ],
   "source": [
    "for items in zip([1, 2, 3], [4, 5, 6]):\n",
    "    print(items)"
   ]
  },
  {
   "cell_type": "markdown",
   "id": "74f1350c",
   "metadata": {},
   "source": [
    "Обратите внимание, что применив функцию zip() повторно можно получить исходную последовательность элементов:"
   ]
  },
  {
   "cell_type": "code",
   "execution_count": 62,
   "id": "413d0e17",
   "metadata": {},
   "outputs": [
    {
     "name": "stdout",
     "output_type": "stream",
     "text": [
      "(1, 2, 3)\n",
      "(4, 5, 6)\n"
     ]
    }
   ],
   "source": [
    "for items in zip(*zip([1, 2, 3], [4, 5, 6])):\n",
    "    print(items)"
   ]
  },
  {
   "cell_type": "markdown",
   "id": "71bf336b",
   "metadata": {},
   "source": [
    "О функции zip() важно помнить следующее: она ожидает, что вводимые итерируемые объекты будут одинакового размера. Если вы введете аргументы разной длины, то вывод будет сформирован для короткого аргумента, как показано в следующем примере:"
   ]
  },
  {
   "cell_type": "code",
   "execution_count": 63,
   "id": "4880f4b3",
   "metadata": {},
   "outputs": [
    {
     "name": "stdout",
     "output_type": "stream",
     "text": [
      "(1, 1)\n",
      "(2, 2)\n"
     ]
    }
   ],
   "source": [
    "for items in zip([1, 2, 3, 4], [1, 2]):\n",
    "    print(items)"
   ]
  },
  {
   "cell_type": "markdown",
   "id": "4ed44ef9",
   "metadata": {},
   "source": [
    "##### Функция enumerate()"
   ]
  },
  {
   "cell_type": "markdown",
   "id": "e03b5f65",
   "metadata": {},
   "source": [
    "Встроенная функция enumerate() предоставляет удобный способ получить индекс, когда последовательность итерируется внутри цикла. Рассмотрим следующий фрагмент кода в качестве примера отслеживания индекса элемента без функции enumerate():"
   ]
  },
  {
   "cell_type": "code",
   "execution_count": 64,
   "id": "88c28fb1",
   "metadata": {},
   "outputs": [
    {
     "name": "stdout",
     "output_type": "stream",
     "text": [
      "0 one\n",
      "1 two\n",
      "2 three\n"
     ]
    }
   ],
   "source": [
    "i = 0\n",
    "for element in ['one', 'two', 'three']:\n",
    "    print(i, element)\n",
    "    i += 1"
   ]
  },
  {
   "cell_type": "markdown",
   "id": "56ef73da",
   "metadata": {},
   "source": [
    "Этот фрагмент можно заменить следующим кодом, который будет короче и удобнее в использовании:"
   ]
  },
  {
   "cell_type": "code",
   "execution_count": 65,
   "id": "7fe6f4f7",
   "metadata": {},
   "outputs": [
    {
     "name": "stdout",
     "output_type": "stream",
     "text": [
      "0 one\n",
      "1 two\n",
      "2 three\n"
     ]
    }
   ],
   "source": [
    "for i, element in enumerate(['one', 'two', 'three']):\n",
    "    print(i, element)"
   ]
  },
  {
   "cell_type": "markdown",
   "id": "530ce097",
   "metadata": {},
   "source": [
    "### Декораторы "
   ]
  },
  {
   "cell_type": "markdown",
   "id": "b7a666d8",
   "metadata": {},
   "source": [
    "Декоратор — это функция, которая принимает в качестве параметра другую функцию для расширения функциональности полученной функции без непосредственного изменения ее кода. \n",
    "\n",
    "\n",
    "#### Общий синтаксис и возможные реализации декораторов\n",
    "\n",
    "Декоратор — это, как правило, именованный вызываемый объект (лямбда-выражения не допускаются), который принимает один аргумент при вызове (это будет декорированная функция) и возвращает другой объект, который может быть не только функцией. Все вызываемые объекты (любой объект, к которому может быть применен метод __call__, считается вызываемым) могут быть использованы в качестве декоратора, и часто возвращаемые ими объекты являются не простыми функциями, а экземплярами более сложных классов (которые реализуют собственные методы __call__)."
   ]
  },
  {
   "cell_type": "markdown",
   "id": "c0c04a38",
   "metadata": {},
   "source": [
    "Пример декоратора:"
   ]
  },
  {
   "cell_type": "code",
   "execution_count": 66,
   "id": "19a7959e",
   "metadata": {},
   "outputs": [
    {
     "name": "stdout",
     "output_type": "stream",
     "text": [
      "Функция-обёртка и ее расширения!\n",
      "Оборачиваемая функция: <function wrapped_function at 0x000001BDA40A57E0>\n",
      "Выполняем обёрнутую функцию...\n",
      "Оборачиваемая функция\n",
      "Возможные расширения!\n",
      "Выходим из обёртки\n"
     ]
    }
   ],
   "source": [
    "# Функция декоратор\n",
    "def decorator_function(func):\n",
    "    def wrapper_function():\n",
    "        print('Функция-обёртка и ее расширения!')\n",
    "        print(f'Оборачиваемая функция: {func}')\n",
    "        print('Выполняем обёрнутую функцию...')\n",
    "        func()\n",
    "        print('Возможные расширения!')\n",
    "        print('Выходим из обёртки')\n",
    "    return wrapper_function\n",
    "\n",
    "# Декорируемая функция\n",
    "def wrapped_function():\n",
    "    print('Оборачиваемая функция')\n",
    "    \n",
    "# Определяем функцию wrapped на основе декоратора\n",
    "# decorator_function() и функции wrapped_function()\n",
    "wrapped = decorator_function(wrapped_function)\n",
    "# Выполняем функцию wrapped()\n",
    "wrapped()\n"
   ]
  },
  {
   "cell_type": "markdown",
   "id": "e8d73394",
   "metadata": {},
   "source": [
    "Выражение \n",
    "```Python\n",
    "wrapped = decorator_function(wrapped_function)\n",
    "```\n",
    "может быть заменено на следующее выражение\n",
    "\n",
    "```Python\n",
    "@decorator_function\n",
    "def wrapped_function():\n",
    "```\n",
    "Таким образом, выражение @decorator_function вызывает decorator_function() с wrapped_function() в качестве аргумента и присваивает тому же имени wrapped_function возвращаемую из декоратора функцию.\n"
   ]
  },
  {
   "cell_type": "code",
   "execution_count": 67,
   "id": "03e29ded",
   "metadata": {},
   "outputs": [
    {
     "name": "stdout",
     "output_type": "stream",
     "text": [
      "Функция-обёртка и ее расширения!\n",
      "Оборачиваемая функция: <function wrapped_function at 0x000001BDA40A5750>\n",
      "Выполняем обёрнутую функцию...\n",
      "Оборачиваемая функция\n",
      "Возможные расширения!\n",
      "Выходим из обёртки\n"
     ]
    }
   ],
   "source": [
    "# Функция декоратор\n",
    "def decorator_function(func):\n",
    "    def wrapper_function():\n",
    "        print('Функция-обёртка и ее расширения!')\n",
    "        print(f'Оборачиваемая функция: {func}')\n",
    "        print('Выполняем обёрнутую функцию...')\n",
    "        func()\n",
    "        print('Возможные расширения!')\n",
    "        print('Выходим из обёртки')\n",
    "    return wrapper_function\n",
    "\n",
    "# Декорируемая функция\n",
    "@decorator_function\n",
    "def wrapped_function():\n",
    "    print('Оборачиваемая функция')\n",
    "    \n",
    "# Выполняем функцию wrapped_function() посредством \n",
    "# декаратора decorator_function()\n",
    "wrapped_function()"
   ]
  },
  {
   "cell_type": "code",
   "execution_count": null,
   "id": "c46ea126",
   "metadata": {},
   "outputs": [],
   "source": [
    "© Ростелеком, Бочаров Михаил Иванович"
   ]
  }
 ],
 "metadata": {
  "kernelspec": {
   "display_name": "Python 3 (ipykernel)",
   "language": "python",
   "name": "python3"
  },
  "language_info": {
   "codemirror_mode": {
    "name": "ipython",
    "version": 3
   },
   "file_extension": ".py",
   "mimetype": "text/x-python",
   "name": "python",
   "nbconvert_exporter": "python",
   "pygments_lexer": "ipython3",
   "version": "3.9.13"
  }
 },
 "nbformat": 4,
 "nbformat_minor": 5
}
