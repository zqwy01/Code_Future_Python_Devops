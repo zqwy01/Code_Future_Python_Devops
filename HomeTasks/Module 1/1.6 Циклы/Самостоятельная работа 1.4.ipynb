{
  "cells": [
    {
      "cell_type": "markdown",
      "metadata": {
        "id": "smisOztzqB20"
      },
      "source": [
        "# Упражнения на знания циклов"
      ]
    },
    {
      "cell_type": "markdown",
      "metadata": {
        "id": "atgmLrm1Kuyd"
      },
      "source": [
        "### Упражнение 1\n",
        "Напишите цикл, который выводит на экран каждый второй элемент списка"
      ]
    },
    {
      "cell_type": "code",
      "execution_count": 63,
      "metadata": {
        "id": "JcyRDYH1KxTS"
      },
      "outputs": [
        {
          "name": "stdout",
          "output_type": "stream",
          "text": [
            "1\n",
            "3\n",
            "5\n",
            "7\n",
            "9\n"
          ]
        }
      ],
      "source": [
        "#Плохо понял задание, скорее всего исказил смысл\n",
        "#Я понял что нужно через шаг выводить значение\n",
        "every2ndElement = [1, 2, 3, 4, 5, 6, 7, 8, 9, 0]\n",
        "\n",
        "a = 0\n",
        "\n",
        "for i in range (int((len(every2ndElement))/2)):\n",
        "    print(every2ndElement[a])\n",
        "    a+=2"
      ]
    },
    {
      "cell_type": "markdown",
      "metadata": {
        "id": "m8v3Acx9Kys8"
      },
      "source": [
        "### Упражнение 2\n",
        "Переделайте программу так, чтобы она работала также, но в основе был цикл while вместо for"
      ]
    },
    {
      "cell_type": "code",
      "execution_count": 92,
      "metadata": {
        "id": "WPBR-4D0K0XP"
      },
      "outputs": [
        {
          "name": "stdout",
          "output_type": "stream",
          "text": [
            "[0, 1, 2, 3, 4, 5, 6, 7, 8, 9]\n"
          ]
        }
      ],
      "source": [
        "fromForToWhile = []; i = 0\n",
        "while i < 10: \n",
        "    fromForToWhile.append(i) \n",
        "    i += 1 \n",
        "print(fromForToWhile)"
      ]
    },
    {
      "cell_type": "markdown",
      "metadata": {
        "id": "k43IiFBFK07W"
      },
      "source": [
        "### Упражнение 3\n",
        "Программа ниже прекратит свое выполнение с ошибкой. Добавьте условие, чтобы избежать появление ошибки. Изменять содержимое списка нельзя"
      ]
    },
    {
      "cell_type": "code",
      "execution_count": 4,
      "metadata": {
        "id": "Odddb5-yK2xA"
      },
      "outputs": [
        {
          "name": "stdout",
          "output_type": "stream",
          "text": [
            "0.125\n",
            "0.06666666666666667\n",
            "0.16666666666666666\n",
            "0.014925373134328358\n",
            "Нельзя делить на 0\n",
            "0.07692307692307693\n",
            "1.0\n",
            "0.029411764705882353\n"
          ]
        }
      ],
      "source": [
        "someList = [8, 15, 6, 67, 0, 13, 1, 34]\n",
        "for i in someList:\n",
        "  if i == 0:\n",
        "    print(i, 'Нельзя делить на 0')\n",
        "  else:\n",
        "    print(1/i)"
      ]
    }
  ],
  "metadata": {
    "colab": {
      "provenance": []
    },
    "kernelspec": {
      "display_name": "Python 3",
      "name": "python3"
    },
    "language_info": {
      "codemirror_mode": {
        "name": "ipython",
        "version": 3
      },
      "file_extension": ".py",
      "mimetype": "text/x-python",
      "name": "python",
      "nbconvert_exporter": "python",
      "pygments_lexer": "ipython3",
      "version": "3.11.3"
    }
  },
  "nbformat": 4,
  "nbformat_minor": 0
}
