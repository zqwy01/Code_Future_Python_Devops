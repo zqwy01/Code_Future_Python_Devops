{
  "cells": [
    {
      "cell_type": "markdown",
      "metadata": {
        "id": "smisOztzqB20"
      },
      "source": [
        "# Упражнения на знания циклов"
      ]
    },
    {
      "cell_type": "markdown",
      "metadata": {
        "id": "atgmLrm1Kuyd"
      },
      "source": [
        "### Упражнение 1\n",
        "Напишите цикл, который выводит на экран каждый второй элемент списка"
      ]
    },
    {
      "cell_type": "code",
      "execution_count": null,
      "metadata": {
        "id": "JcyRDYH1KxTS"
      },
      "outputs": [],
      "source": [
        "every2ndElement = [1, 2, 3, 4, 5, 6, 7, 8, 9, 0]"
      ]
    },
    {
      "cell_type": "markdown",
      "metadata": {
        "id": "m8v3Acx9Kys8"
      },
      "source": [
        "### Упражнение 2\n",
        "Переделайте программу так, чтобы она работала также, но в основе был цикл while вместо for"
      ]
    },
    {
      "cell_type": "code",
      "execution_count": null,
      "metadata": {
        "id": "WPBR-4D0K0XP"
      },
      "outputs": [],
      "source": [
        "fromForToWhile = []\n",
        "for i in range(10):\n",
        "  fromForToWhile.append(i)\n",
        "print(fromForToWhile)"
      ]
    },
    {
      "cell_type": "markdown",
      "metadata": {
        "id": "k43IiFBFK07W"
      },
      "source": [
        "### Упражнение 3\n",
        "Программа ниже прекратит свое выполнение с ошибкой. Добавьте условие, чтобы избежать появление ошибки. Изменять содержимое списка нельзя"
      ]
    },
    {
      "cell_type": "code",
      "execution_count": null,
      "metadata": {
        "id": "Odddb5-yK2xA"
      },
      "outputs": [],
      "source": [
        "someList = [8, 15, 6, 67, 0, 13, 1, 34]\n",
        "for i in someList:\n",
        "  print(1/i)"
      ]
    }
  ],
  "metadata": {
    "colab": {
      "provenance": []
    },
    "kernelspec": {
      "display_name": "Python 3",
      "name": "python3"
    },
    "language_info": {
      "codemirror_mode": {
        "name": "ipython",
        "version": 3
      },
      "file_extension": ".py",
      "mimetype": "text/x-python",
      "name": "python",
      "nbconvert_exporter": "python",
      "pygments_lexer": "ipython3",
      "version": "3.11.3"
    }
  },
  "nbformat": 4,
  "nbformat_minor": 0
}
