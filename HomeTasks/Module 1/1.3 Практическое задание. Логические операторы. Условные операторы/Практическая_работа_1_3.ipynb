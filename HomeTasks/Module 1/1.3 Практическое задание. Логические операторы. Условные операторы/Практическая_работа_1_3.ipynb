{
  "nbformat": 4,
  "nbformat_minor": 0,
  "metadata": {
    "colab": {
      "provenance": []
    },
    "kernelspec": {
      "name": "python3",
      "display_name": "Python 3"
    },
    "language_info": {
      "name": "python"
    }
  },
  "cells": [
    {
      "cell_type": "markdown",
      "source": [
        "# 1.4 Ветвление (или условная инструкция)"
      ],
      "metadata": {
        "id": "E-kfo69QHCP4"
      }
    },
    {
      "cell_type": "code",
      "source": [
        "a = input('Введите число побед игрока a: ')\n",
        "b = input('Введите число побед игрока b: ')\n",
        "\n",
        "if a < b:\n",
        "    print ('Игрок b более результативен')\n",
        "elif a == b:\n",
        "    print ('Результаты игроков a и b равны')\n",
        "else:\n",
        "    print ('Игрок a более результативен')"
      ],
      "metadata": {
        "colab": {
          "base_uri": "https://localhost:8080/"
        },
        "id": "T7e-N4E4HFRA",
        "outputId": "2fe0d534-087b-4236-feb0-c565dd4a0ba2"
      },
      "execution_count": null,
      "outputs": [
        {
          "output_type": "stream",
          "name": "stdout",
          "text": [
            "Введите число побед игрока a: 4\n",
            "Введите число побед игрока b: 5\n",
            "Игрок b более результативен\n"
          ]
        }
      ]
    },
    {
      "cell_type": "code",
      "source": [
        "a = input('Введите целое число a: ')\n",
        "b = input('Введите целое число b: ')\n",
        "\n",
        "print ('a - наименьшее из двух чисел') if a<b else (print ('b - наименьшее из двух чисел') if a>b else print ('a и b равны'))\n"
      ],
      "metadata": {
        "colab": {
          "base_uri": "https://localhost:8080/"
        },
        "id": "eHBhLRxBJEJA",
        "outputId": "0d2ef989-d630-4ad8-8b1d-f7de98ee6284"
      },
      "execution_count": null,
      "outputs": [
        {
          "output_type": "stream",
          "name": "stdout",
          "text": [
            "Введите целое число a: 3\n",
            "Введите целое число b: 6\n",
            "a - наименьшее из двух чисел\n"
          ]
        }
      ]
    }
  ]
}