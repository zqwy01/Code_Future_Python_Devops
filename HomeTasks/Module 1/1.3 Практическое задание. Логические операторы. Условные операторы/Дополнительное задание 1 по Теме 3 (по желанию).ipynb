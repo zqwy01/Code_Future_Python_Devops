{
 "cells": [
  {
   "cell_type": "markdown",
   "id": "f30d9753",
   "metadata": {},
   "source": [
    "<div class=\"alert alert-block alert-success\">\n",
    "<b>\n",
    "\n",
    "## Тема 4. Списки, кортежи, множества и диапазоны\n",
    "\n",
    "</b>\n",
    "</div>"
   ]
  },
  {
   "cell_type": "markdown",
   "id": "8d61a827",
   "metadata": {},
   "source": [
    "### Основные стандартные типы данных, встроенные в интерпретатор "
   ]
  },
  {
   "cell_type": "markdown",
   "id": "5a18560d",
   "metadata": {},
   "source": [
    "К основным встроенным типам относятся:\n",
    "\n",
    "1. Объект неопределенного типа (The None Object)\n",
    "\n",
    "    `NoneType` – неопределенное значение объекта (Объект Python , обозначающий отсутствие значения)\n",
    "\n",
    "\n",
    "2. Логический тип (Boolean Type)\n",
    "\n",
    "    `bool`  – логическое значение 'Истина' `True`\n",
    "    \n",
    "    `bool`  – логическое значение 'Ложь' `False`\n",
    "\n",
    "\n",
    "3. Числовые типы (Numeric Type)\n",
    "\n",
    "    `int` – целое число\n",
    "    \n",
    "    `float` – число с плавающей точкой\n",
    "    \n",
    "    `complex` – комплексное число\n",
    "\n",
    "\n",
    "4. Тип текстовой последовательности (Text Sequence Type )\n",
    "\n",
    "    `str` – строка\n",
    "\n",
    "\n",
    "5. Типы последовательнойстей (Sequence Type)\n",
    "\n",
    "    `list` – список\n",
    "    \n",
    "    `tuple` – кортеж\n",
    "    \n",
    "    `range` – диапазон\n",
    "\n",
    "\n",
    "6. Типы множеств (Set Types)\n",
    "\n",
    "    `set` – множество\n",
    "    \n",
    "    `frozenset` – неизменяемое множество\n",
    "\n",
    "\n",
    "7. Тип отображения (Mapping Types)\n",
    "\n",
    "    `dict` – словарь\n"
   ]
  },
  {
   "cell_type": "markdown",
   "id": "65d6e6cf",
   "metadata": {},
   "source": [
    "<div class=\"alert alert-block alert-info\">\n",
    "<b>\n",
    "Полное описание встроенных типов языка Python располагается по адресу:\n",
    "    \n",
    "https://docs.python.org/3/library/stdtypes.html\n",
    "</b>\n",
    "</div>"
   ]
  },
  {
   "cell_type": "markdown",
   "id": "bf7178e9",
   "metadata": {},
   "source": [
    "Определить тип объекта можно с помощью функции `type(x)`, где x объект, тип которого определяется."
   ]
  },
  {
   "cell_type": "code",
   "execution_count": 168,
   "id": "a034e3f6",
   "metadata": {},
   "outputs": [
    {
     "data": {
      "text/plain": [
       "NoneType"
      ]
     },
     "execution_count": 168,
     "metadata": {},
     "output_type": "execute_result"
    }
   ],
   "source": [
    "type(None) "
   ]
  },
  {
   "cell_type": "code",
   "execution_count": 132,
   "id": "093ad871",
   "metadata": {},
   "outputs": [
    {
     "data": {
      "text/plain": [
       "bool"
      ]
     },
     "execution_count": 132,
     "metadata": {},
     "output_type": "execute_result"
    }
   ],
   "source": [
    "type(True)"
   ]
  },
  {
   "cell_type": "code",
   "execution_count": 133,
   "id": "7a37135b",
   "metadata": {
    "scrolled": true
   },
   "outputs": [
    {
     "data": {
      "text/plain": [
       "bool"
      ]
     },
     "execution_count": 133,
     "metadata": {},
     "output_type": "execute_result"
    }
   ],
   "source": [
    "type(False)"
   ]
  },
  {
   "cell_type": "code",
   "execution_count": 3,
   "id": "99bf1e72",
   "metadata": {},
   "outputs": [
    {
     "data": {
      "text/plain": [
       "int"
      ]
     },
     "execution_count": 3,
     "metadata": {},
     "output_type": "execute_result"
    }
   ],
   "source": [
    "type(10)"
   ]
  },
  {
   "cell_type": "code",
   "execution_count": 157,
   "id": "5729296f",
   "metadata": {},
   "outputs": [
    {
     "data": {
      "text/plain": [
       "float"
      ]
     },
     "execution_count": 157,
     "metadata": {},
     "output_type": "execute_result"
    }
   ],
   "source": [
    "type(2.5)"
   ]
  },
  {
   "cell_type": "code",
   "execution_count": 160,
   "id": "1c9ac872",
   "metadata": {},
   "outputs": [
    {
     "data": {
      "text/plain": [
       "complex"
      ]
     },
     "execution_count": 160,
     "metadata": {},
     "output_type": "execute_result"
    }
   ],
   "source": [
    "type(2 + 3j)"
   ]
  },
  {
   "cell_type": "code",
   "execution_count": 4,
   "id": "a88da13b",
   "metadata": {},
   "outputs": [
    {
     "data": {
      "text/plain": [
       "str"
      ]
     },
     "execution_count": 4,
     "metadata": {},
     "output_type": "execute_result"
    }
   ],
   "source": [
    "type(\"Alice\")"
   ]
  },
  {
   "cell_type": "markdown",
   "id": "f1e47f90",
   "metadata": {},
   "source": [
    "### Типы последовательнойстей (Sequence Type)"
   ]
  },
  {
   "cell_type": "markdown",
   "id": "f800deaf",
   "metadata": {},
   "source": [
    "### 1) Общие операции с последовательностями "
   ]
  },
  {
   "cell_type": "markdown",
   "id": "a7fe442a",
   "metadata": {},
   "source": [
    "Операции в следующей таблице поддерживаются большинством типов последовательностей, как изменяемых, так и неизменяемых. ABC  collections.abc.Sequence. Sequence предоставляется, чтобы упростить правильную реализацию этих операций для пользовательских типов последовательностей."
   ]
  },
  {
   "cell_type": "markdown",
   "id": "c5ca6956",
   "metadata": {},
   "source": [
    "|Операция|Результат|\n",
    "|:------|:------|\n",
    "|x in s|True если элемент s равен x , иначе False|\n",
    "|x not in s|False если элемент s равен x , иначе True|\n",
    "|s + t|конкатенация s и t|\n",
    "|s * n или n * s|эквивалентно добавлению s к себе n раз|\n",
    "|s[i]|i- й элемент s , происхождение 0|\n",
    "|s[i:j]|часть s от i до j|\n",
    "|s[i:j:k]|срез s от i до j с шагом k|\n",
    "|len(s)|длина s|\n",
    "|min(s)|наименьший элемент s|\n",
    "|max(s)|самый большой предмет s|\n",
    "|s.index(x[, i[, j]])|индекс первого вхождения x в s (в или после индекса i и перед индексом j )|\n",
    "|s.count(x)|общее количество вхождений x в s|"
   ]
  },
  {
   "cell_type": "markdown",
   "id": "6e4a34ad",
   "metadata": {},
   "source": []
  },
  {
   "cell_type": "markdown",
   "id": "f2bf394e",
   "metadata": {},
   "source": [
    "### 2) Списки"
   ]
  },
  {
   "cell_type": "markdown",
   "id": "d32ce449",
   "metadata": {},
   "source": [
    "Списки (list) – это изменяемые упорядоченные последовательности произвольных объектов. Списки создаются посредством заключения элементов списка в квадратные скобки.\n",
    "\n",
    "Для работы со списками используются встроенные функции (`len()`, `max()` и `min()`), операторы (`in`, `+`, `*` и `del`), методы списков (`join()`, `append()`, `pop()`, `count()`, `extend()`, `index()`, `insert()`, `remove()`, `reverse()`, `sort()`):"
   ]
  },
  {
   "cell_type": "markdown",
   "id": "61841d57",
   "metadata": {},
   "source": [
    "Функция `len(x)` определяет количество элементов в списке. Функции `max(x)` и `min(x)` находят максимальный и минимальный  элементы в списке."
   ]
  },
  {
   "cell_type": "code",
   "execution_count": 156,
   "id": "8262a42c",
   "metadata": {
    "scrolled": true
   },
   "outputs": [
    {
     "name": "stdout",
     "output_type": "stream",
     "text": [
      "[]\n",
      "[1, 2, 3, 4, 5, 6]\n",
      "['P', 'y', 't', 'h', 'o', 'n']\n",
      "['Alice', 'Bob', 'Carol', 'Dave', 'Eve']\n",
      "[['P', 'y', 't', 'h', 'o', 'n'], 71, 'C', True, (1, 2), 'Alice']\n",
      "0\n",
      "6\n",
      "6\n",
      "5\n",
      "6\n",
      "Максимальный элемент списка: 6\n",
      "Минимальный элемент списка: 1\n"
     ]
    }
   ],
   "source": [
    "# Пустой список\n",
    "py_list1 = []\n",
    "# Список целых чисел\n",
    "py_list2 = [1, 2, 3, 4, 5, 6] \n",
    "# Список символов\n",
    "py_list3 = ['P', 'y', 't', 'h', 'o', 'n'] \n",
    "# Список строк\n",
    "py_list4 = [\"Alice\", \"Bob\", \"Carol\", \"Dave\", \"Eve\" ]    \n",
    "# Список элементов различных типов\n",
    "py_list5 = [['P', 'y', 't', 'h', 'o', 'n'], 71, 'C', True, (1, 2), 'Alice']\n",
    "#Выводим все списки\n",
    "print(f'{py_list1}\\n{py_list2}\\n{py_list3}\\n{py_list4}\\n{py_list5}')\n",
    "# находим длины списков\n",
    "print(f'{len(py_list1)}\\n{len(py_list2)}\\n{len(py_list3)}\\n{len(py_list4)}\\n{len(py_list5)}')\n",
    "# находим максимальный и минимальный элементы в списке py_list2\n",
    "print(f'Максимальный элемент списка: {max(py_list2)}')\n",
    "print(f'Минимальный элемент списка: {min(py_list2)}')"
   ]
  },
  {
   "cell_type": "markdown",
   "id": "e87564e8",
   "metadata": {},
   "source": [
    "Элементы списка индексируются слева направо целыми числами, первый элемент списка имеет индекс, равный нулю, а последний количество элементов списка n - 1. \n",
    "\n",
    "Элементы списка индексируются справа налево целыми отрицательными числами, первый (правый) элемент списка имеет индекс, равный -1, а последний (левый) элемент списка имеет индекс равный количество элементов списка n * (-1)."
   ]
  },
  {
   "cell_type": "markdown",
   "id": "a2d385ba",
   "metadata": {},
   "source": [
    "| Значения элементов списка: |Alice|Bob |Carol|Dave|Eve|\n",
    "|:------|------:|-------:|-------:|-------:|------:| \n",
    "| Положительный индекс |0|1|2|3|4|\n",
    "| Отрицательный индекс |-5|-4|-3|-2|-1|"
   ]
  },
  {
   "cell_type": "code",
   "execution_count": 173,
   "id": "1f135f65",
   "metadata": {},
   "outputs": [
    {
     "name": "stdout",
     "output_type": "stream",
     "text": [
      "Carol\n",
      "['Alice', 'Bob', 'Chuck', 'Dave', 'Eve']\n"
     ]
    }
   ],
   "source": [
    "py_list = [\"Alice\", \"Bob\", \"Carol\", \"Dave\", \"Eve\" ] \n",
    "py_str = py_list[2]\n",
    "py_list[-3] = \"Chuck\"\n",
    "print(py_str)\n",
    "print(py_list)"
   ]
  },
  {
   "cell_type": "markdown",
   "id": "d9d40ee5",
   "metadata": {},
   "source": [
    "С помощью оператора среза можно извлекать и изменять целые фрагменты списков:"
   ]
  },
  {
   "cell_type": "code",
   "execution_count": 7,
   "id": "6bf0233e",
   "metadata": {
    "scrolled": true
   },
   "outputs": [
    {
     "name": "stdout",
     "output_type": "stream",
     "text": [
      "py_list  = ['Alice', 'Bob', 'Carol', 'Dave', 'Eve']\n",
      "py_list1 = ['Alice', 'Bob', 'Carol', 'Dave', 'Eve']\n",
      "py_list2 = ['Alice', 'Bob', 'Carol', 'Dave', 'Eve']\n",
      "py_list3 = ['Bob', 'Carol', 'Dave']\n",
      "py_list4 = ['Bob', 'Carol', 'Dave']\n",
      "py_list  = ['Alice', 'Mallory', 'Trudy', 'Peggy', 'Eve']\n"
     ]
    }
   ],
   "source": [
    "py_list = [\"Alice\", \"Bob\", \"Carol\", \"Dave\", \"Eve\" ] \n",
    "print(f'py_list  = {py_list}')\n",
    "py_list1 = py_list[0:5]\n",
    "py_list2 = py_list[-5:]\n",
    "py_list3 = py_list[1:4]\n",
    "py_list4 = py_list[-4:-1]\n",
    "py_list[1:4] = ['Mallory','Trudy','Peggy']\n",
    "print(f'py_list1 = {py_list1}\\npy_list2 = {py_list2}\\n\\\n",
    "py_list3 = {py_list3}\\npy_list4 = {py_list4}\\npy_list  = {py_list}')\n",
    "# Если новый сегмент больше или меньше заменяемого, то размер списка увеличивается или уменьшается."
   ]
  },
  {
   "cell_type": "markdown",
   "id": "a9b93706",
   "metadata": {},
   "source": [
    "Списки могут содержать объекты любого типа, числа, строки, другие списки"
   ]
  },
  {
   "cell_type": "code",
   "execution_count": 8,
   "id": "c20e1cd6",
   "metadata": {},
   "outputs": [
    {
     "data": {
      "text/plain": [
       "[1, 'Mallory', 3.14, ['Trudy', 7, 9, [100, 101]], 10]"
      ]
     },
     "execution_count": 8,
     "metadata": {},
     "output_type": "execute_result"
    }
   ],
   "source": [
    "py_list = [1,\"Mallory\",3.14, [\"Trudy\", 7, 9, [100,101]], 10]\n",
    "py_list"
   ]
  },
  {
   "cell_type": "markdown",
   "id": "81e44f98",
   "metadata": {},
   "source": [
    "Списки так же как и строки можно конкатинировать между собоой"
   ]
  },
  {
   "cell_type": "code",
   "execution_count": 9,
   "id": "b7fb28c9",
   "metadata": {},
   "outputs": [
    {
     "data": {
      "text/plain": [
       "[1, 2, 3, 4, 5]"
      ]
     },
     "execution_count": 9,
     "metadata": {},
     "output_type": "execute_result"
    }
   ],
   "source": [
    "[1,2,3] + [4,5]"
   ]
  },
  {
   "cell_type": "markdown",
   "id": "282f167b",
   "metadata": {},
   "source": [
    "Умножение списка на целое число. "
   ]
  },
  {
   "cell_type": "code",
   "execution_count": 10,
   "id": "b8116b99",
   "metadata": {},
   "outputs": [
    {
     "name": "stdout",
     "output_type": "stream",
     "text": [
      "[1, 2, 3, 1, 2, 3, 1, 2, 3]\n"
     ]
    }
   ],
   "source": [
    "py_list = [1, 2, 3]\n",
    "result = py_list*3\n",
    "print(result)"
   ]
  },
  {
   "cell_type": "markdown",
   "id": "22994553",
   "metadata": {},
   "source": [
    "Оператор in — проверка вхождения элемента в список."
   ]
  },
  {
   "cell_type": "code",
   "execution_count": 11,
   "id": "2b55283e",
   "metadata": {},
   "outputs": [
    {
     "name": "stdout",
     "output_type": "stream",
     "text": [
      "True\n",
      "False\n"
     ]
    }
   ],
   "source": [
    "py_list = [1, 2, 3]\n",
    "result1 = 2 in py_list\n",
    "result2 = 7 in py_list\n",
    "print(result1)\n",
    "print(result2)"
   ]
  },
  {
   "cell_type": "markdown",
   "id": "ade3a1ed",
   "metadata": {},
   "source": [
    "#### Методы для работы со списками"
   ]
  },
  {
   "cell_type": "markdown",
   "id": "684fa7f8",
   "metadata": {},
   "source": [
    "`list()` — создаст пустой список, либо преобразует аргументы в список"
   ]
  },
  {
   "cell_type": "code",
   "execution_count": 145,
   "id": "1c60d0a9",
   "metadata": {},
   "outputs": [
    {
     "name": "stdout",
     "output_type": "stream",
     "text": [
      "['1', '2', '3', '4', '5', '6', '7', '8', '9', '0']\n"
     ]
    }
   ],
   "source": [
    "py_list = list('1234567890')\n",
    "print(py_list)"
   ]
  },
  {
   "cell_type": "markdown",
   "id": "d5fc3cc5",
   "metadata": {},
   "source": [
    "`count(x)` — возвращает количество элементов со значением x."
   ]
  },
  {
   "cell_type": "code",
   "execution_count": 146,
   "id": "aada90b0",
   "metadata": {},
   "outputs": [
    {
     "name": "stdout",
     "output_type": "stream",
     "text": [
      "3\n"
     ]
    }
   ],
   "source": [
    "py_list = [1, 2, 3, 2, 3, 4, 3, 2, 'zero', 'one', 'two', 'three']\n",
    "n = py_list.count(2)\n",
    "print(n)"
   ]
  },
  {
   "cell_type": "markdown",
   "id": "f2e263bd",
   "metadata": {},
   "source": [
    "`reverse()` — разворачивает список."
   ]
  },
  {
   "cell_type": "code",
   "execution_count": 147,
   "id": "d674695e",
   "metadata": {},
   "outputs": [
    {
     "name": "stdout",
     "output_type": "stream",
     "text": [
      "['C++', 'Java', 'Python']\n",
      "['Python', 'Java', 'C++']\n"
     ]
    }
   ],
   "source": [
    "py_list = ['C++','Java', 'Python'] \n",
    "print(py_list) \n",
    "py_list.reverse() \n",
    "print(py_list)"
   ]
  },
  {
   "cell_type": "markdown",
   "id": "d8cc39d7",
   "metadata": {},
   "source": [
    "`join()` - собирает список строк в одну строку с разделителем, который указан перед join."
   ]
  },
  {
   "cell_type": "code",
   "execution_count": 148,
   "id": "88788737",
   "metadata": {
    "scrolled": true
   },
   "outputs": [
    {
     "name": "stdout",
     "output_type": "stream",
     "text": [
      "zero+one+two+three\n"
     ]
    }
   ],
   "source": [
    "py_list = ['zero', 'one', 'two', 'three']\n",
    "print('+'.join(py_list))"
   ]
  },
  {
   "cell_type": "markdown",
   "id": "c8ecc131",
   "metadata": {},
   "source": [
    "`append()` — добавляет в конец списка указанный элемент."
   ]
  },
  {
   "cell_type": "code",
   "execution_count": 149,
   "id": "f31c4486",
   "metadata": {
    "scrolled": false
   },
   "outputs": [
    {
     "name": "stdout",
     "output_type": "stream",
     "text": [
      "[0, 1, 2, 3, 'zero', 'one', 'two', 'three']\n"
     ]
    }
   ],
   "source": [
    "py_list = [0, 1, 2, 3, 'zero', 'one', 'two']\n",
    "py_list.append('three')\n",
    "print(py_list)"
   ]
  },
  {
   "cell_type": "markdown",
   "id": "16695783",
   "metadata": {},
   "source": [
    "`extend()` - pасширение первого списка элементами второго списка"
   ]
  },
  {
   "cell_type": "code",
   "execution_count": 150,
   "id": "075fa82d",
   "metadata": {},
   "outputs": [
    {
     "name": "stdout",
     "output_type": "stream",
     "text": [
      "[1, 2, 3, 4, 5, 6, 7, 8, 9]\n"
     ]
    }
   ],
   "source": [
    "py_list1 = [1, 2, 3]\n",
    "py_list2 = [4, 5, 6, 7, 8, 9]\n",
    "py_list1.extend(py_list2)\n",
    "print(py_list1)"
   ]
  },
  {
   "cell_type": "markdown",
   "id": "14747d89",
   "metadata": {},
   "source": [
    "`insert()` - позволяет вставить элемент на определенное место в списке."
   ]
  },
  {
   "cell_type": "code",
   "execution_count": 151,
   "id": "d810affa",
   "metadata": {
    "scrolled": true
   },
   "outputs": [
    {
     "name": "stdout",
     "output_type": "stream",
     "text": [
      "[0, 1, 2, 3, 'zero', 'one', 'two', 'three']\n"
     ]
    }
   ],
   "source": [
    "py_list = [0, 1, 2, 3, 'one', 'two', 'three']\n",
    "py_list.insert(4, 'zero')\n",
    "print(py_list)"
   ]
  },
  {
   "cell_type": "markdown",
   "id": "886b9975",
   "metadata": {},
   "source": [
    "`sort()` - сортирует список."
   ]
  },
  {
   "cell_type": "code",
   "execution_count": 152,
   "id": "6fd6a855",
   "metadata": {},
   "outputs": [
    {
     "name": "stdout",
     "output_type": "stream",
     "text": [
      "[0, 1, 2, 3, 4, 5, 6, 7, 8, 9]\n"
     ]
    }
   ],
   "source": [
    "py_list = [8, 5, 1, 9, 2, 3, 6, 4, 7, 0]\n",
    "py_list.sort()\n",
    "print(py_list)"
   ]
  },
  {
   "cell_type": "markdown",
   "id": "30a5fa98",
   "metadata": {},
   "source": [
    "Python предоставляет следующие способы для удаления элементов из списка:\n",
    "\n",
    "- pop() — удаляет по индексу, положительному или отрицательному;\n",
    "\n",
    "- remove() — удаляет по названию;\n",
    "\n",
    "- clear() — удаляет всё содержимое списка;\n",
    "\n",
    "- del(x) — позволяет удалить как отдельный элемент, так и целый срез по индексу."
   ]
  },
  {
   "cell_type": "markdown",
   "id": "ed36ed5b",
   "metadata": {},
   "source": [
    "`pop()` - удаляет элемент, который соответствует указанному номеру элемента (индексу) и при этом метод возвращает этот элемент. Без указания номера удаляется последний элемент списка."
   ]
  },
  {
   "cell_type": "code",
   "execution_count": 153,
   "id": "15461b39",
   "metadata": {},
   "outputs": [
    {
     "name": "stdout",
     "output_type": "stream",
     "text": [
      "[1, 2, 3, 4, 5, 6, 7, 8, 9, 'one', 'two']\n",
      "three\n"
     ]
    }
   ],
   "source": [
    "py_list1 = [1, 2, 3, 4, 5, 6, 7, 8, 9, 'one', 'two', 'three']\n",
    "py_list2 = py_list1.pop(-1)\n",
    "print(py_list1)\n",
    "print(py_list2)"
   ]
  },
  {
   "cell_type": "markdown",
   "id": "56537a98",
   "metadata": {},
   "source": [
    "`remove()` - удаляет указанный элемент и не возвращает удаленный элемент. В методе remove надо указывать сам элемент, который надо удалить, а не его номер в списке. Если указать номер элемента, возникнет ошибка."
   ]
  },
  {
   "cell_type": "code",
   "execution_count": 154,
   "id": "68b2060c",
   "metadata": {},
   "outputs": [
    {
     "name": "stdout",
     "output_type": "stream",
     "text": [
      "[1, 2, 3, 4, 5, 6, 7, 8, 9, 'one', 'two', 'three']\n"
     ]
    }
   ],
   "source": [
    "py_list = [1, 2, 3, 4, 5, 6, 7, 8, 9, 'zero', 'one', 'two', 'three']\n",
    "py_list.remove('zero')\n",
    "print(py_list)"
   ]
  },
  {
   "cell_type": "markdown",
   "id": "06e05fbe",
   "metadata": {},
   "source": [
    "`clear()` — удаляет все элементы из набора, функция `clear()` эквивалентна команде `del a[:]`."
   ]
  },
  {
   "cell_type": "code",
   "execution_count": 155,
   "id": "1ab46648",
   "metadata": {},
   "outputs": [
    {
     "name": "stdout",
     "output_type": "stream",
     "text": [
      "[]\n"
     ]
    }
   ],
   "source": [
    "py_list = [1, 2, 3, 4, 5, 6, 7, 8, 9, 'one', 'two', 'three']\n",
    "py_list.clear()\n",
    "print(py_list)"
   ]
  },
  {
   "cell_type": "markdown",
   "id": "5f6bb70c",
   "metadata": {},
   "source": [
    "Оператор `del(x)` - удаляет элемент x списка по индексу.\n",
    "\n",
    "Оператор del состоит из ключевого слова del, за которым следует одна или несколько целевых ссылок, разделенных запятыми. Каждая целевая ссылка может быть переменной, ссылкой на атрибут, индексированным элементом или срезом и должна быть связана с каким-либо объектом. \n",
    "\n",
    "Инструкция del не удаляет объекты в буквальном смысле, она лишь открепляет ссылки, разрывая связь между именем и объектом. Удаление объекта произойдет как следствие работы сборщика мусора в отношении объектов, на которые больше не ссылается ни один другой объект. \n",
    "\n"
   ]
  },
  {
   "cell_type": "code",
   "execution_count": 140,
   "id": "a76285b3",
   "metadata": {},
   "outputs": [
    {
     "name": "stdout",
     "output_type": "stream",
     "text": [
      "[1, 2, 3, 4, 5, 6, 7, 8, 'one', 'two', 'three']\n",
      "[1, 2, 3, 4, 5, 7, 'one', 'two', 'three']\n",
      "[1, 2, 3, 'one', 'two', 'three']\n"
     ]
    }
   ],
   "source": [
    "py_list = [1, 2, 3, 4, 5, 6, 7, 8, 9, 'one', 'two', 'three']\n",
    "del(py_list[8])\n",
    "print(py_list)\n",
    "del py_list[5], py_list[6]\n",
    "print(py_list)\n",
    "del(py_list[3:6])\n",
    "print(py_list)\n"
   ]
  },
  {
   "cell_type": "markdown",
   "id": "bb7359e9",
   "metadata": {},
   "source": [
    "<div class=\"alert alert-block alert-info\">\n",
    "<b>\n",
    "Более подробно со списками можно познакомиться перейдя по ссылке:\n",
    "\n",
    "https://docs.python.org/3/tutorial/datastructures.html#more-on-lists\n",
    "</b>\n",
    "</div>\n",
    "\n",
    "\n"
   ]
  },
  {
   "cell_type": "markdown",
   "id": "31e4603e",
   "metadata": {},
   "source": [
    "### 3) Кортежи"
   ]
  },
  {
   "cell_type": "markdown",
   "id": "aa0ca9f6",
   "metadata": {},
   "source": [
    "Кортежи (tuples) — это неизменяемые последовательности, обычно используемые для хранения коллекций разнородных данных.\n",
    "\n",
    "Кортежи  похожи на списки, но они являются неизменяемыми, то есть, эти объекты невозможно изменить после создания. \n",
    "Операторы (`in`, `+` и `*`) и встроенные функции (`len()`, `max()` и `min()`) работают с кортежами так же, как со списками, потому что они не изменяют оригинал. \n",
    "\n",
    "Индексы и синтаксис сегментов работают аналогично для получения элементов или сегментов, но не могут использоваться для добавления, удаления или замены элементов. "
   ]
  },
  {
   "cell_type": "markdown",
   "id": "37ad6e55",
   "metadata": {},
   "source": [
    "Кортеж из одного элемента должен содержать запятую, например, (3,). Кортеж, как и список, может содержать произвольные комбинации других типов в своих элементах: строки, кортежи, списки, словари, функции, объекты файлов и любые разновидности чисел. При создании кортежа круглые скобки могут не указываться, поэтому выражения py_tuple = (1, 2, 3) и py_tuple = 1, 1, 1 тождественны."
   ]
  },
  {
   "cell_type": "code",
   "execution_count": 141,
   "id": "6fc3023e",
   "metadata": {},
   "outputs": [
    {
     "name": "stdout",
     "output_type": "stream",
     "text": [
      "(3,)\n",
      "('One', 2, '3', [2, 5], 2)\n",
      "('One', 2, '3', [2, 5], 2)\n",
      "1\n",
      "5\n",
      "0\n",
      "2\n"
     ]
    }
   ],
   "source": [
    "py_tuple1 = (3,)\n",
    "py_tuple2 = ('One', 2, '3',[2, 5], 2)\n",
    "py_tuple3 = 'One', 2, '3',[2, 5], 2\n",
    "print(py_tuple1)\n",
    "print(py_tuple2)\n",
    "print(py_tuple3)\n",
    "print(len(py_tuple1))\n",
    "print(len(py_tuple2))\n",
    "print(py_tuple1.count(2))\n",
    "print(py_tuple2.count(2))"
   ]
  },
  {
   "cell_type": "markdown",
   "id": "ad71f177",
   "metadata": {},
   "source": [
    "#### Методы для работы с кортежами"
   ]
  },
  {
   "cell_type": "markdown",
   "id": "2301a735",
   "metadata": {},
   "source": [
    "У кортежей всего два метода: `count()` и `index()`."
   ]
  },
  {
   "cell_type": "markdown",
   "id": "39983891",
   "metadata": {},
   "source": [
    "Метод `index(element [, start [, end]])` позволяет получить из кортежа индекс вхождения данного элемента element."
   ]
  },
  {
   "cell_type": "code",
   "execution_count": 33,
   "id": "7a30c3fa",
   "metadata": {},
   "outputs": [
    {
     "name": "stdout",
     "output_type": "stream",
     "text": [
      "3\n",
      "9\n",
      "11\n"
     ]
    }
   ],
   "source": [
    "roman_numbers = ('I', 'II', 'III', 'X', 'V', 'VI', 'VII', 'VIII', 'IX', 'X', 'XI', 'X', 'I', 'II', 'III')\n",
    "print(roman_numbers.index('X'))\n",
    "print(roman_numbers.index('X',4,10))\n",
    "print(roman_numbers.index('X',10))"
   ]
  },
  {
   "cell_type": "markdown",
   "id": "5acf1c5e",
   "metadata": {},
   "source": [
    "Метод `count(x)` выдает число вхождений элемента x в кортеж."
   ]
  },
  {
   "cell_type": "code",
   "execution_count": 29,
   "id": "654406db",
   "metadata": {},
   "outputs": [
    {
     "name": "stdout",
     "output_type": "stream",
     "text": [
      "3\n"
     ]
    }
   ],
   "source": [
    "print(roman_numbers.count('X'))"
   ]
  },
  {
   "cell_type": "markdown",
   "id": "1ce089b8",
   "metadata": {},
   "source": [
    "<div class=\"alert alert-block alert-info\">\n",
    "<b>\n",
    "Более подробно с кортежами можно познакомиться перейдя по ссылке:\n",
    "    \n",
    "https://docs.python.org/3/tutorial/datastructures.html#tuples-and-sequences\n",
    "</b>\n",
    "</div>\n",
    "\n",
    "\n",
    "\n",
    "    "
   ]
  },
  {
   "cell_type": "markdown",
   "id": "5a0e52d7",
   "metadata": {},
   "source": [
    "### 4) Диапазоны"
   ]
  },
  {
   "cell_type": "markdown",
   "id": "8e1254e7",
   "metadata": {},
   "source": [
    "Диапазон (range) представляет собой неизменяемую последовательность чисел и обычно используется для повторения заданного числа циклов в операторе for.\n"
   ]
  },
  {
   "cell_type": "markdown",
   "id": "3d287a71",
   "metadata": {},
   "source": [
    "Методы:range(stop) и range(start, stop[, step]) определяют диапазон значений (start - начало диапазона, stop - конец диапазона, step - шаг).\n",
    "\n",
    "Параметры метода range диапазона должны быть целыми числами. Если третий аргумент шага опущен, по умолчанию он равен 1. Если начальный аргумент опущен, по умолчанию он равен 0. "
   ]
  },
  {
   "cell_type": "markdown",
   "id": "985b088e",
   "metadata": {},
   "source": [
    "Диапазоны реализуют все обычные операции с последовательностями, кроме конкатенации и повторения (из-за того, что объекты диапазона могут представлять только последовательности, которые следуют строгому шаблону, а повторение и конкатенация обычно нарушают этот шаблон)."
   ]
  },
  {
   "cell_type": "code",
   "execution_count": 142,
   "id": "6e12d482",
   "metadata": {},
   "outputs": [
    {
     "data": {
      "text/plain": [
       "range(0, 10)"
      ]
     },
     "execution_count": 142,
     "metadata": {},
     "output_type": "execute_result"
    }
   ],
   "source": [
    "range(10)"
   ]
  },
  {
   "cell_type": "code",
   "execution_count": 143,
   "id": "46e0c21b",
   "metadata": {},
   "outputs": [
    {
     "data": {
      "text/plain": [
       "range"
      ]
     },
     "execution_count": 143,
     "metadata": {},
     "output_type": "execute_result"
    }
   ],
   "source": [
    "type(range(10))"
   ]
  },
  {
   "cell_type": "code",
   "execution_count": 144,
   "id": "60b79f97",
   "metadata": {},
   "outputs": [
    {
     "data": {
      "text/plain": [
       "[0, 1, 2, 3, 4, 5, 6, 7, 8, 9]"
      ]
     },
     "execution_count": 144,
     "metadata": {},
     "output_type": "execute_result"
    }
   ],
   "source": [
    "list(range(10))"
   ]
  },
  {
   "cell_type": "code",
   "execution_count": 78,
   "id": "2947f05d",
   "metadata": {},
   "outputs": [
    {
     "data": {
      "text/plain": [
       "[1, 2, 3, 4, 5, 6, 7, 8, 9, 10]"
      ]
     },
     "execution_count": 78,
     "metadata": {},
     "output_type": "execute_result"
    }
   ],
   "source": [
    "list(range(1, 11))"
   ]
  },
  {
   "cell_type": "code",
   "execution_count": 79,
   "id": "e799fb5f",
   "metadata": {},
   "outputs": [
    {
     "data": {
      "text/plain": [
       "[0, 5, 10, 15, 20, 25]"
      ]
     },
     "execution_count": 79,
     "metadata": {},
     "output_type": "execute_result"
    }
   ],
   "source": [
    "list(range(0, 30, 5))"
   ]
  },
  {
   "cell_type": "code",
   "execution_count": 80,
   "id": "ba6dcbf8",
   "metadata": {},
   "outputs": [
    {
     "data": {
      "text/plain": [
       "[0, 3, 6, 9]"
      ]
     },
     "execution_count": 80,
     "metadata": {},
     "output_type": "execute_result"
    }
   ],
   "source": [
    "list(range(0, 10, 3))"
   ]
  },
  {
   "cell_type": "code",
   "execution_count": 81,
   "id": "0c792ee3",
   "metadata": {},
   "outputs": [
    {
     "data": {
      "text/plain": [
       "[0, -1, -2, -3, -4, -5, -6, -7, -8, -9]"
      ]
     },
     "execution_count": 81,
     "metadata": {},
     "output_type": "execute_result"
    }
   ],
   "source": [
    "list(range(0, -10, -1))"
   ]
  },
  {
   "cell_type": "code",
   "execution_count": 82,
   "id": "1d7b27a8",
   "metadata": {},
   "outputs": [
    {
     "data": {
      "text/plain": [
       "[]"
      ]
     },
     "execution_count": 82,
     "metadata": {},
     "output_type": "execute_result"
    }
   ],
   "source": [
    "list(range(0))"
   ]
  },
  {
   "cell_type": "code",
   "execution_count": 83,
   "id": "6bacbe48",
   "metadata": {},
   "outputs": [
    {
     "data": {
      "text/plain": [
       "[]"
      ]
     },
     "execution_count": 83,
     "metadata": {},
     "output_type": "execute_result"
    }
   ],
   "source": [
    "list(range(1, 0))"
   ]
  },
  {
   "cell_type": "code",
   "execution_count": null,
   "id": "f1517b70",
   "metadata": {},
   "outputs": [],
   "source": [
    "Определяем количество элементов диапазона"
   ]
  },
  {
   "cell_type": "code",
   "execution_count": 218,
   "id": "cba18e6e",
   "metadata": {},
   "outputs": [
    {
     "name": "stdout",
     "output_type": "stream",
     "text": [
      "range(1, 11)\n"
     ]
    },
    {
     "data": {
      "text/plain": [
       "10"
      ]
     },
     "execution_count": 218,
     "metadata": {},
     "output_type": "execute_result"
    }
   ],
   "source": [
    "py_range = range(1, 11)\n",
    "print(py_range)\n",
    "len(py_range)"
   ]
  },
  {
   "cell_type": "code",
   "execution_count": null,
   "id": "cdaae9c1",
   "metadata": {},
   "outputs": [],
   "source": [
    "Берем срез диапазона"
   ]
  },
  {
   "cell_type": "code",
   "execution_count": 215,
   "id": "d87a9f83",
   "metadata": {},
   "outputs": [
    {
     "data": {
      "text/plain": [
       "range(4, 8)"
      ]
     },
     "execution_count": 215,
     "metadata": {},
     "output_type": "execute_result"
    }
   ],
   "source": [
    "py_range[3:7]"
   ]
  },
  {
   "cell_type": "code",
   "execution_count": 217,
   "id": "51225f41",
   "metadata": {},
   "outputs": [
    {
     "name": "stdout",
     "output_type": "stream",
     "text": [
      "[4, 5, 6, 7]\n"
     ]
    }
   ],
   "source": [
    "print(list(py_range[3:7]))"
   ]
  },
  {
   "cell_type": "markdown",
   "id": "944e2f45",
   "metadata": {},
   "source": [
    "Определяем входит ли значение в диапазон"
   ]
  },
  {
   "cell_type": "code",
   "execution_count": 221,
   "id": "dd6c2d1d",
   "metadata": {},
   "outputs": [
    {
     "data": {
      "text/plain": [
       "True"
      ]
     },
     "execution_count": 221,
     "metadata": {},
     "output_type": "execute_result"
    }
   ],
   "source": [
    "3 in py_range"
   ]
  },
  {
   "cell_type": "markdown",
   "id": "a16f612e",
   "metadata": {},
   "source": [
    "### Типы множеств (Set Types)"
   ]
  },
  {
   "cell_type": "markdown",
   "id": "c76b9dc2",
   "metadata": {},
   "source": [
    "Множества — это неупорядоченная коллекция уникальных элементов, сгруппированных под одним именем. Множество может быть неоднородным — включать элементы разных типов. Множество всегда состоит только из уникальных элементов (дубли запрещены) в отличие от списков и кортежей в Python. Объект set — это также коллекция уникальных хэшируемых объектов. Объект называется хэшируемым в том случае, если его значение хэша не меняется. Это используется в ключах словарей и элементах множеств, ведь значения хэшей применяются в их внутренних структурах.\n",
    "\n",
    "Чаще всего множества в Python используются для проверки на принадлежность, удаления повторов из последовательности и выполнения математических операций, таких как пересечение, объединение, поиск разностей и симметрических разностей. Изображение ниже показывает два примера множеств (алфавит и цифры), каждый из которых включает уникальные неизменяемые объекты."
   ]
  },
  {
   "cell_type": "markdown",
   "id": "03e1966a",
   "metadata": {},
   "source": [
    "Действия над множествами включают проверку принадлежности, удаление дубликатов из последовательности и вычисление математических операций, таких как пересечение, объединение, разность и симметричная разность."
   ]
  },
  {
   "cell_type": "markdown",
   "id": "8f225442",
   "metadata": {},
   "source": [
    "Объект является хэшируемым, если его хэш-значение никогда не меняется в течение его жизни. Хэшируемые объекты, которые сравниваются между собой и равны, должны иметь одинаковое хеш-значение.\n",
    "\n",
    "Возможность хеширования делает объект применимым для использования в качестве ключа словаря и элемента множества, потому что эти структуры данных используют хеш-значение.\n",
    "\n",
    "Большинство неизменяемых встроенных объектов Python можно хэшировать;\n",
    "изменяемые контейнеры (такие как списки или словари) не являются хэшируемыми объектами; \n",
    "неизменяемые контейнеры (такие как кортежи и неизменяемые множества) хэшируются только в том случае, если хэшируются их элементы. \n",
    "\n",
    "Объекты, являющиеся экземплярами определяемых пользователем классов, по умолчанию хэшируются. Все сравнения их хэша с другими элементами неравны (за исключением самих себя), так как их хэш-значение является производным от их id()."
   ]
  },
  {
   "cell_type": "markdown",
   "id": "c5959abc",
   "metadata": {},
   "source": [
    "Множество в Python представлено в виде последовательности элементов, которые разделены между собой запятой и заключены в фигурные скобки."
   ]
  },
  {
   "cell_type": "markdown",
   "id": "64008a63",
   "metadata": {},
   "source": [
    "В Python существует два вида множеств:\n",
    "\n",
    "- set - множество с изменяемыми элементами;\n",
    "\n",
    "- frozenset - множество со статичными элементами."
   ]
  },
  {
   "cell_type": "markdown",
   "id": "dc71da9d",
   "metadata": {},
   "source": [
    "### 1) Способы создания множеств set и frozenset"
   ]
  },
  {
   "cell_type": "code",
   "execution_count": 99,
   "id": "07d00915",
   "metadata": {},
   "outputs": [
    {
     "data": {
      "text/plain": [
       "set"
      ]
     },
     "execution_count": 99,
     "metadata": {},
     "output_type": "execute_result"
    }
   ],
   "source": [
    "py_set1 = {'zero', 'one', 'two', 'three'}\n",
    "type(py_set)"
   ]
  },
  {
   "cell_type": "markdown",
   "id": "10679f0e",
   "metadata": {},
   "source": [
    "Нельзя создать пустое множество с помощью литерала (так как в таком случае это будет не множество, а словарь): "
   ]
  },
  {
   "cell_type": "code",
   "execution_count": 88,
   "id": "4590ecc7",
   "metadata": {},
   "outputs": [
    {
     "data": {
      "text/plain": [
       "dict"
      ]
     },
     "execution_count": 88,
     "metadata": {},
     "output_type": "execute_result"
    }
   ],
   "source": [
    "set2 = {}\n",
    "type(set1)"
   ]
  },
  {
   "cell_type": "markdown",
   "id": "a34ad22e",
   "metadata": {},
   "source": [
    "Пустое множество можно создать следующим образом:"
   ]
  },
  {
   "cell_type": "code",
   "execution_count": 91,
   "id": "00c1ad64",
   "metadata": {},
   "outputs": [
    {
     "data": {
      "text/plain": [
       "set"
      ]
     },
     "execution_count": 91,
     "metadata": {},
     "output_type": "execute_result"
    }
   ],
   "source": [
    "set3 = set()\n",
    "type(set3)"
   ]
  },
  {
   "cell_type": "code",
   "execution_count": 92,
   "id": "21eb9212",
   "metadata": {},
   "outputs": [
    {
     "data": {
      "text/plain": [
       "frozenset"
      ]
     },
     "execution_count": 92,
     "metadata": {},
     "output_type": "execute_result"
    }
   ],
   "source": [
    "set4 = frozenset()\n",
    "type(set4)"
   ]
  },
  {
   "cell_type": "markdown",
   "id": "b3ae46ee",
   "metadata": {},
   "source": [
    "С помощью множества можно легко убрать повторяющиеся элементы, например, из списка:"
   ]
  },
  {
   "cell_type": "code",
   "execution_count": 90,
   "id": "5e58027c",
   "metadata": {},
   "outputs": [
    {
     "data": {
      "text/plain": [
       "{'five', 'four', 'one', 'three', 'two', 'zero'}"
      ]
     },
     "execution_count": 90,
     "metadata": {},
     "output_type": "execute_result"
    }
   ],
   "source": [
    "py_list = ['zero', 'one', 'zero', 'two', 'zero', 'three', 'zero', 'four', 'zero', 'five']\n",
    "py_set = set(py_list)\n",
    "py_set"
   ]
  },
  {
   "cell_type": "markdown",
   "id": "c18f193d",
   "metadata": {},
   "source": [
    "### 2) Операции и методы определенные над экземплярами множеств set и frozenset"
   ]
  },
  {
   "cell_type": "markdown",
   "id": "9fcc365d",
   "metadata": {},
   "source": [
    "Множества полезны тем, что с ними можно делать различные операции и находить объединение множеств, пересечение и так далее."
   ]
  },
  {
   "cell_type": "markdown",
   "id": "cb86a78d",
   "metadata": {},
   "source": [
    "`len(s)` - возвращает количество элементов в наборе s (мощность s )"
   ]
  },
  {
   "cell_type": "code",
   "execution_count": 95,
   "id": "e322308e",
   "metadata": {},
   "outputs": [
    {
     "data": {
      "text/plain": [
       "6"
      ]
     },
     "execution_count": 95,
     "metadata": {},
     "output_type": "execute_result"
    }
   ],
   "source": [
    "py_set = {'zero', 'one', 'two', 'three', 'four', 'five'}\n",
    "len(py_set)"
   ]
  },
  {
   "cell_type": "markdown",
   "id": "59b62be9",
   "metadata": {},
   "source": [
    "`x in s` - операция проверяет элемент x на принадлежность к множиству s"
   ]
  },
  {
   "cell_type": "code",
   "execution_count": 96,
   "id": "b7daaea6",
   "metadata": {},
   "outputs": [
    {
     "data": {
      "text/plain": [
       "True"
      ]
     },
     "execution_count": 96,
     "metadata": {},
     "output_type": "execute_result"
    }
   ],
   "source": [
    "'one' in py_set"
   ]
  },
  {
   "cell_type": "code",
   "execution_count": 97,
   "id": "f9dbbdf7",
   "metadata": {},
   "outputs": [
    {
     "data": {
      "text/plain": [
       "False"
      ]
     },
     "execution_count": 97,
     "metadata": {},
     "output_type": "execute_result"
    }
   ],
   "source": [
    "'six' in py_set"
   ]
  },
  {
   "cell_type": "markdown",
   "id": "d766421c",
   "metadata": {},
   "source": [
    "`x not in s` - роверить x на не принадлежность к s."
   ]
  },
  {
   "cell_type": "code",
   "execution_count": 98,
   "id": "b87d2f95",
   "metadata": {},
   "outputs": [
    {
     "data": {
      "text/plain": [
       "True"
      ]
     },
     "execution_count": 98,
     "metadata": {},
     "output_type": "execute_result"
    }
   ],
   "source": [
    "'six' not in py_set"
   ]
  },
  {
   "cell_type": "markdown",
   "id": "dc7060ef",
   "metadata": {},
   "source": [
    "`sets.isdisjoint(other)` - метод возвращает True, если sets не имеет общих элементов с other. Множества не пересекаются тогда и только тогда, когда их пересечение является пустым множеством."
   ]
  },
  {
   "cell_type": "code",
   "execution_count": 123,
   "id": "07a2fa04",
   "metadata": {},
   "outputs": [
    {
     "data": {
      "text/plain": [
       "True"
      ]
     },
     "execution_count": 123,
     "metadata": {},
     "output_type": "execute_result"
    }
   ],
   "source": [
    "sets = {'zero', 'one', 'two', 'three'}\n",
    "other = {'four', 'five'}\n",
    "sets.isdisjoint(other)"
   ]
  },
  {
   "cell_type": "code",
   "execution_count": 121,
   "id": "f6e984da",
   "metadata": {},
   "outputs": [
    {
     "data": {
      "text/plain": [
       "False"
      ]
     },
     "execution_count": 121,
     "metadata": {},
     "output_type": "execute_result"
    }
   ],
   "source": [
    "sets = {'zero', 'one', 'two', 'three'}\n",
    "other = {'zero', 'four', 'five', 'six'}\n",
    "sets.isdisjoint(other)"
   ]
  },
  {
   "cell_type": "markdown",
   "id": "8840bf4a",
   "metadata": {},
   "source": [
    "`sets.issubset(other)` - проверка, нахождения каждого элемента из sets в other\n",
    "\n",
    "Операция `sets <= other`, то же что и sets.issubset(other)"
   ]
  },
  {
   "cell_type": "code",
   "execution_count": 125,
   "id": "61758bd3",
   "metadata": {},
   "outputs": [
    {
     "name": "stdout",
     "output_type": "stream",
     "text": [
      "True\n",
      "True\n"
     ]
    }
   ],
   "source": [
    "sets = {'zero', 'one', 'two', 'three'}\n",
    "other = {'zero', 'one', 'two', 'three', 'four', 'five', 'six'}\n",
    "print(sets.issubset(other))\n",
    "print(sets <= other)"
   ]
  },
  {
   "cell_type": "markdown",
   "id": "355a1774",
   "metadata": {},
   "source": [
    "`sets.issuperset(other)` - метод  позволяет проверить находится ли каждый элемент последовательности other в множестве sets. Метод возвращает True, если множество sets является надмножеством итерируемого объекта other, если нет, то вернет False. \n",
    "\n",
    "`set >= other`, то же что и sets.issuperset(other)"
   ]
  },
  {
   "cell_type": "code",
   "execution_count": 129,
   "id": "82e8fcc2",
   "metadata": {},
   "outputs": [
    {
     "name": "stdout",
     "output_type": "stream",
     "text": [
      "True\n",
      "True\n"
     ]
    }
   ],
   "source": [
    "sets = {'zero', 'one', 'two', 'three'}\n",
    "other = {'one', 'two', 'three'}\n",
    "print(sets.issuperset(other))\n",
    "print(sets >= other)"
   ]
  },
  {
   "cell_type": "markdown",
   "id": "05bdd8bb",
   "metadata": {},
   "source": [
    "`sets < other` - проверьте, является ли множество sets правильным подмножеством множества other, то есть sets <= other and sets != other\n"
   ]
  },
  {
   "cell_type": "code",
   "execution_count": 132,
   "id": "c4db658b",
   "metadata": {},
   "outputs": [
    {
     "name": "stdout",
     "output_type": "stream",
     "text": [
      "True\n"
     ]
    }
   ],
   "source": [
    "sets = {'one', 'two', 'three'}\n",
    "other = {'zero', 'one', 'two', 'three'}\n",
    "print(sets < other)"
   ]
  },
  {
   "cell_type": "markdown",
   "id": "b513877c",
   "metadata": {},
   "source": [
    "`sets > other` метод позволяет проверить является ли набор правильным надмножеством других , то есть sets >= other and sets != other"
   ]
  },
  {
   "cell_type": "code",
   "execution_count": 156,
   "id": "f240eabb",
   "metadata": {},
   "outputs": [
    {
     "name": "stdout",
     "output_type": "stream",
     "text": [
      "True\n"
     ]
    }
   ],
   "source": [
    "sets = {'one', 'two', 'three'}\n",
    "other = {'zero', 'one', 'two', 'three'}\n",
    "print(sets < other)"
   ]
  },
  {
   "cell_type": "markdown",
   "id": "252685ff",
   "metadata": {},
   "source": [
    "`sets.union( *other )` - возвращает новый набор с элементами из набора и всех элементов из *other\n",
    "\n",
    "`sets | other_1 | other_2 | ...` то же что и sets.union( *other )"
   ]
  },
  {
   "cell_type": "code",
   "execution_count": 152,
   "id": "fe53c780",
   "metadata": {},
   "outputs": [
    {
     "name": "stdout",
     "output_type": "stream",
     "text": [
      "{'zero', 'two', 'six', 'one', 'four', 'five', 'three'}\n",
      "{'two', 'zero', 'six', 'one', 'four', 'five', 'three'}\n"
     ]
    }
   ],
   "source": [
    "sets = {'one', 'two', 'three'}\n",
    "other_1 = {'zero', }\n",
    "other_2 = {'one', 'two', 'three'}\n",
    "other_3 = {'four', 'five', 'six'}\n",
    "print(sets.union(other_1, other_2, other_3)) #то же: print(set.union(sets, other_1, other_2, other_3))\n",
    "print(sets | other_1 | other_2 |other_3)"
   ]
  },
  {
   "cell_type": "markdown",
   "id": "69310e9b",
   "metadata": {},
   "source": [
    "`intersection( *other )` - возвращает новое множество с элементами, общими для всех множеств\n",
    "\n",
    "`set & other & ...` то же что и intersection( *other ) "
   ]
  },
  {
   "cell_type": "code",
   "execution_count": 194,
   "id": "27349bc6",
   "metadata": {},
   "outputs": [
    {
     "name": "stdout",
     "output_type": "stream",
     "text": [
      "{'two', 'three'}\n",
      "{'two', 'three'}\n"
     ]
    }
   ],
   "source": [
    "sets = {'one', 'two', 'three'}\n",
    "other_1 = {'zero', 'two', 'three'}\n",
    "other_2 = {'one', 'two', 'three'}\n",
    "other_3 = {'two', 'three', 'four', 'five', 'six'}\n",
    "print(sets.intersection(other_1, other_2, other_3))\n",
    "print(sets & other_1 & other_2 & other_3)"
   ]
  },
  {
   "cell_type": "markdown",
   "id": "076ab094",
   "metadata": {},
   "source": [
    "`difference( *other  )` - возвращает новое множество элементов из sets, которых нет во множествах *other\n",
    "\n",
    "`set - other_1 - other_2 ...` то же что и difference( *other  )"
   ]
  },
  {
   "cell_type": "code",
   "execution_count": 160,
   "id": "d8997cf9",
   "metadata": {},
   "outputs": [
    {
     "name": "stdout",
     "output_type": "stream",
     "text": [
      "{'one', 'three'}\n",
      "{'one', 'three'}\n"
     ]
    }
   ],
   "source": [
    "sets = {'zero','one', 'two', 'three'}\n",
    "other_1 = {'zero'}\n",
    "other_2 = {'two','four'}\n",
    "other_3 = { 'five', 'six'}\n",
    "print(sets.difference(other_1, other_2, other_3))\n",
    "print(sets - other_1 - other_2 -other_3)"
   ]
  },
  {
   "cell_type": "markdown",
   "id": "88ac4c12",
   "metadata": {},
   "source": [
    "`sets.symmetric_difference(other)` - метод возвращает новый набор с элементами либо во множестве sets, либо во множестве other, но не в обоих одновременно.\n",
    "\n",
    "`set ^ other` то же что и sets.symmetric_difference(other)"
   ]
  },
  {
   "cell_type": "code",
   "execution_count": 167,
   "id": "6fc5b137",
   "metadata": {},
   "outputs": [
    {
     "name": "stdout",
     "output_type": "stream",
     "text": [
      "{'one', 'three'}\n",
      "{'one', 'five', 'three', 'six', 'four'}\n"
     ]
    }
   ],
   "source": [
    "sets = {'zero','one', 'two', 'three'}\n",
    "other_1 = {'zero'}\n",
    "other_2 = {'two','four'}\n",
    "other_3 = { 'five', 'six'}\n",
    "print(sets.difference(other_1, other_2, other_3)) #то же: print(set.union(sets, other_1, other_2, other_3))\n",
    "print(sets ^ other_1 ^ other_2 ^ other_3)"
   ]
  },
  {
   "cell_type": "markdown",
   "id": "3f669f93",
   "metadata": {},
   "source": [
    "sets.copy() - возвращает поверхностную копию множества"
   ]
  },
  {
   "cell_type": "code",
   "execution_count": 190,
   "id": "e0970008",
   "metadata": {},
   "outputs": [
    {
     "data": {
      "text/plain": [
       "{'one', 'three', 'two', 'zero'}"
      ]
     },
     "execution_count": 190,
     "metadata": {},
     "output_type": "execute_result"
    }
   ],
   "source": [
    "sets = {'zero','one', 'two', 'three'}\n",
    "other = sets.copy()\n",
    "other "
   ]
  },
  {
   "cell_type": "markdown",
   "id": "994856db",
   "metadata": {},
   "source": [
    "### 3) Операции применимые к изменяемым множествам set, которые не применяются к неизменяемым экземплярам frozenset"
   ]
  },
  {
   "cell_type": "markdown",
   "id": "2b026ff0",
   "metadata": {},
   "source": [
    "`update( *other )` - обновить множество sets, добавив элементы из всех остальных множествах *other\n",
    "\n",
    "`sets |= | ...`\n",
    "\n",
    "`intersection_update(*other)` - обновить множество sets, сохранив только найденные в sets элементы и в других множествах *other\n",
    "\n",
    "`sets &= other & ...`\n",
    "\n",
    "\n",
    "`difference_update(*other)` - обновите множество sets, удалив элементы, найденные *other.\n",
    "\n",
    "`sets -= other | ...`\n",
    "\n",
    "`symmetric_difference_update(other)` Обновите множество sets, сохранив только элементы, найденные во множестве other, но не в обоих\n",
    "\n",
    "`sets ^= other`\n",
    "\n",
    "\n",
    "`add(elem)` - добавить элемент elem во множество\n",
    "\n",
    "`remove(elem)` удалить элемент elem из множества, возникает KeyError, если elem не содержится в наборе\n",
    "\n",
    "`discard(elem)` - удалить элемент elem из набора, если он присутствует, позволяет удалять элементы, не выдавая ошибку, если элемента в множестве нет\n",
    "\n",
    "`pop( )` - удалить и вернуть произвольный элемент из множества, возвращается KeyError, если множество пусто.\n",
    "\n",
    "`clear( )` - удалить все элементы из множества."
   ]
  },
  {
   "cell_type": "code",
   "execution_count": null,
   "id": "36266985",
   "metadata": {},
   "outputs": [],
   "source": []
  },
  {
   "cell_type": "markdown",
   "id": "12f769d3",
   "metadata": {},
   "source": [
    "<div class=\"alert alert-block alert-info\">\n",
    "<b>\n",
    "Более подробно со множествами можно познакомиться перейдя по ссылкам:\n",
    "    \n",
    "https://docs.python.org/3/library/stdtypes.html#set-types-set-frozenset\n",
    "<br>\n",
    "https://docs.python.org/3/tutorial/datastructures.html#sets\n",
    "</b>\n",
    "</div>"
   ]
  },
  {
   "cell_type": "markdown",
   "id": "6667bf88",
   "metadata": {},
   "source": [
    "### Тип отображения (Mapping Types)"
   ]
  },
  {
   "cell_type": "markdown",
   "id": "1ce10483",
   "metadata": {},
   "source": [
    "Отображениями называются типы данных, поддерживающие оператор проверки на вхождение (in), функцию len() и возможность обхода элементов в цикле. Отображения – это коллекции пар элементов «ключ-значение», которые предоставляют методы доступа к элементам и их ключам и значениям. При выполнении итераций порядок следования элементов отображений может быть произвольным."
   ]
  },
  {
   "cell_type": "markdown",
   "id": "2ad95932",
   "metadata": {},
   "source": [
    "### Словари"
   ]
  },
  {
   "cell_type": "markdown",
   "id": "7af25a95",
   "metadata": {},
   "source": [
    "Словари (dict) представляют собой тип отображения — dict.\n",
    "Объект отображения сопоставляет хэшируемые значения с произвольными объектами. Сопоставления - это изменяемые объекты. В настоящее время существует только один стандартный тип отображения - словарь. \n",
    "\n",
    "В качестве ключей словарей могут использоваться только хешируемые объекты, поэтому в качестве ключей словаря такие неизменяемые типы, как float, frozenset, int, str и tuple, использовать допускается, а изменяемые типы, которые не являются хэшируемыми (которые сравниваются по значению, а не по идентификатору объекта), такие как dict, list и set, – нет.  При попытке обратиться к значению ключа, отсутствующего в словаре, произойдет ошибка KeyError. Чтобы избежать этой ошибки, при отсутствии ключа в словаре метод словаря get() может возвращать значение, определяемое пользователем.\n",
    "\n",
    "Каждому ключу соответствует некоторое значение, которое может быть ссылкой на объект любого типа, включая числа, строки, списки, множества, словари, функции и т. д."
   ]
  },
  {
   "cell_type": "code",
   "execution_count": 223,
   "id": "38a7a199",
   "metadata": {},
   "outputs": [],
   "source": [
    "py_dict1 = {'one': 1, 'two': 2, 'three': 3}\n",
    "py_dict2 = dict(one=1, two=2, three=3)\n",
    "py_dict3 = dict([('two', 2), ('one', 1), ('three', 3)])\n",
    "py_dict4 = dict({'one': 1, 'three': 3}, two=2)"
   ]
  },
  {
   "cell_type": "code",
   "execution_count": 204,
   "id": "786ce582",
   "metadata": {},
   "outputs": [
    {
     "name": "stdout",
     "output_type": "stream",
     "text": [
      "{'one': 1, 'two': 2, 'three': 3}\n",
      "{'one': 1, 'two': 2, 'three': 3}\n",
      "{'two': 2, 'one': 1, 'three': 3}\n",
      "{'one': 1, 'three': 3, 'two': 2}\n",
      "<class 'dict'>\n",
      "<class 'dict'>\n",
      "<class 'dict'>\n",
      "<class 'dict'>\n"
     ]
    }
   ],
   "source": [
    "print(py_dict1)\n",
    "print(py_dict2)\n",
    "print(py_dict3)\n",
    "print(py_dict4)\n",
    "print(type (py_dict1))\n",
    "print(type (py_dict2))\n",
    "print(type (py_dict3))\n",
    "print(type (py_dict4))"
   ]
  },
  {
   "cell_type": "code",
   "execution_count": 224,
   "id": "8ea524f3",
   "metadata": {},
   "outputs": [
    {
     "data": {
      "text/plain": [
       "3"
      ]
     },
     "execution_count": 224,
     "metadata": {},
     "output_type": "execute_result"
    }
   ],
   "source": [
    "len(py_dict1)"
   ]
  },
  {
   "cell_type": "code",
   "execution_count": 210,
   "id": "944abccc",
   "metadata": {},
   "outputs": [
    {
     "data": {
      "text/plain": [
       "1"
      ]
     },
     "execution_count": 210,
     "metadata": {},
     "output_type": "execute_result"
    }
   ],
   "source": [
    "py_dict1['one']"
   ]
  },
  {
   "cell_type": "markdown",
   "id": "605f599f",
   "metadata": {},
   "source": [
    "|Синтаксис |Описание|\n",
    "|:---------|:----------------|\n",
    "|d.clear() |Удаляет все элементы из словаря d|\n",
    "|d.copy() |Возвращает поверхностную копию словаря d|\n",
    "|d.fromkeys(s, v)|Возвращает словарь типа dict, ключами которого являются элементы последовательности s, а значениями либо None, либо v, если аргумент v определен |\n",
    "|d.get(k) |Возвращает значение ключа k или None, если ключ k отсутствует в словаре|\n",
    "|d.get(k, v) |Возвращает значение ключа k или v, если ключ k отсутствует в словаре|\n",
    "|d.items() |Возвращает представлениеa всех пар (ключ, значение) в словаре d|\n",
    "|d.keys() |Возвращает представлениеа всех ключей словаря d|\n",
    "|d.pop(k) |Возвращает значение ключа k и удаляет из словаря элемент с ключом k или возбуждает исключение KeyError, если ключ k отсутствует в словаре|\n",
    "|d.pop(k, v)| Возвращает значение ключа k и удаляет из словаря элемент с ключом k или возвращает значение v, если ключ k отсутствует в словаре|\n",
    "|d.popitem() |Возвращает и удаляет произвольную пару (ключ, значение) из словаря d или возбуждает исключение KeyError, если словарь d пуст \n",
    "d.setdefault(k, v)|То же, что и dict.get() за исключением того, что, если ключ k в словаре отсутствует, в словарь вставляется новый элемент с ключом k и со значением None или v, если аргумент v задан|\n",
    "|d.update(a) |Добавляет в словарь d пары (ключ, значение) из a, которые отсутствуют в словаре d, а для каждого ключа, который уже присутствует в словаре d, выполняется замена соответствующим значением из a; a может быть словарем, итерируемым объектом с парами (ключ, значение) или именованными аргументами|\n",
    "|d.values()| Возвращает представление всех значений в словаре d|\n"
   ]
  },
  {
   "cell_type": "markdown",
   "id": "b899b072",
   "metadata": {},
   "source": [
    "<div class=\"alert alert-block alert-info\">\n",
    "<b>\n",
    "Более подробно со словарями можно познакомиться перейдя по ссылкам:\n",
    "\n",
    "https://docs.python.org/3/library/stdtypes.html#mapping-types-dict\n",
    "<br>\n",
    "https://docs.python.org/3/tutorial/datastructures.html#dictionaries\n",
    "</b>\n",
    "</div> "
   ]
  },
  {
   "cell_type": "code",
   "execution_count": null,
   "id": "071393b1",
   "metadata": {},
   "outputs": [],
   "source": []
  }
 ],
 "metadata": {
  "kernelspec": {
   "display_name": "Python 3 (ipykernel)",
   "language": "python",
   "name": "python3"
  },
  "language_info": {
   "codemirror_mode": {
    "name": "ipython",
    "version": 3
   },
   "file_extension": ".py",
   "mimetype": "text/x-python",
   "name": "python",
   "nbconvert_exporter": "python",
   "pygments_lexer": "ipython3",
   "version": "3.9.13"
  }
 },
 "nbformat": 4,
 "nbformat_minor": 5
}
