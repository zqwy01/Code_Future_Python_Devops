{
 "cells": [
  {
   "cell_type": "markdown",
   "metadata": {},
   "source": [
    "<div class=\"alert alert-block alert-success\">\n",
    "<b>\n",
    "\n",
    "## Тема 5. Работа с датой и временем, обработка исключений\n",
    "\n",
    "</b>\n",
    "</div>"
   ]
  },
  {
   "cell_type": "markdown",
   "metadata": {},
   "source": [
    "## 1. Подключение библиотек"
   ]
  },
  {
   "cell_type": "code",
   "execution_count": 1,
   "metadata": {
    "tags": []
   },
   "outputs": [],
   "source": [
    "# импортируем библиотеку pandas\n",
    "import pandas as pd\n",
    "\n",
    "# импортируем библиотеку numpy\n",
    "import numpy as np\n",
    "\n",
    "#Импортируем библиотеку для получения данных о котировках акций \n",
    "#с веб-сервиса Yahoo Finance\n",
    "# pip install yfinance\n",
    "import yfinance as yf\n",
    "\n",
    "# импортируем библиотеку datetime\n",
    "# import datetime as dt\n",
    "# из библиотеки datetime импортируем два класса - datetime и date \n",
    "# для работы с временными объектами\n",
    "from datetime import datetime, date"
   ]
  },
  {
   "cell_type": "markdown",
   "metadata": {},
   "source": [
    "## 2. Особенности работы с классами datetime и date порождающими временные объекты"
   ]
  },
  {
   "cell_type": "raw",
   "metadata": {},
   "source": [
    "В Python нет встроенного типа данных для работы с датой и временем, поэтому для работы с ними в Python используется отдельный модуль datetime.\n",
    "Модуль datetime не нужно отдельно устанавливать, так как он входит в стандартную поставку Python.\n",
    "Например, для вывода текущей даты и времени можно воспользоваться методом now() импортированного выше объекта datetime библиотеки datetime\n",
    "Задать формат вывода даты и времени можно с помощью метода strftime(), наиболее употребимыми директивами встроеными в его строку формата могут быть:\n",
    "%d - день месяца с 1 по 31;\n",
    "%m - месяц с 1 по 12;\n",
    "%Y - год;\n",
    "%H – час, используя 24-часовые часы (от 00 до 23)\n",
    "%I – час, используя 12-часовые часы (от 01 до 12)\n",
    "%M - минуты;\n",
    "%S - секунды.\n",
    "%T – текущее время, равное %H:%M:%S\n",
    "%j – день года (001-336)"
   ]
  },
  {
   "cell_type": "code",
   "execution_count": 2,
   "metadata": {},
   "outputs": [
    {
     "name": "stdout",
     "output_type": "stream",
     "text": [
      "2023-09-01 04:04:45.811073\n",
      "01-09-2023 04:04\n",
      "<class 'datetime.datetime'>\n"
     ]
    }
   ],
   "source": [
    "# создаем объект сurrent_date_time и задаем ему текущие дату и время\n",
    "сurrent_date_time = datetime.now()\n",
    "# выводим полученные текущие дату и время двумя способами \n",
    "# используя неформотированный и форматированный выводы \n",
    "print(сurrent_date_time)\n",
    "print(сurrent_date_time.strftime('%d-%m-%Y %H:%M'))\n",
    "# определяем к какому классу пренадлежит объект сurrent_date_time\n",
    "print(type(сurrent_date_time))"
   ]
  },
  {
   "cell_type": "markdown",
   "metadata": {},
   "source": [
    "#### Когда нужно получить только дату используется класс date и его метод today()"
   ]
  },
  {
   "cell_type": "code",
   "execution_count": 3,
   "metadata": {},
   "outputs": [
    {
     "name": "stdout",
     "output_type": "stream",
     "text": [
      "2023-09-01\n",
      "<class 'datetime.date'>\n"
     ]
    }
   ],
   "source": [
    "# создаем объект сurrent_date и задаем ему текущую дату\n",
    "сurrent_date = date.today()\n",
    "# выводим полученное текущую дату \n",
    "print(сurrent_date)\n",
    "# определяем к какому классу пренадлежит объект сurrent_date_time\n",
    "print(type(сurrent_date))"
   ]
  },
  {
   "cell_type": "markdown",
   "metadata": {},
   "source": [
    "#### Получить только текущее время можно с помощю метода time()"
   ]
  },
  {
   "cell_type": "code",
   "execution_count": 4,
   "metadata": {},
   "outputs": [
    {
     "name": "stdout",
     "output_type": "stream",
     "text": [
      "04:04:45.818601\n",
      "04:04\n"
     ]
    }
   ],
   "source": [
    "# метод now() - возвращает объект - текущую дату, затем полученным \n",
    "# объектом запускается метод time() и возвращает время \n",
    "сurrent_time = datetime.now().time()\n",
    "# выводим полученное текущее время двумя способами используя \n",
    "# неформотированный и форматированный выводы\n",
    "print(сurrent_time)\n",
    "print(сurrent_time.strftime('%H:%M'))"
   ]
  },
  {
   "cell_type": "markdown",
   "metadata": {},
   "source": [
    "#### Задать значение объектам содержащим временные значения"
   ]
  },
  {
   "cell_type": "raw",
   "metadata": {},
   "source": [
    "# Oбъекту класс datetime.datetime задать значение можно используя его конструктор класса, указав год, мечяц, число, часы, минуты, секунды, миллисекунды следующим образом"
   ]
  },
  {
   "cell_type": "code",
   "execution_count": 5,
   "metadata": {
    "scrolled": true
   },
   "outputs": [
    {
     "name": "stdout",
     "output_type": "stream",
     "text": [
      "2017-02-27 12:11:34.034567\n",
      "2017-02-27 00:00:00\n",
      "2018-12-23\n"
     ]
    }
   ],
   "source": [
    "# три примера создакния и задания значения временным объектам\n",
    "# пример 1 - задаем значение объекту дата и время и выводим его на экран\n",
    "date_one_point = datetime(2017, 2, 27, 12, 11, 34, 34567)\n",
    "print(date_one_point)\n",
    "# пример 2 - задаем значение объекту дата и время и выводим его на экран\n",
    "date_one_point = datetime(2017, 2, 27)\n",
    "print(date_one_point)\n",
    "# пример 3 - задаем значение объекту дата и выводим его на экран\n",
    "date_two_point = date(2018, 12, 23)\n",
    "print(date_two_point)"
   ]
  },
  {
   "cell_type": "markdown",
   "metadata": {},
   "source": [
    "#### Задаем границы временного ряда c 1 января 2019 года 26  июня 2023 года (или по текущий момент времени)"
   ]
  },
  {
   "cell_type": "code",
   "execution_count": 6,
   "metadata": {},
   "outputs": [
    {
     "name": "stdout",
     "output_type": "stream",
     "text": [
      "2019-01-01\n",
      "2023-06-26\n"
     ]
    }
   ],
   "source": [
    "\n",
    "# в переменную start_date заносим дату начала временного \n",
    "# периода - \"1 января 2019\"\n",
    "start_date = date(2019, 1, 1)\n",
    "\n",
    "# в переменную end_date заносим дату окончания временного \n",
    "# периода -  текущую дату\n",
    "# end_date = date.today()\n",
    "end_date = date(2023, 6, 26)\n",
    "# выводим значение даты начала временного периода\n",
    "print(start_date)\n",
    "# выводим значение даты завершения временного периода\n",
    "print(end_date)"
   ]
  },
  {
   "cell_type": "markdown",
   "metadata": {},
   "source": [
    "## 3. Получаем данные о котировках акций с веб-сервиса Yahoo Finance в заданном диапазоне дат"
   ]
  },
  {
   "cell_type": "raw",
   "metadata": {},
   "source": [
    "С помощью метода DataReader(ticker, 'yahoo', start_date, end_date) библиотеки pandas_datareader можно получить данные с веб-сервиса \"Yahoo Finance\" по котировкам акций конкретной компании за конкретный период\n",
    "ticker - это торговый код акции\n",
    "yahoo - интернет-источник внешних данных о котировках акций с веб-сервиса Yahoo Finance\n",
    "start_date - - начальная дата временного интервала\n",
    "end_date - конечная даты временного интервала"
   ]
  },
  {
   "cell_type": "code",
   "execution_count": 7,
   "metadata": {},
   "outputs": [
    {
     "name": "stdout",
     "output_type": "stream",
     "text": [
      "[*********************100%%**********************]  1 of 1 completed\n",
      "<class 'pandas.core.frame.DataFrame'>\n"
     ]
    }
   ],
   "source": [
    "ticker = 'TSLA'\n",
    "# получаем данные данные с веб-сервиса \"Yahoo Finance\"\n",
    "stock_data = yf.download(ticker, start_date, end_date) \n",
    "# определяем тип объекта stock_data (убеждаемся в том, \n",
    "# что мы получили датафрейм - DataFrame)\n",
    "print(type(stock_data))"
   ]
  },
  {
   "cell_type": "code",
   "execution_count": 8,
   "metadata": {},
   "outputs": [
    {
     "data": {
      "text/html": [
       "<div>\n",
       "<style scoped>\n",
       "    .dataframe tbody tr th:only-of-type {\n",
       "        vertical-align: middle;\n",
       "    }\n",
       "\n",
       "    .dataframe tbody tr th {\n",
       "        vertical-align: top;\n",
       "    }\n",
       "\n",
       "    .dataframe thead th {\n",
       "        text-align: right;\n",
       "    }\n",
       "</style>\n",
       "<table border=\"1\" class=\"dataframe\">\n",
       "  <thead>\n",
       "    <tr style=\"text-align: right;\">\n",
       "      <th></th>\n",
       "      <th>Open</th>\n",
       "      <th>High</th>\n",
       "      <th>Low</th>\n",
       "      <th>Close</th>\n",
       "      <th>Adj Close</th>\n",
       "      <th>Volume</th>\n",
       "    </tr>\n",
       "    <tr>\n",
       "      <th>Date</th>\n",
       "      <th></th>\n",
       "      <th></th>\n",
       "      <th></th>\n",
       "      <th></th>\n",
       "      <th></th>\n",
       "      <th></th>\n",
       "    </tr>\n",
       "  </thead>\n",
       "  <tbody>\n",
       "    <tr>\n",
       "      <th>2023-06-16</th>\n",
       "      <td>258.920013</td>\n",
       "      <td>263.600006</td>\n",
       "      <td>257.209991</td>\n",
       "      <td>260.540009</td>\n",
       "      <td>260.540009</td>\n",
       "      <td>167563700</td>\n",
       "    </tr>\n",
       "    <tr>\n",
       "      <th>2023-06-20</th>\n",
       "      <td>261.500000</td>\n",
       "      <td>274.750000</td>\n",
       "      <td>261.119995</td>\n",
       "      <td>274.450012</td>\n",
       "      <td>274.450012</td>\n",
       "      <td>165611200</td>\n",
       "    </tr>\n",
       "    <tr>\n",
       "      <th>2023-06-21</th>\n",
       "      <td>275.130005</td>\n",
       "      <td>276.989990</td>\n",
       "      <td>257.779999</td>\n",
       "      <td>259.459991</td>\n",
       "      <td>259.459991</td>\n",
       "      <td>211797100</td>\n",
       "    </tr>\n",
       "    <tr>\n",
       "      <th>2023-06-22</th>\n",
       "      <td>250.770004</td>\n",
       "      <td>265.000000</td>\n",
       "      <td>248.250000</td>\n",
       "      <td>264.609985</td>\n",
       "      <td>264.609985</td>\n",
       "      <td>166875900</td>\n",
       "    </tr>\n",
       "    <tr>\n",
       "      <th>2023-06-23</th>\n",
       "      <td>259.290009</td>\n",
       "      <td>262.450012</td>\n",
       "      <td>252.800003</td>\n",
       "      <td>256.600006</td>\n",
       "      <td>256.600006</td>\n",
       "      <td>176584100</td>\n",
       "    </tr>\n",
       "  </tbody>\n",
       "</table>\n",
       "</div>"
      ],
      "text/plain": [
       "                  Open        High         Low       Close   Adj Close  \\\n",
       "Date                                                                     \n",
       "2023-06-16  258.920013  263.600006  257.209991  260.540009  260.540009   \n",
       "2023-06-20  261.500000  274.750000  261.119995  274.450012  274.450012   \n",
       "2023-06-21  275.130005  276.989990  257.779999  259.459991  259.459991   \n",
       "2023-06-22  250.770004  265.000000  248.250000  264.609985  264.609985   \n",
       "2023-06-23  259.290009  262.450012  252.800003  256.600006  256.600006   \n",
       "\n",
       "               Volume  \n",
       "Date                   \n",
       "2023-06-16  167563700  \n",
       "2023-06-20  165611200  \n",
       "2023-06-21  211797100  \n",
       "2023-06-22  166875900  \n",
       "2023-06-23  176584100  "
      ]
     },
     "execution_count": 8,
     "metadata": {},
     "output_type": "execute_result"
    }
   ],
   "source": [
    "# выведем последние пять строк датафрейма stock_data\n",
    "stock_data.tail()"
   ]
  },
  {
   "cell_type": "markdown",
   "metadata": {},
   "source": [
    "### Источники исключений в языке Python"
   ]
  },
  {
   "cell_type": "markdown",
   "metadata": {},
   "source": [
    "Исключения в языке Python возбуждаются автоматически, когда при исполнении программного кода возникает ошибка, а также исключения могут возбуждаться и перехватываться самим программным кодом."
   ]
  },
  {
   "cell_type": "markdown",
   "metadata": {},
   "source": [
    "### Ситуация возникновения исключения"
   ]
  },
  {
   "cell_type": "markdown",
   "metadata": {},
   "source": [
    "Обычно при возникновении исключения Python прерывает выполнение и выводит трассировку, по которой можно определить, где именно возникла проблема. В трассировке указывается строка и файл ошибки.\n"
   ]
  },
  {
   "cell_type": "markdown",
   "metadata": {},
   "source": [
    "Вывод трассировки при возникновении исключительной ситуации."
   ]
  },
  {
   "cell_type": "code",
   "execution_count": 9,
   "metadata": {},
   "outputs": [
    {
     "ename": "ZeroDivisionError",
     "evalue": "division by zero",
     "output_type": "error",
     "traceback": [
      "\u001b[1;31m---------------------------------------------------------------------------\u001b[0m",
      "\u001b[1;31mZeroDivisionError\u001b[0m                         Traceback (most recent call last)",
      "Cell \u001b[1;32mIn[9], line 3\u001b[0m\n\u001b[0;32m      1\u001b[0m numerator \u001b[38;5;241m=\u001b[39m \u001b[38;5;241m10\u001b[39m\n\u001b[0;32m      2\u001b[0m divisor \u001b[38;5;241m=\u001b[39m \u001b[38;5;241m0\u001b[39m\n\u001b[1;32m----> 3\u001b[0m result \u001b[38;5;241m=\u001b[39m \u001b[43mnumerator\u001b[49m\u001b[43m \u001b[49m\u001b[38;5;241;43m/\u001b[39;49m\u001b[43m \u001b[49m\u001b[43mdivisor\u001b[49m\n",
      "\u001b[1;31mZeroDivisionError\u001b[0m: division by zero"
     ]
    }
   ],
   "source": [
    "numerator = 10\n",
    "divisor = 0\n",
    "result = numerator / divisor"
   ]
  },
  {
   "cell_type": "markdown",
   "metadata": {},
   "source": [
    "### Два стиля обработки исключений"
   ]
  },
  {
   "cell_type": "markdown",
   "metadata": {},
   "source": [
    "##### Обработки исключений в стиле «Посмотри, прежде чем прыгнуть»"
   ]
  },
  {
   "cell_type": "markdown",
   "metadata": {},
   "source": [
    "Программисты обычно применяют два стиля обработки исключений.  Первый стиль называется LBYL (Look Before You Leap, то есть «Посмотри, прежде чем прыгнуть»). Его суть в том, чтобы проверить исключительную ситуацию перед выполнением действия. В нашем случае программа проверяет делитель на ноль. Если делитель отличен от нуля, программа может выполнить деление; если нет — операцию следует пропустить."
   ]
  },
  {
   "cell_type": "markdown",
   "metadata": {},
   "source": [
    "В Python стиль LBYL можно реализовать с помощью команд if:"
   ]
  },
  {
   "cell_type": "code",
   "execution_count": 10,
   "metadata": {},
   "outputs": [
    {
     "name": "stdout",
     "output_type": "stream",
     "text": [
      "None\n"
     ]
    }
   ],
   "source": [
    "numerator = 10\n",
    "divisor = 0\n",
    "if divisor != 0:\n",
    "    result = numerator / divisor\n",
    "else:\n",
    "    result = None\n",
    "print(result)"
   ]
  },
  {
   "cell_type": "markdown",
   "metadata": {},
   "source": [
    "Принцип LBYL не дает гарантии успеха. Даже если вы проверите, что файл существует, прежде чем открывать его, это не означает, что он будет существовать потом. В многопоточных средах такая ситуация называется условием гонки (race condition)."
   ]
  },
  {
   "cell_type": "markdown",
   "metadata": {},
   "source": [
    "##### Обработки исключений в стиле «Проще попросить прощения, чем разрешения»"
   ]
  },
  {
   "cell_type": "markdown",
   "metadata": {},
   "source": [
    "Другой стиль обработки исключений обычно обозначается сокращением EAFP (Easier to Ask for Forgiveness than Permission, то есть «Проще попросить прощения, чем разрешения»). Если операция завершается неудачей, исключение будет перехвачено в блоке исключения.\n",
    "\n",
    "Для управления ошибками, возникающими в ходе выполнения программы, в Python используются специальные объекты, называемые исключениями. Если при возникновении ошибки Python не знает, что делать дальше, создается объект исключения. Если в программу включен код обработки исключения, то выполнение программы продолжится, а если нет — программа останавливается и выводит трассировку с отчетом об исключении."
   ]
  },
  {
   "cell_type": "markdown",
   "metadata": {},
   "source": [
    "#### Механизм для перехвата исключительных ситуаций в Python"
   ]
  },
  {
   "cell_type": "markdown",
   "metadata": {},
   "source": [
    "Конструкция `try...except` предоставляет механизм для перехвата исключительных ситуаций в Python. Перехватывать исключения можно с помощью блоков try ... except, которые имеют следующий синтаксис:"
   ]
  },
  {
   "cell_type": "markdown",
   "metadata": {},
   "source": [
    "```python\n",
    "try:\n",
    "    try_suite\n",
    "except exception_group1 as variable1:\n",
    "    except_suite1\n",
    "…\n",
    "except exception_groupN as variableN:\n",
    "    except_suiteN\n",
    "else:\n",
    "    else_suite\n",
    "finally:\n",
    "    finally_suite\n",
    "```"
   ]
  },
  {
   "cell_type": "markdown",
   "metadata": {},
   "source": [
    "Эта конструкция должна содержать хотя бы один блок except, а блоки else и finally являются необязательными. \n",
    "\n",
    "Блок else_suite выполняется, только если блок try_suite завершается обычным способом, и не выполняется в случае возникновения какого-либо исключения. \n",
    "\n",
    "Если блок finally присутствует, он выполняется всегда и в последнюю очередь."
   ]
  },
  {
   "cell_type": "markdown",
   "metadata": {},
   "source": [
    "Так как стиль LBYL не гарантирует успешного предотвращения ошибок, обычно разработчики Python предпочитают стиль EAFP."
   ]
  },
  {
   "cell_type": "markdown",
   "metadata": {},
   "source": [
    "#### Назначение ключевых слов в инструкции try"
   ]
  },
  {
   "cell_type": "markdown",
   "metadata": {},
   "source": [
    "В инструкции try могут присутствовать разные предложения, располагающиеся вслед за блоком try."
   ]
  },
  {
   "cell_type": "markdown",
   "metadata": {},
   "source": [
    "|Форма предложения|Интерпретация|\n",
    "|:---|:---|\n",
    "|try:||\n",
    "|except:| Перехватывает все (остальные) типы исключений.|\n",
    "|except name:| Перехватывает только указанноеисключение.|\n",
    "|except name as value:| Перехватывает указанное исключение и получает соответствующий экземпляр.|\n",
    "|except (name1, name2):| Перехватывает любое из перечисленных исключений.|\n",
    "|except (name1, name2) as value:| Перехватывает любое из перечисленных исключений и получает соответствующий экземпляр.|\n",
    "|else:| Выполняется, если не было исключений.|\n",
    "|finally:| Этот блок выполняется всегда.|"
   ]
  },
  {
   "cell_type": "markdown",
   "metadata": {},
   "source": [
    "#### Примеры обработки исключений в стиле EAFP"
   ]
  },
  {
   "cell_type": "markdown",
   "metadata": {},
   "source": [
    "Рассмотрим примеры перехвата встроенных исключений"
   ]
  },
  {
   "cell_type": "code",
   "execution_count": 11,
   "metadata": {},
   "outputs": [
    {
     "name": "stdout",
     "output_type": "stream",
     "text": [
      "Hello\n",
      "Success\n",
      "at last\n"
     ]
    }
   ],
   "source": [
    "try:\n",
    "    print('Hello')\n",
    "except Exception as v:\n",
    "    print('Error')\n",
    "else:\n",
    "    print('Success')\n",
    "finally:\n",
    "    print('at last')"
   ]
  },
  {
   "cell_type": "code",
   "execution_count": 12,
   "metadata": {},
   "outputs": [
    {
     "name": "stdout",
     "output_type": "stream",
     "text": [
      "Hello\n",
      "Error\n",
      "at last\n"
     ]
    }
   ],
   "source": [
    "numerator = 10\n",
    "divisor = 0\n",
    "try:\n",
    "    print('Hello')\n",
    "    result = numerator / divisor\n",
    "except Exception as v:\n",
    "    print('Error')\n",
    "else:\n",
    "    print('Success')\n",
    "finally:\n",
    "    print('at last')"
   ]
  },
  {
   "cell_type": "code",
   "execution_count": 13,
   "metadata": {},
   "outputs": [
    {
     "name": "stdout",
     "output_type": "stream",
     "text": [
      "Hello\n",
      "Division By Zero\n",
      "at last\n"
     ]
    }
   ],
   "source": [
    "numerator = 10\n",
    "divisor = 0\n",
    "try:\n",
    "    print('Hello')\n",
    "    result = numerator / divisor\n",
    "except ZeroDivisionError as v:\n",
    "    print('Division By Zero')\n",
    "else:\n",
    "    print('Success')\n",
    "finally:\n",
    "    print('at last')\n"
   ]
  },
  {
   "cell_type": "markdown",
   "metadata": {},
   "source": [
    "Обработка исключений, которая выполняется интерпретатором по умолчанию, зачастую удовлетворяет всем нашим потребностям, особенно для программного кода верхнего уровня, где ошибки должны приводить к немедленному завершению программы. Для большинства программ нет никакой необходимости предусматривать какие-то особые варианты обработки ошибок.\n",
    "Однако иногда бывает необходимо перехватить ошибку и выполнить восстановительные действия после нее. Если для вас нежелательно, чтобы программа завершалась, когда интерпретатор возбуждает исключение, достаточно просто перехватить его, обернув участок программы в инструкцию try. Это очень важная возможность для таких программ, как серверы сети, которые должны продолжать работать постоянно. Например, следующий фрагмент перехватывает и обрабатывает исключение TypeError, которое возбуждается интерпретатором при попытке выполнить операцию конкатенации для списка и строки (оператор + требует, чтобы слева и справа были указаны последовательности одного и того же типа):"
   ]
  },
  {
   "cell_type": "code",
   "execution_count": 14,
   "metadata": {},
   "outputs": [
    {
     "name": "stdout",
     "output_type": "stream",
     "text": [
      "Hello world!\n",
      "resuming here\n"
     ]
    }
   ],
   "source": [
    "try:\n",
    "    kaboom = [0,1,2] + \"spam\" # Возбуждает исключение TypeError\n",
    "except TypeError: # Исключение перехватывается и обрабатывается здесь\n",
    "    print('Hello world!')\n",
    "print('resuming here')  # Программа продолжает работу независимо от того, \n",
    "                        #было ли исключение или нет\n"
   ]
  },
  {
   "cell_type": "markdown",
   "metadata": {},
   "source": [
    "Когда при вычислении значения переменной kaboom возникает исключение, управление передается предложению except в инструкции try, где выводится текст сообщения. После того, как исключение перехватывается, оно становится неактуальным, поэтому программа продолжает выполнение ниже инструкции try вместо того, чтобы завершиться. Программный код действительно обрабатывает и ликвидирует ошибку.\n",
    "Обратите внимание: как только ошибка будет перехвачена, выполнение продолжается с того места, где ошибка была перехвачена (то есть после инструкции try), – нет никакой возможности вернуться к тому месту, где возникла ошибка. В некотором смысле это делает\n",
    "исключения более похожими на инструкции перехода, чем на вызовы функций, – нет никакой возможности вернуться к программному коду, вызвавшему ошибку."
   ]
  },
  {
   "cell_type": "markdown",
   "metadata": {},
   "source": [
    "Практические правила обработки исключений:\n",
    "\n",
    "- Обрабатывайте те ошибки, которые вы можете обработать и которые можно ожидать в программе.\n",
    "- Не подавляйте те исключения, которые вы не можете обработать, и те, которые вряд ли возникнут в вашей программе.\n",
    "- Используйте глобальный обработчик исключений Exception для корректной обработки непредвиденных ошибок.    \n",
    "    \n",
    "    \n",
    "    "
   ]
  },
  {
   "cell_type": "markdown",
   "metadata": {},
   "source": [
    "### Определение собственных исключений"
   ]
  },
  {
   "cell_type": "markdown",
   "metadata": {},
   "source": [
    "Имена констант \n",
    "\n",
    "\n",
    "Константы обычно объявляются на уровне модуля и записываются только заглавными буквами, а слова в имени разделяются\n",
    "символами подчеркивания. Например: MAX_OVERFLOW, TOTAL.\n",
    "    \n",
    "Имена переменных, функций, методов и атрибутов классов \n",
    "\n",
    "Имена переменных, функций, методов и атрибутов классов соглашение PEP8 рекомендует составлять согласно стилю SnakeCase: из маленьких букв, а слова разделяться символами подчеркивания, например student_name, set_name.\n",
    "\n",
    "Имена классов \n",
    "\n",
    "Все имена классов должны следовать соглашению CapWords почти без исключений. Классы внутреннего использования могут начинаться с символа подчеркивания.\n",
    "\n",
    "Имена глобальных переменных\n",
    "\n",
    "Такие имена используются только внутри одного модуля. Руководствуйтесь теми же соглашениями, что и для имен функций.\n",
    "\n",
    "##### Имена исключений (exceptions)\n",
    "\n",
    "Так как исключения являются классами, к исключениям применяется стиль именования классов. Однако можно добавить Error в конце имени (если конечно исключение действительно является ошибкой).\n",
    "\n"
   ]
  },
  {
   "cell_type": "markdown",
   "metadata": {},
   "source": [
    "##### Встроенные исключения в модуле exceptions"
   ]
  },
  {
   "cell_type": "markdown",
   "metadata": {},
   "source": [
    "В модуле exceptions определено много встроенных исключений. Если ваша ошибка хорошо соответствует какому-то существующему исключению, используйте его. Ниже представлена иерархия классов встроенных исключений:"
   ]
  },
  {
   "cell_type": "raw",
   "metadata": {},
   "source": [
    "BaseException\n",
    "    SystemExit\n",
    "    KeyboardInterrupt\n",
    "    GeneratorExit\n",
    "    Exception\n",
    "        StopIteration\n",
    "        ArithmeticError\n",
    "            FloatingPointError\n",
    "            OverflowError\n",
    "            ZeroDivisionError\n",
    "        AssertionError\n",
    "        AttributeError\n",
    "        BufferError\n",
    "        EnvironmentError\n",
    "            IOError\n",
    "            OSError\n",
    "        EOFError\n",
    "        ImportError\n",
    "        LookupError\n",
    "            IndexError\n",
    "            KeyError\n",
    "        MemoryError\n",
    "        NameError\n",
    "            UnboundLocalError\n",
    "        ReferenceError\n",
    "        RuntimeError\n",
    "            NotImplementedError\n",
    "        SyntaxError\n",
    "            IndentationError\n",
    "                TabError\n",
    "        SystemError\n",
    "        TypeError\n",
    "        ValueError\n",
    "            UnicodeError\n",
    "                UnicodeDecodeError\n",
    "                UnicodeEncodeError\n",
    "                UnicodeTranslateError\n",
    "        Warning\n",
    "            DeprecationWarning\n",
    "            PendingDeprecationWarning\n",
    "            RuntimeWarning\n",
    "            SyntaxWarning\n",
    "            UserWarning\n",
    "            FutureWarning\n",
    "            ImportWarning\n",
    "            UnicodeWarning\n",
    "            BytesWarning"
   ]
  },
  {
   "cell_type": "markdown",
   "metadata": {},
   "source": [
    "#### Возбуждение и перехват исключений"
   ]
  },
  {
   "cell_type": "markdown",
   "metadata": {},
   "source": [
    "До сих пор все рассмотренные исключения, возбуждались интерпретатором, когда он встречал ошибки, однако программный код на Python также способен возбуждать исключения – то есть исключения могут возбуждаться интерпретатором или самой программой и могут перехватываться или не перехватываться."
   ]
  },
  {
   "cell_type": "markdown",
   "metadata": {},
   "source": [
    "#### Оператор возбуждения исключения raise"
   ]
  },
  {
   "cell_type": "markdown",
   "metadata": {},
   "source": [
    "Чтобы возбудить исключение вручную, достаточно просто выполнить инструкцию raise. Исключения, определяемые программой, перехватываются точно так же, как и встроенные исключения. Следующий фрагмент демонстрирует вышесказанное:"
   ]
  },
  {
   "cell_type": "code",
   "execution_count": 15,
   "metadata": {},
   "outputs": [
    {
     "name": "stdout",
     "output_type": "stream",
     "text": [
      "got exception\n"
     ]
    }
   ],
   "source": [
    "try:\n",
    "    raise IndexError # Возбуждает исключение вручную\n",
    "except IndexError:\n",
    "    print('got exception')"
   ]
  },
  {
   "cell_type": "markdown",
   "metadata": {},
   "source": [
    "Если исключение, определяемое программой, не перехватывается, оно будет передано обработчику исключений по умолчанию, что приведет к завершению программы с выводом стандартного сообщения об ошибке:"
   ]
  },
  {
   "cell_type": "code",
   "execution_count": 16,
   "metadata": {},
   "outputs": [
    {
     "ename": "IndexError",
     "evalue": "",
     "output_type": "error",
     "traceback": [
      "\u001b[1;31m---------------------------------------------------------------------------\u001b[0m",
      "\u001b[1;31mIndexError\u001b[0m                                Traceback (most recent call last)",
      "Cell \u001b[1;32mIn[16], line 1\u001b[0m\n\u001b[1;32m----> 1\u001b[0m \u001b[38;5;28;01mraise\u001b[39;00m \u001b[38;5;167;01mIndexError\u001b[39;00m\n",
      "\u001b[1;31mIndexError\u001b[0m: "
     ]
    }
   ],
   "source": [
    "raise IndexError"
   ]
  },
  {
   "cell_type": "markdown",
   "metadata": {},
   "source": [
    "#### Оператор возбуждения исключения assert"
   ]
  },
  {
   "cell_type": "markdown",
   "metadata": {},
   "source": [
    "Исключения могут также возбуждаться с помощью инструкции `assert` – это условная форма инструкции raise, которая используется в основном для отладки в процессе разработки."
   ]
  },
  {
   "cell_type": "markdown",
   "metadata": {},
   "source": [
    "Язык Python включает инструкцию assert в качестве особого случая возбуждения исключений на этапе отладки. Это сокращенная форма типичного шаблона использования инструкции raise, которая представляет собой условную инструкцию raise. \n",
    "\n",
    "Инструкция assert в общем виде выглядит следующим образом:"
   ]
  },
  {
   "cell_type": "markdown",
   "metadata": {},
   "source": [
    "```python\n",
    "assert <test>, <data> # Часть <data> является необязательной\n",
    "```"
   ]
  },
  {
   "cell_type": "markdown",
   "metadata": {},
   "source": [
    "представляет собой эквивалент следующего фрагмента:"
   ]
  },
  {
   "cell_type": "markdown",
   "metadata": {},
   "source": [
    "```python\n",
    "if __debug__:\n",
    "    if not <test>:\n",
    "        raise AssertionError(<data>)\n",
    "```"
   ]
  },
  {
   "cell_type": "markdown",
   "metadata": {},
   "source": [
    "Если условное выражение возвращает ложное значение, интерпретатор возбуждает исключение: элемент данных (если присутствует) играет роль аргумента конструктора исключения. Как и все исключения, исключение AssertionError приводит к завершению программы, если не будет перехвачено инструкцией try, и в этом случае элемент данных отображается как часть сообщения об ошибке."
   ]
  },
  {
   "cell_type": "markdown",
   "metadata": {},
   "source": [
    "##### Примеры работы оператора assert "
   ]
  },
  {
   "cell_type": "markdown",
   "metadata": {},
   "source": [
    "Возбуждаем исключение по значению логического выражения без последующей обработки"
   ]
  },
  {
   "cell_type": "code",
   "execution_count": 17,
   "metadata": {},
   "outputs": [
    {
     "ename": "AssertionError",
     "evalue": "Возникла ошибка",
     "output_type": "error",
     "traceback": [
      "\u001b[1;31m---------------------------------------------------------------------------\u001b[0m",
      "\u001b[1;31mAssertionError\u001b[0m                            Traceback (most recent call last)",
      "Cell \u001b[1;32mIn[17], line 1\u001b[0m\n\u001b[1;32m----> 1\u001b[0m \u001b[38;5;28;01massert\u001b[39;00m \u001b[38;5;241m2\u001b[39m\u001b[38;5;241m>\u001b[39m\u001b[38;5;241m3\u001b[39m, \u001b[38;5;124m\"\u001b[39m\u001b[38;5;124mВозникла ошибка\u001b[39m\u001b[38;5;124m\"\u001b[39m\n",
      "\u001b[1;31mAssertionError\u001b[0m: Возникла ошибка"
     ]
    }
   ],
   "source": [
    "assert 2>3, \"Возникла ошибка\""
   ]
  },
  {
   "cell_type": "markdown",
   "metadata": {},
   "source": [
    "Код в вышестоящей ячейке представляет собой эквивалент следующего фрагмента кода:"
   ]
  },
  {
   "cell_type": "code",
   "execution_count": 18,
   "metadata": {},
   "outputs": [
    {
     "ename": "AssertionError",
     "evalue": "Возникла ошибка",
     "output_type": "error",
     "traceback": [
      "\u001b[1;31m---------------------------------------------------------------------------\u001b[0m",
      "\u001b[1;31mAssertionError\u001b[0m                            Traceback (most recent call last)",
      "Cell \u001b[1;32mIn[18], line 3\u001b[0m\n\u001b[0;32m      1\u001b[0m \u001b[38;5;28;01mif\u001b[39;00m __debug__:\n\u001b[0;32m      2\u001b[0m     \u001b[38;5;28;01mif\u001b[39;00m \u001b[38;5;129;01mnot\u001b[39;00m \u001b[38;5;241m2\u001b[39m\u001b[38;5;241m>\u001b[39m\u001b[38;5;241m3\u001b[39m:\n\u001b[1;32m----> 3\u001b[0m         \u001b[38;5;28;01mraise\u001b[39;00m \u001b[38;5;167;01mAssertionError\u001b[39;00m(\u001b[38;5;124m\"\u001b[39m\u001b[38;5;124mВозникла ошибка\u001b[39m\u001b[38;5;124m\"\u001b[39m)\n",
      "\u001b[1;31mAssertionError\u001b[0m: Возникла ошибка"
     ]
    }
   ],
   "source": [
    "if __debug__:\n",
    "    if not 2>3:\n",
    "        raise AssertionError(\"Возникла ошибка\")"
   ]
  },
  {
   "cell_type": "markdown",
   "metadata": {},
   "source": [
    "Возбуждаем исключение и обрабатываем его"
   ]
  },
  {
   "cell_type": "code",
   "execution_count": 19,
   "metadata": {},
   "outputs": [
    {
     "name": "stdout",
     "output_type": "stream",
     "text": [
      "Обрабатываем возбужденное исключение\n"
     ]
    }
   ],
   "source": [
    "try:\n",
    "    assert 2>3, 'Возбуждаем исключение'\n",
    "except AssertionError:\n",
    "    print('Обрабатываем возбужденное исключение')"
   ]
  },
  {
   "cell_type": "markdown",
   "metadata": {},
   "source": [
    "© Ростелеком, Бочаров Михаил Иванович"
   ]
  }
 ],
 "metadata": {
  "kernelspec": {
   "display_name": "Python 3 (ipykernel)",
   "language": "python",
   "name": "python3"
  },
  "language_info": {
   "codemirror_mode": {
    "name": "ipython",
    "version": 3
   },
   "file_extension": ".py",
   "mimetype": "text/x-python",
   "name": "python",
   "nbconvert_exporter": "python",
   "pygments_lexer": "ipython3",
   "version": "3.11.4"
  }
 },
 "nbformat": 4,
 "nbformat_minor": 4
}
