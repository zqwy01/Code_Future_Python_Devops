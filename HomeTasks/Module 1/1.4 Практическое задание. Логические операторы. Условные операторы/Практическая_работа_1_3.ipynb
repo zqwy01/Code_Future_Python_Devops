{
  "cells": [
    {
      "cell_type": "markdown",
      "metadata": {
        "id": "E-kfo69QHCP4"
      },
      "source": [
        "# 1.4 Ветвление (или условная инструкция)"
      ]
    },
    {
      "cell_type": "code",
      "execution_count": 1,
      "metadata": {
        "colab": {
          "base_uri": "https://localhost:8080/"
        },
        "id": "T7e-N4E4HFRA",
        "outputId": "2fe0d534-087b-4236-feb0-c565dd4a0ba2"
      },
      "outputs": [
        {
          "name": "stdout",
          "output_type": "stream",
          "text": [
            "Игрок A более результативен\n"
          ]
        }
      ],
      "source": [
        "a = input('Введите число побед игрока a: ')\n",
        "b = input('Введите число побед игрока b: ')\n",
        "\n",
        "#Инвертировал условия победы\n",
        "if a > b:\n",
        "    print ('Игрок A более результативен')\n",
        "elif a == b:\n",
        "    print ('Результаты игроков a и b равны')\n",
        "else:\n",
        "    print ('Игрок B более результативен')"
      ]
    },
    {
      "cell_type": "code",
      "execution_count": 4,
      "metadata": {
        "colab": {
          "base_uri": "https://localhost:8080/"
        },
        "id": "eHBhLRxBJEJA",
        "outputId": "0d2ef989-d630-4ad8-8b1d-f7de98ee6284"
      },
      "outputs": [
        {
          "name": "stdout",
          "output_type": "stream",
          "text": [
            "a и b равны\n"
          ]
        }
      ],
      "source": [
        "a = input('Введите целое число a: ')\n",
        "b = input('Введите целое число b: ')\n",
        " \n",
        "#Переписал структуру и изменил условия\n",
        "\n",
        "if a>b:\n",
        "    print ('A - наименьшее из двух чисел')\n",
        "elif a<b:\n",
        "    print ('B - наименьшее из двух чисел')\n",
        "else:\n",
        "    print ('A и B равны')\n"
      ]
    }
  ],
  "metadata": {
    "colab": {
      "provenance": []
    },
    "kernelspec": {
      "display_name": "Python 3",
      "name": "python3"
    },
    "language_info": {
      "codemirror_mode": {
        "name": "ipython",
        "version": 3
      },
      "file_extension": ".py",
      "mimetype": "text/x-python",
      "name": "python",
      "nbconvert_exporter": "python",
      "pygments_lexer": "ipython3",
      "version": "3.11.3"
    }
  },
  "nbformat": 4,
  "nbformat_minor": 0
}
