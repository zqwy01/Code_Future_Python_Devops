{
  "cells": [
    {
      "cell_type": "markdown",
      "metadata": {
        "id": "E-kfo69QHCP4"
      },
      "source": [
        "# 1.4 Ветвление (или условная инструкция)"
      ]
    },
    {
      "cell_type": "code",
      "execution_count": 1,
      "metadata": {
        "colab": {
          "base_uri": "https://localhost:8080/"
        },
        "id": "T7e-N4E4HFRA",
        "outputId": "2fe0d534-087b-4236-feb0-c565dd4a0ba2"
      },
      "outputs": [
        {
          "name": "stdout",
          "output_type": "stream",
          "text": [
            "Игрок b более результативен\n"
          ]
        }
      ],
      "source": [
        "a = input('Введите число побед игрока a: ')\n",
        "b = input('Введите число побед игрока b: ')\n",
        "\n",
        "if a < b:\n",
        "    print ('Игрок b более результативен')\n",
        "elif a == b:\n",
        "    print ('Результаты игроков a и b равны')\n",
        "else:\n",
        "    print ('Игрок a более результативен')"
      ]
    },
    {
      "cell_type": "code",
      "execution_count": 2,
      "metadata": {
        "colab": {
          "base_uri": "https://localhost:8080/"
        },
        "id": "eHBhLRxBJEJA",
        "outputId": "0d2ef989-d630-4ad8-8b1d-f7de98ee6284"
      },
      "outputs": [
        {
          "name": "stdout",
          "output_type": "stream",
          "text": [
            "a - наименьшее из двух чисел\n"
          ]
        }
      ],
      "source": [
        "a = input('Введите целое число a: ')\n",
        "b = input('Введите целое число b: ')\n",
        "\n",
        "print ('a - наименьшее из двух чисел') if a<b else (print ('b - наименьшее из двух чисел') if a>b else print ('a и b равны'))\n"
      ]
    }
  ],
  "metadata": {
    "colab": {
      "provenance": []
    },
    "kernelspec": {
      "display_name": "Python 3",
      "name": "python3"
    },
    "language_info": {
      "codemirror_mode": {
        "name": "ipython",
        "version": 3
      },
      "file_extension": ".py",
      "mimetype": "text/x-python",
      "name": "python",
      "nbconvert_exporter": "python",
      "pygments_lexer": "ipython3",
      "version": "3.11.3"
    }
  },
  "nbformat": 4,
  "nbformat_minor": 0
}
