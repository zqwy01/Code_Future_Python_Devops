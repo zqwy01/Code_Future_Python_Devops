{
  "cells": [
    {
      "cell_type": "markdown",
      "metadata": {
        "id": "HSi605KX2sFv"
      },
      "source": [
        "#Работа со строками\n",
        "\n",
        "1. Создайте две переменные типа str, содержащие ваше имя и фамилию. Объедините их в одну строку с помощью оператора + и выведите результат.\n"
      ]
    },
    {
      "cell_type": "code",
      "execution_count": 1,
      "metadata": {
        "id": "pUKlOoh-2q6x"
      },
      "outputs": [
        {
          "name": "stdout",
          "output_type": "stream",
          "text": [
            "ArtyomSinitsyn\n"
          ]
        }
      ],
      "source": [
        "name = \"Artyom\"\n",
        "subname = \"Sinitsyn\"\n",
        "\n",
        "print(name + subname)"
      ]
    },
    {
      "cell_type": "markdown",
      "metadata": {
        "id": "ochnB5vf231u"
      },
      "source": [
        "2. Создайте переменную типа str, содержащую произвольную фразу. Используя методы строк, преобразуйте все буквы в верхний регистр и выведите результат.\n"
      ]
    },
    {
      "cell_type": "code",
      "execution_count": 3,
      "metadata": {
        "id": "4GTpfgaJ28yS"
      },
      "outputs": [
        {
          "name": "stdout",
          "output_type": "stream",
          "text": [
            "CODE_FUTURE_PYTHON_DEVOPS\n"
          ]
        }
      ],
      "source": [
        "phrase = \"Code_Future_Python_Devops\"\n",
        "\n",
        "print(phrase.upper())"
      ]
    },
    {
      "cell_type": "markdown",
      "metadata": {
        "id": "F9jSFnJo2-F_"
      },
      "source": [
        "3. Создайте переменную типа str, содержащую произвольный email-адрес. Используя методы строк, извлеките из него имя пользователя и доменное имя и выведите результат."
      ]
    },
    {
      "cell_type": "code",
      "execution_count": 25,
      "metadata": {
        "id": "kGHq9TTW3Aro"
      },
      "outputs": [
        {
          "name": "stdout",
          "output_type": "stream",
          "text": [
            "Имя пользователя: zqwymusic \n",
            "Доменное имя: vk.com\n"
          ]
        }
      ],
      "source": [
        "import re\n",
        "\n",
        "email = \"zqwymusic@vk.com\"\n",
        "#print(re.findall(r\"[a-zA-Z0-9._%+-]+@[a-zA-Z0-9.-]+\\.[a-zA-Z]{2,4}\", mail))\n",
        "\n",
        "seq = (re.findall(r\"[a-zA-Z0-9._%+-]+\", email))\n",
        "\n",
        "print(\"Имя пользователя:\", seq[0], \"\\nДоменное имя:\", seq[1])\n"
      ]
    },
    {
      "cell_type": "markdown",
      "metadata": {
        "id": "OY69yOwt3HS1"
      },
      "source": [
        "#Встроенные функции\n",
        "\n",
        "1. Создайте список чисел от 1 до 10 с помощью функции range(). Используя функцию sum(), вычислите сумму всех чисел в списке.\n"
      ]
    },
    {
      "cell_type": "code",
      "execution_count": 27,
      "metadata": {
        "id": "eRyQzXPC3MTj"
      },
      "outputs": [
        {
          "name": "stdout",
          "output_type": "stream",
          "text": [
            "55\n"
          ]
        }
      ],
      "source": [
        "print(sum(range(1, 11)))"
      ]
    },
    {
      "cell_type": "markdown",
      "metadata": {
        "id": "luNy1XqR3M_z"
      },
      "source": [
        "2. Создайте список чисел от 1 до 10 с помощью функции range(). Используя функцию filter(), отфильтруйте все нечетные числа и выведите результат."
      ]
    },
    {
      "cell_type": "code",
      "execution_count": 56,
      "metadata": {
        "id": "-4HFdcT_3SkH"
      },
      "outputs": [
        {
          "name": "stdout",
          "output_type": "stream",
          "text": [
            "[2, 4, 6, 8]\n"
          ]
        }
      ],
      "source": [
        "numbers = list(range(1,10))\n",
        "\n",
        "def filter_odd_num(in_num):\n",
        "    if(in_num % 2) == 0:\n",
        "        return True\n",
        "    else:\n",
        "        return False\n",
        "\n",
        "print(list(filter(filter_odd_num, numbers)))"
      ]
    },
    {
      "cell_type": "markdown",
      "metadata": {
        "id": "sJNz-Hra3TBz"
      },
      "source": [
        "3. Создайте список чисел от 1 до 10 с помощью функции range(). Используя функцию map(), увеличьте каждое число на 10 и выведите результат.\n"
      ]
    },
    {
      "cell_type": "code",
      "execution_count": 70,
      "metadata": {
        "id": "JkQkUQXs3WlL"
      },
      "outputs": [
        {
          "name": "stdout",
          "output_type": "stream",
          "text": [
            "[11, 12, 13, 14, 15, 16, 17, 18, 19]\n"
          ]
        }
      ],
      "source": [
        "numbers = list(range(1,10))\n",
        "\n",
        "def plus_ten(i):\n",
        "    i += 10\n",
        "    return i \n",
        "\n",
        "print(list(map(plus_ten, numbers)))"
      ]
    },
    {
      "cell_type": "markdown",
      "metadata": {
        "id": "uLMR8nFJ3W-s"
      },
      "source": [
        "#Регулярные выражения\n",
        "\n",
        "1. Создайте переменную типа str, содержащую произвольный текст. Используя регулярное выражение, найдите все слова, начинающиеся с буквы \"a\" и выведите результат.\n"
      ]
    },
    {
      "cell_type": "code",
      "execution_count": 221,
      "metadata": {
        "id": "3Bfv2hTG3aw5"
      },
      "outputs": [
        {
          "name": "stdout",
          "output_type": "stream",
          "text": [
            "['art', 'abrams', 'artist', 'aoe', 'aio', 'allo', 'aba']\n"
          ]
        }
      ],
      "source": [
        "import re\n",
        "\n",
        "text = \"art object Artyom war abrams, artist, aoe, aio, allo, hallo, hello, hi, aba, baby\"\n",
        "\n",
        "print(re.findall(r\"\\b([a]\\w*)\", text))"
      ]
    },
    {
      "cell_type": "markdown",
      "metadata": {
        "id": "2EiFZaNN3bNw"
      },
      "source": [
        "2. Создайте переменную типа str, содержащую произвольный email-адрес. Используя регулярное выражение, проверьте, что email-адрес соответствует стандарту и выведите результат.\n"
      ]
    },
    {
      "cell_type": "code",
      "execution_count": 42,
      "metadata": {
        "id": "0pCay6Be3flQ"
      },
      "outputs": [
        {
          "name": "stdout",
          "output_type": "stream",
          "text": [
            "zqwymusic@vk.com\n"
          ]
        }
      ],
      "source": [
        "import re\n",
        "\n",
        "email = \"zqwymusic@vk.com\"\n",
        "pattern = r\"^[-\\w\\.]+@([-\\w]+\\.)+[-\\w]{2,4}$\"\n",
        "\n",
        "if re.match(pattern, email) is not None:\n",
        "    print(email)"
      ]
    },
    {
      "cell_type": "markdown",
      "metadata": {
        "id": "RLv88isG3f-M"
      },
      "source": [
        "3. Создайте переменную типа str, содержащую произвольный текст. Используя регулярное выражение, замените все цифры в тексте на знак \"-\"."
      ]
    },
    {
      "cell_type": "code",
      "execution_count": 44,
      "metadata": {
        "id": "5aGb6Wsf3hho"
      },
      "outputs": [
        {
          "name": "stdout",
          "output_type": "stream",
          "text": [
            "Code-Future-Python-Devops D-E-V-I-L\n"
          ]
        }
      ],
      "source": [
        "import re\n",
        "\n",
        "text = \"Code1Future2Python3Devops D1E2V3I4L\"\n",
        "\n",
        "print (re.sub(r\"[0-9]\", '-', text))"
      ]
    }
  ],
  "metadata": {
    "colab": {
      "provenance": []
    },
    "kernelspec": {
      "display_name": "Python 3",
      "name": "python3"
    },
    "language_info": {
      "codemirror_mode": {
        "name": "ipython",
        "version": 3
      },
      "file_extension": ".py",
      "mimetype": "text/x-python",
      "name": "python",
      "nbconvert_exporter": "python",
      "pygments_lexer": "ipython3",
      "version": "3.11.3"
    }
  },
  "nbformat": 4,
  "nbformat_minor": 0
}
