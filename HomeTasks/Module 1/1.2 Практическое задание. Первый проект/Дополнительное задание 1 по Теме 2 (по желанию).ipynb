{
 "cells": [
  {
   "cell_type": "markdown",
   "id": "f30d9753",
   "metadata": {},
   "source": [
    "<div class=\"alert alert-block alert-success\">\n",
    "<b>\n",
    "\n",
    "## Тема 2. Условные и циклические операторы в языке Python\n",
    "    \n",
    "</b>\n",
    "</div>"
   ]
  },
  {
   "cell_type": "markdown",
   "id": "5843576d",
   "metadata": {},
   "source": [
    "### Логические значения"
   ]
  },
  {
   "cell_type": "markdown",
   "id": "941dd9f5",
   "metadata": {},
   "source": [
    "Логические выражения могут принимать значения «истина» (True) или «ложь» (False)."
   ]
  },
  {
   "cell_type": "markdown",
   "id": "6b0de218",
   "metadata": {},
   "source": [
    "Такие значения можно присваивать переменным:"
   ]
  },
  {
   "cell_type": "code",
   "execution_count": 11,
   "id": "b012496d",
   "metadata": {},
   "outputs": [],
   "source": [
    "py_bool_True = True\n",
    "py_bool_False = False"
   ]
  },
  {
   "cell_type": "markdown",
   "id": "5606c6bd",
   "metadata": {},
   "source": [
    "В языке Python логические значения относятся к классу bool:"
   ]
  },
  {
   "cell_type": "code",
   "execution_count": 13,
   "id": "895fbfb3",
   "metadata": {},
   "outputs": [
    {
     "data": {
      "text/plain": [
       "bool"
      ]
     },
     "execution_count": 13,
     "metadata": {},
     "output_type": "execute_result"
    }
   ],
   "source": [
    "type(py_bool_True)"
   ]
  },
  {
   "cell_type": "markdown",
   "id": "0b815c92",
   "metadata": {},
   "source": [
    "Бывает полезно преобразовывать другие типы к логическим значениям. В языке Python это можно сделать при помощи класса bool. Впрочем, обычно прямые преобразования типов оказываются излишними из-за неявного преобразования, которое выполняет Python при проверке условных конструкций. При обработке условий это преобразование будет выполнено за вас.\n",
    "В терминологии Python нередко приходится слышать о «квазиистинном» или «квазиложном» поведении объектов — это означает, что нелогические типы могут неявно вести себя так, словно являются логическими. Если вы не уверены в том, как себя поведет ваш тип, выполните явное преобразование с использованием класса bool.\n",
    "Для строк пустая строка обладает «квазиложным» поведением, тогда как непустые значения интерпретируются как True."
   ]
  },
  {
   "cell_type": "code",
   "execution_count": 19,
   "id": "33a059e0",
   "metadata": {},
   "outputs": [
    {
     "data": {
      "text/plain": [
       "False"
      ]
     },
     "execution_count": 19,
     "metadata": {},
     "output_type": "execute_result"
    }
   ],
   "source": [
    "py_str1 = ''\n",
    "bool(py_str1)"
   ]
  },
  {
   "cell_type": "code",
   "execution_count": 20,
   "id": "f4bf0c43",
   "metadata": {},
   "outputs": [
    {
     "data": {
      "text/plain": [
       "True"
      ]
     },
     "execution_count": 20,
     "metadata": {},
     "output_type": "execute_result"
    }
   ],
   "source": [
    "py_str2 = '0'\n",
    "bool('0')"
   ]
  },
  {
   "cell_type": "markdown",
   "id": "27379eaa",
   "metadata": {},
   "source": [
    "Для чисел ноль интерпретируется как False, тогда как другие числа обладают поведением True:"
   ]
  },
  {
   "cell_type": "code",
   "execution_count": 32,
   "id": "c54a00a4",
   "metadata": {},
   "outputs": [
    {
     "data": {
      "text/plain": [
       "(False, False)"
      ]
     },
     "execution_count": 32,
     "metadata": {},
     "output_type": "execute_result"
    }
   ],
   "source": [
    "bool(0), bool(0.00)"
   ]
  },
  {
   "cell_type": "code",
   "execution_count": 31,
   "id": "bc3503e4",
   "metadata": {},
   "outputs": [
    {
     "data": {
      "text/plain": [
       "(True, True, True, True)"
      ]
     },
     "execution_count": 31,
     "metadata": {},
     "output_type": "execute_result"
    }
   ],
   "source": [
    "bool(1), bool(-2), bool(12), bool(1.5)"
   ]
  },
  {
   "cell_type": "markdown",
   "id": "f010fe28",
   "metadata": {},
   "source": [
    "В логических выражениях None интерпретируется как False:"
   ]
  },
  {
   "cell_type": "code",
   "execution_count": 35,
   "id": "110db03b",
   "metadata": {},
   "outputs": [
    {
     "data": {
      "text/plain": [
       "False"
      ]
     },
     "execution_count": 35,
     "metadata": {},
     "output_type": "execute_result"
    }
   ],
   "source": [
    "bool(None)"
   ]
  },
  {
   "cell_type": "markdown",
   "id": "ce5811d0",
   "metadata": {},
   "source": [
    "Можно явно выполнить преобразование к классу bool но, обычно оно излишне, потому что переменные неявно преобразуются в логические значения при использовании в условных командах. Например, типы-контейнеры (такие, как списки и словари), не содержащие элементов, обладают «квазиложным» поведением. С другой стороны, при появлении элементов они интерпретируются как «квазиистинные»."
   ]
  },
  {
   "cell_type": "markdown",
   "id": "b3346729",
   "metadata": {},
   "source": [
    "|Квазиистинность|Квазиложность|\n",
    "|:-----|:-----|\n",
    "|True|False|\n",
    "|Большинство объектов|None\n",
    "|1|0|\n",
    "|5.7|0.0|\n",
    "|[1, 2]|[] (пустой список)|\n",
    "|{'a': 1, 'b': 2}|{} (пустой словарь)|\n",
    "|'string'|\"\" (пустая строка)|\n",
    "|'False'||\n",
    "|'0'||"
   ]
  },
  {
   "cell_type": "markdown",
   "id": "516f402a",
   "metadata": {},
   "source": [
    "#### Логические операции"
   ]
  },
  {
   "cell_type": "markdown",
   "id": "7b6a9e7a",
   "metadata": {},
   "source": [
    "Кроме логических литералов True и False для получения логических значений в Python также можно использовать выражения. Если у вас имеется два числа, вы можете сравнить их и проверить, что первое больше второго, или наоборот. Эти операции могут использоваться и с большинством других типов."
   ]
  },
  {
   "cell_type": "markdown",
   "id": "ab76de36",
   "metadata": {},
   "source": [
    "|Оператор| Описание|\n",
    "|:-----|:-----|\n",
    "|>|Больше|\n",
    "|<|Меньше|\n",
    "|>=|Больше или равно|\n",
    "|<=|Меньше или равно|\n",
    "|==|Равно|\n",
    "|!=|Не равно|\n",
    "|is|Объекты тождественны|\n",
    "|is not|Объекты не тождественны|"
   ]
  },
  {
   "cell_type": "markdown",
   "id": "c121d6cb",
   "metadata": {},
   "source": [
    "Операторы is и is not предназначены для сравнения тождественности (то есть того, что два объекта имеют одинаковые идентификаторы и фактически являются одним объектом (а не только имеют одинаковые значения)). Так как None является одиночным объектом и имеет только один идентификатор, `is` и `is not` могут использоваться с None."
   ]
  },
  {
   "cell_type": "code",
   "execution_count": 55,
   "id": "6ef84f48",
   "metadata": {},
   "outputs": [
    {
     "name": "stdout",
     "output_type": "stream",
     "text": [
      "140716699335896\n",
      "140716699335896\n",
      "Alice\n",
      "Bob\n",
      "1862067308848\n",
      "1862066546032\n"
     ]
    }
   ],
   "source": [
    "py_str1 = None\n",
    "py_str2 = None\n",
    "print(id(py_str1))\n",
    "print(id(py_str2))\n",
    "if py_str1 is None:\n",
    "    py_str1 = \"Alice\"\n",
    "if py_str2 is None:\n",
    "    py_str2 = \"Bob\"\n",
    "print(py_str1)\n",
    "print(py_str2)\n",
    "print(id(py_str1))\n",
    "print(id(py_str2))"
   ]
  },
  {
   "cell_type": "code",
   "execution_count": 44,
   "id": "ebe30466",
   "metadata": {},
   "outputs": [
    {
     "data": {
      "text/plain": [
       "True"
      ]
     },
     "execution_count": 44,
     "metadata": {},
     "output_type": "execute_result"
    }
   ],
   "source": [
    "'Alice' < 'Bob'"
   ]
  },
  {
   "cell_type": "markdown",
   "id": "642e464d",
   "metadata": {},
   "source": [
    "Python позволяет использовать диапазонную проверку:"
   ]
  },
  {
   "cell_type": "code",
   "execution_count": 53,
   "id": "a38cfceb",
   "metadata": {},
   "outputs": [
    {
     "data": {
      "text/plain": [
       "True"
      ]
     },
     "execution_count": 53,
     "metadata": {},
     "output_type": "execute_result"
    }
   ],
   "source": [
    "py_int = 6\n",
    "3 < py_int < 9"
   ]
  },
  {
   "cell_type": "markdown",
   "id": "87b97148",
   "metadata": {},
   "source": [
    "Условные выражения могут объединяться логическими операторами and, or и not."
   ]
  },
  {
   "cell_type": "markdown",
   "id": "d08ca584",
   "metadata": {},
   "source": [
    "|Логический оператор|Описание|\n",
    "|:-----|:-----|\n",
    "|x and y|Выражение истинно только в том случае, если истинны оба операнда|\n",
    "|x or y|Выражение истинно, если истинным является хотя бы один из операндов|\n",
    "|not x|Логическое отрицание x (True превращается в False, и наоборот)|"
   ]
  },
  {
   "cell_type": "code",
   "execution_count": 84,
   "id": "efd67471",
   "metadata": {},
   "outputs": [
    {
     "name": "stdout",
     "output_type": "stream",
     "text": [
      "False\n",
      "True\n",
      "True\n",
      "False\n",
      "True\n",
      "False\n"
     ]
    }
   ],
   "source": [
    "py_int = 3\n",
    "py_bool1 = 6 < py_int < 9\n",
    "py_bool2 = 'Alice' < 'Bob'\n",
    "print(py_bool1 and py_bool2)\n",
    "print(py_bool1 or py_bool2)\n",
    "print(not py_bool1)\n",
    "print(not py_bool2)\n",
    "print((py_bool1 and py_bool2) or (py_bool1 or not py_bool1 ))\n",
    "print((py_bool1 and py_bool2) or (py_bool1 or not py_bool2 ))"
   ]
  },
  {
   "cell_type": "markdown",
   "id": "1d3384f8",
   "metadata": {},
   "source": [
    "### Управляющие структуры"
   ]
  },
  {
   "cell_type": "markdown",
   "id": "5cfe915c",
   "metadata": {},
   "source": [
    "### Условное ветвление"
   ]
  },
  {
   "cell_type": "markdown",
   "id": "12847555",
   "metadata": {},
   "source": [
    "Ветвление (условная инструкция) - это конструкция языка программирования, обеспечивающая выполнение определённого оператора или набора операторов только при условии истинности некоторого логического выражения."
   ]
  },
  {
   "cell_type": "markdown",
   "id": "ed64ef3b",
   "metadata": {},
   "source": [
    "#### Неполный оператор ветвления if"
   ]
  },
  {
   "cell_type": "markdown",
   "id": "49a582d0",
   "metadata": {},
   "source": [
    "Логические значения (True и False) часто используются в условных командах. \n",
    "Условный оператор `if` означает, что если это условие истинно, то выполнить блок кода. Иногда «команда if» проверяет значения, содержащие логические значения; в других случаях проверяются выражения, результат которых интерпретируется как логическое значение. Другая распространенная проверка связана с неявным преобразованием к «квазиистинным» или «квазиложным» значениям:"
   ]
  },
  {
   "cell_type": "raw",
   "id": "c6f66d53",
   "metadata": {},
   "source": [
    "if boolean_expression1:\n",
    "    block"
   ]
  },
  {
   "cell_type": "markdown",
   "id": "ac2a9fac",
   "metadata": {},
   "source": [
    "Так как непустая строка обладает квазиистинным поведением, вы можете проверить, содержит ли строка какие-либо данные.\n",
    "Поскольку непустая строка интерпретируется как True, для проверки достаточно использовать конструкцию вида:"
   ]
  },
  {
   "cell_type": "code",
   "execution_count": 26,
   "id": "e7e550c9",
   "metadata": {},
   "outputs": [
    {
     "name": "stdout",
     "output_type": "stream",
     "text": [
      " Это не пустая строка 0\n"
     ]
    }
   ],
   "source": [
    "py_str2 = '0' # py_str2 не пустая строка\n",
    "if py_str2:\n",
    "    print(f\" Это не пустая строка {py_str2}\")"
   ]
  },
  {
   "cell_type": "code",
   "execution_count": 28,
   "id": "dbf4f649",
   "metadata": {},
   "outputs": [],
   "source": [
    "py_str1 = '' # py_str1 пустая строка\n",
    "if py_str1:\n",
    "    print(f\" Это пустая строка {py_str1}\")"
   ]
  },
  {
   "cell_type": "code",
   "execution_count": 67,
   "id": "b73f8ea1",
   "metadata": {},
   "outputs": [
    {
     "name": "stdout",
     "output_type": "stream",
     "text": [
      " py_str1 < py_str2\n"
     ]
    }
   ],
   "source": [
    "py_str1 = \"Alice\"\n",
    "py_str2 = \"Bob\"\n",
    "if py_str1 < py_str2:\n",
    "    print(f\" py_str1 < py_str2\")"
   ]
  },
  {
   "cell_type": "markdown",
   "id": "813b8ebf",
   "metadata": {},
   "source": [
    "#### Полный оператор ветвления if ... else"
   ]
  },
  {
   "cell_type": "markdown",
   "id": "8ed5aa53",
   "metadata": {},
   "source": [
    "Условный оператор `if ... else` означает, что если это условие истинно, то выполнить один блок кода, если ложно, то выполнить другой блок кода. "
   ]
  },
  {
   "cell_type": "raw",
   "id": "351f9d5c",
   "metadata": {},
   "source": [
    "if boolean_expression1:\n",
    "    block1\n",
    "else:\n",
    "    block2"
   ]
  },
  {
   "cell_type": "code",
   "execution_count": 76,
   "id": "685a0e84",
   "metadata": {},
   "outputs": [
    {
     "name": "stdout",
     "output_type": "stream",
     "text": [
      "3 < 9\n"
     ]
    }
   ],
   "source": [
    "py_int_1 = 3\n",
    "py_int_2 = 9\n",
    "if py_int_1 > py_int_2:\n",
    "    c = 3\n",
    "else:\n",
    "    print(f\"{py_int_1} < {py_int_2}\")"
   ]
  },
  {
   "cell_type": "markdown",
   "id": "7f034555",
   "metadata": {},
   "source": [
    "#### Множественный оператор ветвления if ... elif ... else¶"
   ]
  },
  {
   "cell_type": "markdown",
   "id": "5dd0b25b",
   "metadata": {},
   "source": [
    "Условный оператор `if ... elif ... else` означает, что если условие if истинно, то выполнить первый блок кода, если условие ложно, то проверяется новое условие elif и если условие истинно, то выполнить второй блок кода, если условие ложно, то проверяется очередное  условие elif и т.д, как только выполнится какое либо условие выполняется соответствующий блок кода и на этом работа множественного оператора ветвления заканчивается. Если ни одно из условий if и elif не дает истинного результата - True, выполняется блок команды else."
   ]
  },
  {
   "cell_type": "raw",
   "id": "cb28327f",
   "metadata": {},
   "source": [
    "if boolean_expression1:\n",
    "    block1\n",
    "elif boolean_expression2:\n",
    "    block2\n",
    "...\n",
    "elif boolean_expressionN:\n",
    "    block3\n",
    "else:\n",
    "    else_block"
   ]
  },
  {
   "cell_type": "code",
   "execution_count": null,
   "id": "756e1dd3",
   "metadata": {},
   "outputs": [],
   "source": []
  },
  {
   "cell_type": "code",
   "execution_count": 100,
   "id": "a956ebb8",
   "metadata": {},
   "outputs": [
    {
     "name": "stdout",
     "output_type": "stream",
     "text": [
      "Ни одно условие не выполнено.\n",
      "b>c\n"
     ]
    }
   ],
   "source": [
    "a, b, c, d = 9, 6, 3, 1\n",
    "\n",
    "if a<b:\n",
    "    print(f\"a<b\")\n",
    "elif b<c:\n",
    "    print(f\"b<c\")\n",
    "elif c<d:\n",
    "    print(f\"c<d\")\n",
    "else:\n",
    "    print(f\"Ни одно условие не выполнено.\")    \n"
   ]
  },
  {
   "cell_type": "code",
   "execution_count": 103,
   "id": "82cb41f8",
   "metadata": {},
   "outputs": [
    {
     "name": "stdout",
     "output_type": "stream",
     "text": [
      "b>c\n"
     ]
    }
   ],
   "source": [
    "a, b, c, d = 9, 6, 3, 1\n",
    "if a<b:\n",
    "    print(f\"a<b\")\n",
    "elif b>c:\n",
    "    print(f\"b>c\")\n",
    "elif c>d:\n",
    "    print(f\"c>d\")\n",
    "else:\n",
    "    print(f\"Ни одно условие не выполнено.\")    "
   ]
  },
  {
   "cell_type": "markdown",
   "id": "4ddb4cff",
   "metadata": {},
   "source": [
    "### Структурное сопоставление с шаблоном"
   ]
  },
  {
   "cell_type": "markdown",
   "id": "94f019cd",
   "metadata": {},
   "source": [
    "В Python 3.10 появился новый оператор структурное сопоставление с шаблоном match-case. Проверить используемую версию Python можно следующим образом:"
   ]
  },
  {
   "cell_type": "code",
   "execution_count": 5,
   "id": "82e8c89d",
   "metadata": {},
   "outputs": [
    {
     "name": "stdout",
     "output_type": "stream",
     "text": [
      "3.10.9 | packaged by Anaconda, Inc. | (main, Mar  1 2023, 18:18:15) [MSC v.1916 64 bit (AMD64)]\n"
     ]
    }
   ],
   "source": [
    "import sys\n",
    "print(sys.version)"
   ]
  },
  {
   "cell_type": "markdown",
   "id": "e8a89284",
   "metadata": {},
   "source": [
    "Сопоставление подразумевает определение при операторе match искомого значения, после которого можно перечислить несколько потенциальных кейсов, каждый с оператором case. В месте обнаружения совпадения между match и case выполняется соответствующий код."
   ]
  },
  {
   "cell_type": "code",
   "execution_count": null,
   "id": "b7a7631b",
   "metadata": {},
   "outputs": [],
   "source": [
    "match element:\n",
    "    case pattern1:\n",
    "        # statements1\n",
    "    case pattern2:\n",
    "        # statements2\n",
    "    case pattern3:\n",
    "        # statements3"
   ]
  },
  {
   "cell_type": "markdown",
   "id": "3676228b",
   "metadata": {},
   "source": [
    "В этой конструкции кода:\n",
    "\n",
    "- match element означает «сопоставьте элемент со следующими шаблонами»;\n",
    "    \n",
    "- затем каждое выражение case pattern сравнивает элемент с указанным шаблоном (это может быть, например, строка или число);\n",
    "    \n",
    "- если шаблон соответствует элементу, выполняется соответствующий блок кода, после этого оператор match-case заканчивает свою работу.\n"
   ]
  },
  {
   "cell_type": "code",
   "execution_count": 22,
   "id": "0f40cb40",
   "metadata": {},
   "outputs": [
    {
     "name": "stdout",
     "output_type": "stream",
     "text": [
      "Среда, рабочий день\n"
     ]
    }
   ],
   "source": [
    "day = \"Wednesda\"\n",
    "match day:\n",
    "    case \"Monday\"    : print(\"Понедельник, рабочий день\")\n",
    "    case \"Tuesday\"   : print(\"Вторник, рабочий день\")\n",
    "    case \"Wednesda\"  : print(\"Среда, рабочий день\")\n",
    "    case \"Thursdayy\" : print(\"Четверг, рабочий день\")\n",
    "    case \"Friday\"    : print(\"Пятница, рабочий день\")\n",
    "    case \"Saturday\"  : print(\"Суббота, выходной день\")\n",
    "    case \"Sunday\"    : print(\"Воскресенье, выходной день\")"
   ]
  },
  {
   "cell_type": "markdown",
   "id": "5198b7d2",
   "metadata": {},
   "source": [
    "### Циклы"
   ]
  },
  {
   "cell_type": "markdown",
   "id": "f64ff408",
   "metadata": {},
   "source": [
    "В языке Python есть две инструкции циклов – while и for ... in"
   ]
  },
  {
   "cell_type": "markdown",
   "id": "0643c9de",
   "metadata": {},
   "source": [
    "#### Цикл while\n",
    "##### Базовый синтаксис цикла while:"
   ]
  },
  {
   "cell_type": "code",
   "execution_count": null,
   "id": "b42d670c",
   "metadata": {},
   "outputs": [],
   "source": [
    "while boolean_expression:\n",
    "    while_block"
   ]
  },
  {
   "cell_type": "markdown",
   "id": "e350afd2",
   "metadata": {},
   "source": [
    "До тех пор, пока выражение boolean_expression возвращает значение True, в цикле будет выполняться блок while_block. Если выражение boolean_expression вернет значение False, цикл завершится.\n",
    "\n",
    "В теле цикла while могут использоваться два специальных оператора — break и continue. Оператор break немедленно завершает цикл while. Команда continue пропускает оставшуюся часть тела цикла, условие проверяется снова, и цикл продолжается перейдя к следующей итерации.\n",
    "Если в цикл расположен внутри функции и в цикле вызван оператор выхода из функции return, то работа цикла будет немедлено завершена."
   ]
  },
  {
   "cell_type": "markdown",
   "id": "5b87deb4",
   "metadata": {},
   "source": [
    "##### Полный синтаксис цикла while:"
   ]
  },
  {
   "cell_type": "raw",
   "id": "8993d054",
   "metadata": {},
   "source": [
    "while boolean_expression:\n",
    "    while_block\n",
    "else:\n",
    "    else_block"
   ]
  },
  {
   "cell_type": "markdown",
   "id": "5df96a51",
   "metadata": {},
   "source": [
    "Ключевое слово else в операторе цикла while является необязательным. До тех пор, пока выражение boolean_expression возвращает значение True, в цикле будет выполняться блок while_block. Если выражение boolean_expression вернет значение False, цикл завершится, и при наличии ключевого слова else будет выполнен блок else_block. Если внутри блока while_block выполняется оператор continue, то управление немедленно передается в начало цикла и выражение boolean_expression вычисляется снова.\n",
    "\n",
    "Необязательное предложение else выполняется во всех в случаях, когда цикл нормально завершается. Оператор break немедленно завершает цикл while, даже без выполнения завершающей части при наличии блока else_block. Если цикл не завершается нормально в результате выполнения оператора break  или return, когда цикл находится внутри функции или метода, или в результате исключения, то блок else_block следующий за ключевым словом else в операторе while не выполняется."
   ]
  },
  {
   "cell_type": "markdown",
   "id": "ad1f0cac",
   "metadata": {},
   "source": [
    "С учетом инструкций break и continue цикл while в общем виде выглядит, как\n",
    "показано ниже:"
   ]
  },
  {
   "cell_type": "raw",
   "id": "d2f98b0f",
   "metadata": {},
   "source": [
    "while boolean_expression1:\n",
    "    while_block\n",
    "    ...\n",
    "        if boolean_expression2: break # Выйти из цикла, пропустив часть else\n",
    "        if boolean_expression3: continue # Перейти в начало цикла, к выражению boolean_expression1\n",
    "    ...\n",
    "else:\n",
    "    else_block # Выполняется, если не была использована инструкция 'break'"
   ]
  },
  {
   "cell_type": "markdown",
   "id": "9ffb617d",
   "metadata": {},
   "source": [
    "<div class=\"alert alert-block alert-info\">\n",
    "<b>\n",
    "Оператор else реализует одинаковое поведение в цикле while, в цикле for ... in и в блоке try ... except.    \n",
    "\n",
    "</b>\n",
    "</div>"
   ]
  },
  {
   "cell_type": "markdown",
   "id": "eb34840e",
   "metadata": {},
   "source": [
    "Оператор `pass` не выполняет никаких действий и используется в случаях, когда синтаксис языка требует наличия инструкции, но никаких полезных действий в этой точке программы выполнить нельзя. Она часто используется в качестве пустого тела составной инструкции. \n",
    "\n",
    "Например, создать бесконечный цикл, который ничего не делает, можно следующим образом:"
   ]
  },
  {
   "cell_type": "raw",
   "id": "e603c2bd",
   "metadata": {},
   "source": [
    "while True: \n",
    "    pass"
   ]
  },
  {
   "cell_type": "markdown",
   "id": "39565089",
   "metadata": {},
   "source": [
    "#### Примеры использования цикла while"
   ]
  },
  {
   "cell_type": "code",
   "execution_count": 26,
   "id": "0ec7b739",
   "metadata": {},
   "outputs": [
    {
     "name": "stdout",
     "output_type": "stream",
     "text": [
      "1 2 3 4 5 6 7 8 9 10 "
     ]
    }
   ],
   "source": [
    "count = 1  # фиксируем начальное значение\n",
    "while count <= 10:  # и конечное (включительно)\n",
    "    print(count, end=' ')\n",
    "    count += 1    "
   ]
  },
  {
   "cell_type": "code",
   "execution_count": 28,
   "id": "aad512e4",
   "metadata": {},
   "outputs": [
    {
     "name": "stdout",
     "output_type": "stream",
     "text": [
      "20 23 26 29 "
     ]
    }
   ],
   "source": [
    "x = 20\n",
    "y = 30\n",
    "while x < y:\n",
    "    print(x, end=' ')\n",
    "    x = x + 3"
   ]
  },
  {
   "cell_type": "code",
   "execution_count": 36,
   "id": "81e9e097",
   "metadata": {},
   "outputs": [
    {
     "name": "stdout",
     "output_type": "stream",
     "text": [
      "Python Pytho Pyth Pyt Py P \n",
      "Блок else\n"
     ]
    }
   ],
   "source": [
    "word = \"Python\"\n",
    "while word:\n",
    "    print(word, end=\" \")\n",
    "    # на каждой итерации убираем символ с конца\n",
    "    word = word[:-1]\n",
    "else:\n",
    "    print(\"\\nБлок else\")"
   ]
  },
  {
   "cell_type": "markdown",
   "id": "61113a96",
   "metadata": {},
   "source": [
    "Оператор break заставляет интерпретатор прервать выполнение цикла и перейти к следующей за ним инструкции"
   ]
  },
  {
   "cell_type": "code",
   "execution_count": 37,
   "id": "dd7ebebc",
   "metadata": {},
   "outputs": [
    {
     "name": "stdout",
     "output_type": "stream",
     "text": [
      "10\n"
     ]
    }
   ],
   "source": [
    "counter = 0\n",
    "while True:\n",
    "    if counter == 10:\n",
    "        break\n",
    "    counter += 1\n",
    "else:\n",
    "    print(\"Блок else\")\n",
    "print(counter)"
   ]
  },
  {
   "cell_type": "markdown",
   "id": "5fa0ad7d",
   "metadata": {},
   "source": [
    "Выведем только нечетные числа вот 1 до 10"
   ]
  },
  {
   "cell_type": "code",
   "execution_count": 43,
   "id": "82e35ea3",
   "metadata": {},
   "outputs": [
    {
     "name": "stdout",
     "output_type": "stream",
     "text": [
      "1\n",
      "3\n",
      "5\n",
      "7\n",
      "9\n",
      "Блок else\n",
      "10\n"
     ]
    }
   ],
   "source": [
    "counter = 0\n",
    "while counter < 10:\n",
    "    counter += 1\n",
    "    if counter % 2 == 0: continue \n",
    "    print(counter)\n",
    "else:\n",
    "    print(\"Блок else\")\n",
    "print(counter)"
   ]
  },
  {
   "cell_type": "markdown",
   "id": "dd79a4ba",
   "metadata": {},
   "source": [
    "Выведем только чётные значения от 0 до 10"
   ]
  },
  {
   "cell_type": "code",
   "execution_count": 46,
   "id": "033c2a4a",
   "metadata": {},
   "outputs": [
    {
     "name": "stdout",
     "output_type": "stream",
     "text": [
      "10 8 6 4 2 0 "
     ]
    }
   ],
   "source": [
    "counter = 11\n",
    "while counter:\n",
    "    counter -= 1\n",
    "    if counter % 2 != 0:\n",
    "        continue\n",
    "    print(counter, end=\" \")\n"
   ]
  },
  {
   "cell_type": "markdown",
   "id": "dd9b9464",
   "metadata": {},
   "source": [
    "#### Цикл for ... in\n"
   ]
  },
  {
   "cell_type": "markdown",
   "id": "73a1cd5d",
   "metadata": {},
   "source": [
    "##### Базовый синтаксис цикла for"
   ]
  },
  {
   "cell_type": "raw",
   "id": "9309d044",
   "metadata": {},
   "source": [
    "for expression in iterable:\n",
    "    for_block"
   ]
  },
  {
   "cell_type": "markdown",
   "id": "c7e053e9",
   "metadata": {},
   "source": [
    "Оператор for в Python перебирает элементы любой итерируемой последовательности iterable (список list, строку string, кортеж tuple, словарь dict или другого объекта, поддерживающего итерацию) в том порядке, в котором они появляются.\n",
    "Оператор for повторяет действия в блоке for_block столько раз сколько будет элементов в последовательности iterable.\n",
    "\n",
    "В качестве выражения expression обычно используется либо единственная переменная, либо последовательность переменных, как правило, в форме кортежа. Если в качестве выражения expression используется кортеж или список, каждый элемент итерируемого объекта iterable распаковывается в элементы expression. В качестве итерируемого объекта iterable в цикле for используются диапазоны arrange(x, y, z).\n",
    "\n",
    "Если внутри блока for_block встретится инструкция continue, управление будет немедленно передано в начало цикла и будет начата новая итерация. Если цикл завершается по выполнении всех итераций и в цикле присутствует предложение else, выполняется блок else_block."
   ]
  },
  {
   "cell_type": "markdown",
   "id": "1e56c1e1",
   "metadata": {},
   "source": [
    "##### Полный синтаксис цикла for"
   ]
  },
  {
   "cell_type": "markdown",
   "id": "6e203ed6",
   "metadata": {},
   "source": [
    "Подобно циклу while, полный синтаксис цикла for также включает необязательное предложение else."
   ]
  },
  {
   "cell_type": "raw",
   "id": "70fe423d",
   "metadata": {},
   "source": [
    "for expression in iterable:\n",
    "    for_block\n",
    "else:\n",
    "    else_block"
   ]
  },
  {
   "cell_type": "markdown",
   "id": "4784d51d",
   "metadata": {},
   "source": [
    "Если выполнение цикла прерывается принудительно (инструкцией break или return), управление немедленно передается первой инструкции, следующей за циклом, а дополнительный блок else_block следующий за ключевым словом else при этом пропускается. Точно так же, когда возбуждается исключение, интерпретатор Python пропускает блок else_block следующий за ключевым словом else."
   ]
  },
  {
   "cell_type": "markdown",
   "id": "3b5e1619",
   "metadata": {},
   "source": [
    "#### Примеры использования цикла while"
   ]
  },
  {
   "cell_type": "code",
   "execution_count": null,
   "id": "0fed4e0b",
   "metadata": {},
   "outputs": [],
   "source": [
    "Выведем  числа от 1 до 10"
   ]
  },
  {
   "cell_type": "code",
   "execution_count": 101,
   "id": "bd92c842",
   "metadata": {},
   "outputs": [
    {
     "name": "stdout",
     "output_type": "stream",
     "text": [
      " 1  2  3  4  5  6  7  8  9 "
     ]
    }
   ],
   "source": [
    "for i in range(1,10):\n",
    "    print(f'{i:2d}', end=\" \")"
   ]
  },
  {
   "cell_type": "markdown",
   "id": "d91df148",
   "metadata": {},
   "source": [
    "Умножим каждый элемент списока py_list_1 на некоторое число n и запишем результат в новый список py_list_2 и выведем его на экран."
   ]
  },
  {
   "cell_type": "code",
   "execution_count": 121,
   "id": "61206b6a",
   "metadata": {},
   "outputs": [
    {
     "data": {
      "text/plain": [
       "[3, 6, 9, 'oneoneone', 'twotwotwo', 'freefreefree']"
      ]
     },
     "execution_count": 121,
     "metadata": {},
     "output_type": "execute_result"
    }
   ],
   "source": [
    "n = 3\n",
    "py_list_1 = [1, 2, 3, 'one', 'two', 'free']\n",
    "py_list_2 = []\n",
    "for i in py_list:\n",
    "    py_list_2.append(i * n)\n",
    "py_list_2"
   ]
  },
  {
   "cell_type": "markdown",
   "id": "1b23fd8a",
   "metadata": {},
   "source": [
    "#### Вложенные циклы"
   ]
  },
  {
   "cell_type": "markdown",
   "id": "ded73df7",
   "metadata": {},
   "source": [
    "Слово \"вложенный\" означает, что объект помещается внутри другого объекта того же типа. В Python внутри цикла можно поместить любой допустимый код. В том числе и другой цикл. Цикл, который размещается внутри другого цикла, называется вложенным циклом. Внутрь цикла можно поместить сколько угодно других вложенных циклов."
   ]
  },
  {
   "cell_type": "markdown",
   "id": "de65bb6b",
   "metadata": {},
   "source": [
    "##### Общий синтаксис вложенного цикла for"
   ]
  },
  {
   "cell_type": "raw",
   "id": "255b149e",
   "metadata": {},
   "source": [
    "for element1 in sequence1:\n",
    "   for element2 in sequence2:\n",
    "      # тело внутреннего цикла \n",
    "   # тело внешнего цикла "
   ]
  },
  {
   "cell_type": "markdown",
   "id": "d63c87e5",
   "metadata": {},
   "source": [
    "Рассмотрим пример вывода таблицы умножения во вложенном цикле."
   ]
  },
  {
   "cell_type": "code",
   "execution_count": 85,
   "id": "df4bac39",
   "metadata": {},
   "outputs": [
    {
     "name": "stdout",
     "output_type": "stream",
     "text": [
      " 1  2  3  4  5  6  7  8  9 \n",
      " 2  4  6  8 10 12 14 16 18 \n",
      " 3  6  9 12 15 18 21 24 27 \n",
      " 4  8 12 16 20 24 28 32 36 \n",
      " 5 10 15 20 25 30 35 40 45 \n",
      " 6 12 18 24 30 36 42 48 54 \n",
      " 7 14 21 28 35 42 49 56 63 \n",
      " 8 16 24 32 40 48 56 64 72 \n",
      " 9 18 27 36 45 54 63 72 81 \n"
     ]
    }
   ],
   "source": [
    "for i in range(1,10):\n",
    "    for j in range(1, 10):\n",
    "        print(f'{i * j:2d}', end=\" \")\n",
    "    print(\"\")\n"
   ]
  },
  {
   "cell_type": "markdown",
   "id": "82535e46",
   "metadata": {},
   "source": [
    "© Ростелеком, Бочаров Михаил Иванович"
   ]
  }
 ],
 "metadata": {
  "kernelspec": {
   "display_name": "Python 3 (ipykernel)",
   "language": "python",
   "name": "python3"
  },
  "language_info": {
   "codemirror_mode": {
    "name": "ipython",
    "version": 3
   },
   "file_extension": ".py",
   "mimetype": "text/x-python",
   "name": "python",
   "nbconvert_exporter": "python",
   "pygments_lexer": "ipython3",
   "version": "3.10.9"
  }
 },
 "nbformat": 4,
 "nbformat_minor": 5
}
