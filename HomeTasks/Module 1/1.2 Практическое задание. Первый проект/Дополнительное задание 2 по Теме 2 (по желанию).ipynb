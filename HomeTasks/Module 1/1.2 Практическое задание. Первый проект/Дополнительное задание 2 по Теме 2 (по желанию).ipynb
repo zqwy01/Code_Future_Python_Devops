{
 "cells": [
  {
   "cell_type": "markdown",
   "id": "2cff2a84",
   "metadata": {},
   "source": [
    "<div class=\"alert alert-block alert-success\">\n",
    "<b>\n",
    "\n",
    "## Тема 3. Встроенные функции, строки, символы и регулярные выражения\n",
    "    \n",
    "</b>\n",
    "</div>"
   ]
  },
  {
   "cell_type": "markdown",
   "id": "24292f09",
   "metadata": {},
   "source": [
    "### Встроенные функции в Python\n",
    "\n",
    "Интерпретатор Python имеет ряд встроенных функций и типов, которые всегда доступны (без подключения дополнительных библиотек). \n",
    "\n",
    "Встроенные функции в Python в алфавитном порядке:\n",
    "\n",
    "|<!-- -->|<!-- -->|<!-- -->|<!-- -->|\n",
    "|:------|:------|:------|:------| \n",
    "|**A**|**E**|**L**|**R**|\n",
    "|abs()|enumerate()|len()|range()|\n",
    "|aiter()|eval()|list()|repr()|\n",
    "|all()|exec()|locals()|reversed()|\n",
    "|any()|||round()|\n",
    "|anext()|**F**|**M**||\n",
    "|ascii()|filter()|map()|**S**|\n",
    "||float()|max()|set()|\n",
    "|**B**|format()|memoryview()|setattr()|\n",
    "|bin()|frozenset()|min()|slice()|\n",
    "|bool()|||sorted()|\n",
    "|breakpoint()|**G**|**N**|staticmethod()|\n",
    "|bytearray()|getattr()|next()|str()|\n",
    "|bytes()|globals()||sum()|\n",
    "|||**O**|super()|\n",
    "|**C**|**H**|object()||\n",
    "|callable()|hasattr()|oct()|**T**|\n",
    "|chr()|hash()|open()|tuple()|\n",
    "|classmethod()|help()|ord()|type()|\n",
    "|compile()|hex()|||\n",
    "|complex()||**P**|**V**|\n",
    "||**I**|pow()|vars()|\n",
    "|**D**|id()|print()||\n",
    "|delattr()|input()|property()|**Z**|\n",
    "|dict()|int()||zip()|\n",
    "|dir()|isinstance()|||\n",
    "|divmod()|issubclass()||**`_`**|\n",
    "||iter()||`__import__()`|\n"
   ]
  },
  {
   "cell_type": "markdown",
   "id": "0b3dc460",
   "metadata": {},
   "source": [
    "<div class=\"alert alert-block alert-info\">\n",
    "<b>\n",
    "Полная информация о встроенных функциях в Python располагается по адресу:\n",
    "\n",
    "https://docs.python.org/3/library/functions.html\n",
    "</b>\n",
    "</div>"
   ]
  },
  {
   "cell_type": "markdown",
   "id": "ee57dc3c",
   "metadata": {},
   "source": [
    "### Стандартная библиотека Python\n",
    "\n",
    "Помимо встроенных в Python функций существует стандартная библиотека, которая распространяется вместе с дистрибутимвом Python. Стандартная библиотека Python очень обширна и предлагает широкий спектр возможностей.  Библиотека содержит встроенные модули (написанные на языке программирования C), обеспечивающие доступ к системным функциям, таким как файловый ввод-вывод, а также модули, написанные на Python, которые предоставляют стандартизированные решения для многих проблем, возникающих в повседневном программировании. "
   ]
  },
  {
   "cell_type": "markdown",
   "id": "00766887",
   "metadata": {},
   "source": [
    "<div class=\"alert alert-block alert-info\">\n",
    "<b>\n",
    "Сведения о стандартной библиотеке Python располагаются по адресу:\n",
    "\n",
    "https://docs.python.org/3/library/index.html\n",
    "</b>\n",
    "</div>"
   ]
  },
  {
   "cell_type": "markdown",
   "id": "b2b632b6",
   "metadata": {},
   "source": [
    "### Индекс пакетов Python\n",
    "\n",
    "В дополнение к стандартной библиотеке существует коллекция из сотен тысяч компонентов (от отдельных программ и модулей до пакетов и целых сред разработки приложений), доступных в \"Индексе пакетов Python\" (Python Package Index). \n",
    "\n",
    "Например, Python Package Index, содержит сведения о таких известных пакетах как:\n",
    "\n",
    "- NumPy — это основной пакет для научных вычислений с помощью Python;\n",
    "\n",
    "- pandas — это мощный набор инструментов для анализа данных с помощью Python\n",
    "\n",
    "- и других пакетах. "
   ]
  },
  {
   "cell_type": "markdown",
   "id": "7b126a67",
   "metadata": {},
   "source": [
    "<div class=\"alert alert-block alert-info\">\n",
    "<b>\n",
    "Сведения о коллекции компонентов Python Package Index располагаются по адресу:\n",
    "\n",
    "https://pypi.org/    \n",
    "</b>\n",
    "</div>"
   ]
  },
  {
   "cell_type": "markdown",
   "id": "db2c1e59",
   "metadata": {},
   "source": [
    "### Встроенные функции для работы с числовыми значениями"
   ]
  },
  {
   "cell_type": "markdown",
   "id": "b4b3ad1d",
   "metadata": {},
   "source": [
    "#### 1.  Встроенные функции для работы с числовыми значениями"
   ]
  },
  {
   "cell_type": "markdown",
   "id": "b925abf5",
   "metadata": {},
   "source": [
    "#### 1.1 Абсолютная величина"
   ]
  },
  {
   "cell_type": "markdown",
   "id": "0eaf4c5e",
   "metadata": {},
   "source": [
    "Встроенная функция abs() возвращает абсолютную величину указанного числа. В математике абсолютная величина, или модуль числа – это неотрицательное число, выражающее расстояние от этого числа до нуля. Например, абсолютная величина 25 – это 25, а -17 – число 17. Абсолютная величина 0 равна 0."
   ]
  },
  {
   "cell_type": "code",
   "execution_count": 1,
   "id": "92bed590",
   "metadata": {},
   "outputs": [
    {
     "data": {
      "text/plain": [
       "25"
      ]
     },
     "execution_count": 1,
     "metadata": {},
     "output_type": "execute_result"
    }
   ],
   "source": [
    "abs(25)"
   ]
  },
  {
   "cell_type": "code",
   "execution_count": 2,
   "id": "1574ec2f",
   "metadata": {},
   "outputs": [
    {
     "data": {
      "text/plain": [
       "17"
      ]
     },
     "execution_count": 2,
     "metadata": {},
     "output_type": "execute_result"
    }
   ],
   "source": [
    "abs(-17)"
   ]
  },
  {
   "cell_type": "code",
   "execution_count": 3,
   "id": "f2dcc390",
   "metadata": {},
   "outputs": [
    {
     "data": {
      "text/plain": [
       "0"
      ]
     },
     "execution_count": 3,
     "metadata": {},
     "output_type": "execute_result"
    }
   ],
   "source": [
    "abs(0)"
   ]
  },
  {
   "cell_type": "markdown",
   "id": "5c0e8f57",
   "metadata": {},
   "source": [
    "#### 1.2 Частное и остаток от деления"
   ]
  },
  {
   "cell_type": "markdown",
   "id": "982d4b67",
   "metadata": {},
   "source": [
    "Функция **divmod(divident, divisor)** — это встроенная функция деления, которая принимает два числа и возвращает пару чисел(кортеж), состоящую из их частного и остатка. Функция divmod() возвращает кортеж, содержащий частное и остаток, когда первый аргумент(divident) делится на второй аргумент(divisor). Метод divmod() вычисляет как x//y, так и x%y и возвращает оба значения."
   ]
  },
  {
   "cell_type": "code",
   "execution_count": 4,
   "id": "16868553",
   "metadata": {
    "scrolled": true
   },
   "outputs": [
    {
     "name": "stdout",
     "output_type": "stream",
     "text": [
      "4\n",
      "2\n",
      "(4, 2)\n"
     ]
    }
   ],
   "source": [
    "# Функция divmod() выполняет такие операции:\n",
    "a = 14\n",
    "b = 3\n",
    "print(a // b)\n",
    "print(a % b)\n",
    "print(divmod(a,b))"
   ]
  },
  {
   "cell_type": "markdown",
   "id": "80322fe8",
   "metadata": {},
   "source": [
    "Функция divmod(), так же как и операции целочисленного деления \"//\" и остатка от деления \"%\", может работать с целыми числами и с числами с плавающей точкой. Например:"
   ]
  },
  {
   "cell_type": "code",
   "execution_count": 5,
   "id": "21bc5309",
   "metadata": {},
   "outputs": [
    {
     "name": "stdout",
     "output_type": "stream",
     "text": [
      "Частное от целочисленого деления 95.5 на 12.25 = 7.0\n",
      "Остаток от деления 95.5 на 12.25 = 9.75\n",
      "Частное и остаток от деления 95.5 на 12.25 = (7.0, 9.75)\n"
     ]
    }
   ],
   "source": [
    "a = 95.5\n",
    "b = 12.25\n",
    "print(f'Частное от целочисленого деления {a} на {b} = {a // b}')\n",
    "print(f'Остаток от деления {a} на {b} = {a % b}')\n",
    "print(f'Частное и остаток от деления {a} на {b} = {divmod(a,b)}')"
   ]
  },
  {
   "cell_type": "markdown",
   "id": "a8a636d1",
   "metadata": {},
   "source": [
    "#### 1.3 Возведение в степень"
   ]
  },
  {
   "cell_type": "markdown",
   "id": "421a5dea",
   "metadata": {},
   "source": [
    "В Python существует оператор ** для возведения числа в степень. Но также можно использовать встроенную функцию pow()."
   ]
  },
  {
   "cell_type": "code",
   "execution_count": 6,
   "id": "7267aaa1",
   "metadata": {},
   "outputs": [
    {
     "data": {
      "text/plain": [
       "8"
      ]
     },
     "execution_count": 6,
     "metadata": {},
     "output_type": "execute_result"
    }
   ],
   "source": [
    "pow(2,3)"
   ]
  },
  {
   "cell_type": "markdown",
   "id": "edca49f8",
   "metadata": {},
   "source": [
    "#### 1.4 Округление десятичного числа"
   ]
  },
  {
   "cell_type": "markdown",
   "id": "1aed04aa",
   "metadata": {},
   "source": [
    "Встроенная функция round(a, b) округляет число до a до b знаков после запятой."
   ]
  },
  {
   "cell_type": "code",
   "execution_count": 7,
   "id": "44c82ddd",
   "metadata": {},
   "outputs": [
    {
     "name": "stdout",
     "output_type": "stream",
     "text": [
      "2.5479\n"
     ]
    }
   ],
   "source": [
    "k = 2.5478943659863\n",
    "print(round(k,4))"
   ]
  },
  {
   "cell_type": "code",
   "execution_count": 8,
   "id": "d968a7d8",
   "metadata": {},
   "outputs": [
    {
     "name": "stdout",
     "output_type": "stream",
     "text": [
      "4\n"
     ]
    }
   ],
   "source": [
    "print(round(3.5))"
   ]
  },
  {
   "cell_type": "code",
   "execution_count": 9,
   "id": "ac9b0dcf",
   "metadata": {},
   "outputs": [
    {
     "name": "stdout",
     "output_type": "stream",
     "text": [
      "4\n"
     ]
    }
   ],
   "source": [
    "print(round(4.5))"
   ]
  },
  {
   "cell_type": "code",
   "execution_count": 10,
   "id": "34fedafb",
   "metadata": {},
   "outputs": [
    {
     "name": "stdout",
     "output_type": "stream",
     "text": [
      "6\n"
     ]
    }
   ],
   "source": [
    "print(round(5.5))"
   ]
  },
  {
   "cell_type": "code",
   "execution_count": 11,
   "id": "094ac932",
   "metadata": {},
   "outputs": [
    {
     "name": "stdout",
     "output_type": "stream",
     "text": [
      "6\n"
     ]
    }
   ],
   "source": [
    "print(round(6.5))"
   ]
  },
  {
   "cell_type": "markdown",
   "id": "6113439c",
   "metadata": {},
   "source": [
    "В Python используется банковское округление (bankers rounding) то есть округление к ближайшему чётному.\n",
    "\n",
    "Банковским оно называется потому, что часто использовалось банкирами, так как удовлетворяло их специфичную потребность, относящуюся, скорее, не к математике, а к реальному миру. Дело в том, что в магазинных ценниках цена часто уже округлена до чисел, кратных пяти, например, до половины рубля (доллара, лари...). Гораздо чаще можно встретить цену в 2.5 доллара, чем в 2.39 или 2.71. Если округлять подобные цены по правилам ближайшего целого, то уже через 100 таких округлений, которые будут встречаться довольно часто, накопится погрешность в 50 единиц. Банковское округление исключает такой вариант, чередуя округление в большую и меньшую сторону в зависимости от чётности/нечётности числа, стоящего перед округляемым."
   ]
  },
  {
   "cell_type": "markdown",
   "id": "a05c656b",
   "metadata": {},
   "source": [
    "В Python способ банковского округления используется и при форматированоом выводе чисел."
   ]
  },
  {
   "cell_type": "code",
   "execution_count": 12,
   "id": "2e680c13",
   "metadata": {},
   "outputs": [
    {
     "name": "stdout",
     "output_type": "stream",
     "text": [
      "\n",
      "В строках округление будет происходить по тому же принципу.\n",
      "Ближайщее чётное: 1.2\n",
      "Ближайщее нечётное: 1.4\n",
      "\n"
     ]
    }
   ],
   "source": [
    "print(f\"\"\"\n",
    "В строках округление будет происходить по тому же принципу.\n",
    "Ближайщее чётное: {1.25:.1f}\n",
    "Ближайщее нечётное: {1.35:.1f}\n",
    "\"\"\")"
   ]
  },
  {
   "cell_type": "markdown",
   "id": "24703326",
   "metadata": {},
   "source": [
    "При помощи модуля decimal из стандартной библиотеки можно выбирать любой из восьми представленных в ней способов округления:\n",
    "\n",
    "- decimal.ROUND_CEILING (Round towards Infinity.)\n",
    "\n",
    "- decimal.ROUND_DOWN (Round towards zero.)\n",
    "\n",
    "- decimal.ROUND_FLOOR (Round towards -Infinity.)\n",
    "\n",
    "- decimal.ROUND_HALF_DOWN (Round to nearest with ties going towards zero.)\n",
    "\n",
    "- decimal.ROUND_HALF_EVEN (Round to nearest with ties going to nearest even integer.)\n",
    "\n",
    "- decimal.ROUND_HALF_UP (Round to nearest with ties going away from zero.)\n",
    "\n",
    "- decimal.ROUND_UP (Round away from zero.)\n",
    "\n",
    "- decimal.ROUND_05UP (Round away from zero if last digit after rounding towards zero would have been 0 or 5; otherwise round towards zero.)\n",
    "\n"
   ]
  },
  {
   "cell_type": "markdown",
   "id": "c55832c5",
   "metadata": {},
   "source": [
    "В библиотке math также существую методы floor(x) и ceil(x) для округления значения x в меньшую и большую стороны соотвественно."
   ]
  },
  {
   "cell_type": "markdown",
   "id": "84a794a3",
   "metadata": {},
   "source": [
    "#### 1.5 Сумма членов"
   ]
  },
  {
   "cell_type": "markdown",
   "id": "260763a0",
   "metadata": {},
   "source": [
    "Функция sum() позволяет вычислить сумму членов составных числовых типов данных: списков, кортежей, множеств."
   ]
  },
  {
   "cell_type": "code",
   "execution_count": 13,
   "id": "1cc7dbc7",
   "metadata": {},
   "outputs": [
    {
     "name": "stdout",
     "output_type": "stream",
     "text": [
      "<class 'list'>\n",
      "69.5\n"
     ]
    },
    {
     "data": {
      "text/plain": [
       "49.5"
      ]
     },
     "execution_count": 13,
     "metadata": {},
     "output_type": "execute_result"
    }
   ],
   "source": [
    "list_floats = [1.1, 2.2, 3.3, 4.4, 5.5, 6.6, 7.7, 8.8, 9.9, 10,10] \n",
    "print(type(list_floats))\n",
    "print(sum(list_floats))\n",
    "49.5"
   ]
  },
  {
   "cell_type": "code",
   "execution_count": 14,
   "id": "34cc3b85",
   "metadata": {},
   "outputs": [
    {
     "name": "stdout",
     "output_type": "stream",
     "text": [
      "<class 'set'>\n",
      "6\n"
     ]
    }
   ],
   "source": [
    "ss = set([1,2,3])\n",
    "print(type(ss))\n",
    "print(sum(ss))"
   ]
  },
  {
   "cell_type": "markdown",
   "id": "bab5f5ab",
   "metadata": {},
   "source": [
    "#### 1.6 Минимальный и максимальный элементы последовательности"
   ]
  },
  {
   "cell_type": "markdown",
   "id": "3ab233e8",
   "metadata": {},
   "source": [
    "Функция `min()` возвращают минимум из полученных аргументов."
   ]
  },
  {
   "cell_type": "code",
   "execution_count": 15,
   "id": "6bd9c58c",
   "metadata": {},
   "outputs": [
    {
     "name": "stdout",
     "output_type": "stream",
     "text": [
      "1\n"
     ]
    }
   ],
   "source": [
    "print(min(1, 2, 3))"
   ]
  },
  {
   "cell_type": "markdown",
   "id": "a032c8a3",
   "metadata": {},
   "source": [
    "Функция `max()` возвращают максимум из полученных аргументов."
   ]
  },
  {
   "cell_type": "code",
   "execution_count": 16,
   "id": "c0c38d25",
   "metadata": {},
   "outputs": [
    {
     "name": "stdout",
     "output_type": "stream",
     "text": [
      "3\n"
     ]
    }
   ],
   "source": [
    "print(max(1, 2, 3))"
   ]
  },
  {
   "cell_type": "markdown",
   "id": "fcddfe91",
   "metadata": {},
   "source": [
    "#### 2. Встроенные функции приведения чисел к базовым системам счисления "
   ]
  },
  {
   "cell_type": "markdown",
   "id": "66d99474",
   "metadata": {},
   "source": [
    "Функция **bin(k)** в Python преобразует целое число **k** в двоичную строку с префиксом 0b."
   ]
  },
  {
   "cell_type": "code",
   "execution_count": 17,
   "id": "da5bc816",
   "metadata": {},
   "outputs": [
    {
     "data": {
      "text/plain": [
       "'0b11'"
      ]
     },
     "execution_count": 17,
     "metadata": {},
     "output_type": "execute_result"
    }
   ],
   "source": [
    "# Из десятичной в двоичную\n",
    "bin(3)"
   ]
  },
  {
   "cell_type": "code",
   "execution_count": 18,
   "id": "1cdb3a59",
   "metadata": {},
   "outputs": [
    {
     "data": {
      "text/plain": [
       "'-0b1010'"
      ]
     },
     "execution_count": 18,
     "metadata": {},
     "output_type": "execute_result"
    }
   ],
   "source": [
    "bin(-10)"
   ]
  },
  {
   "cell_type": "markdown",
   "id": "b2f9d964",
   "metadata": {},
   "source": [
    "Функция **oct(k)** в Python преобразует целое число **k** в восьмиричную строку с префиксом 0x."
   ]
  },
  {
   "cell_type": "code",
   "execution_count": 19,
   "id": "db77e112",
   "metadata": {},
   "outputs": [
    {
     "data": {
      "text/plain": [
       "'0o12'"
      ]
     },
     "execution_count": 19,
     "metadata": {},
     "output_type": "execute_result"
    }
   ],
   "source": [
    "# Из десятичной в восьмеричную\n",
    "oct(10)"
   ]
  },
  {
   "cell_type": "markdown",
   "id": "92e6c254",
   "metadata": {},
   "source": [
    "Функция **hex(k)** в Python преобразует целое число **k** в шестнадцатиричную строку с префиксом 0x."
   ]
  },
  {
   "cell_type": "code",
   "execution_count": 20,
   "id": "d52550ed",
   "metadata": {},
   "outputs": [
    {
     "data": {
      "text/plain": [
       "'0xa'"
      ]
     },
     "execution_count": 20,
     "metadata": {},
     "output_type": "execute_result"
    }
   ],
   "source": [
    "# Из десятичной в шестнадцатеричную\n",
    "hex(10)"
   ]
  },
  {
   "cell_type": "markdown",
   "id": "7ef46399",
   "metadata": {},
   "source": [
    "Функция **hex(k)** в Python преобразует целое число **k** в шестнадцатиричную строку с префиксом 0x."
   ]
  },
  {
   "cell_type": "code",
   "execution_count": 21,
   "id": "f0f1c67e",
   "metadata": {},
   "outputs": [
    {
     "data": {
      "text/plain": [
       "'0b1010'"
      ]
     },
     "execution_count": 21,
     "metadata": {},
     "output_type": "execute_result"
    }
   ],
   "source": [
    "# Из десятичной в двоичную\n",
    "bin(10)"
   ]
  },
  {
   "cell_type": "markdown",
   "id": "4cdb82b9",
   "metadata": {},
   "source": [
    "#### 3. Побитовые операции над целыми числами"
   ]
  },
  {
   "cell_type": "code",
   "execution_count": 22,
   "id": "fdf6f5a1",
   "metadata": {},
   "outputs": [
    {
     "data": {
      "text/plain": [
       "('0b1110', '1110', '00001110')"
      ]
     },
     "execution_count": 22,
     "metadata": {},
     "output_type": "execute_result"
    }
   ],
   "source": [
    "f'{14:#b}', f'{14:b}', f'{14:08b}'"
   ]
  },
  {
   "cell_type": "markdown",
   "id": "e5076a98",
   "metadata": {},
   "source": [
    "Операция: **x | y** (Побитовое ИЛИ)"
   ]
  },
  {
   "cell_type": "code",
   "execution_count": 23,
   "id": "166712fd",
   "metadata": {},
   "outputs": [
    {
     "data": {
      "text/plain": [
       "'0b1010 | 0b1100 = 0b1110'"
      ]
     },
     "execution_count": 23,
     "metadata": {},
     "output_type": "execute_result"
    }
   ],
   "source": [
    "x, y = 0b1010, 0b1100\n",
    "f'{x:#b} | {y:#b} = {x | y:#b}'"
   ]
  },
  {
   "cell_type": "markdown",
   "id": "6d07002d",
   "metadata": {},
   "source": [
    "Операция: **x & y** (Побитовое И)"
   ]
  },
  {
   "cell_type": "code",
   "execution_count": 24,
   "id": "0c9f6ec0",
   "metadata": {},
   "outputs": [
    {
     "data": {
      "text/plain": [
       "'0b1010 & 0b1100 = 0b1000'"
      ]
     },
     "execution_count": 24,
     "metadata": {},
     "output_type": "execute_result"
    }
   ],
   "source": [
    "x, y = 0b1010, 0b1100\n",
    "f'{x:#b} & {y:#b} = {x & y:#b}'"
   ]
  },
  {
   "cell_type": "markdown",
   "id": "26fd78ae",
   "metadata": {},
   "source": [
    "Операция: **x ^ y** (Побитовое исключающее ИЛИ)"
   ]
  },
  {
   "cell_type": "code",
   "execution_count": 25,
   "id": "6512dac0",
   "metadata": {},
   "outputs": [
    {
     "data": {
      "text/plain": [
       "'0b1010 ^ 0b1100 = 0b110'"
      ]
     },
     "execution_count": 25,
     "metadata": {},
     "output_type": "execute_result"
    }
   ],
   "source": [
    "x, y = 0b1010, 0b1100\n",
    "f'{x:#b} ^ {y:#b} = {x ^ y:#b}'"
   ]
  },
  {
   "cell_type": "markdown",
   "id": "6beb4d3a",
   "metadata": {},
   "source": [
    "Операция: **x >> y** (Побитовый сдвиг вправо)"
   ]
  },
  {
   "cell_type": "code",
   "execution_count": 26,
   "id": "001208d3",
   "metadata": {},
   "outputs": [
    {
     "data": {
      "text/plain": [
       "'0b10101011 >> 0b10 = 0b101010'"
      ]
     },
     "execution_count": 26,
     "metadata": {},
     "output_type": "execute_result"
    }
   ],
   "source": [
    "# Удаляем справа у битов у двоичного числа x\n",
    "x, y = 0b10101011, 0b10\n",
    "f'{x:#b} >> {y:#b} = {x >> y:#b}' # f'{x:#b} >> {2} = {x >> 2:#b}'"
   ]
  },
  {
   "cell_type": "markdown",
   "id": "eae302d8",
   "metadata": {},
   "source": [
    "Операция: **x << y** (Побитовый сдвиг влево)"
   ]
  },
  {
   "cell_type": "code",
   "execution_count": 27,
   "id": "8473ad79",
   "metadata": {},
   "outputs": [
    {
     "data": {
      "text/plain": [
       "'0b1010 << 0b10 = 0b101000'"
      ]
     },
     "execution_count": 27,
     "metadata": {},
     "output_type": "execute_result"
    }
   ],
   "source": [
    "# Добавляем справа у нулей к двоичному числу x\n",
    "x, y = 0b1010, 0b10\n",
    "f'{x:#b} << {y:#b} = {x << y:#b}' # f'{x:#b} << {2} = {x << 2:#b}'\n"
   ]
  },
  {
   "cell_type": "markdown",
   "id": "4187deeb",
   "metadata": {},
   "source": [
    "Операция: **~x** (Инвертация битов)"
   ]
  },
  {
   "cell_type": "markdown",
   "id": "3587fedf",
   "metadata": {},
   "source": [
    "Побитовая инверсия — это инвертированние битов в соответствии со следующим выражением:\n",
    "~ x = - (x+1)"
   ]
  },
  {
   "cell_type": "code",
   "execution_count": 28,
   "id": "3a31c3e7",
   "metadata": {},
   "outputs": [
    {
     "data": {
      "text/plain": [
       "'-0b1010'"
      ]
     },
     "execution_count": 28,
     "metadata": {},
     "output_type": "execute_result"
    }
   ],
   "source": [
    "x = 0b1001\n",
    "bin(~x)"
   ]
  },
  {
   "cell_type": "code",
   "execution_count": 29,
   "id": "0c4b70d2",
   "metadata": {},
   "outputs": [
    {
     "data": {
      "text/plain": [
       "'-0b1010'"
      ]
     },
     "execution_count": 29,
     "metadata": {},
     "output_type": "execute_result"
    }
   ],
   "source": [
    "x = 0b1001\n",
    "bin(-(x+1))"
   ]
  },
  {
   "cell_type": "markdown",
   "id": "48f9bf45",
   "metadata": {},
   "source": [
    "Когда выполняется с инвертированным числом операцию AND с 0b1111, то получаем инвертацию каждого бита исходного значения двоичного числа.\n",
    "\n",
    "Кроме того, например, для получения битовой строки, которая является 4-значной битовой строкой, инвертированной как есть (знаковый бит опущен), можно использовать функцию format() для заполнения нулей следующим образом'04b'."
   ]
  },
  {
   "cell_type": "code",
   "execution_count": 30,
   "id": "fec67b06",
   "metadata": {},
   "outputs": [
    {
     "name": "stdout",
     "output_type": "stream",
     "text": [
      "1001\n",
      "0110\n",
      "-1010\n"
     ]
    }
   ],
   "source": [
    "x = 9  # 0b1001\n",
    "print(format(x, '04b'))\n",
    "print(format(~x & 0xf, '04b')) # print(format(~x & 0b1111, '04b'))\n",
    "print(format(~x, '04b'))"
   ]
  },
  {
   "cell_type": "code",
   "execution_count": 31,
   "id": "1eee8030",
   "metadata": {},
   "outputs": [
    {
     "name": "stdout",
     "output_type": "stream",
     "text": [
      "00001001\n",
      "11110110\n",
      "-0001010\n"
     ]
    }
   ],
   "source": [
    "x = 9  # 0b1001\n",
    "print(format(x, '08b'))\n",
    "print(format(~x & 0xff, '08b')) # print(format(~x & 0b1111, '04b'))\n",
    "print(format(~x, '08b'))"
   ]
  },
  {
   "cell_type": "markdown",
   "id": "1173cb6b",
   "metadata": {},
   "source": [
    " #### 4. Встроенные функции конвертации  числовых типов"
   ]
  },
  {
   "cell_type": "markdown",
   "id": "3387013f",
   "metadata": {},
   "source": [
    "Конвертация типа — это метод конвертации числа из одного типа в другой. Для этого можно использовать функции float(), int() и complex()."
   ]
  },
  {
   "cell_type": "code",
   "execution_count": 32,
   "id": "bec4d741",
   "metadata": {},
   "outputs": [
    {
     "name": "stdout",
     "output_type": "stream",
     "text": [
      "Целое: 147 тип: <class 'int'>\n",
      "Вещественное: 147.741 тип: <class 'float'>\n",
      "Комплексное: (147+741j) тип: <class 'complex'>\n",
      "Вещественное: 147.0 тип: <class 'float'>\n",
      "Целое: 147 тип: <class 'int'>\n",
      "Комплексное: (147+0j) тип: <class 'complex'>\n",
      "Комплексное: (147.741+0j) тип: <class 'complex'>\n"
     ]
    }
   ],
   "source": [
    "int_number = 147\n",
    "float_number = 147.741\n",
    "complex_number = 147+741j\n",
    "\n",
    "print('Целое:', int_number, 'тип:', type(int_number))\n",
    "print('Вещественное:', float_number, 'тип:', type(float_number))\n",
    "print('Комплексное:', complex_number, 'тип:', type(complex_number))\n",
    "\n",
    "# преобразование целого числа в число с плавающей точкой\n",
    "a = float(int_number) \n",
    "# преобразование числа с плавающей точкой в целое число\n",
    "b = int(float_number) \n",
    "# преобразование целого числа в комплексное\n",
    "c = complex(int_number) \n",
    "# преобразование числа с плавающей точкой в комплексное\n",
    "d = complex(float_number) \n",
    "\n",
    "print('Вещественное:', a, 'тип:', type(a))\n",
    "print('Целое:', b, 'тип:', type(b))\n",
    "print('Комплексное:', c, 'тип:', type(c))\n",
    "print('Комплексное:', d, 'тип:', type(d))"
   ]
  },
  {
   "cell_type": "markdown",
   "id": "0562b98c",
   "metadata": {},
   "source": [
    "### Числовые и математические модули стандартной библиотеки Python"
   ]
  },
  {
   "cell_type": "markdown",
   "id": "879f16ba",
   "metadata": {},
   "source": [
    "Cтандартная библиотека Python содержит раздел \"Числовые и математические модули\"(Numeric and Mathematical Modules) который включает в себя следующие модули:\n",
    "- numbers — Numeric abstract base classes (Числовые абстрактные базовые классы)\n",
    "- math — Mathematical functions (Математические функции)\n",
    "- cmath — Mathematical functions for complex numbers (Математические функции для комплексных чисел)\n",
    "- decimal — Decimal fixed point and floating point arithmetic (Десятичная арифметика с фиксированной и плавающей запятой)\n",
    "- fractions — Rational numbers (Рациональные числа)\n",
    "- random — Generate pseudo-random numbers (Генерировать псевдослучайные числа)\n",
    "- statistics — Mathematical statistics functions (Функции математической статистики)"
   ]
  },
  {
   "cell_type": "markdown",
   "id": "b315f73f",
   "metadata": {},
   "source": [
    "<div class=\"alert alert-block alert-info\">\n",
    "<b>\n",
    "Описание модулей раздела Numeric and Mathematical Modules входящих в стандартную библиотеку Python можно найти по адресу:\n",
    "https://docs.python.org/3/library/numeric.html\n",
    "</b>\n",
    "</div>"
   ]
  },
  {
   "cell_type": "markdown",
   "id": "4c38f4d0",
   "metadata": {},
   "source": [
    "#### Случайные числа - модуль random\n"
   ]
  },
  {
   "cell_type": "markdown",
   "id": "9c7ad1c4",
   "metadata": {},
   "source": [
    "Случайные числа используются в играх, криптографии и так далее. В Python нативной поддержки случайных чисел нет, но есть встроенный модуль random, который используется для работы с целыми числами. Рассмотрим пример генерации случайных чисел с помощью такого модуля."
   ]
  },
  {
   "cell_type": "code",
   "execution_count": 33,
   "id": "c28883e5",
   "metadata": {},
   "outputs": [
    {
     "name": "stdout",
     "output_type": "stream",
     "text": [
      "2\n"
     ]
    }
   ],
   "source": [
    "# Подключаем модуль random стандартной библиотеки Python\n",
    "import random\n",
    "# Генерируем число в диапазоне от 1 до 10\n",
    "print(random.randrange(1, 11))"
   ]
  },
  {
   "cell_type": "markdown",
   "id": "5e71aef7",
   "metadata": {},
   "source": [
    "### Математические функции (модуль math — Mathematical functions) стандартной библиотеки Python"
   ]
  },
  {
   "cell_type": "markdown",
   "id": "1d41bd36",
   "metadata": {},
   "source": [
    "В стандартной библиотеке Python есть  модуль math, с помощью которого можно выполнить практически любую математическую функцию. Эти функции нельзя использовать с комплексными числами. Если требуется поддержка комплексных чисел, то для работы с ними используется модуль cmath из раздела Mathematical functions стандартной библиотеки Python. \n",
    "\n",
    "Если явно не указано иное, все возвращаемые значения функций модуля math являются числами с плавающей запятой."
   ]
  },
  {
   "cell_type": "markdown",
   "id": "81d46c36",
   "metadata": {},
   "source": [
    "Модуль math содержит следующие разделы:"
   ]
  },
  {
   "cell_type": "markdown",
   "id": "4ebfe66f",
   "metadata": {},
   "source": [
    "- Функции теории чисел и функции представления (Number-theoretic and representation functions)\n",
    "- Степенные и логарифмические функции (Power and logarithmic functions)\n",
    "- Тригонометрические функции (Trigonometric functions)\n",
    "- Функции преобразования угла (Angular conversion)\n",
    "- Гиперболические функции (Hyperbolic functions)\n",
    "- Специальные функции (Special functions)\n",
    "- Константы  (Constants)"
   ]
  },
  {
   "cell_type": "markdown",
   "id": "0dcfdafc",
   "metadata": {},
   "source": [
    "Рассмотрим базовые функции разделов модуля math."
   ]
  },
  {
   "cell_type": "code",
   "execution_count": 34,
   "id": "55e4a298",
   "metadata": {},
   "outputs": [],
   "source": [
    "# Подключение модуля math\n",
    "import math"
   ]
  },
  {
   "cell_type": "markdown",
   "id": "fd09b4f4",
   "metadata": {},
   "source": [
    "#### 1. Функции теории чисел и функции представления"
   ]
  },
  {
   "cell_type": "markdown",
   "id": "dd5d239f",
   "metadata": {},
   "source": [
    "Функция `ceil()` округляет число до ближайшего целого в большую сторону. Функция floor убирает цифры десятичных знаков. Принимает десятичное число в качестве аргумента и возвращают целое число."
   ]
  },
  {
   "cell_type": "code",
   "execution_count": 35,
   "id": "fbdc397e",
   "metadata": {},
   "outputs": [
    {
     "data": {
      "text/plain": [
       "3"
      ]
     },
     "execution_count": 35,
     "metadata": {},
     "output_type": "execute_result"
    }
   ],
   "source": [
    "math.ceil(2.3)"
   ]
  },
  {
   "cell_type": "markdown",
   "id": "d97eb280",
   "metadata": {},
   "source": [
    "Функция `floor()` округляет число до ближайшего целого в меньшую сторону(убирает цифры десятичных знаков). Принимает десятичное число в качестве аргумента и возвращают целое число."
   ]
  },
  {
   "cell_type": "code",
   "execution_count": 36,
   "id": "60bb8673",
   "metadata": {},
   "outputs": [
    {
     "data": {
      "text/plain": [
       "2"
      ]
     },
     "execution_count": 36,
     "metadata": {},
     "output_type": "execute_result"
    }
   ],
   "source": [
    "math.floor(2.7)"
   ]
  },
  {
   "cell_type": "markdown",
   "id": "7da95607",
   "metadata": {},
   "source": [
    "Функция `math.modf()` возвращает дробную и целую части числа. В результате получается кортеж, из целой и дробной части числа:"
   ]
  },
  {
   "cell_type": "code",
   "execution_count": 37,
   "id": "2a89167f",
   "metadata": {},
   "outputs": [
    {
     "name": "stdout",
     "output_type": "stream",
     "text": [
      "(0.14000000000000057, 10.0)\n"
     ]
    }
   ],
   "source": [
    "print(math.modf(10.14))"
   ]
  },
  {
   "cell_type": "markdown",
   "id": "ea09a07c",
   "metadata": {},
   "source": [
    "Функция `math.trunc()` берет целую часть числа: "
   ]
  },
  {
   "cell_type": "code",
   "execution_count": 38,
   "id": "ad9ead23",
   "metadata": {},
   "outputs": [
    {
     "name": "stdout",
     "output_type": "stream",
     "text": [
      "12\n"
     ]
    }
   ],
   "source": [
    "print(math.trunc(12.1417))"
   ]
  },
  {
   "cell_type": "markdown",
   "id": "66546306",
   "metadata": {},
   "source": [
    "`math.comb(n, k)` — возвращает количество сочетаний из n элементов по k элементам без повторений и без учёта порядка. Определим, сколькими способами можно выбрать 3 объекта из множества в 5 объектов (порядок не важен):"
   ]
  },
  {
   "cell_type": "code",
   "execution_count": 39,
   "id": "3366b7f5",
   "metadata": {},
   "outputs": [
    {
     "name": "stdout",
     "output_type": "stream",
     "text": [
      "10\n"
     ]
    }
   ],
   "source": [
    "print(math.comb(5, 3))"
   ]
  },
  {
   "cell_type": "markdown",
   "id": "67c05cca",
   "metadata": {},
   "source": [
    "`math.perm(n, k=None)` — возвращает количество размещений из n элементов по k элементам без повторений и с учётом порядка. Если значение аргумента k не задано, то возвращается количество перестановок множества из n элементов:"
   ]
  },
  {
   "cell_type": "code",
   "execution_count": 40,
   "id": "98a6badf",
   "metadata": {},
   "outputs": [
    {
     "name": "stdout",
     "output_type": "stream",
     "text": [
      "12\n",
      "24\n"
     ]
    }
   ],
   "source": [
    "print(math.perm(4, 2))  # 12\n",
    "print(math.perm(4))  # 24"
   ]
  },
  {
   "cell_type": "markdown",
   "id": "3d414656",
   "metadata": {},
   "source": [
    "`math.factorial(x)` — возвращает факториал целого неотрицательного числа x. Определим значение 5!."
   ]
  },
  {
   "cell_type": "code",
   "execution_count": 41,
   "id": "b847726e",
   "metadata": {},
   "outputs": [
    {
     "name": "stdout",
     "output_type": "stream",
     "text": [
      "120\n"
     ]
    }
   ],
   "source": [
    "print(math.factorial(5))"
   ]
  },
  {
   "cell_type": "markdown",
   "id": "d4317029",
   "metadata": {},
   "source": [
    "`math.gcd(*integers)` — возвращает наибольший общий делитель (НОД) для чисел-аргументов функции. "
   ]
  },
  {
   "cell_type": "code",
   "execution_count": 42,
   "id": "d114836e",
   "metadata": {},
   "outputs": [
    {
     "name": "stdout",
     "output_type": "stream",
     "text": [
      "20\n"
     ]
    }
   ],
   "source": [
    "print(math.gcd(60, 180, 220)) "
   ]
  },
  {
   "cell_type": "markdown",
   "id": "27e0dd8f",
   "metadata": {},
   "source": [
    "`math.lcm(*integers)` — возвращает наименьшее общее кратное (НОК) для чисел-аргументов функции."
   ]
  },
  {
   "cell_type": "code",
   "execution_count": 43,
   "id": "894014b9",
   "metadata": {},
   "outputs": [
    {
     "name": "stdout",
     "output_type": "stream",
     "text": [
      "120\n"
     ]
    }
   ],
   "source": [
    "print(math.lcm(10, 20, 30, 40))"
   ]
  },
  {
   "cell_type": "markdown",
   "id": "33f9f2bb",
   "metadata": {},
   "source": [
    "math.prod(iterable, start=1) — возвращает произведение элементов итерируемого объекта iterable. Если iterable пустой, то возвращается значение именованного аргумента start:"
   ]
  },
  {
   "cell_type": "code",
   "execution_count": 44,
   "id": "7b280a5f",
   "metadata": {},
   "outputs": [
    {
     "name": "stdout",
     "output_type": "stream",
     "text": [
      "105\n"
     ]
    }
   ],
   "source": [
    "print(math.prod((1, 3, 5, 7)))"
   ]
  },
  {
   "cell_type": "markdown",
   "id": "dc9b4d11",
   "metadata": {},
   "source": [
    "#### 2. Степенные и логарифмические функции"
   ]
  },
  {
   "cell_type": "markdown",
   "id": "10232c95",
   "metadata": {},
   "source": [
    "`math.exp(x)` — возвращает значение экспоненциальной функции e в степени x:"
   ]
  },
  {
   "cell_type": "code",
   "execution_count": 45,
   "id": "13a48534",
   "metadata": {},
   "outputs": [
    {
     "name": "stdout",
     "output_type": "stream",
     "text": [
      "33.11545195869231\n"
     ]
    }
   ],
   "source": [
    "print(math.exp(3.5))"
   ]
  },
  {
   "cell_type": "markdown",
   "id": "7f31c327",
   "metadata": {},
   "source": [
    "`math.log(x, base)` — возвращает значение логарифма от x по основанию base. Если значение аргумента base не задано, то вычисляется натуральный логарифм. Вычисление производится по формуле log(x) / log(base):"
   ]
  },
  {
   "cell_type": "code",
   "execution_count": 46,
   "id": "d7621174",
   "metadata": {},
   "outputs": [
    {
     "name": "stdout",
     "output_type": "stream",
     "text": [
      "2.302585092994046\n",
      "3.3219280948873626\n"
     ]
    }
   ],
   "source": [
    "print(math.log(10))\n",
    "print(math.log(10, 2))\n"
   ]
  },
  {
   "cell_type": "markdown",
   "id": "4bb5af00",
   "metadata": {},
   "source": [
    "`math.pow(x, y)` — возвращает значение x в степени y. В отличие от операции **, происходит преобразование обоих аргументов в вещественные числа:"
   ]
  },
  {
   "cell_type": "code",
   "execution_count": 47,
   "id": "672d3c29",
   "metadata": {},
   "outputs": [
    {
     "name": "stdout",
     "output_type": "stream",
     "text": [
      "1024.0\n",
      "4.747861205827337\n"
     ]
    }
   ],
   "source": [
    "print(math.pow(2, 10))\n",
    "print(math.pow(2.5, 1.7))"
   ]
  },
  {
   "cell_type": "markdown",
   "id": "314c8f9d",
   "metadata": {},
   "source": [
    "#### 3. Тригонометрические функции"
   ]
  },
  {
   "cell_type": "markdown",
   "id": "26b0f469",
   "metadata": {},
   "source": [
    "`math.sin(x)` возвращает синус угла x значение которого задано в радианах."
   ]
  },
  {
   "cell_type": "code",
   "execution_count": 48,
   "id": "9905a956",
   "metadata": {},
   "outputs": [
    {
     "data": {
      "text/plain": [
       "1.0"
      ]
     },
     "execution_count": 48,
     "metadata": {},
     "output_type": "execute_result"
    }
   ],
   "source": [
    "math.sin(math.pi/2)"
   ]
  },
  {
   "cell_type": "markdown",
   "id": "a2956c0c",
   "metadata": {},
   "source": [
    "`math.cos(x)` возвращает косинус угла x значение которого задано в радианах."
   ]
  },
  {
   "cell_type": "code",
   "execution_count": 49,
   "id": "55ae99dd",
   "metadata": {},
   "outputs": [
    {
     "data": {
      "text/plain": [
       "0.5000000000000001"
      ]
     },
     "execution_count": 49,
     "metadata": {},
     "output_type": "execute_result"
    }
   ],
   "source": [
    "math.cos(math.pi/3)"
   ]
  },
  {
   "cell_type": "markdown",
   "id": "48f41b46",
   "metadata": {},
   "source": [
    "`math.tan(x)` возвращает тангенс угла x значение которого задано в радианах."
   ]
  },
  {
   "cell_type": "code",
   "execution_count": 50,
   "id": "26aed9bf",
   "metadata": {},
   "outputs": [
    {
     "data": {
      "text/plain": [
       "1.7320508075688767"
      ]
     },
     "execution_count": 50,
     "metadata": {},
     "output_type": "execute_result"
    }
   ],
   "source": [
    "math.tan(math.pi/3)"
   ]
  },
  {
   "cell_type": "markdown",
   "id": "fb0eb771",
   "metadata": {},
   "source": [
    "`math.acos(x)` Возвращает косинус дуги x, в радианах. Результат находится между 0 и pi."
   ]
  },
  {
   "cell_type": "code",
   "execution_count": 51,
   "id": "f1c104ed",
   "metadata": {},
   "outputs": [
    {
     "data": {
      "text/plain": [
       "1.0471975511965979"
      ]
     },
     "execution_count": 51,
     "metadata": {},
     "output_type": "execute_result"
    }
   ],
   "source": [
    "math.acos(0.5)"
   ]
  },
  {
   "cell_type": "markdown",
   "id": "679046f6",
   "metadata": {},
   "source": [
    "`math.asin(x)` Возвращает синус дуги x в радианах. Результат находится между -pi/2 и pi/2."
   ]
  },
  {
   "cell_type": "code",
   "execution_count": 52,
   "id": "12b6b9ad",
   "metadata": {},
   "outputs": [
    {
     "data": {
      "text/plain": [
       "0.5235987755982989"
      ]
     },
     "execution_count": 52,
     "metadata": {},
     "output_type": "execute_result"
    }
   ],
   "source": [
    "math.asin(0.5) "
   ]
  },
  {
   "cell_type": "markdown",
   "id": "3c11dfa8",
   "metadata": {},
   "source": [
    "`math.atan(x)` Возвращает тангенс дуги x в радианах. Результат находится между -pi/2 и pi/2."
   ]
  },
  {
   "cell_type": "code",
   "execution_count": 53,
   "id": "6f9679d0",
   "metadata": {},
   "outputs": [
    {
     "data": {
      "text/plain": [
       "0.4636476090008061"
      ]
     },
     "execution_count": 53,
     "metadata": {},
     "output_type": "execute_result"
    }
   ],
   "source": [
    "math.atan(0.5)"
   ]
  },
  {
   "cell_type": "markdown",
   "id": "86e0c506",
   "metadata": {},
   "source": [
    "`math.dist(p, q)` — возвращает Евклидово расстояние между точками p и q, заданными как итерируемые объекты одной длины:"
   ]
  },
  {
   "cell_type": "code",
   "execution_count": 54,
   "id": "88e47e93",
   "metadata": {},
   "outputs": [
    {
     "name": "stdout",
     "output_type": "stream",
     "text": [
      "1.7320508075688772\n"
     ]
    }
   ],
   "source": [
    "print(math.dist((0, 0, 0), (1, 1, 1)))"
   ]
  },
  {
   "cell_type": "markdown",
   "id": "da5a25df",
   "metadata": {},
   "source": [
    "`math.hypot(*coordinates)` — возвращает длину многомерного вектора с координатами, заданными в позиционных аргументах coordinates, и началом в центре системы координат. Для двумерной системы координат функция возвращает длину гипотенузы прямоугольного треугольника по теореме Пифагора:"
   ]
  },
  {
   "cell_type": "code",
   "execution_count": 55,
   "id": "f7a74035",
   "metadata": {},
   "outputs": [
    {
     "name": "stdout",
     "output_type": "stream",
     "text": [
      "1.7320508075688772\n",
      "5.0\n"
     ]
    }
   ],
   "source": [
    "print(math.hypot(1, 1, 1))\n",
    "print(math.hypot(3, 4))"
   ]
  },
  {
   "cell_type": "markdown",
   "id": "d81433e0",
   "metadata": {},
   "source": [
    "#### 4. Функции преобразования угла"
   ]
  },
  {
   "cell_type": "markdown",
   "id": "3f2a5e73",
   "metadata": {},
   "source": [
    "`math.degrees(x)` — преобразует угол из радианов в градусы:"
   ]
  },
  {
   "cell_type": "code",
   "execution_count": 56,
   "id": "8d1545c7",
   "metadata": {},
   "outputs": [
    {
     "name": "stdout",
     "output_type": "stream",
     "text": [
      "0.5\n"
     ]
    }
   ],
   "source": [
    "print(round(math.sin(math.radians(30)), 1))"
   ]
  },
  {
   "cell_type": "markdown",
   "id": "981c437a",
   "metadata": {},
   "source": [
    "`math.radians(x)` — преобразует угол из градусов в радианы."
   ]
  },
  {
   "cell_type": "code",
   "execution_count": 57,
   "id": "5d0a5557",
   "metadata": {},
   "outputs": [
    {
     "name": "stdout",
     "output_type": "stream",
     "text": [
      "30.0\n"
     ]
    }
   ],
   "source": [
    "print(round(math.degrees(math.asin(0.5)), 1))"
   ]
  },
  {
   "cell_type": "markdown",
   "id": "c1a89323",
   "metadata": {},
   "source": [
    "#### 5. Гиперболические функции"
   ]
  },
  {
   "cell_type": "markdown",
   "id": "44757d1b",
   "metadata": {},
   "source": [
    "Hyperbolic functions являются аналогами тригонометрических функций, которые основаны на гиперболах вместо окружностей:\n",
    "\n",
    "math.sinh(x)  Возвращает гиперболический синус x.\n",
    "\n",
    "math.cosh(x)  Возвращает гиперболический косинус x.\n",
    "\n",
    "math.tanh(x)  Возвращает гиперболический тангенс x.\n",
    "\n",
    "math.asinh(x) Возвращает обратный гиперболический синус x.\n",
    "\n",
    "math.acosh(x) Возвращает обратный гиперболический косинус x.\n",
    "\n",
    "math.atanh(x) Возвращает обратный гиперболический тангенс x."
   ]
  },
  {
   "cell_type": "code",
   "execution_count": 58,
   "id": "52250b5e",
   "metadata": {},
   "outputs": [
    {
     "data": {
      "text/plain": [
       "(1.762747174039086,\n",
       " 10.067661995777765,\n",
       " 0.9950547536867305,\n",
       " 1.8184464592320668,\n",
       " 1.762747174039086,\n",
       " 0.5493061443340549)"
      ]
     },
     "execution_count": 58,
     "metadata": {},
     "output_type": "execute_result"
    }
   ],
   "source": [
    "math.acosh(3), math.cosh(3), math.tanh(3), math.asinh(3), math.acosh(3), math.atanh(0.5)"
   ]
  },
  {
   "cell_type": "markdown",
   "id": "86b2db38",
   "metadata": {},
   "source": [
    "#### 6. Специальные функции"
   ]
  },
  {
   "cell_type": "markdown",
   "id": "a76e7533",
   "metadata": {},
   "source": [
    "`math.erf(x)` возвращает значение функции ошибок от указанного значения аргумента x."
   ]
  },
  {
   "cell_type": "code",
   "execution_count": 59,
   "id": "1b280af2",
   "metadata": {},
   "outputs": [
    {
     "name": "stdout",
     "output_type": "stream",
     "text": [
      "0.0\n",
      "0.49999999981622084\n"
     ]
    }
   ],
   "source": [
    "print(math.erf(0))\n",
    "print(math.erf(0.476936276))"
   ]
  },
  {
   "cell_type": "markdown",
   "id": "34fb9335",
   "metadata": {},
   "source": [
    "`math.erfc(x)` возвращает значение дополнительной функции ошибок от указанного значения аргумента x. Эквивалентна команде 1 - erf(x)."
   ]
  },
  {
   "cell_type": "code",
   "execution_count": 60,
   "id": "91d263d8",
   "metadata": {},
   "outputs": [
    {
     "name": "stdout",
     "output_type": "stream",
     "text": [
      "0.004677734981047266\n",
      "0.9953222650189527\n"
     ]
    }
   ],
   "source": [
    "print(math.erfc(2))\n",
    "print(math.erf(2))"
   ]
  },
  {
   "cell_type": "markdown",
   "id": "46847e6f",
   "metadata": {},
   "source": [
    "`math.gamma(x)` возвращает значение гамма функции от указанного аргумента x.\n",
    "Данная функция обобщает понятие факториала на действительные числа. Если x=0 то это вызовет исключение ValueError."
   ]
  },
  {
   "cell_type": "code",
   "execution_count": 61,
   "id": "d308ce70",
   "metadata": {},
   "outputs": [
    {
     "data": {
      "text/plain": [
       "(1.0, 1.0, 2.0, 6.0, 24.0)"
      ]
     },
     "execution_count": 61,
     "metadata": {},
     "output_type": "execute_result"
    }
   ],
   "source": [
    "math.gamma(1), math.gamma(2), math.gamma(3), math.gamma(4), math.gamma(5)"
   ]
  },
  {
   "cell_type": "markdown",
   "id": "bacccf13",
   "metadata": {},
   "source": [
    "`math.lgamma(x)` возвращает значение натурального логарифма от модуля гамма функции при заданном значении аргумента x. Данная функция эквивалентна выражению math.log(abs(math.gamma(x)))."
   ]
  },
  {
   "cell_type": "code",
   "execution_count": 62,
   "id": "425c7f2d",
   "metadata": {},
   "outputs": [
    {
     "name": "stdout",
     "output_type": "stream",
     "text": [
      "1.7917594692280554\n",
      "1.791759469228055\n"
     ]
    }
   ],
   "source": [
    "print(math.lgamma(4))\n",
    "print(math.log(abs(math.gamma(4))))"
   ]
  },
  {
   "cell_type": "markdown",
   "id": "6dda71a8",
   "metadata": {},
   "source": [
    "#### 7. Константы "
   ]
  },
  {
   "cell_type": "markdown",
   "id": "ea2d1e29",
   "metadata": {},
   "source": [
    "1) `math.pi` \n",
    "\n",
    "Представление математической константы `π = 3.141592…`. \"Пи\" — это отношение длины окружности к её диаметру."
   ]
  },
  {
   "cell_type": "code",
   "execution_count": 63,
   "id": "1a6297e1",
   "metadata": {},
   "outputs": [
    {
     "name": "stdout",
     "output_type": "stream",
     "text": [
      "3.141592653589793\n"
     ]
    }
   ],
   "source": [
    "print(math.pi)"
   ]
  },
  {
   "cell_type": "markdown",
   "id": "270417ae",
   "metadata": {},
   "source": [
    "2) `math.e` \n",
    "\n",
    "Число Эйлера или просто `e`."
   ]
  },
  {
   "cell_type": "code",
   "execution_count": 64,
   "id": "cb075dd6",
   "metadata": {},
   "outputs": [
    {
     "name": "stdout",
     "output_type": "stream",
     "text": [
      "2.718281828459045\n"
     ]
    }
   ],
   "source": [
    "print(math.e)"
   ]
  },
  {
   "cell_type": "markdown",
   "id": "c98c3739",
   "metadata": {},
   "source": [
    "3) `math.tau`\n",
    "\n",
    "Число `τ` — это отношение длины окружности к её радиусу. `τ = 2π` "
   ]
  },
  {
   "cell_type": "code",
   "execution_count": 65,
   "id": "2d90b143",
   "metadata": {},
   "outputs": [
    {
     "name": "stdout",
     "output_type": "stream",
     "text": [
      "6.283185307179586\n",
      "True\n"
     ]
    }
   ],
   "source": [
    "print(math.tau)\n",
    "print(math.tau == 2 * math.pi)"
   ]
  },
  {
   "cell_type": "markdown",
   "id": "09eaa6bd",
   "metadata": {},
   "source": [
    "4) `math.inf` \n",
    "\n",
    "Положительная бесконечность.\n",
    "Константа math.inf эквивалента выражению float(\"inf\")"
   ]
  },
  {
   "cell_type": "code",
   "execution_count": 66,
   "id": "17eefe47",
   "metadata": {},
   "outputs": [
    {
     "name": "stdout",
     "output_type": "stream",
     "text": [
      "inf\n"
     ]
    }
   ],
   "source": [
    "print(math.inf)"
   ]
  },
  {
   "cell_type": "code",
   "execution_count": 67,
   "id": "3ba43282",
   "metadata": {},
   "outputs": [
    {
     "name": "stdout",
     "output_type": "stream",
     "text": [
      "inf\n"
     ]
    }
   ],
   "source": [
    "print(float(\"inf\"))"
   ]
  },
  {
   "cell_type": "markdown",
   "id": "adc654b8",
   "metadata": {},
   "source": [
    "5) `math.nan`\n",
    "\n",
    "NaN означает — \"не число\" (Not a Number). Аналогичная запись: float(\"nan\")"
   ]
  },
  {
   "cell_type": "code",
   "execution_count": 68,
   "id": "880b8bb2",
   "metadata": {},
   "outputs": [
    {
     "name": "stdout",
     "output_type": "stream",
     "text": [
      "nan\n"
     ]
    }
   ],
   "source": [
    "print(math.nan)"
   ]
  },
  {
   "cell_type": "code",
   "execution_count": 69,
   "id": "0e5fbfc9",
   "metadata": {},
   "outputs": [
    {
     "name": "stdout",
     "output_type": "stream",
     "text": [
      "nan\n"
     ]
    }
   ],
   "source": [
    "print(float(\"nan\"))"
   ]
  },
  {
   "cell_type": "markdown",
   "id": "a434a786",
   "metadata": {},
   "source": [
    "<div class=\"alert alert-block alert-info\">\n",
    "<b>\n",
    "Полная информация о функциях модуля math стандартной библиотеки Python располагается по адресу:\n",
    "https://docs.python.org/3/library/math.html\n",
    "</b>\n",
    "</div>"
   ]
  },
  {
   "cell_type": "markdown",
   "id": "6169c5c2-1b8b-4719-a10b-76aa7998a6fb",
   "metadata": {},
   "source": [
    "### Философия Python"
   ]
  },
  {
   "cell_type": "markdown",
   "id": "8198aea5-40f0-4651-b0f4-404d5caf3e11",
   "metadata": {},
   "source": [
    "Язык программирования Python был задуман в конце 1980-х годов, а его реализация была начата в декабре 1989 года Гвидо ван Россумом (Guido van Rossum). С этого момента накоплен огромный опыт его применения в самых разных задачах. Этот опыт обобщался, и возникали лучшие практики, которые обычно называют «питоническим» кодом.\n",
    "\n",
    "Философия дизайна языка Python раскрывается в «Дзен Пайтона» - \"The Zen of Python\", ее сформулировал Тим Питерс (Tim Peters), разработчик программного обеспечения внесший большой вклад в развитие языка программирования Python. Эта формулировка философии дизайна Python, была включена в официальную литературу по Python как Python Enhancement Proposal 20 (PEP20).\n",
    "\n",
    "Философии программирования от Тима Петерса , состоит из 19 «руководящих принципов» написания компьютерных программ, влияющих на структуру языка программирования Python.\n",
    "\n",
    "Философия «Дзен Пайтона»  включена в официальную литературу по Python и присутствует в интерпретаторе Python.  Если ввести в команду — `import this`, то в окне отобразится документ  - \"The Zen of Python, by Tim Peters\"."
   ]
  },
  {
   "cell_type": "code",
   "execution_count": 70,
   "id": "18f8b837-5e4d-4ee8-a9b3-cfbd15197454",
   "metadata": {},
   "outputs": [
    {
     "name": "stdout",
     "output_type": "stream",
     "text": [
      "The Zen of Python, by Tim Peters\n",
      "\n",
      "Beautiful is better than ugly.\n",
      "Explicit is better than implicit.\n",
      "Simple is better than complex.\n",
      "Complex is better than complicated.\n",
      "Flat is better than nested.\n",
      "Sparse is better than dense.\n",
      "Readability counts.\n",
      "Special cases aren't special enough to break the rules.\n",
      "Although practicality beats purity.\n",
      "Errors should never pass silently.\n",
      "Unless explicitly silenced.\n",
      "In the face of ambiguity, refuse the temptation to guess.\n",
      "There should be one-- and preferably only one --obvious way to do it.\n",
      "Although that way may not be obvious at first unless you're Dutch.\n",
      "Now is better than never.\n",
      "Although never is often better than *right* now.\n",
      "If the implementation is hard to explain, it's a bad idea.\n",
      "If the implementation is easy to explain, it may be a good idea.\n",
      "Namespaces are one honking great idea -- let's do more of those!\n"
     ]
    }
   ],
   "source": [
    "import this"
   ]
  },
  {
   "cell_type": "markdown",
   "id": "bbf12134-3a1b-48b8-a0d1-8952fd13aa7e",
   "metadata": {},
   "source": [
    "<div class=\"alert alert-block alert-info\">\n",
    "<b>\n",
    "\n",
    "### Перевод \"The Zen of Python, by Tim Peters:\"\n",
    "Красивое лучше, чем уродливое.\n",
    "\n",
    "Явное лучше, чем неявное.\n",
    "\n",
    "Простое лучше, чем сложное.\n",
    "\n",
    "Сложное лучше, чем запутанное.\n",
    "\n",
    "Плоское лучше, чем вложенное.\n",
    "\n",
    "Разреженное лучше, чем плотное.\n",
    "\n",
    "Читаемость имеет значение.\n",
    "\n",
    "Особые случаи не настолько особые, чтобы нарушать правила.\n",
    "\n",
    "При этом практичность важнее безупречности.\n",
    "\n",
    "Ошибки никогда не должны замалчиваться.\n",
    "\n",
    "Если они не замалчиваются явно.\n",
    "\n",
    "Встретив двусмысленность, отбрось искушение угадать.\n",
    "\n",
    "Должен существовать один и, желательно, только один очевидный способ сделать это.\n",
    "\n",
    "Хотя он поначалу может быть и не очевиден, если вы не голландец.\n",
    "\n",
    "Сейчас лучше, чем никогда.\n",
    "\n",
    "Хотя никогда зачастую лучше, чем прямо сейчас.\n",
    "\n",
    "Если реализацию сложно объяснить — идея плоха.\n",
    "\n",
    "Если реализацию легко объяснить — идея, возможно, хороша.\n",
    "\n",
    "Пространства имён — отличная штука! Будем делать их больше!\n",
    "</b>\n",
    "</div>"
   ]
  },
  {
   "cell_type": "markdown",
   "id": "551ef26b-c7b6-4990-a498-b61f274a9666",
   "metadata": {},
   "source": [
    "### Официальное руководство по стилю кода Python"
   ]
  },
  {
   "cell_type": "markdown",
   "id": "7da446ab-13bd-4df0-9e37-969d49627af8",
   "metadata": {},
   "source": [
    "PEP8 — это официальное руководство по стилю кода Python. PEP расшифровывается как Python Enhancement Proposal («Предложение по улучшению Python»). Это документы, предлагающие новые особенности языка. Они образуют официальную документацию особенности языка. Руководство по стилю для кода на Python \"PEP 8 – Style Guide for Python Code\" располагается на официальном сайте Python по адресу https://peps.python.org/pep-0008/.\n",
    "\n",
    "Первое, что стоит усвоить из PEP8 — это рекомендации и соглашения по именованию. \n",
    "\n",
    "Например, следует писать имена функций и переменных в нижнем регистре и с подчёркиваниями между словами (lowercase_with_underscores):"
   ]
  },
  {
   "cell_type": "code",
   "execution_count": 71,
   "id": "d20bc464-9e77-45d1-82ab-fd821ac3c334",
   "metadata": {},
   "outputs": [],
   "source": [
    "# Пример именования переменной\n",
    "seconds_per_hour = 3600"
   ]
  },
  {
   "cell_type": "markdown",
   "id": "9664c3c1-fc20-4d1b-8f8e-7333e89cbe20",
   "metadata": {},
   "source": [
    "Имена классов следует писать с прописными первыми буквами слов и без пробелов (CapitalizedWords):"
   ]
  },
  {
   "cell_type": "code",
   "execution_count": 72,
   "id": "8c460628-1617-477b-8074-bbb2a97f8f2b",
   "metadata": {},
   "outputs": [],
   "source": [
    "# Пример именования классов\n",
    "class SomeThing:\n",
    "    pass"
   ]
  },
  {
   "cell_type": "markdown",
   "id": "37ebc2ac-d783-44e2-a0b1-58faf88b2a5e",
   "metadata": {},
   "source": [
    "Константы записываются в верхнем регистре и с подчёркиваниями между словами (UPPER_CASE_WITH_UNDERSCORES):"
   ]
  },
  {
   "cell_type": "code",
   "execution_count": 73,
   "id": "2b162be6-53b4-4293-9e9d-f3ede359baed",
   "metadata": {},
   "outputs": [],
   "source": [
    "# Пример именования констант\n",
    "PLANCK_CONSTANT = 6.62607015e-34"
   ]
  },
  {
   "cell_type": "markdown",
   "id": "c6148f8c-fb5e-4493-a208-44c971b3bff9",
   "metadata": {},
   "source": [
    "### Строка в Python представляет собой объект содержащий упорядоченную неизменяемую последовательность символов."
   ]
  },
  {
   "cell_type": "markdown",
   "id": "27af49c9-75b2-453c-9550-535c9c33d824",
   "metadata": {},
   "source": [
    "Последовательность в Python (Sequence Type) — это итерируемый объект, к элементам которого есть эффективный доступ с использованием целочисленных индексов.\n",
    "\n",
    "Последовательности могут быть как изменяемыми, так и неизменяемыми. В процессе работы размерность и состав неизменяемых последовательностей не могут изменяться, для представления результатов обработки строки, как правило, создаётся новая последовательность.\n",
    "\n",
    "Примеры последовательностей в Python:\n",
    "\n",
    "#### 1) Неизменяемые\n",
    "\n",
    "Строка (str)\n",
    "\n",
    "Кортеж (tuple)\n",
    "\n",
    "Диапазон (range)\n",
    "\n",
    "#### 2) Изменяемые\n",
    "\n",
    "Список (list)\n",
    "\n",
    "Словарь (dict), по умолчанию словари итерируются по ключам.\n",
    "\n",
    "Итак, строки являются итерируемыми объектами, а отдельные символы считаются элементами строковых объектов."
   ]
  },
  {
   "cell_type": "markdown",
   "id": "e8e13e80-2e5d-4bfc-b241-9628df672ecf",
   "metadata": {},
   "source": [
    "### Строки можно создать несколькими способами:\n",
    "#### 1. С помощью литералов записываемых в одинарных, двойных или тройных кавычках"
   ]
  },
  {
   "cell_type": "code",
   "execution_count": 74,
   "id": "8ab9ca9d-a53f-4ada-94c8-2c329d7fe11e",
   "metadata": {},
   "outputs": [],
   "source": [
    "str_1 = \"Python\"\n",
    "str_2 = 'Python'"
   ]
  },
  {
   "cell_type": "markdown",
   "id": "e2902700-4b96-4b88-9cf9-a67d235453b1",
   "metadata": {},
   "source": [
    "Строки в Python могут записываться как в одинарных так и в двойных кавычках. Для размещения ковычек внутри строки нужно использовать разные типы кавычек, если хотим вывести одинарные кавычки, то тогда вся строка должна записываться в двойных и наоборот, если хотим вывести двойные кавычки, то тогда вся строка должна записываться в одинарных."
   ]
  },
  {
   "cell_type": "code",
   "execution_count": 75,
   "id": "ee3a07ba-74af-4c90-ae9e-81e0145058ba",
   "metadata": {},
   "outputs": [],
   "source": [
    "str_3 = \"Python'Python'\"\n",
    "str_4 = 'Python\"Python\"'"
   ]
  },
  {
   "cell_type": "markdown",
   "id": "dbf1e06b-e496-4ccb-beca-fb844648e731",
   "metadata": {},
   "source": [
    "Тройные кавычки, как правило используются для записи многострочных фрагментов текста. Такая строка может содержать одинарные и двойные кавычки."
   ]
  },
  {
   "cell_type": "code",
   "execution_count": 76,
   "id": "9c9d3c2d-da0e-4f49-a962-f3ca4c5484cc",
   "metadata": {},
   "outputs": [],
   "source": [
    "str_4 = '''Первая строка текста\n",
    "Вторая 'строка' текста\" \n",
    "Третья \"строка\" текста'''"
   ]
  },
  {
   "cell_type": "markdown",
   "id": "c25a7eaa-ab29-42e2-931d-3db1bb4393a1",
   "metadata": {},
   "source": [
    "#### 2. С помощью функции str()"
   ]
  },
  {
   "cell_type": "markdown",
   "id": "0a404372-e199-4a28-af7f-901fa0325a6c",
   "metadata": {},
   "source": [
    "Преобразуем значение переменной целого типа к тиу строка с помощью функции str()"
   ]
  },
  {
   "cell_type": "code",
   "execution_count": 77,
   "id": "30694aa1-ff8c-469a-8070-86d4ccd526d6",
   "metadata": {},
   "outputs": [
    {
     "data": {
      "text/plain": [
       "'2023'"
      ]
     },
     "execution_count": 77,
     "metadata": {},
     "output_type": "execute_result"
    }
   ],
   "source": [
    "k = 2023\n",
    "str_5 = str(k)\n",
    "str_5"
   ]
  },
  {
   "cell_type": "markdown",
   "id": "d1f83a1e-162e-45ca-8976-831fbdb19104",
   "metadata": {},
   "source": [
    "### Для вывода строк на экран обычно используется функция print()\n"
   ]
  },
  {
   "cell_type": "code",
   "execution_count": 78,
   "id": "bc8c0396-73e4-46ce-be8f-109444273556",
   "metadata": {},
   "outputs": [
    {
     "name": "stdout",
     "output_type": "stream",
     "text": [
      "Python\n",
      "Python\n"
     ]
    }
   ],
   "source": [
    "print(str_1)\n",
    "print(str_2)"
   ]
  },
  {
   "cell_type": "markdown",
   "id": "45bf9bfe-b2e6-4858-813a-ce634c056dc6",
   "metadata": {},
   "source": [
    "### Можно получить символ строки по его индексу в ней"
   ]
  },
  {
   "cell_type": "code",
   "execution_count": 79,
   "id": "95efc792-21d5-4e17-9085-8b7966f7e028",
   "metadata": {},
   "outputs": [],
   "source": [
    "s = \"Python\""
   ]
  },
  {
   "cell_type": "code",
   "execution_count": 80,
   "id": "a7adc716-007d-405b-83ec-ca76ecabce76",
   "metadata": {},
   "outputs": [
    {
     "name": "stdout",
     "output_type": "stream",
     "text": [
      "P y t h o n\n"
     ]
    }
   ],
   "source": [
    "print(s[0], s[1], s[2], s[3], s[4], s[5]) "
   ]
  },
  {
   "cell_type": "code",
   "execution_count": 81,
   "id": "2177bbf1-500b-4d36-bf7e-e5e83d3d3f68",
   "metadata": {},
   "outputs": [
    {
     "name": "stdout",
     "output_type": "stream",
     "text": [
      "P y t h o n\n"
     ]
    }
   ],
   "source": [
    "print(s[-6], s[-5], s[-4], s[-3], s[-2], s[-1]) "
   ]
  },
  {
   "cell_type": "markdown",
   "id": "6528125f-698a-41e0-9f08-82d18d5e306c",
   "metadata": {},
   "source": [
    "### Функции преобразования символа в код  и кода в символ в Python"
   ]
  },
  {
   "cell_type": "markdown",
   "id": "6ba2e252-7560-420c-abff-22c07e44634c",
   "metadata": {},
   "source": [
    "Функция **ord()** – выполняет преобразование символа в код ASCII"
   ]
  },
  {
   "cell_type": "code",
   "execution_count": 82,
   "id": "9dd1b017-9693-4e07-8039-2e9725ea88ed",
   "metadata": {},
   "outputs": [
    {
     "name": "stdout",
     "output_type": "stream",
     "text": [
      "80 121 116 104 111 110\n"
     ]
    }
   ],
   "source": [
    "a = 'Python'\n",
    "print(ord('P'), ord('y'), ord('t'), ord('h'), ord('o'), ord('n'))"
   ]
  },
  {
   "cell_type": "markdown",
   "id": "fc3f5b5b-f5fb-44b4-80b3-85f5a81a221d",
   "metadata": {},
   "source": [
    "Функция **chr()** – выполняет преобразование кода ASCII в символ"
   ]
  },
  {
   "cell_type": "code",
   "execution_count": 83,
   "id": "66f065f4-f374-40d3-91d0-1d158190c642",
   "metadata": {},
   "outputs": [
    {
     "name": "stdout",
     "output_type": "stream",
     "text": [
      "P y t h o n\n"
     ]
    }
   ],
   "source": [
    "print(chr(80), chr(121), chr(116), chr(104), chr(111), chr(110))"
   ]
  },
  {
   "cell_type": "markdown",
   "id": "47e99822-8d6b-4b6d-ac82-49412b7b35b1",
   "metadata": {},
   "source": [
    "### Экранированные последовательности"
   ]
  },
  {
   "cell_type": "markdown",
   "id": "e7d7147f-c3f6-43c6-82d0-76e26c015035",
   "metadata": {},
   "source": [
    "Экранированные последовательности - это служебные наборы символов, которые позволяют вставить нестандартные символы, которые сложно ввести с клавиатуры. Если нет префикса 'r' или 'R', escape-последовательности в строковых и байтовых литералах интерпретируются в соответствии с правилами, аналогичными тем, которые используются в стандарте языка C."
   ]
  },
  {
   "cell_type": "markdown",
   "id": "0003c8f0-6be0-4a46-8d4f-be05250bf1d5",
   "metadata": {},
   "source": [
    "Специальные символы"
   ]
  },
  {
   "cell_type": "markdown",
   "id": "42f9f7cc-d4c8-4b08-95cd-36aa857518b0",
   "metadata": {},
   "source": [
    "|Escape Sequence|Meaning|Значение| \n",
    "|:------|:------|:------| \n",
    "|\\\\`<newline>` |Backslash and newline ignored|Обратная косая черта и новая строка игнорируются | \n",
    "|\\\\\\\\ |Backslash (\\) |Обратная косая черта ( \\) |\n",
    "|\\' |Single quote (')|Одинарная кавычка ( ') |\n",
    "|\\\" |Double quote (\")|Двойная кавычка ( \") |\n",
    "|\\a |ASCII Bell (BEL)|Звонок ASCII (BEL) |\n",
    "|\\b |ASCII Backspace (BS)|ASCII Backspace (БС) |\n",
    "|\\f |ASCII Formfeed (FF)|Подача страницы ASCII (FF) |\n",
    "|\\n |ASCII Linefeed (LF)|Перевод строки ASCII (LF) |\n",
    "|\\r |ASCII Carriage Return (CR)|Возврат каретки ASCII (CR) |\n",
    "|\\t |ASCII Horizontal Tab (TAB)|Горизонтальная табуляция ASCII (TAB) |\n",
    "|\\v |ASCII Vertical Tab (VT)|Вертикальная табуляция ASCII (VT) |\n",
    "|\\ooo |Character with octal value ooo|Символ с восьмеричным значением ooo |\n",
    "|\\xhh |Character with hex value hh|Символ с шестнадцатеричным значением hh |"
   ]
  },
  {
   "cell_type": "markdown",
   "id": "365e1f86-a0b2-4940-af44-b5aa12e66ddc",
   "metadata": {},
   "source": [
    "|Escape Sequence|Meaning|Значение| \n",
    "|:------|:------|:------| \n",
    "|\\N{name} |Character named name in the Unicode database|Название символа в таблице символов Unicode | \n",
    "|\\uxxxx|Character with 16-bit hex value xxxx|код символа записанный 16-битным шестнадцатеричным значением xxxx |\n",
    "|\\Uxxxxxxxx|Character with 32-bit hex value xxxxxxxx|код символа записанный 16-битным шестнадцатеричным значением xxxx  |"
   ]
  },
  {
   "cell_type": "markdown",
   "id": "6097ef1a-8672-406c-b5f5-88051793e6ef",
   "metadata": {},
   "source": [
    "#### Примеры использования Escape последовательностей:    "
   ]
  },
  {
   "cell_type": "code",
   "execution_count": 84,
   "id": "5f5013d1-ade9-4462-a0b5-269de5f9eae6",
   "metadata": {},
   "outputs": [
    {
     "name": "stdout",
     "output_type": "stream",
     "text": [
      "Hello\n",
      " World!\n"
     ]
    }
   ],
   "source": [
    "# Переход на новую строку\n",
    "print('Hello\\n World!')"
   ]
  },
  {
   "cell_type": "code",
   "execution_count": 85,
   "id": "3cec9cdc-5c6b-4060-97f8-b899482694b2",
   "metadata": {},
   "outputs": [
    {
     "name": "stdout",
     "output_type": "stream",
     "text": [
      "10\t112\t167\n",
      "20\t12\t57\n",
      "306\t1672\t197\n"
     ]
    }
   ],
   "source": [
    "# Табуляция и переход на новую строку, вывод в виде таблицы\n",
    "print('10\\t112\\t167\\n20\\t12\\t57\\n306\\t1672\\t197')"
   ]
  },
  {
   "cell_type": "code",
   "execution_count": 86,
   "id": "0337c72a-3f2e-4219-8c5e-3875466de34a",
   "metadata": {},
   "outputs": [
    {
     "name": "stdout",
     "output_type": "stream",
     "text": [
      "=\n",
      "Hello World!\n"
     ]
    }
   ],
   "source": [
    "# Восьмеричное значение N, например, \\075 соответствует символу '='\n",
    "print('\\075')\n",
    "# Вывод приветствия \"Hello World!\" представленного в восьмеричных кодах символов\n",
    "print(\"\\110\\145\\154\\154\\157\\40\\127\\157\\162\\154\\144\\41\")"
   ]
  },
  {
   "cell_type": "code",
   "execution_count": 87,
   "id": "78f3fed1-ba23-41e3-91a9-a8e0ae06a788",
   "metadata": {},
   "outputs": [
    {
     "name": "stdout",
     "output_type": "stream",
     "text": [
      "/\n",
      "\\\n",
      "(   )\n"
     ]
    }
   ],
   "source": [
    "# Вывод символов по названию символов\n",
    "print(\"\\N{SOLIDUS}\")\n",
    "print(\"\\N{REVERSE SOLIDUS}\")\n",
    "print(\"\\N{LEFT PARENTHESIS}\",\"\\N{SPACE}\",\"\\N{RIGHT PARENTHESIS}\")\n"
   ]
  },
  {
   "cell_type": "code",
   "execution_count": 88,
   "id": "07a76291-d314-4dde-aa5a-ed17bb721fa3",
   "metadata": {},
   "outputs": [
    {
     "name": "stdout",
     "output_type": "stream",
     "text": [
      "Привет мир!\n"
     ]
    }
   ],
   "source": [
    "# Вывод символов по названию символов\n",
    "a_string = (\n",
    "    \"\\N{CYRILLIC CAPITAL LETTER PE}\"\n",
    "    \"\\N{CYRILLIC SMALL LETTER ER}\"\n",
    "    \"\\N{CYRILLIC SMALL LETTER I}\"\n",
    "    \"\\N{CYRILLIC SMALL LETTER VE}\"\n",
    "    \"\\N{CYRILLIC SMALL LETTER IE}\"\n",
    "    \"\\N{CYRILLIC SMALL LETTER TE}\"\n",
    "    \"\\N{SPACE}\"\n",
    "    \"\\N{CYRILLIC SMALL LETTER EM}\"\n",
    "    \"\\N{CYRILLIC SMALL LETTER I}\"\n",
    "    \"\\N{CYRILLIC SMALL LETTER ER}\"\n",
    "    \"\\N{EXCLAMATION MARK}\"\n",
    ")\n",
    "print(a_string)"
   ]
  },
  {
   "cell_type": "code",
   "execution_count": 89,
   "id": "e04f48af-b58c-4943-95c9-7de019dfed1f",
   "metadata": {},
   "outputs": [
    {
     "name": "stdout",
     "output_type": "stream",
     "text": [
      "л\n",
      "Hello World!\n"
     ]
    }
   ],
   "source": [
    "# \\u043b 16-битный символ Unicode соответствует русской букве'л'\n",
    "print('\\u043B')\n",
    "# Вывод приветствия \"Hello World!\" представленного в 16-битных шестнадцатеричных кодах\n",
    "print(\"\\u0048\\u0065\\u006C\\u006C\\u006F\\u0020\\u0057\\u006F\\u0072\\u006c\\u0064\\u0021\")"
   ]
  },
  {
   "cell_type": "markdown",
   "id": "db866e31-f61e-44e1-aa89-c3a69d4e6e8f",
   "metadata": {},
   "source": [
    "### Операции и методы для работы со строками"
   ]
  },
  {
   "cell_type": "markdown",
   "id": "dafc6f00-049f-485f-ab9d-71d2bcec7539",
   "metadata": {},
   "source": [
    "Длина строки в Python ограничена лишь объемом оперативной памяти компьютера. Cтроки в Python относятся к неизменяемым типам данных. Функции (методы) для работы со строками в качестве значения, как правило, возвращают новую строку."
   ]
  },
  {
   "cell_type": "markdown",
   "id": "5ed15c9a-20e7-4d69-a9f9-e9b5e0ee9c09",
   "metadata": {},
   "source": [
    "Операции и методы для работы со строками можно разделить на две группы:"
   ]
  },
  {
   "cell_type": "markdown",
   "id": "dae2cbf2-01f2-4bcf-8718-330438f2773e",
   "metadata": {},
   "source": [
    "#### 1. Общие операции и методы для последовательностей (Sequence Type), которые поддерживают следующии опера"
   ]
  },
  {
   "cell_type": "markdown",
   "id": "bdbf2464-099d-43d4-a4e9-8421f4f5da34",
   "metadata": {},
   "source": [
    "1) __a in b__\tЕсли элемент присутствует в последовательности, то возвращает True, иначе - False"
   ]
  },
  {
   "cell_type": "code",
   "execution_count": 90,
   "id": "8bdfbf4a-c0a4-47c3-9261-5df011982d17",
   "metadata": {},
   "outputs": [
    {
     "name": "stdout",
     "output_type": "stream",
     "text": [
      "True\n",
      "False\n"
     ]
    }
   ],
   "source": [
    "a = 'Python'\n",
    "b = 'Python is a programming language'\n",
    "c = 'SQL is a programming language'\n",
    "d = 'C is a programming language'\n",
    "print(a in b)\n",
    "print(a in c)"
   ]
  },
  {
   "cell_type": "markdown",
   "id": "0698f44a-7e98-4e43-972c-13f479038b68",
   "metadata": {},
   "source": [
    "2) __a not in b__\tВозвращает True, если элемент отсутствует в последовательности."
   ]
  },
  {
   "cell_type": "code",
   "execution_count": 91,
   "id": "5e17377f-bd88-4075-9154-68603fe33978",
   "metadata": {},
   "outputs": [
    {
     "data": {
      "text/plain": [
       "False"
      ]
     },
     "execution_count": 91,
     "metadata": {},
     "output_type": "execute_result"
    }
   ],
   "source": [
    "a not in b"
   ]
  },
  {
   "cell_type": "markdown",
   "id": "aca63c34-36cf-4df8-861f-290d24a9ef7e",
   "metadata": {},
   "source": [
    "3) __a + d__ Конкатенация(сложение) двух последовательностей\n"
   ]
  },
  {
   "cell_type": "code",
   "execution_count": 92,
   "id": "7b86d720-2b51-4799-972a-e0277904eb16",
   "metadata": {},
   "outputs": [
    {
     "data": {
      "text/plain": [
       "'Python and C is a programming language'"
      ]
     },
     "execution_count": 92,
     "metadata": {},
     "output_type": "execute_result"
    }
   ],
   "source": [
    "a + ' and ' + d "
   ]
  },
  {
   "cell_type": "markdown",
   "id": "ff987101-db91-417b-9d4c-83d430af6803",
   "metadata": {},
   "source": [
    "4) __a * 3__\tЭквивалентно сложению последовательности s с собой n раз\n"
   ]
  },
  {
   "cell_type": "code",
   "execution_count": 93,
   "id": "d06853c2-ee34-4b1c-b545-2fc67c774605",
   "metadata": {},
   "outputs": [
    {
     "data": {
      "text/plain": [
       "'PythonPythonPython'"
      ]
     },
     "execution_count": 93,
     "metadata": {},
     "output_type": "execute_result"
    }
   ],
   "source": [
    "a * 3"
   ]
  },
  {
   "cell_type": "markdown",
   "id": "31185039-c1f3-40bd-ae55-2559d59842de",
   "metadata": {},
   "source": [
    "5) __a[i]__\tВозвращает i-й элемент последовательности\n"
   ]
  },
  {
   "cell_type": "code",
   "execution_count": 94,
   "id": "5006cdd0-900b-4787-87b3-76885d9a8461",
   "metadata": {},
   "outputs": [
    {
     "data": {
      "text/plain": [
       "'P'"
      ]
     },
     "execution_count": 94,
     "metadata": {},
     "output_type": "execute_result"
    }
   ],
   "source": [
    "a[0]"
   ]
  },
  {
   "cell_type": "markdown",
   "id": "d7dcf367-607f-4b64-bd62-37b784d22582",
   "metadata": {},
   "source": [
    "6) __a[i: j]__\tВозвращает набор элементов (срез) последовательности с индексами из диапазона i <= k < j\n"
   ]
  },
  {
   "cell_type": "code",
   "execution_count": 95,
   "id": "6d23dceb-d596-4150-b386-310923447336",
   "metadata": {},
   "outputs": [],
   "source": [
    "a = 'Python'"
   ]
  },
  {
   "cell_type": "code",
   "execution_count": 96,
   "id": "7bbdc5cc-83c4-4b91-b76f-4a3d5344f547",
   "metadata": {},
   "outputs": [
    {
     "data": {
      "text/plain": [
       "'Py'"
      ]
     },
     "execution_count": 96,
     "metadata": {},
     "output_type": "execute_result"
    }
   ],
   "source": [
    "a[0:2]"
   ]
  },
  {
   "cell_type": "code",
   "execution_count": 97,
   "id": "4f1b9932-9eb7-446e-8492-4c44fc669ea4",
   "metadata": {},
   "outputs": [
    {
     "data": {
      "text/plain": [
       "'Python'"
      ]
     },
     "execution_count": 97,
     "metadata": {},
     "output_type": "execute_result"
    }
   ],
   "source": [
    "a[0:7]"
   ]
  },
  {
   "cell_type": "code",
   "execution_count": 98,
   "id": "135c058d-5c1c-450c-a59c-b70ec4e686ca",
   "metadata": {},
   "outputs": [
    {
     "data": {
      "text/plain": [
       "'Pytho'"
      ]
     },
     "execution_count": 98,
     "metadata": {},
     "output_type": "execute_result"
    }
   ],
   "source": [
    "a[-6:-1]"
   ]
  },
  {
   "cell_type": "code",
   "execution_count": 99,
   "id": "0d6b88bc-adf5-43e6-b46e-e2571d843ded",
   "metadata": {},
   "outputs": [
    {
     "data": {
      "text/plain": [
       "''"
      ]
     },
     "execution_count": 99,
     "metadata": {},
     "output_type": "execute_result"
    }
   ],
   "source": [
    "a[-6:0]"
   ]
  },
  {
   "cell_type": "code",
   "execution_count": 100,
   "id": "42f69800-07fd-4584-9934-337af773c674",
   "metadata": {},
   "outputs": [
    {
     "data": {
      "text/plain": [
       "'Python'"
      ]
     },
     "execution_count": 100,
     "metadata": {},
     "output_type": "execute_result"
    }
   ],
   "source": [
    "a[-6:]"
   ]
  },
  {
   "cell_type": "code",
   "execution_count": 101,
   "id": "cecfac16-157c-4acf-8d3f-c18d2525c0b6",
   "metadata": {},
   "outputs": [
    {
     "data": {
      "text/plain": [
       "'Pto'"
      ]
     },
     "execution_count": 101,
     "metadata": {},
     "output_type": "execute_result"
    }
   ],
   "source": [
    "a[0:6:2] # Возвращает элементы из диапазона [0:6] с шагом 2"
   ]
  },
  {
   "cell_type": "markdown",
   "id": "b5ef64fa-0f0d-40b7-b94e-1def081d32f9",
   "metadata": {},
   "source": [
    "7) __min(a)__\tМинимальный элемент последовательности\n"
   ]
  },
  {
   "cell_type": "code",
   "execution_count": 102,
   "id": "0cbf03c3-6c8b-4169-adcd-33cdfff4971e",
   "metadata": {},
   "outputs": [
    {
     "data": {
      "text/plain": [
       "'P'"
      ]
     },
     "execution_count": 102,
     "metadata": {},
     "output_type": "execute_result"
    }
   ],
   "source": [
    "a = 'Python'\n",
    "min(a) "
   ]
  },
  {
   "cell_type": "code",
   "execution_count": 103,
   "id": "34bd95ee-dc8a-4fd2-84f4-69075b8d3ae3",
   "metadata": {},
   "outputs": [
    {
     "name": "stdout",
     "output_type": "stream",
     "text": [
      "80 121 116 104 111 110\n"
     ]
    }
   ],
   "source": [
    "# Определяем коды символов и убеждаемся, что минимальный у символа \"P\"\n",
    "print(ord('P'), ord('y'), ord('t'), ord('h'), ord('o'), ord('n'))"
   ]
  },
  {
   "cell_type": "markdown",
   "id": "da8c64c8-ea3c-42c8-87a7-2ecd22c67bcb",
   "metadata": {},
   "source": [
    "8) __max(a)__\tМаксимальный элемент последовательности"
   ]
  },
  {
   "cell_type": "code",
   "execution_count": 104,
   "id": "4d3f9493-e589-480c-9205-81cf86b2a54a",
   "metadata": {},
   "outputs": [
    {
     "data": {
      "text/plain": [
       "'y'"
      ]
     },
     "execution_count": 104,
     "metadata": {},
     "output_type": "execute_result"
    }
   ],
   "source": [
    "a = 'Python'\n",
    "max(a)"
   ]
  },
  {
   "cell_type": "code",
   "execution_count": 105,
   "id": "980c66f4-6942-4f8b-8b9f-d53247f7ff31",
   "metadata": {},
   "outputs": [
    {
     "name": "stdout",
     "output_type": "stream",
     "text": [
      "80 121 116 104 111 110\n"
     ]
    }
   ],
   "source": [
    "# # Определяем коды символов и убеждаемся, что максимальный у символа \"y\"\n",
    "print(ord('P'), ord('y'), ord('t'), ord('h'), ord('o'), ord('n'))"
   ]
  },
  {
   "cell_type": "markdown",
   "id": "5093fefb-9661-460d-8312-c07030a2c91f",
   "metadata": {},
   "source": [
    "9) __len(a)__\tДлина последовательности\n"
   ]
  },
  {
   "cell_type": "code",
   "execution_count": 106,
   "id": "3a168ab4-5aee-4b40-a352-e3b7c6090db3",
   "metadata": {},
   "outputs": [
    {
     "data": {
      "text/plain": [
       "6"
      ]
     },
     "execution_count": 106,
     "metadata": {},
     "output_type": "execute_result"
    }
   ],
   "source": [
    "len(a)"
   ]
  },
  {
   "cell_type": "markdown",
   "id": "1201ab0b-421f-4d71-8775-af722802cf39",
   "metadata": {},
   "source": [
    "10) __a.index(b)__\tВозвращает индекс подстроки x в строке s"
   ]
  },
  {
   "cell_type": "code",
   "execution_count": 107,
   "id": "ce10e9cd-52de-4427-acd2-9569a2349901",
   "metadata": {},
   "outputs": [
    {
     "data": {
      "text/plain": [
       "7"
      ]
     },
     "execution_count": 107,
     "metadata": {},
     "output_type": "execute_result"
    }
   ],
   "source": [
    "b.index('is')"
   ]
  },
  {
   "cell_type": "markdown",
   "id": "cc9d0cf5-f87f-4f1b-a958-a39b4f164fe9",
   "metadata": {},
   "source": [
    "11) __a.count(b)__\tЧисло вхождений подстроки x в строку s"
   ]
  },
  {
   "cell_type": "code",
   "execution_count": 108,
   "id": "81407692-7898-4c84-a785-e2e6fc34687f",
   "metadata": {},
   "outputs": [
    {
     "data": {
      "text/plain": [
       "'Python is a programming language and C is a programming language'"
      ]
     },
     "execution_count": 108,
     "metadata": {},
     "output_type": "execute_result"
    }
   ],
   "source": [
    "e = b + ' and ' +d\n",
    "e"
   ]
  },
  {
   "cell_type": "code",
   "execution_count": 109,
   "id": "f4b300fc-b879-44ed-ab15-8b53f8d27c1f",
   "metadata": {},
   "outputs": [
    {
     "data": {
      "text/plain": [
       "2"
      ]
     },
     "execution_count": 109,
     "metadata": {},
     "output_type": "execute_result"
    }
   ],
   "source": [
    "e.count('is')"
   ]
  },
  {
   "cell_type": "markdown",
   "id": "e0cf735e-14eb-4174-ba48-df20b6a318b1",
   "metadata": {},
   "source": [
    "#### 2. Специальные методы для работы со строками"
   ]
  },
  {
   "cell_type": "markdown",
   "id": "5becc568-bd9f-4ac4-aafb-c3aedb29a58b",
   "metadata": {},
   "source": [
    "#### 2.1 Методы для работы с вехним и нижним регистром строки"
   ]
  },
  {
   "cell_type": "markdown",
   "id": "a98d6206-bcfc-40f6-8cd0-fa06d6602178",
   "metadata": {},
   "source": [
    "1) __str.upper()__\tПреобразует все буквы строки s в буквы верхнего регистра."
   ]
  },
  {
   "cell_type": "code",
   "execution_count": 110,
   "id": "6627afda-6575-44b0-9282-a1f36c1f44d3",
   "metadata": {},
   "outputs": [
    {
     "data": {
      "text/plain": [
       "'PYTHON'"
      ]
     },
     "execution_count": 110,
     "metadata": {},
     "output_type": "execute_result"
    }
   ],
   "source": [
    "a = 'Python'\n",
    "str.upper(a)"
   ]
  },
  {
   "cell_type": "markdown",
   "id": "30509cf5-af01-41e1-9414-f848d4b90ec9",
   "metadata": {},
   "source": [
    "2) __str.lower()__\tПреобразует все буквы строки s в буквы нижнего регистра."
   ]
  },
  {
   "cell_type": "code",
   "execution_count": 111,
   "id": "657b1518-80e3-41ff-904f-2d639b9aec00",
   "metadata": {},
   "outputs": [
    {
     "data": {
      "text/plain": [
       "'python is a programming language'"
      ]
     },
     "execution_count": 111,
     "metadata": {},
     "output_type": "execute_result"
    }
   ],
   "source": [
    "str.lower('Python Is a Programming Language')"
   ]
  },
  {
   "cell_type": "markdown",
   "id": "b8a30651-9842-42d3-b928-d822cdeaf925",
   "metadata": {},
   "source": [
    "3) __str.isupper()__   Возвращает True, если все символы строки, поддерживающие приведение к регистру, приведены к верхнему, иначе — False."
   ]
  },
  {
   "cell_type": "code",
   "execution_count": 112,
   "id": "1281fc28-cc73-4f7a-a9a4-b5e6db1634d6",
   "metadata": {},
   "outputs": [
    {
     "data": {
      "text/plain": [
       "False"
      ]
     },
     "execution_count": 112,
     "metadata": {},
     "output_type": "execute_result"
    }
   ],
   "source": [
    "a = 'Python'\n",
    "a.isupper()"
   ]
  },
  {
   "cell_type": "code",
   "execution_count": 113,
   "id": "fbb07fb3-6e89-4a11-b7b9-9910d93f19dd",
   "metadata": {},
   "outputs": [
    {
     "data": {
      "text/plain": [
       "True"
      ]
     },
     "execution_count": 113,
     "metadata": {},
     "output_type": "execute_result"
    }
   ],
   "source": [
    "b = 'PYTHON'\n",
    "b.isupper()"
   ]
  },
  {
   "cell_type": "markdown",
   "id": "0dbccf8b-51b9-457e-aa53-cee216f1231e",
   "metadata": {},
   "source": [
    "4) __str.islower()__\t      Возвращает True, если все символы строки, поддерживающие приведение к регистру, приведены к нижнему регистру, иначе — False."
   ]
  },
  {
   "cell_type": "code",
   "execution_count": 114,
   "id": "3b15ba2d-2012-43ac-961b-35ac47eba080",
   "metadata": {},
   "outputs": [
    {
     "data": {
      "text/plain": [
       "True"
      ]
     },
     "execution_count": 114,
     "metadata": {},
     "output_type": "execute_result"
    }
   ],
   "source": [
    "a = 'python'\n",
    "a.islower()"
   ]
  },
  {
   "cell_type": "code",
   "execution_count": 115,
   "id": "17152a48-48f6-4348-9acb-ddc5922a5812",
   "metadata": {},
   "outputs": [
    {
     "data": {
      "text/plain": [
       "False"
      ]
     },
     "execution_count": 115,
     "metadata": {},
     "output_type": "execute_result"
    }
   ],
   "source": [
    "b = 'PYTHON'\n",
    "b.islower()"
   ]
  },
  {
   "cell_type": "markdown",
   "id": "1f791185-2639-40e8-b080-dfa8de311d6d",
   "metadata": {},
   "source": [
    "5) __str.capitalize()__\tПреобразует первую букву первого слова строки s в букву в верхнем регистре, все остальные буквы преобразуются в буквы в нижнем регистре."
   ]
  },
  {
   "cell_type": "code",
   "execution_count": 116,
   "id": "39c3a241-0a3a-4dba-8a0b-0381a509ad74",
   "metadata": {},
   "outputs": [
    {
     "data": {
      "text/plain": [
       "'Python'"
      ]
     },
     "execution_count": 116,
     "metadata": {},
     "output_type": "execute_result"
    }
   ],
   "source": [
    "a = 'pYtHoN'\n",
    "str.capitalize(a)"
   ]
  },
  {
   "cell_type": "markdown",
   "id": "66bd5928-c928-4cf1-b5a9-6a9ffd2aefed",
   "metadata": {},
   "source": [
    "#### 2.2 Методы для работы с объединением и разбивкой строк"
   ]
  },
  {
   "cell_type": "markdown",
   "id": "c1a69473-beb5-4a24-bc6a-602b7e0586dd",
   "metadata": {},
   "source": [
    "1) __str.partition(sep)__    Принимает в качестве аргумента разделитель sep (любой символ, букву или цифру). Слева-направо ищет в строке str первый встречающийся разделитель sep и в месте разделителя разрезает строку на 3 части: \n",
    "\n",
    "- голову(часть строки до разделителя), \n",
    "\n",
    "- разделитель и \n",
    "\n",
    "- хвост(часть строки после разделителя). \n",
    "\n",
    "Метод возвращает кортеж(tuple), состоящий из трех элементов (голова, разделитель, хвост)"
   ]
  },
  {
   "cell_type": "code",
   "execution_count": 117,
   "id": "b8cd18c5-6cf0-4864-aa1b-3df191dcc89e",
   "metadata": {},
   "outputs": [
    {
     "data": {
      "text/plain": [
       "('Python ', 'is', ' a programming language')"
      ]
     },
     "execution_count": 117,
     "metadata": {},
     "output_type": "execute_result"
    }
   ],
   "source": [
    "'Python is a programming language'.partition('is')"
   ]
  },
  {
   "cell_type": "markdown",
   "id": "72e9c113-7ba2-4fe5-87cd-fb0ba23f0244",
   "metadata": {},
   "source": [
    "2) __str.join(iterable)__  Возвращает строку, собранную из элементов объекта iterable, поддерживающего итерирование(например, список строк), с разделителем str."
   ]
  },
  {
   "cell_type": "code",
   "execution_count": 118,
   "id": "d7ea7f8b-1732-4428-a270-f8edbb84c671",
   "metadata": {},
   "outputs": [
    {
     "data": {
      "text/plain": [
       "'Python---is---a---programming---languag'"
      ]
     },
     "execution_count": 118,
     "metadata": {},
     "output_type": "execute_result"
    }
   ],
   "source": [
    "'---'.join(['Python','is','a', 'programming', 'languag'])"
   ]
  },
  {
   "cell_type": "markdown",
   "id": "6883a30c-04a3-43db-9000-e4486d5ba7ae",
   "metadata": {},
   "source": [
    "3) __str.split(sep=None, maxsplit=- 1)__   Разбивает строку str на части, используя специальный разделитель sep, и возвращает эти части в виде списка. Если указано значение maxsplit , выполняется не более maxsplitmaxsplit+1 разбиений. Если maxsplit не указан или -1, то ограничения на количество сплитов нет."
   ]
  },
  {
   "cell_type": "code",
   "execution_count": 119,
   "id": "1a703ea2-44de-4bec-85a1-4d885baf5b6b",
   "metadata": {},
   "outputs": [
    {
     "data": {
      "text/plain": [
       "['Python', 'is', 'a', 'programming', 'language']"
      ]
     },
     "execution_count": 119,
     "metadata": {},
     "output_type": "execute_result"
    }
   ],
   "source": [
    "'Python is a programming language'.split(' ')"
   ]
  },
  {
   "cell_type": "markdown",
   "id": "68cabd61-079b-43e5-b727-1934b30dd203",
   "metadata": {},
   "source": [
    "#### 2.3 Методы поиска и замены подстрок в исходной строке"
   ]
  },
  {
   "cell_type": "markdown",
   "id": "a52a257a-3a43-4833-a1d6-de93345a96f8",
   "metadata": {},
   "source": [
    "1) __str.startswith(prefix[, start[, end]])__ Возвращает True, если строка str начинается с указанного префикса, иначе - False. Необязательные параметры start и end указывают начало и конец позиций строки для выполнения данного метода."
   ]
  },
  {
   "cell_type": "markdown",
   "id": "87f7c0df-f3a5-4635-b4b9-c919e0dd5f2d",
   "metadata": {},
   "source": [
    "Ищем подстроку 'Python is' начиная с индекса по умолчанию равного 0"
   ]
  },
  {
   "cell_type": "code",
   "execution_count": 120,
   "id": "7b9a53d6-1a26-4750-97bf-d5f13d9fc4f9",
   "metadata": {},
   "outputs": [
    {
     "data": {
      "text/plain": [
       "True"
      ]
     },
     "execution_count": 120,
     "metadata": {},
     "output_type": "execute_result"
    }
   ],
   "source": [
    "'Python is a programming language'.startswith('Python is')"
   ]
  },
  {
   "cell_type": "markdown",
   "id": "7595f438-9d85-4bc4-989b-15ec3808dc8d",
   "metadata": {},
   "source": [
    "Ищем подстроку 'programming' начиная с индекса 12"
   ]
  },
  {
   "cell_type": "code",
   "execution_count": 121,
   "id": "1bbeb78f-53b4-4d13-b021-2ea5518fca01",
   "metadata": {},
   "outputs": [
    {
     "data": {
      "text/plain": [
       "True"
      ]
     },
     "execution_count": 121,
     "metadata": {},
     "output_type": "execute_result"
    }
   ],
   "source": [
    "'Python is a programming language'.startswith('programming', 12 )"
   ]
  },
  {
   "cell_type": "markdown",
   "id": "eadf1fe5-608b-400a-b744-34d84cd4c343",
   "metadata": {},
   "source": [
    "Ищем подстроку 'programming' начиная с индекса по умолчанию равного 0"
   ]
  },
  {
   "cell_type": "code",
   "execution_count": 122,
   "id": "08d30848-3cba-4dfc-bb79-e9ede6db9cb7",
   "metadata": {},
   "outputs": [
    {
     "data": {
      "text/plain": [
       "False"
      ]
     },
     "execution_count": 122,
     "metadata": {},
     "output_type": "execute_result"
    }
   ],
   "source": [
    "'Python is a programming language'.startswith('programming')"
   ]
  },
  {
   "cell_type": "markdown",
   "id": "59220d5c-c599-42a4-a41a-164f6b31c094",
   "metadata": {},
   "source": [
    "2) __str.endswith(suffix[, start[, end]])__ Возвращает True, если строка str оканчивается указанным постфиксом - suffix, иначе - False. Необязательные параметры start и end указывают начало и конец позиций строки для выполнения данного метода."
   ]
  },
  {
   "cell_type": "code",
   "execution_count": 123,
   "id": "13a1e289-6a97-4e24-9c3b-ef3c88de0c08",
   "metadata": {},
   "outputs": [
    {
     "data": {
      "text/plain": [
       "True"
      ]
     },
     "execution_count": 123,
     "metadata": {},
     "output_type": "execute_result"
    }
   ],
   "source": [
    "'Python is a programming language'.endswith('language')"
   ]
  },
  {
   "cell_type": "markdown",
   "id": "1665263f-3fbc-4868-bdda-4bbc1b1bb6e4",
   "metadata": {},
   "source": [
    "3) __str.find(sub[, start[, end]])__ Находит в строке str подстроку sub. Возвращает индекс первого вхождения искомой подстроки. Если же подстрока не найдена, то метод возвращает значение -1. Необязательные аргументы start и end указывают на начальную и конечную позицию сроки между которыми и осуществляется поиск подстроки."
   ]
  },
  {
   "cell_type": "code",
   "execution_count": 124,
   "id": "5f93e501-9e28-4475-8f46-43e0d28a5e88",
   "metadata": {},
   "outputs": [
    {
     "data": {
      "text/plain": [
       "12"
      ]
     },
     "execution_count": 124,
     "metadata": {},
     "output_type": "execute_result"
    }
   ],
   "source": [
    "'Python is a programming language'.find('programming')"
   ]
  },
  {
   "cell_type": "code",
   "execution_count": 125,
   "id": "df3fc04d-7783-49ca-96bd-a0275ba9a81f",
   "metadata": {},
   "outputs": [
    {
     "data": {
      "text/plain": [
       "-1"
      ]
     },
     "execution_count": 125,
     "metadata": {},
     "output_type": "execute_result"
    }
   ],
   "source": [
    "'Python is a programming language'.find('C++')"
   ]
  },
  {
   "cell_type": "markdown",
   "id": "202f8c74-1a4f-48a5-8d91-c6216c638d68",
   "metadata": {},
   "source": [
    "4) __str.replace(old, new[, count])__ Заменяет в строке str все вхождения подстроки old на подстроку new. Если задан необязательный аргумент количества замен - count , заменяются только первые count подстрок old на подстроку new."
   ]
  },
  {
   "cell_type": "code",
   "execution_count": 126,
   "id": "f1905354-96f5-4fa9-b2f4-ce5a2305eefa",
   "metadata": {},
   "outputs": [
    {
     "data": {
      "text/plain": [
       "'Python is a programming language'"
      ]
     },
     "execution_count": 126,
     "metadata": {},
     "output_type": "execute_result"
    }
   ],
   "source": [
    "str_a = 'SQL is a programming language'\n",
    "str_b = 'SQL'\n",
    "str_c = 'Python'\n",
    "str_a.replace(str_b, str_c)"
   ]
  },
  {
   "cell_type": "code",
   "execution_count": 127,
   "id": "f5a52e8b-1fa0-42df-9341-932b727965ae",
   "metadata": {},
   "outputs": [
    {
     "data": {
      "text/plain": [
       "'Python is A progrAmming lAnguAge'"
      ]
     },
     "execution_count": 127,
     "metadata": {},
     "output_type": "execute_result"
    }
   ],
   "source": [
    "'Python is a programming language'.replace('a', 'A')"
   ]
  },
  {
   "cell_type": "markdown",
   "id": "372fd232-1143-4d84-9fb0-586e0d95b83b",
   "metadata": {},
   "source": [
    "<div class=\"alert alert-block alert-info\">\n",
    "<b>\n",
    "С полным списком методов для работы со стоками можно ознакомиться на странице официального руководства по языку Python \n",
    "https://docs.python.org/3/library/stdtypes.html#textseq\n",
    "</b>\n",
    "</div>"
   ]
  },
  {
   "cell_type": "markdown",
   "id": "b6790e46-2d84-4d0e-8fea-c152a4294c22",
   "metadata": {},
   "source": [
    "### Способы вывода строк"
   ]
  },
  {
   "cell_type": "code",
   "execution_count": 128,
   "id": "fbc44969-bb72-44ae-ae1d-f0eccacf8b6d",
   "metadata": {},
   "outputs": [],
   "source": [
    "sa = 'Python'\n",
    "sb = 'C++'\n",
    "sc = 'равно'\n",
    "k = 20\n",
    "p = 50"
   ]
  },
  {
   "cell_type": "markdown",
   "id": "de9ecbb4-39de-4586-b65f-4c6d4f84e458",
   "metadata": {},
   "source": [
    "#### 1) Вывод на основе конкотенции строк"
   ]
  },
  {
   "cell_type": "code",
   "execution_count": 129,
   "id": "04d136de-188d-4d08-8dc3-d97f0b338f89",
   "metadata": {},
   "outputs": [
    {
     "name": "stdout",
     "output_type": "stream",
     "text": [
      "Python and C++ is a programming language\n"
     ]
    }
   ],
   "source": [
    "print(sa + ' and ' + sb + ' is a programming language')"
   ]
  },
  {
   "cell_type": "code",
   "execution_count": 130,
   "id": "b4578783-db1c-49b6-ad14-dbae967eb638",
   "metadata": {},
   "outputs": [
    {
     "name": "stdout",
     "output_type": "stream",
     "text": [
      "20 прибавить 50 равно 70\n"
     ]
    }
   ],
   "source": [
    "print(str(k) + ' прибавить ' + str(p) + ' равно ' +str(k+p) )"
   ]
  },
  {
   "cell_type": "markdown",
   "id": "9284fd3d-ab08-4794-a16d-f7a7060c855c",
   "metadata": {},
   "source": [
    "#### 2) Си подобный вывод"
   ]
  },
  {
   "cell_type": "code",
   "execution_count": 131,
   "id": "d0132084-a684-410a-be8f-911f968a4371",
   "metadata": {},
   "outputs": [
    {
     "name": "stdout",
     "output_type": "stream",
     "text": [
      "20 прибавить 50  равно 70\n"
     ]
    }
   ],
   "source": [
    "print('%d прибавить %d  %s %d' % (k, p, sc, k + p ))"
   ]
  },
  {
   "cell_type": "markdown",
   "id": "f0fe7619-9e3d-43a9-89f1-195eac0d0787",
   "metadata": {},
   "source": [
    "#### 3) Вывод на основе вызова метода str.format()"
   ]
  },
  {
   "cell_type": "code",
   "execution_count": 132,
   "id": "343f9579-3e7c-4d4b-bb16-7e430f5d1d55",
   "metadata": {},
   "outputs": [
    {
     "name": "stdout",
     "output_type": "stream",
     "text": [
      "20 прибавить 50 равно 70\n"
     ]
    }
   ],
   "source": [
    "print('{} прибавить {} {} {}'.format(k, p, sc, k+p))"
   ]
  },
  {
   "cell_type": "markdown",
   "id": "6fd36ae3-df4e-4586-886d-8a615ae70506",
   "metadata": {},
   "source": [
    "#### 4) Форматированные строки (f-строки)"
   ]
  },
  {
   "cell_type": "markdown",
   "id": "6cb21328-fdb6-442d-891c-d1bfd2768e3d",
   "metadata": {},
   "source": [
    "F-Строки: улучшенный способ форматирования строк в Python.\n",
    "\n",
    "С выходом PEP 498 под названием Literal String Interpolation появился новый способ форматирования строк. Вместо вызова метода str.format теперь нужно добавить символ f перед началом объявления строки.\n",
    "\n",
    "F-строки позволяют не только подставлять какие-то значения в шаблон, но и позволяют выполнять вызовы функций и методов\n",
    "Во многих ситуациях f-строки удобней и проще использовать, чем format, кроме того, f-строки работают быстрее, чем format и другие методы форматирования строк.\n",
    "\n",
    "Форматированные строки в Python создается путем добавления к строковому литералу префикса «f» или «F»."
   ]
  },
  {
   "cell_type": "code",
   "execution_count": 133,
   "id": "9634c46f-4e2d-42b8-853f-1792e40915be",
   "metadata": {},
   "outputs": [
    {
     "name": "stdout",
     "output_type": "stream",
     "text": [
      "20 прибавить 50 равно 70\n"
     ]
    }
   ],
   "source": [
    "print(f'{k} прибавить {p} {sc} {k+p}')"
   ]
  },
  {
   "cell_type": "markdown",
   "id": "fa3e477c-b01b-4596-808b-70799ba7607c",
   "metadata": {},
   "source": [
    "#### 5) Необработанные строки (r-строки)"
   ]
  },
  {
   "cell_type": "markdown",
   "id": "7897410f-1bea-4e77-aef5-0bfbb4aa7c39",
   "metadata": {},
   "source": [
    "Необработанная строка в Python создается путем добавления к строковому литералу префикса «r» или «R». Необработанная строка Python рассматривает обратную косую черту (\\), как буквальный символ. Это полезно, когда мы хотим иметь строку, содержащую обратную косую черту, и не хотим, чтобы она рассматривалась как escape-символ, например при записи пути к файлу или каталогу: \"#!/bin/bash\"."
   ]
  },
  {
   "cell_type": "markdown",
   "id": "4919c226-dde4-4bc0-b36f-d1a1464c1d9e",
   "metadata": {},
   "source": [
    "Вывод необработанной строки как есть без учета действия специальных символов"
   ]
  },
  {
   "cell_type": "code",
   "execution_count": 134,
   "id": "7d90176d-d9b9-48c4-84e7-59fdaa6724e8",
   "metadata": {},
   "outputs": [
    {
     "name": "stdout",
     "output_type": "stream",
     "text": [
      "{k} прибавить {p} \\n {sc} \\t {k+p}\n"
     ]
    }
   ],
   "source": [
    "print(r'{k} прибавить {p} \\n {sc} \\t {k+p}')"
   ]
  },
  {
   "cell_type": "markdown",
   "id": "a6dd6dee-6fde-424e-b314-9fa7aa782421",
   "metadata": {},
   "source": [
    "Обычный вывод с учетом действия специальных символов"
   ]
  },
  {
   "cell_type": "code",
   "execution_count": 135,
   "id": "aef4aae3-f050-4891-a1da-d8a5f363c0a6",
   "metadata": {
    "scrolled": true
   },
   "outputs": [
    {
     "name": "stdout",
     "output_type": "stream",
     "text": [
      "20 прибавить 50 \n",
      " равно \t 70\n"
     ]
    }
   ],
   "source": [
    "# Обычный вывод с учетом действия специальных символов\n",
    "print(f'{k} прибавить {p} \\n {sc} \\t {k+p}')"
   ]
  },
  {
   "cell_type": "markdown",
   "id": "1e5753f8-9f5f-4da7-bf88-5bd4ca8b9ba4",
   "metadata": {},
   "source": [
    "Можно комбинировать символы f и r перед началом объявления строки"
   ]
  },
  {
   "cell_type": "code",
   "execution_count": 136,
   "id": "6891ce7b-5fc9-4d08-98bb-818f62c96631",
   "metadata": {
    "scrolled": true
   },
   "outputs": [
    {
     "name": "stdout",
     "output_type": "stream",
     "text": [
      "20 прибавить 50 \\n равно \\t 70\n"
     ]
    }
   ],
   "source": [
    "print(fr'{k} прибавить {p} \\n {sc} \\t {k+p}')"
   ]
  },
  {
   "cell_type": "code",
   "execution_count": null,
   "id": "edab8698-0169-49f5-8336-9927549d6999",
   "metadata": {},
   "outputs": [],
   "source": [
    "© Ростелеком, Бочаров Михаил Иванович"
   ]
  }
 ],
 "metadata": {
  "kernelspec": {
   "display_name": "Python 3 (ipykernel)",
   "language": "python",
   "name": "python3"
  },
  "language_info": {
   "codemirror_mode": {
    "name": "ipython",
    "version": 3
   },
   "file_extension": ".py",
   "mimetype": "text/x-python",
   "name": "python",
   "nbconvert_exporter": "python",
   "pygments_lexer": "ipython3",
   "version": "3.10.9"
  }
 },
 "nbformat": 4,
 "nbformat_minor": 5
}
