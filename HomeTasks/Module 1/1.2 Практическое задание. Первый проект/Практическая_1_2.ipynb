{
  "cells": [
    {
      "cell_type": "markdown",
      "id": "2ff282b2",
      "metadata": {
        "id": "2ff282b2"
      },
      "source": [
        "\n",
        "1. **Модули math и модуль random. Генерация случайных чисел**:\n",
        "    * Пример:"
      ]
    },
    {
      "cell_type": "code",
      "execution_count": 1,
      "id": "20a56798",
      "metadata": {
        "colab": {
          "base_uri": "https://localhost:8080/"
        },
        "id": "20a56798",
        "outputId": "271068cd-c819-4e04-912b-4d8268e9415f"
      },
      "outputs": [
        {
          "name": "stdout",
          "output_type": "stream",
          "text": [
            "0.14850919423762263\n"
          ]
        }
      ],
      "source": [
        "import math\n",
        "import random\n",
        "\n",
        "angle = random.uniform(0, 2 * math.pi)\n",
        "print(math.sin(angle))"
      ]
    },
    {
      "cell_type": "markdown",
      "id": "d623096a",
      "metadata": {
        "id": "d623096a"
      },
      "source": [
        "* Задание:\n",
        "  * Создайте программу, которая генерирует случайное число от 1 до 10 и вычисляет его квадратный корень.\n",
        "\n"
      ]
    },
    {
      "cell_type": "code",
      "execution_count": 2,
      "id": "vdWIzGfyZqkr",
      "metadata": {
        "id": "vdWIzGfyZqkr"
      },
      "outputs": [
        {
          "name": "stdout",
          "output_type": "stream",
          "text": [
            "100\n"
          ]
        }
      ],
      "source": [
        "import random\n",
        "\n",
        "print(random.randint(1, 10)**2)"
      ]
    },
    {
      "cell_type": "markdown",
      "id": "0ezsTTA0ZrUy",
      "metadata": {
        "id": "0ezsTTA0ZrUy"
      },
      "source": [
        "2. **Модуль itertools**:\n",
        "    * Пример:"
      ]
    },
    {
      "cell_type": "code",
      "execution_count": 3,
      "id": "8da5d0bc",
      "metadata": {
        "colab": {
          "base_uri": "https://localhost:8080/"
        },
        "id": "8da5d0bc",
        "outputId": "82689619-94aa-48bc-99ae-845d084dddb0"
      },
      "outputs": [
        {
          "name": "stdout",
          "output_type": "stream",
          "text": [
            "('A', 'B')\n",
            "('A', 'C')\n",
            "('B', 'C')\n"
          ]
        }
      ],
      "source": [
        "import itertools\n",
        "\n",
        "for combination in itertools.combinations(\"ABC\", 2):\n",
        "  print(combination)"
      ]
    },
    {
      "cell_type": "markdown",
      "id": "40179633",
      "metadata": {
        "id": "40179633"
      },
      "source": [
        "* Задание:\n",
        "  * Используя `itertools.permutations`, создайте программу, которая выводит все возможные перестановки слова \"DOG\".\n"
      ]
    },
    {
      "cell_type": "code",
      "execution_count": 4,
      "id": "7LRui7K5Zzfa",
      "metadata": {
        "id": "7LRui7K5Zzfa"
      },
      "outputs": [
        {
          "name": "stdout",
          "output_type": "stream",
          "text": [
            "('D', 'O', 'G')\n",
            "('D', 'G', 'O')\n",
            "('O', 'D', 'G')\n",
            "('O', 'G', 'D')\n",
            "('G', 'D', 'O')\n",
            "('G', 'O', 'D')\n"
          ]
        }
      ],
      "source": [
        "import itertools\n",
        "\n",
        "for i in itertools.permutations('DOG'): \n",
        "    print(i)"
      ]
    },
    {
      "cell_type": "markdown",
      "id": "mJrF6UeHZzxg",
      "metadata": {
        "id": "mJrF6UeHZzxg"
      },
      "source": [
        "3. **Фильтрация элементов последовательности**:\n",
        "    * Пример:"
      ]
    },
    {
      "cell_type": "code",
      "execution_count": 5,
      "id": "47a8b792",
      "metadata": {
        "colab": {
          "base_uri": "https://localhost:8080/"
        },
        "id": "47a8b792",
        "outputId": "22470c08-65ee-4c73-a902-487f0a3f347e"
      },
      "outputs": [
        {
          "name": "stdout",
          "output_type": "stream",
          "text": [
            "[2, 4, 6]\n"
          ]
        }
      ],
      "source": [
        "numbers = [1, 2, 3, 4, 5, 6]\n",
        "even_numbers = filter(lambda x: x % 2 == 0, numbers)\n",
        "print(list(even_numbers))"
      ]
    },
    {
      "cell_type": "markdown",
      "id": "d0e436ee",
      "metadata": {
        "id": "d0e436ee"
      },
      "source": [
        "* Задание:\n",
        "    * Фильтруйте список чисел, чтобы оставить только простые числа.\n",
        "\n"
      ]
    },
    {
      "cell_type": "code",
      "execution_count": 6,
      "id": "2f3d19ad",
      "metadata": {},
      "outputs": [
        {
          "name": "stdout",
          "output_type": "stream",
          "text": [
            "[2, 4, 6]\n"
          ]
        }
      ],
      "source": [
        "numbers = [1, 2, 3, 4, 5, 6]\n",
        "\n",
        "#Объявляю функцию поиска простых чисел\n",
        "def find(x):\n",
        "\tfor i in range(2,x):\n",
        "\t\tif x % i == 0:\n",
        "\t\t\treturn False\n",
        "\treturn True\n",
        "#Фильтрую на простые числа\n",
        "even_numbers = filter(lambda x: find(x) & x !=1,numbers)\n",
        "\n",
        "print(list(even_numbers))"
      ]
    },
    {
      "cell_type": "markdown",
      "id": "C7O_DvL9Z4Qh",
      "metadata": {
        "id": "C7O_DvL9Z4Qh"
      },
      "source": [
        "4. **Строки и двоичные данные. Форматирование строк**:\n",
        "    * Пример:"
      ]
    },
    {
      "cell_type": "code",
      "execution_count": 7,
      "id": "8f8137b8",
      "metadata": {
        "colab": {
          "base_uri": "https://localhost:8080/"
        },
        "id": "8f8137b8",
        "outputId": "d20b0e3f-90df-432c-ab11-6afe6449fe26"
      },
      "outputs": [
        {
          "name": "stdout",
          "output_type": "stream",
          "text": [
            "My name is Alice and I'm 30 years old.\n"
          ]
        }
      ],
      "source": [
        "name = \"Alice\"\n",
        "age = 30\n",
        "print(f\"My name is {name} and I'm {age} years old.\")"
      ]
    },
    {
      "cell_type": "markdown",
      "id": "41b2f605",
      "metadata": {
        "id": "41b2f605"
      },
      "source": [
        "* Задание:\n",
        "    * Создайте строку формата, которая принимает имя, возраст и город проживания, и выводит их в красивом предложении.\n",
        "\n"
      ]
    },
    {
      "cell_type": "code",
      "execution_count": 9,
      "id": "feLAaAIaZ8fo",
      "metadata": {
        "id": "feLAaAIaZ8fo"
      },
      "outputs": [
        {
          "name": "stdout",
          "output_type": "stream",
          "text": [
            "My name is \u001b[4m\u001b[1mJohn,\u001b[0m I'm 21 years old and I live in \u001b[94mPortland\u001b[0m!\n",
            "My name is \u001b[1m\u001b[4mJohn\u001b[0m, I'm 21 years old and I live in \u001b[94mPortland\u001b[0m!\n"
          ]
        }
      ],
      "source": [
        "#Прочитал задание, не понял что от меня нужно, сделать f-строку или использовать функцию форматирование? Поэтому сделал два варианта \n",
        "\n",
        "print(\"My name is {}{}{},{} I'm {} years old and I live in {}{}{}!\".format(\"\\033[4m\", \"\\033[1m\", \"John\", \"\\033[0m\", 21, \"\\033[94m\", \"Portland\", \"\\033[0m\"))\n",
        "\n",
        "\"\"\"\n",
        "#Хороший пример когда несколько аргументов идут вместе. Вывел несколько нюансов: \n",
        "- Тяжело читать и искать ошибки\n",
        "- Тяжело добавлять новые аргументы\n",
        "+ Экономит место в коде\n",
        "\"\"\"\n",
        "\n",
        "\n",
        "name = \"John\"\n",
        "age = 21\n",
        "city = \"Portland\"\n",
        "\n",
        "bold_start = '\\033[1m'\n",
        "underline_start = \"\\033[4m\"\n",
        "end_ansi = '\\033[0m'\n",
        "blue = \"\\033[94m\"\n",
        "\n",
        "print(f\"My name is {bold_start}{underline_start}{name}{end_ansi}, I'm {age} years old and I live in {blue}{city}{end_ansi}!\")\n",
        "\n",
        "\n",
        "#- Много строк\n",
        "#+ Серилизация данных \n"
      ]
    },
    {
      "cell_type": "markdown",
      "id": "0pRGPZ9hZ8-U",
      "metadata": {
        "id": "0pRGPZ9hZ8-U"
      },
      "source": [
        "5. **Функции и методы для работы со строками**:\n",
        "    * Пример:"
      ]
    },
    {
      "cell_type": "code",
      "execution_count": 10,
      "id": "d48ca51e",
      "metadata": {
        "colab": {
          "base_uri": "https://localhost:8080/"
        },
        "id": "d48ca51e",
        "outputId": "9e969be5-820d-45df-a396-d2b9a0f3f9ef"
      },
      "outputs": [
        {
          "name": "stdout",
          "output_type": "stream",
          "text": [
            "HELLO WORLD\n"
          ]
        }
      ],
      "source": [
        "text = \"hello world\"\n",
        "print(text.upper())"
      ]
    },
    {
      "cell_type": "markdown",
      "id": "af7e9965",
      "metadata": {
        "id": "af7e9965"
      },
      "source": [
        "* Задание:\n",
        "    * Напишите программу, которая принимает строку и возвращает ее в обратном порядке.\n",
        "\n"
      ]
    },
    {
      "cell_type": "code",
      "execution_count": 13,
      "id": "VIoZZwdtaEBa",
      "metadata": {
        "id": "VIoZZwdtaEBa"
      },
      "outputs": [
        {
          "name": "stdout",
          "output_type": "stream",
          "text": [
            "spOveD\n"
          ]
        }
      ],
      "source": [
        "print (''.join(reversed(str(input()))))\n",
        "\n",
        "#print (str(input())[::-1])\n",
        "#Более простой вариант"
      ]
    },
    {
      "cell_type": "markdown",
      "id": "t81cSBrtaELR",
      "metadata": {
        "id": "t81cSBrtaELR"
      },
      "source": [
        "6. **Функции для работы с символами**:\n",
        "    * Пример:"
      ]
    },
    {
      "cell_type": "code",
      "execution_count": 14,
      "id": "24be6fce",
      "metadata": {
        "colab": {
          "base_uri": "https://localhost:8080/"
        },
        "id": "24be6fce",
        "outputId": "0e05859a-f13e-40b0-b20d-e520892a8cfa"
      },
      "outputs": [
        {
          "name": "stdout",
          "output_type": "stream",
          "text": [
            "65\n"
          ]
        }
      ],
      "source": [
        "char = \"A\"\n",
        "print(ord(char))"
      ]
    },
    {
      "cell_type": "markdown",
      "id": "0c16305c",
      "metadata": {
        "id": "0c16305c"
      },
      "source": [
        "* Задание:\n",
        "    * Создайте программу, которая принимает строку и возвращает сумму [ASCII-кодов](https://pythonpip.ru/examples/znachenie-koda-simvola-ascii-v-python-kak-nayti) всех символов в этой строке.\n",
        "\n"
      ]
    },
    {
      "cell_type": "code",
      "execution_count": 15,
      "id": "PvHihBbMaHyz",
      "metadata": {
        "id": "PvHihBbMaHyz"
      },
      "outputs": [
        {
          "name": "stdout",
          "output_type": "stream",
          "text": [
            "260\n"
          ]
        }
      ],
      "source": [
        "print(sum(ord(char) for char in str(input())))"
      ]
    },
    {
      "cell_type": "markdown",
      "id": "1rSOhwSVaICP",
      "metadata": {
        "id": "1rSOhwSVaICP"
      },
      "source": [
        "7. **Регулярные выражения и их синтаксис**:\n",
        "    * Пример:"
      ]
    },
    {
      "cell_type": "code",
      "execution_count": 16,
      "id": "f6329720",
      "metadata": {
        "colab": {
          "base_uri": "https://localhost:8080/"
        },
        "id": "f6329720",
        "outputId": "d3d37de6-7079-4ae0-d92c-fd320330c275"
      },
      "outputs": [
        {
          "name": "stdout",
          "output_type": "stream",
          "text": [
            "['email@example.com', 'example2@test.com']\n"
          ]
        }
      ],
      "source": [
        "import re\n",
        "\n",
        "text = \"Email me at email@example.com and at example2@test.com\"\n",
        "emails = re.findall(r\"[a-zA-Z0-9._%+-]+@[a-zA-Z0-9.-]+\\.[a-zA-Z]{2,4}\", text)\n",
        "print(emails)"
      ]
    },
    {
      "cell_type": "markdown",
      "id": "69ad41e5",
      "metadata": {
        "id": "69ad41e5"
      },
      "source": [
        "* Задание:\n",
        "    * Напишите регулярное выражение для поиска всех дат в формате dd/mm/yyyy в заданной строке."
      ]
    },
    {
      "cell_type": "code",
      "execution_count": 17,
      "id": "RICy6nonaL4Q",
      "metadata": {
        "id": "RICy6nonaL4Q"
      },
      "outputs": [
        {
          "name": "stdout",
          "output_type": "stream",
          "text": [
            "['10/30/2012', '11/01/2012', '11/02/2012', '11/03/2012']\n"
          ]
        }
      ],
      "source": [
        "import re\n",
        "\n",
        "text = (\"app.log.10/30/2012, app.log.11/01/2012, app.log.11/02/2012, app.log.11/03/2012, , app.log.11.03.2012, , app.log.11/032012, app.log.11/2/03/2012\")\n",
        "print(re.findall(r\"[0-9]{2}/[0-9]{2}/[0-9]{4}\", text))"
      ]
    }
  ],
  "metadata": {
    "colab": {
      "provenance": []
    },
    "kernelspec": {
      "display_name": "Python 3",
      "name": "python3"
    },
    "language_info": {
      "codemirror_mode": {
        "name": "ipython",
        "version": 3
      },
      "file_extension": ".py",
      "mimetype": "text/x-python",
      "name": "python",
      "nbconvert_exporter": "python",
      "pygments_lexer": "ipython3",
      "version": "3.11.3"
    }
  },
  "nbformat": 4,
  "nbformat_minor": 5
}
